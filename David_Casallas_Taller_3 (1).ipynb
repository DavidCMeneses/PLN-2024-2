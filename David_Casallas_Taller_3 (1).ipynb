{
  "cells": [
    {
      "cell_type": "markdown",
      "metadata": {
        "id": "Ai1iDudrCQOe"
      },
      "source": [
        "#**PLN - Universidad Nacional de Colombia**\n",
        "## Asignatura Procesamiento de Lenguaje Natural - 2024\n",
        "### Aprendizaje Supervisado:\n",
        "*  Clasificación texto\n",
        "*  NER - Reconocimiento de Entidades Nombradas\n",
        "*  Otro\n",
        "\n",
        "###Profesora Elizabeth León Guzmán\n",
        "\n",
        "\n",
        "####Para este notebook se toma un dataset etiquetado previamente y se ha utilizado una arquitectura de redes neuronales -> modelo supervisado\n",
        "---\n",
        "------------------------------------------------------------------------------"
      ]
    },
    {
      "cell_type": "markdown",
      "metadata": {
        "id": "dBsmu9mpFNTJ"
      },
      "source": [
        "# Instalaciones\n"
      ]
    },
    {
      "cell_type": "code",
      "execution_count": 1,
      "metadata": {
        "colab": {
          "base_uri": "https://localhost:8080/"
        },
        "id": "cnnsYwyqFPng",
        "outputId": "396b6f80-2452-435f-c79b-3a8a40173043"
      },
      "outputs": [
        {
          "output_type": "stream",
          "name": "stdout",
          "text": [
            "Requirement already satisfied: spacy in /usr/local/lib/python3.10/dist-packages (3.7.5)\n",
            "Requirement already satisfied: spacy-legacy<3.1.0,>=3.0.11 in /usr/local/lib/python3.10/dist-packages (from spacy) (3.0.12)\n",
            "Requirement already satisfied: spacy-loggers<2.0.0,>=1.0.0 in /usr/local/lib/python3.10/dist-packages (from spacy) (1.0.5)\n",
            "Requirement already satisfied: murmurhash<1.1.0,>=0.28.0 in /usr/local/lib/python3.10/dist-packages (from spacy) (1.0.11)\n",
            "Requirement already satisfied: cymem<2.1.0,>=2.0.2 in /usr/local/lib/python3.10/dist-packages (from spacy) (2.0.10)\n",
            "Requirement already satisfied: preshed<3.1.0,>=3.0.2 in /usr/local/lib/python3.10/dist-packages (from spacy) (3.0.9)\n",
            "Requirement already satisfied: thinc<8.3.0,>=8.2.2 in /usr/local/lib/python3.10/dist-packages (from spacy) (8.2.5)\n",
            "Requirement already satisfied: wasabi<1.2.0,>=0.9.1 in /usr/local/lib/python3.10/dist-packages (from spacy) (1.1.3)\n",
            "Requirement already satisfied: srsly<3.0.0,>=2.4.3 in /usr/local/lib/python3.10/dist-packages (from spacy) (2.5.0)\n",
            "Requirement already satisfied: catalogue<2.1.0,>=2.0.6 in /usr/local/lib/python3.10/dist-packages (from spacy) (2.0.10)\n",
            "Requirement already satisfied: weasel<0.5.0,>=0.1.0 in /usr/local/lib/python3.10/dist-packages (from spacy) (0.4.1)\n",
            "Requirement already satisfied: typer<1.0.0,>=0.3.0 in /usr/local/lib/python3.10/dist-packages (from spacy) (0.15.1)\n",
            "Requirement already satisfied: tqdm<5.0.0,>=4.38.0 in /usr/local/lib/python3.10/dist-packages (from spacy) (4.67.1)\n",
            "Requirement already satisfied: requests<3.0.0,>=2.13.0 in /usr/local/lib/python3.10/dist-packages (from spacy) (2.32.3)\n",
            "Requirement already satisfied: pydantic!=1.8,!=1.8.1,<3.0.0,>=1.7.4 in /usr/local/lib/python3.10/dist-packages (from spacy) (2.10.3)\n",
            "Requirement already satisfied: jinja2 in /usr/local/lib/python3.10/dist-packages (from spacy) (3.1.4)\n",
            "Requirement already satisfied: setuptools in /usr/local/lib/python3.10/dist-packages (from spacy) (75.1.0)\n",
            "Requirement already satisfied: packaging>=20.0 in /usr/local/lib/python3.10/dist-packages (from spacy) (24.2)\n",
            "Requirement already satisfied: langcodes<4.0.0,>=3.2.0 in /usr/local/lib/python3.10/dist-packages (from spacy) (3.5.0)\n",
            "Requirement already satisfied: numpy>=1.19.0 in /usr/local/lib/python3.10/dist-packages (from spacy) (1.26.4)\n",
            "Requirement already satisfied: language-data>=1.2 in /usr/local/lib/python3.10/dist-packages (from langcodes<4.0.0,>=3.2.0->spacy) (1.3.0)\n",
            "Requirement already satisfied: annotated-types>=0.6.0 in /usr/local/lib/python3.10/dist-packages (from pydantic!=1.8,!=1.8.1,<3.0.0,>=1.7.4->spacy) (0.7.0)\n",
            "Requirement already satisfied: pydantic-core==2.27.1 in /usr/local/lib/python3.10/dist-packages (from pydantic!=1.8,!=1.8.1,<3.0.0,>=1.7.4->spacy) (2.27.1)\n",
            "Requirement already satisfied: typing-extensions>=4.12.2 in /usr/local/lib/python3.10/dist-packages (from pydantic!=1.8,!=1.8.1,<3.0.0,>=1.7.4->spacy) (4.12.2)\n",
            "Requirement already satisfied: charset-normalizer<4,>=2 in /usr/local/lib/python3.10/dist-packages (from requests<3.0.0,>=2.13.0->spacy) (3.4.0)\n",
            "Requirement already satisfied: idna<4,>=2.5 in /usr/local/lib/python3.10/dist-packages (from requests<3.0.0,>=2.13.0->spacy) (3.10)\n",
            "Requirement already satisfied: urllib3<3,>=1.21.1 in /usr/local/lib/python3.10/dist-packages (from requests<3.0.0,>=2.13.0->spacy) (2.2.3)\n",
            "Requirement already satisfied: certifi>=2017.4.17 in /usr/local/lib/python3.10/dist-packages (from requests<3.0.0,>=2.13.0->spacy) (2024.12.14)\n",
            "Requirement already satisfied: blis<0.8.0,>=0.7.8 in /usr/local/lib/python3.10/dist-packages (from thinc<8.3.0,>=8.2.2->spacy) (0.7.11)\n",
            "Requirement already satisfied: confection<1.0.0,>=0.0.1 in /usr/local/lib/python3.10/dist-packages (from thinc<8.3.0,>=8.2.2->spacy) (0.1.5)\n",
            "Requirement already satisfied: click>=8.0.0 in /usr/local/lib/python3.10/dist-packages (from typer<1.0.0,>=0.3.0->spacy) (8.1.7)\n",
            "Requirement already satisfied: shellingham>=1.3.0 in /usr/local/lib/python3.10/dist-packages (from typer<1.0.0,>=0.3.0->spacy) (1.5.4)\n",
            "Requirement already satisfied: rich>=10.11.0 in /usr/local/lib/python3.10/dist-packages (from typer<1.0.0,>=0.3.0->spacy) (13.9.4)\n",
            "Requirement already satisfied: cloudpathlib<1.0.0,>=0.7.0 in /usr/local/lib/python3.10/dist-packages (from weasel<0.5.0,>=0.1.0->spacy) (0.20.0)\n",
            "Requirement already satisfied: smart-open<8.0.0,>=5.2.1 in /usr/local/lib/python3.10/dist-packages (from weasel<0.5.0,>=0.1.0->spacy) (7.0.5)\n",
            "Requirement already satisfied: MarkupSafe>=2.0 in /usr/local/lib/python3.10/dist-packages (from jinja2->spacy) (3.0.2)\n",
            "Requirement already satisfied: marisa-trie>=1.1.0 in /usr/local/lib/python3.10/dist-packages (from language-data>=1.2->langcodes<4.0.0,>=3.2.0->spacy) (1.2.1)\n",
            "Requirement already satisfied: markdown-it-py>=2.2.0 in /usr/local/lib/python3.10/dist-packages (from rich>=10.11.0->typer<1.0.0,>=0.3.0->spacy) (3.0.0)\n",
            "Requirement already satisfied: pygments<3.0.0,>=2.13.0 in /usr/local/lib/python3.10/dist-packages (from rich>=10.11.0->typer<1.0.0,>=0.3.0->spacy) (2.18.0)\n",
            "Requirement already satisfied: wrapt in /usr/local/lib/python3.10/dist-packages (from smart-open<8.0.0,>=5.2.1->weasel<0.5.0,>=0.1.0->spacy) (1.17.0)\n",
            "Requirement already satisfied: mdurl~=0.1 in /usr/local/lib/python3.10/dist-packages (from markdown-it-py>=2.2.0->rich>=10.11.0->typer<1.0.0,>=0.3.0->spacy) (0.1.2)\n",
            "Requirement already satisfied: scikit-learn in /usr/local/lib/python3.10/dist-packages (1.6.0)\n",
            "Requirement already satisfied: numpy>=1.19.5 in /usr/local/lib/python3.10/dist-packages (from scikit-learn) (1.26.4)\n",
            "Requirement already satisfied: scipy>=1.6.0 in /usr/local/lib/python3.10/dist-packages (from scikit-learn) (1.13.1)\n",
            "Requirement already satisfied: joblib>=1.2.0 in /usr/local/lib/python3.10/dist-packages (from scikit-learn) (1.4.2)\n",
            "Requirement already satisfied: threadpoolctl>=3.1.0 in /usr/local/lib/python3.10/dist-packages (from scikit-learn) (3.5.0)\n",
            "Requirement already satisfied: pandas in /usr/local/lib/python3.10/dist-packages (2.2.2)\n",
            "Requirement already satisfied: numpy>=1.22.4 in /usr/local/lib/python3.10/dist-packages (from pandas) (1.26.4)\n",
            "Requirement already satisfied: python-dateutil>=2.8.2 in /usr/local/lib/python3.10/dist-packages (from pandas) (2.8.2)\n",
            "Requirement already satisfied: pytz>=2020.1 in /usr/local/lib/python3.10/dist-packages (from pandas) (2024.2)\n",
            "Requirement already satisfied: tzdata>=2022.7 in /usr/local/lib/python3.10/dist-packages (from pandas) (2024.2)\n",
            "Requirement already satisfied: six>=1.5 in /usr/local/lib/python3.10/dist-packages (from python-dateutil>=2.8.2->pandas) (1.17.0)\n"
          ]
        }
      ],
      "source": [
        "!pip install spacy\n",
        "!pip install scikit-learn\n",
        "!pip install pandas"
      ]
    },
    {
      "cell_type": "code",
      "execution_count": 2,
      "metadata": {
        "colab": {
          "base_uri": "https://localhost:8080/"
        },
        "id": "5yEhpWAhtN7Q",
        "outputId": "a92a38a6-8d5f-45ce-f44c-570b5ddae9a4"
      },
      "outputs": [
        {
          "output_type": "stream",
          "name": "stdout",
          "text": [
            "Requirement already satisfied: kagglehub in /usr/local/lib/python3.10/dist-packages (0.3.5)\n",
            "Requirement already satisfied: packaging in /usr/local/lib/python3.10/dist-packages (from kagglehub) (24.2)\n",
            "Requirement already satisfied: requests in /usr/local/lib/python3.10/dist-packages (from kagglehub) (2.32.3)\n",
            "Requirement already satisfied: tqdm in /usr/local/lib/python3.10/dist-packages (from kagglehub) (4.67.1)\n",
            "Requirement already satisfied: charset-normalizer<4,>=2 in /usr/local/lib/python3.10/dist-packages (from requests->kagglehub) (3.4.0)\n",
            "Requirement already satisfied: idna<4,>=2.5 in /usr/local/lib/python3.10/dist-packages (from requests->kagglehub) (3.10)\n",
            "Requirement already satisfied: urllib3<3,>=1.21.1 in /usr/local/lib/python3.10/dist-packages (from requests->kagglehub) (2.2.3)\n",
            "Requirement already satisfied: certifi>=2017.4.17 in /usr/local/lib/python3.10/dist-packages (from requests->kagglehub) (2024.12.14)\n"
          ]
        }
      ],
      "source": [
        "!pip install kagglehub"
      ]
    },
    {
      "cell_type": "code",
      "execution_count": 3,
      "metadata": {
        "colab": {
          "base_uri": "https://localhost:8080/"
        },
        "id": "R_BvI_5_tQ2J",
        "outputId": "800a93a3-1fe9-44a5-f6b3-864a3fd165cf"
      },
      "outputs": [
        {
          "output_type": "stream",
          "name": "stdout",
          "text": [
            "Requirement already satisfied: tensorflow in /usr/local/lib/python3.10/dist-packages (2.17.1)\n",
            "Requirement already satisfied: absl-py>=1.0.0 in /usr/local/lib/python3.10/dist-packages (from tensorflow) (1.4.0)\n",
            "Requirement already satisfied: astunparse>=1.6.0 in /usr/local/lib/python3.10/dist-packages (from tensorflow) (1.6.3)\n",
            "Requirement already satisfied: flatbuffers>=24.3.25 in /usr/local/lib/python3.10/dist-packages (from tensorflow) (24.3.25)\n",
            "Requirement already satisfied: gast!=0.5.0,!=0.5.1,!=0.5.2,>=0.2.1 in /usr/local/lib/python3.10/dist-packages (from tensorflow) (0.6.0)\n",
            "Requirement already satisfied: google-pasta>=0.1.1 in /usr/local/lib/python3.10/dist-packages (from tensorflow) (0.2.0)\n",
            "Requirement already satisfied: h5py>=3.10.0 in /usr/local/lib/python3.10/dist-packages (from tensorflow) (3.12.1)\n",
            "Requirement already satisfied: libclang>=13.0.0 in /usr/local/lib/python3.10/dist-packages (from tensorflow) (18.1.1)\n",
            "Requirement already satisfied: ml-dtypes<0.5.0,>=0.3.1 in /usr/local/lib/python3.10/dist-packages (from tensorflow) (0.4.1)\n",
            "Requirement already satisfied: opt-einsum>=2.3.2 in /usr/local/lib/python3.10/dist-packages (from tensorflow) (3.4.0)\n",
            "Requirement already satisfied: packaging in /usr/local/lib/python3.10/dist-packages (from tensorflow) (24.2)\n",
            "Requirement already satisfied: protobuf!=4.21.0,!=4.21.1,!=4.21.2,!=4.21.3,!=4.21.4,!=4.21.5,<5.0.0dev,>=3.20.3 in /usr/local/lib/python3.10/dist-packages (from tensorflow) (4.25.5)\n",
            "Requirement already satisfied: requests<3,>=2.21.0 in /usr/local/lib/python3.10/dist-packages (from tensorflow) (2.32.3)\n",
            "Requirement already satisfied: setuptools in /usr/local/lib/python3.10/dist-packages (from tensorflow) (75.1.0)\n",
            "Requirement already satisfied: six>=1.12.0 in /usr/local/lib/python3.10/dist-packages (from tensorflow) (1.17.0)\n",
            "Requirement already satisfied: termcolor>=1.1.0 in /usr/local/lib/python3.10/dist-packages (from tensorflow) (2.5.0)\n",
            "Requirement already satisfied: typing-extensions>=3.6.6 in /usr/local/lib/python3.10/dist-packages (from tensorflow) (4.12.2)\n",
            "Requirement already satisfied: wrapt>=1.11.0 in /usr/local/lib/python3.10/dist-packages (from tensorflow) (1.17.0)\n",
            "Requirement already satisfied: grpcio<2.0,>=1.24.3 in /usr/local/lib/python3.10/dist-packages (from tensorflow) (1.68.1)\n",
            "Requirement already satisfied: tensorboard<2.18,>=2.17 in /usr/local/lib/python3.10/dist-packages (from tensorflow) (2.17.1)\n",
            "Requirement already satisfied: keras>=3.2.0 in /usr/local/lib/python3.10/dist-packages (from tensorflow) (3.5.0)\n",
            "Requirement already satisfied: tensorflow-io-gcs-filesystem>=0.23.1 in /usr/local/lib/python3.10/dist-packages (from tensorflow) (0.37.1)\n",
            "Requirement already satisfied: numpy<2.0.0,>=1.23.5 in /usr/local/lib/python3.10/dist-packages (from tensorflow) (1.26.4)\n",
            "Requirement already satisfied: wheel<1.0,>=0.23.0 in /usr/local/lib/python3.10/dist-packages (from astunparse>=1.6.0->tensorflow) (0.45.1)\n",
            "Requirement already satisfied: rich in /usr/local/lib/python3.10/dist-packages (from keras>=3.2.0->tensorflow) (13.9.4)\n",
            "Requirement already satisfied: namex in /usr/local/lib/python3.10/dist-packages (from keras>=3.2.0->tensorflow) (0.0.8)\n",
            "Requirement already satisfied: optree in /usr/local/lib/python3.10/dist-packages (from keras>=3.2.0->tensorflow) (0.13.1)\n",
            "Requirement already satisfied: charset-normalizer<4,>=2 in /usr/local/lib/python3.10/dist-packages (from requests<3,>=2.21.0->tensorflow) (3.4.0)\n",
            "Requirement already satisfied: idna<4,>=2.5 in /usr/local/lib/python3.10/dist-packages (from requests<3,>=2.21.0->tensorflow) (3.10)\n",
            "Requirement already satisfied: urllib3<3,>=1.21.1 in /usr/local/lib/python3.10/dist-packages (from requests<3,>=2.21.0->tensorflow) (2.2.3)\n",
            "Requirement already satisfied: certifi>=2017.4.17 in /usr/local/lib/python3.10/dist-packages (from requests<3,>=2.21.0->tensorflow) (2024.12.14)\n",
            "Requirement already satisfied: markdown>=2.6.8 in /usr/local/lib/python3.10/dist-packages (from tensorboard<2.18,>=2.17->tensorflow) (3.7)\n",
            "Requirement already satisfied: tensorboard-data-server<0.8.0,>=0.7.0 in /usr/local/lib/python3.10/dist-packages (from tensorboard<2.18,>=2.17->tensorflow) (0.7.2)\n",
            "Requirement already satisfied: werkzeug>=1.0.1 in /usr/local/lib/python3.10/dist-packages (from tensorboard<2.18,>=2.17->tensorflow) (3.1.3)\n",
            "Requirement already satisfied: MarkupSafe>=2.1.1 in /usr/local/lib/python3.10/dist-packages (from werkzeug>=1.0.1->tensorboard<2.18,>=2.17->tensorflow) (3.0.2)\n",
            "Requirement already satisfied: markdown-it-py>=2.2.0 in /usr/local/lib/python3.10/dist-packages (from rich->keras>=3.2.0->tensorflow) (3.0.0)\n",
            "Requirement already satisfied: pygments<3.0.0,>=2.13.0 in /usr/local/lib/python3.10/dist-packages (from rich->keras>=3.2.0->tensorflow) (2.18.0)\n",
            "Requirement already satisfied: mdurl~=0.1 in /usr/local/lib/python3.10/dist-packages (from markdown-it-py>=2.2.0->rich->keras>=3.2.0->tensorflow) (0.1.2)\n"
          ]
        }
      ],
      "source": [
        "!pip install tensorflow"
      ]
    },
    {
      "cell_type": "markdown",
      "metadata": {
        "id": "QC_wPD5sC9of"
      },
      "source": [
        "# Imports\n"
      ]
    },
    {
      "cell_type": "code",
      "execution_count": 4,
      "metadata": {
        "id": "E6n-Nn44DpPV"
      },
      "outputs": [],
      "source": [
        "import pandas as pd\n",
        "import numpy as np\n",
        "import spacy\n",
        "spacy.prefer_gpu()\n",
        "from spacy.training import offsets_to_biluo_tags\n",
        "from sklearn.model_selection import KFold\n",
        "from sklearn.metrics import classification_report\n",
        "from spacy.training import offsets_to_biluo_tags, Example\n",
        "import kagglehub\n",
        "\n",
        "import re\n",
        "import nltk\n",
        "from nltk.corpus import stopwords\n",
        "from sklearn.feature_extraction.text import TfidfVectorizer\n",
        "\n",
        "from sklearn.model_selection import train_test_split\n",
        "from sklearn.naive_bayes import MultinomialNB\n",
        "from sklearn.metrics import classification_report\n",
        "from sklearn.svm import SVC\n",
        "from sklearn.ensemble import RandomForestClassifier\n",
        "from sklearn.linear_model import LogisticRegression\n",
        "from sklearn.ensemble import GradientBoostingClassifier\n",
        "from tensorflow.keras.models import Sequential\n",
        "from tensorflow.keras.layers import Dense, LSTM, Embedding, Dropout\n",
        "from tensorflow.keras.preprocessing.sequence import pad_sequences\n",
        "from tensorflow.keras.preprocessing.text import Tokenizer\n",
        "from sklearn.preprocessing import LabelEncoder\n",
        "\n",
        "from sklearn.datasets import fetch_20newsgroups\n",
        "from sklearn.model_selection import cross_val_score, StratifiedKFold\n",
        "\n",
        "import tensorflow as tf\n",
        "from tensorflow.keras.models import Sequential\n",
        "from tensorflow.keras.layers import Dense\n",
        "from tensorflow.keras.layers import Dropout\n",
        "from tensorflow.keras.layers import LSTM\n",
        "from tensorflow.keras.callbacks import ModelCheckpoint\n",
        "from tensorflow.keras.utils import to_categorical"
      ]
    },
    {
      "cell_type": "markdown",
      "metadata": {
        "id": "6tk4GeIxFJXc"
      },
      "source": [
        "# 1. Crear un modelo de reconocimiento de entidades al conjunto ner_dataset Aplicar validación cruzada.\n",
        "Fuente del dataset: https://www.kaggle.com/abhinavwalia95/entity-annotated-corpus#ner_dataset.csv"
      ]
    },
    {
      "cell_type": "markdown",
      "metadata": {
        "id": "vk5pSRnJka-K"
      },
      "source": [
        "## Carga del Conjunto de Datos\n",
        "\n",
        "En esta sección, descargamos la última versión del conjunto de datos de reconocimiento de entidades (NER) desde Kaggle y cargamos un subconjunto de 10,000 filas para facilitar el procesamiento.\n",
        "\n",
        "1. Descargar el Conjunto de Datos\n",
        "Usamos la función `dataset_download` de `kagglehub` para descargar la última versión del conjunto de datos \"entity-annotated-corpus\" de Kaggle. El archivo descargado es \"ner_dataset.csv\".\n",
        "\n",
        "2. Leer el Archivo CSV\n",
        "Utilizamos pandas para leer el archivo CSV descargado. Especificamos la codificación 'latin1' y limitamos la carga a las primeras 10,000 filas para facilitar el manejo de datos.\n"
      ]
    },
    {
      "cell_type": "code",
      "execution_count": 5,
      "metadata": {
        "id": "jUfQOjHeFi0K",
        "colab": {
          "base_uri": "https://localhost:8080/"
        },
        "outputId": "2a5c51ed-226c-43ab-9de3-1da4cbe174d9"
      },
      "outputs": [
        {
          "output_type": "stream",
          "name": "stdout",
          "text": [
            "Downloading from https://www.kaggle.com/api/v1/datasets/download/abhinavwalia95/entity-annotated-corpus?dataset_version_number=4...\n"
          ]
        },
        {
          "output_type": "stream",
          "name": "stderr",
          "text": [
            "100%|██████████| 26.4M/26.4M [00:02<00:00, 12.0MB/s]"
          ]
        },
        {
          "output_type": "stream",
          "name": "stdout",
          "text": [
            "Extracting files...\n"
          ]
        },
        {
          "output_type": "stream",
          "name": "stderr",
          "text": [
            "\n"
          ]
        }
      ],
      "source": [
        "# Download latest version\n",
        "path = kagglehub.dataset_download(\"abhinavwalia95/entity-annotated-corpus\") + \"/ner_dataset.csv\"\n",
        "\n",
        "# Read the CSV file\n",
        "df = pd.read_csv(path, encoding='latin1', nrows=10000)"
      ]
    },
    {
      "cell_type": "markdown",
      "metadata": {
        "id": "-Wg9ZPtxkhOl"
      },
      "source": [
        "## Preprocesamiento de Datos\n",
        "\n",
        "Este fragmento de código define la función `preprocess_data`, que toma como entrada un DataFrame y convierte sus filas en una lista de oraciones estructuradas.\n",
        "\n",
        "- **Estructura de Datos**: El DataFrame tiene columnas como \"Sentence #\", \"Word\", \"POS\", y \"Tag\".\n",
        "- **Iteración y Agrupamiento**: La función itera sobre cada fila del DataFrame. Si la columna \"Sentence #\" es nula, agrupa las palabras junto con sus etiquetas POS y NER en una lista temporal `sentence`.\n",
        "- **Cambio de Oración**: Cuando encuentra una nueva oración (indicada por un valor no nulo en \"Sentence #\"), agrega la oración actual a la lista `sentences` y comienza una nueva oración.\n",
        "- **Resultado Final**: Al final, devuelve una lista de oraciones, donde cada oración es una lista de tuplas que contienen una palabra, su etiqueta POS, y su etiqueta NER.\n",
        "\n",
        "Este preprocesamiento es crucial para preparar los datos de entrenamiento del modelo NER."
      ]
    },
    {
      "cell_type": "code",
      "execution_count": 6,
      "metadata": {
        "id": "AUfy7zO2Qsnq"
      },
      "outputs": [],
      "source": [
        "def preprocess_data(df):\n",
        "    sentences = []\n",
        "    sentence = []\n",
        "    for i, row in df.iterrows():\n",
        "        if pd.isnull(row[\"Sentence #\"]):\n",
        "            sentence.append((row[\"Word\"], row[\"POS\"], row[\"Tag\"]))\n",
        "        else:\n",
        "            if sentence:\n",
        "                sentences.append(sentence)\n",
        "                sentence = []\n",
        "            sentence.append((row[\"Word\"], row[\"POS\"], row[\"Tag\"]))\n",
        "    if sentence:\n",
        "        sentences.append(sentence)\n",
        "    return sentences"
      ]
    },
    {
      "cell_type": "code",
      "execution_count": 7,
      "metadata": {
        "colab": {
          "base_uri": "https://localhost:8080/"
        },
        "id": "YGNLbSN0Qu8b",
        "outputId": "0996cbf3-c8c1-43e7-e269-adf9b3813882"
      },
      "outputs": [
        {
          "output_type": "stream",
          "name": "stdout",
          "text": [
            "[[('Thousands', 'NNS', 'O'), ('of', 'IN', 'O'), ('demonstrators', 'NNS', 'O'), ('have', 'VBP', 'O'), ('marched', 'VBN', 'O'), ('through', 'IN', 'O'), ('London', 'NNP', 'B-geo'), ('to', 'TO', 'O'), ('protest', 'VB', 'O'), ('the', 'DT', 'O'), ('war', 'NN', 'O'), ('in', 'IN', 'O'), ('Iraq', 'NNP', 'B-geo'), ('and', 'CC', 'O'), ('demand', 'VB', 'O'), ('the', 'DT', 'O'), ('withdrawal', 'NN', 'O'), ('of', 'IN', 'O'), ('British', 'JJ', 'B-gpe'), ('troops', 'NNS', 'O'), ('from', 'IN', 'O'), ('that', 'DT', 'O'), ('country', 'NN', 'O'), ('.', '.', 'O')], [('Families', 'NNS', 'O'), ('of', 'IN', 'O'), ('soldiers', 'NNS', 'O'), ('killed', 'VBN', 'O'), ('in', 'IN', 'O'), ('the', 'DT', 'O'), ('conflict', 'NN', 'O'), ('joined', 'VBD', 'O'), ('the', 'DT', 'O'), ('protesters', 'NNS', 'O'), ('who', 'WP', 'O'), ('carried', 'VBD', 'O'), ('banners', 'NNS', 'O'), ('with', 'IN', 'O'), ('such', 'JJ', 'O'), ('slogans', 'NNS', 'O'), ('as', 'IN', 'O'), ('\"', '``', 'O'), ('Bush', 'NNP', 'B-per'), ('Number', 'NN', 'O'), ('One', 'CD', 'O'), ('Terrorist', 'NN', 'O'), ('\"', '``', 'O'), ('and', 'CC', 'O'), ('\"', '``', 'O'), ('Stop', 'VB', 'O'), ('the', 'DT', 'O'), ('Bombings', 'NNS', 'O'), ('.', '.', 'O'), ('\"', '``', 'O')], [('They', 'PRP', 'O'), ('marched', 'VBD', 'O'), ('from', 'IN', 'O'), ('the', 'DT', 'O'), ('Houses', 'NNS', 'O'), ('of', 'IN', 'O'), ('Parliament', 'NN', 'O'), ('to', 'TO', 'O'), ('a', 'DT', 'O'), ('rally', 'NN', 'O'), ('in', 'IN', 'O'), ('Hyde', 'NNP', 'B-geo'), ('Park', 'NNP', 'I-geo'), ('.', '.', 'O')], [('Police', 'NNS', 'O'), ('put', 'VBD', 'O'), ('the', 'DT', 'O'), ('number', 'NN', 'O'), ('of', 'IN', 'O'), ('marchers', 'NNS', 'O'), ('at', 'IN', 'O'), ('10,000', 'CD', 'O'), ('while', 'IN', 'O'), ('organizers', 'NNS', 'O'), ('claimed', 'VBD', 'O'), ('it', 'PRP', 'O'), ('was', 'VBD', 'O'), ('1,00,000', 'CD', 'O'), ('.', '.', 'O')], [('The', 'DT', 'O'), ('protest', 'NN', 'O'), ('comes', 'VBZ', 'O'), ('on', 'IN', 'O'), ('the', 'DT', 'O'), ('eve', 'NN', 'O'), ('of', 'IN', 'O'), ('the', 'DT', 'O'), ('annual', 'JJ', 'O'), ('conference', 'NN', 'O'), ('of', 'IN', 'O'), ('Britain', 'NNP', 'B-geo'), (\"'s\", 'POS', 'O'), ('ruling', 'VBG', 'O'), ('Labor', 'NNP', 'B-org'), ('Party', 'NNP', 'I-org'), ('in', 'IN', 'O'), ('the', 'DT', 'O'), ('southern', 'JJ', 'O'), ('English', 'JJ', 'B-gpe'), ('seaside', 'NN', 'O'), ('resort', 'NN', 'O'), ('of', 'IN', 'O'), ('Brighton', 'NNP', 'B-geo'), ('.', '.', 'O')], [('The', 'DT', 'O'), ('party', 'NN', 'O'), ('is', 'VBZ', 'O'), ('divided', 'VBN', 'O'), ('over', 'IN', 'O'), ('Britain', 'NNP', 'B-gpe'), (\"'s\", 'POS', 'O'), ('participation', 'NN', 'O'), ('in', 'IN', 'O'), ('the', 'DT', 'O'), ('Iraq', 'NNP', 'B-geo'), ('conflict', 'NN', 'O'), ('and', 'CC', 'O'), ('the', 'DT', 'O'), ('continued', 'JJ', 'O'), ('deployment', 'NN', 'O'), ('of', 'IN', 'O'), ('8,500', 'CD', 'O'), ('British', 'JJ', 'B-gpe'), ('troops', 'NNS', 'O'), ('in', 'IN', 'O'), ('that', 'DT', 'O'), ('country', 'NN', 'O'), ('.', '.', 'O')], [('The', 'DT', 'O'), ('London', 'NNP', 'B-geo'), ('march', 'NN', 'O'), ('came', 'VBD', 'O'), ('ahead', 'RB', 'O'), ('of', 'IN', 'O'), ('anti-war', 'JJ', 'O'), ('protests', 'NNS', 'O'), ('today', 'NN', 'O'), ('in', 'IN', 'O'), ('other', 'JJ', 'O'), ('cities', 'NNS', 'O'), (',', ',', 'O'), ('including', 'VBG', 'O'), ('Rome', 'NNP', 'B-geo'), (',', ',', 'O'), ('Paris', 'NNP', 'B-geo'), (',', ',', 'O'), ('and', 'CC', 'O'), ('Madrid', 'NNP', 'B-geo'), ('.', '.', 'O')], [('The', 'DT', 'O'), ('International', 'NNP', 'B-org'), ('Atomic', 'NNP', 'I-org'), ('Energy', 'NNP', 'I-org'), ('Agency', 'NNP', 'I-org'), ('is', 'VBZ', 'O'), ('to', 'TO', 'O'), ('hold', 'VB', 'O'), ('second', 'JJ', 'O'), ('day', 'NN', 'O'), ('of', 'IN', 'O'), ('talks', 'NNS', 'O'), ('in', 'IN', 'O'), ('Vienna', 'NNP', 'B-geo'), ('Wednesday', 'NNP', 'B-tim'), ('on', 'IN', 'O'), ('how', 'WRB', 'O'), ('to', 'TO', 'O'), ('respond', 'VB', 'O'), ('to', 'TO', 'O'), ('Iran', 'NNP', 'B-gpe'), (\"'s\", 'POS', 'O'), ('resumption', 'NN', 'O'), ('of', 'IN', 'O'), ('low-level', 'JJ', 'O'), ('uranium', 'NN', 'O'), ('conversion', 'NN', 'O'), ('.', '.', 'O')], [('Iran', 'NNP', 'B-gpe'), ('this', 'DT', 'O'), ('week', 'NN', 'O'), ('restarted', 'VBD', 'O'), ('parts', 'NNS', 'O'), ('of', 'IN', 'O'), ('the', 'DT', 'O'), ('conversion', 'NN', 'O'), ('process', 'NN', 'O'), ('at', 'IN', 'O'), ('its', 'PRP$', 'O'), ('Isfahan', 'NNP', 'B-geo'), ('nuclear', 'JJ', 'O'), ('plant', 'NN', 'O'), ('.', '.', 'O')], [('Iranian', 'JJ', 'B-gpe'), ('officials', 'NNS', 'O'), ('say', 'VBP', 'O'), ('they', 'PRP', 'O'), ('expect', 'VBP', 'O'), ('to', 'TO', 'O'), ('get', 'VB', 'O'), ('access', 'NN', 'O'), ('to', 'TO', 'O'), ('sealed', 'JJ', 'O'), ('sensitive', 'JJ', 'O'), ('parts', 'NNS', 'O'), ('of', 'IN', 'O'), ('the', 'DT', 'O'), ('plant', 'NN', 'O'), ('Wednesday', 'NNP', 'B-tim'), (',', ',', 'O'), ('after', 'IN', 'O'), ('an', 'DT', 'O'), ('IAEA', 'NNP', 'B-org'), ('surveillance', 'NN', 'O'), ('system', 'NN', 'O'), ('begins', 'VBZ', 'O'), ('functioning', 'VBG', 'O'), ('.', '.', 'O')], [('The', 'DT', 'O'), ('step', 'NN', 'O'), ('will', 'MD', 'O'), ('allow', 'VB', 'O'), ('the', 'DT', 'O'), ('facility', 'NN', 'O'), ('to', 'TO', 'O'), ('operate', 'VB', 'O'), ('at', 'IN', 'O'), ('full', 'JJ', 'O'), ('capacity', 'NN', 'O'), ('.', '.', 'O')], [('The', 'DT', 'O'), ('European', 'NNP', 'B-org'), ('Union', 'NNP', 'I-org'), (',', ',', 'O'), ('with', 'IN', 'O'), ('U.S.', 'NNP', 'B-gpe'), ('backing', 'NN', 'O'), (',', ',', 'O'), ('has', 'VBZ', 'O'), ('threatened', 'VBN', 'O'), ('to', 'TO', 'O'), ('refer', 'VB', 'O'), ('Iran', 'NNP', 'B-gpe'), ('to', 'TO', 'O'), ('the', 'DT', 'O'), ('U.N.', 'NNP', 'B-org'), ('Security', 'NNP', 'I-org'), ('Council', 'NNP', 'I-org'), (',', ',', 'O'), ('which', 'WDT', 'O'), ('could', 'MD', 'O'), ('impose', 'VB', 'O'), ('sanctions', 'NNS', 'O'), ('if', 'IN', 'O'), ('it', 'PRP', 'O'), ('finds', 'VBZ', 'O'), ('Tehran', 'NNP', 'B-gpe'), ('has', 'VBZ', 'O'), ('violated', 'VBN', 'O'), ('the', 'DT', 'O'), ('Nuclear', 'NNP', 'B-art'), ('Non-Proliferation', 'NNP', 'I-art'), ('treaty', 'NN', 'O'), ('.', '.', 'O')], [('Iran', 'NNP', 'B-gpe'), (\"'s\", 'POS', 'O'), ('new', 'JJ', 'O'), ('President', 'NNP', 'B-per'), ('Mahmoud', 'NNP', 'I-per'), ('Ahmadinejad', 'NNP', 'I-per'), ('said', 'VBD', 'O'), ('Tuesday', 'NNP', 'B-tim'), ('that', 'IN', 'O'), ('European', 'JJ', 'B-gpe'), ('incentives', 'NNS', 'O'), ('aimed', 'VBN', 'O'), ('at', 'IN', 'O'), ('persuading', 'VBG', 'O'), ('Iran', 'NNP', 'B-gpe'), ('to', 'TO', 'O'), ('end', 'VB', 'O'), ('its', 'PRP$', 'O'), ('nuclear', 'JJ', 'O'), ('fuel', 'NN', 'O'), ('program', 'NN', 'O'), ('are', 'VBP', 'O'), ('an', 'DT', 'O'), ('insult', 'NN', 'O'), ('to', 'TO', 'O'), ('the', 'DT', 'O'), ('Iranian', 'JJ', 'B-gpe'), ('nation', 'NN', 'O'), ('.', '.', 'O')], [('Two', 'CD', 'O'), ('Germans', 'NNS', 'B-gpe'), ('and', 'CC', 'O'), ('four', 'CD', 'O'), ('Nigerian', 'JJ', 'B-gpe'), ('oil', 'NN', 'O'), ('workers', 'NNS', 'O'), ('were', 'VBD', 'O'), ('kidnapped', 'VBN', 'O'), ('by', 'IN', 'O'), ('armed', 'JJ', 'O'), ('militants', 'NNS', 'O'), ('during', 'IN', 'O'), ('a', 'DT', 'O'), ('raid', 'NN', 'O'), ('on', 'IN', 'O'), ('a', 'DT', 'O'), ('boat', 'NN', 'O'), ('in', 'IN', 'O'), ('Nigeria', 'NNP', 'B-geo'), (\"'s\", 'POS', 'O'), ('southern', 'JJ', 'O'), ('oil-rich', 'JJ', 'O'), ('Delta', 'NNP', 'B-geo'), ('region', 'NN', 'O'), ('.', '.', 'O')], [('An', 'DT', 'O'), ('official', 'NN', 'O'), ('with', 'IN', 'O'), ('the', 'DT', 'O'), ('German', 'JJ', 'B-gpe'), ('firm', 'NN', 'O'), ('Bilfinger', 'NNP', 'B-org'), ('Berger', 'NNP', 'I-org'), (',', ',', 'O'), ('Thomas', 'NNP', 'B-per'), ('Horbach', 'NNP', 'I-per'), (',', ',', 'O'), ('said', 'VBD', 'O'), ('the', 'DT', 'O'), ('gunmen', 'NNS', 'O'), ('stopped', 'VBD', 'O'), ('the', 'DT', 'O'), ('supply', 'NN', 'O'), ('boat', 'NN', 'O'), ('Wednesday', 'NNP', 'B-tim'), ('as', 'IN', 'O'), ('it', 'PRP', 'O'), ('sailed', 'VBD', 'O'), ('from', 'IN', 'O'), ('Delta', 'NNP', 'B-geo'), ('State', 'NNP', 'I-geo'), ('to', 'TO', 'O'), ('Bayelsa', 'NNP', 'B-geo'), ('State', 'NNP', 'I-geo'), ('to', 'TO', 'O'), ('inspect', 'VB', 'O'), ('an', 'DT', 'O'), ('offshore', 'JJ', 'O'), ('oil', 'NN', 'O'), ('field', 'NN', 'O'), ('owned', 'VBN', 'O'), ('by', 'IN', 'O'), ('Royal-Dutch', 'NNP', 'B-org'), ('Shell', 'NNP', 'I-org'), ('.', '.', 'O')], [('The', 'DT', 'O'), ('German', 'JJ', 'B-gpe'), ('firm', 'NN', 'O'), ('works', 'VBZ', 'O'), ('as', 'IN', 'O'), ('a', 'DT', 'O'), ('sub-contractor', 'NN', 'O'), ('for', 'IN', 'O'), ('Shell', 'NNP', 'B-org'), ('.', '.', 'O')], [('Militant', 'JJ', 'O'), ('groups', 'NNS', 'O'), ('frequently', 'RB', 'O'), ('attack', 'VBP', 'O'), ('oil', 'NN', 'O'), ('operations', 'NNS', 'O'), ('in', 'IN', 'O'), ('the', 'DT', 'O'), ('Niger', 'NNP', 'B-geo'), ('Delta', 'NNP', 'I-geo'), ('to', 'TO', 'O'), ('demand', 'VB', 'O'), ('social', 'JJ', 'O'), ('services', 'NNS', 'O'), ('and', 'CC', 'O'), ('better', 'JJR', 'O'), ('job', 'NN', 'O'), ('opportunities', 'NNS', 'O'), ('from', 'IN', 'O'), ('multinational', 'JJ', 'O'), ('companies', 'NNS', 'O'), ('.', '.', 'O')], [('Poor', 'JJ', 'O'), ('residents', 'NNS', 'O'), ('often', 'RB', 'O'), ('complain', 'VBP', 'O'), ('they', 'PRP', 'O'), ('have', 'VBP', 'O'), ('been', 'VBN', 'O'), ('cheated', 'VBN', 'O'), ('out', 'IN', 'O'), ('of', 'IN', 'O'), ('the', 'DT', 'O'), ('huge', 'JJ', 'O'), ('riches', 'NNS', 'O'), ('extracted', 'VBN', 'O'), ('from', 'IN', 'O'), ('their', 'PRP$', 'O'), ('tribal', 'JJ', 'O'), ('lands', 'NNS', 'O'), ('-', ':', 'O'), ('where', 'WRB', 'O'), ('the', 'DT', 'O'), ('bulk', 'NN', 'O'), ('of', 'IN', 'O'), ('Nigeria', 'NNP', 'B-gpe'), (\"'s\", 'POS', 'O'), ('2.3', 'CD', 'O'), ('million', 'CD', 'O'), ('barrels', 'NNS', 'O'), ('of', 'IN', 'O'), ('petroleum', 'NN', 'O'), ('are', 'VBP', 'O'), ('pumped', 'VBN', 'O'), ('daily', 'RB', 'O'), ('.', '.', 'O')], [('Suspected', 'JJ', 'O'), ('Islamist', 'JJ', 'O'), ('rebels', 'NNS', 'O'), ('have', 'VBP', 'O'), ('fired', 'VBN', 'O'), ('mortar', 'NN', 'O'), ('shells', 'NNS', 'O'), ('at', 'IN', 'O'), ('the', 'DT', 'O'), ('palace', 'NN', 'O'), ('used', 'VBN', 'O'), ('by', 'IN', 'O'), ('Somalia', 'NNP', 'B-geo'), (\"'s\", 'POS', 'O'), ('interim', 'JJ', 'O'), ('President', 'NNP', 'B-per'), ('Abdullahi', 'NNP', 'I-per'), ('Yusuf', 'NNP', 'I-per'), ('Ahmad', 'NNP', 'I-per'), ('.', '.', 'O')], [('It', 'PRP', 'O'), ('was', 'VBD', 'O'), ('not', 'RB', 'O'), ('immediately', 'RB', 'O'), ('clear', 'JJ', 'O'), ('if', 'IN', 'O'), ('the', 'DT', 'O'), ('president', 'NN', 'O'), ('was', 'VBD', 'O'), ('in', 'IN', 'O'), ('the', 'DT', 'O'), ('palace', 'NN', 'O'), ('in', 'IN', 'O'), ('Mogadishu', 'NNP', 'B-geo'), ('when', 'WRB', 'O'), ('the', 'DT', 'O'), ('attack', 'NN', 'O'), ('occurred', 'VBD', 'O'), ('or', 'CC', 'O'), ('if', 'IN', 'O'), ('anyone', 'DT', 'O'), ('was', 'VBD', 'O'), ('hurt', 'VBN', 'O'), ('.', '.', 'O')], [('Local', 'JJ', 'O'), ('news', 'NN', 'O'), ('reports', 'NNS', 'O'), ('said', 'VBD', 'O'), ('at', 'IN', 'O'), ('least', 'JJS', 'O'), ('five', 'CD', 'O'), ('mortar', 'NN', 'O'), ('shells', 'NNS', 'O'), ('hit', 'VBD', 'O'), ('the', 'DT', 'O'), ('palace', 'NN', 'O'), ('compound', 'NN', 'O'), ('and', 'CC', 'O'), ('other', 'JJ', 'O'), ('mortars', 'NNS', 'O'), ('were', 'VBD', 'O'), ('fired', 'VBN', 'O'), ('elsewhere', 'RB', 'O'), ('in', 'IN', 'O'), ('Mogadishu', 'NNP', 'B-geo'), ('Wednesday', 'NNP', 'B-tim'), ('.', '.', 'O')], [('The', 'DT', 'O'), ('attacks', 'NNS', 'O'), ('occurred', 'VBD', 'O'), ('after', 'IN', 'O'), ('the', 'DT', 'O'), ('government', 'NN', 'O'), ('said', 'VBD', 'O'), ('it', 'PRP', 'O'), ('will', 'MD', 'O'), ('go', 'VB', 'O'), ('ahead', 'RB', 'O'), ('with', 'IN', 'O'), ('a', 'DT', 'O'), ('reconciliation', 'NN', 'O'), ('conference', 'NN', 'O'), ('to', 'TO', 'O'), ('which', 'WDT', 'O'), ('more', 'JJR', 'O'), ('than', 'IN', 'O'), ('1,300', 'CD', 'O'), ('Somali', 'JJ', 'B-gpe'), ('elders', 'NNS', 'O'), (',', ',', 'O'), ('warlords', 'NNS', 'O'), ('and', 'CC', 'O'), ('politicians', 'NNS', 'O'), ('are', 'VBP', 'O'), ('invited', 'VBN', 'O'), ('.', '.', 'O')], [('Iraqi', 'JJ', 'B-gpe'), ('military', 'JJ', 'O'), ('officials', 'NNS', 'O'), ('say', 'VBP', 'O'), ('tanks', 'NNS', 'O'), ('and', 'CC', 'O'), ('troops', 'NNS', 'O'), ('have', 'VBP', 'O'), ('arrived', 'VBN', 'O'), ('in', 'IN', 'O'), ('the', 'DT', 'O'), ('northern', 'JJ', 'O'), ('city', 'NN', 'O'), ('Mosul', 'NNP', 'B-geo'), ('for', 'IN', 'O'), ('a', 'DT', 'O'), ('new', 'JJ', 'O'), ('offensive', 'NN', 'O'), ('against', 'IN', 'O'), ('al', 'NNP', 'B-org'), ('Qaida', 'NNP', 'I-org'), ('in', 'IN', 'I-org'), ('Iraq', 'NNP', 'I-org'), ('fighters', 'NNS', 'O'), ('.', '.', 'O')], [('Officials', 'NNS', 'O'), ('will', 'MD', 'O'), ('not', 'RB', 'O'), ('say', 'VB', 'O'), ('how', 'WRB', 'O'), ('many', 'JJ', 'O'), ('troops', 'NNS', 'O'), ('have', 'VBP', 'O'), ('arrived', 'VBN', 'O'), ('in', 'IN', 'O'), ('the', 'DT', 'O'), ('Sunni', 'NNP', 'B-geo'), ('Arab', 'NNP', 'I-geo'), ('and', 'CC', 'O'), ('Kurdish', 'NNP', 'B-geo'), ('city', 'NN', 'O'), (',', ',', 'O'), ('where', 'WRB', 'O'), ('bombings', 'NNS', 'O'), ('last', 'JJ', 'O'), ('week', 'NN', 'O'), ('killed', 'VBD', 'O'), ('at', 'IN', 'O'), ('least', 'JJS', 'O'), ('34', 'CD', 'O'), ('people', 'NNS', 'O'), ('and', 'CC', 'O'), ('wounded', 'VBD', 'O'), ('more', 'JJR', 'O'), ('than', 'IN', 'O'), ('200', 'CD', 'O'), ('.', '.', 'O')], [('U.S.', 'NNP', 'B-gpe'), ('commanders', 'NNS', 'O'), ('have', 'VBP', 'O'), ('not', 'RB', 'O'), ('explained', 'VBN', 'O'), ('how', 'WRB', 'O'), ('American', 'JJ', 'B-gpe'), ('forces', 'NNS', 'O'), ('will', 'MD', 'O'), ('participate', 'VB', 'O'), ('in', 'IN', 'O'), ('the', 'DT', 'O'), ('offensive', 'NN', 'O'), ('.', '.', 'O')], [('Officials', 'NNS', 'O'), ('say', 'VBP', 'O'), ('al', 'NNP', 'B-org'), ('Qaida', 'NNP', 'I-org'), ('in', 'IN', 'I-org'), ('Iraq', 'NNP', 'I-org'), ('fighters', 'NNS', 'O'), ('have', 'VBP', 'O'), ('fled', 'VBN', 'O'), ('successful', 'JJ', 'O'), ('campaigns', 'NNS', 'O'), ('against', 'IN', 'O'), ('them', 'PRP', 'O'), ('in', 'IN', 'O'), ('Anbar', 'NNP', 'B-geo'), ('province', 'NN', 'O'), ('and', 'CC', 'O'), ('Baghdad', 'NNP', 'B-geo'), ('to', 'TO', 'O'), ('other', 'JJ', 'O'), ('northern', 'JJ', 'O'), ('provinces', 'NNS', 'O'), ('.', '.', 'O')], [('Mosul', 'NNP', 'B-geo'), ('is', 'VBZ', 'O'), ('the', 'DT', 'O'), ('largest', 'JJS', 'O'), ('city', 'NN', 'O'), ('north', 'NN', 'O'), ('of', 'IN', 'O'), ('Baghdad', 'NNP', 'B-geo'), ('and', 'CC', 'O'), ('has', 'VBZ', 'O'), ('long', 'RB', 'O'), ('been', 'VBN', 'O'), ('a', 'DT', 'O'), ('stronghold', 'NN', 'O'), ('of', 'IN', 'O'), ('Sunni', 'NNP', 'B-org'), ('militant', 'JJ', 'O'), ('fighters', 'NNS', 'O'), ('.', '.', 'O')], [('In', 'IN', 'O'), ('other', 'JJ', 'O'), ('violence', 'NN', 'O'), (',', ',', 'O'), ('U.S.', 'NNP', 'B-gpe'), ('officials', 'NNS', 'O'), ('said', 'VBD', 'O'), ('one', 'CD', 'O'), ('American', 'JJ', 'B-gpe'), ('soldier', 'NN', 'O'), ('was', 'VBD', 'O'), ('killed', 'VBN', 'O'), ('while', 'IN', 'O'), ('on', 'IN', 'O'), ('patrol', 'NN', 'O'), ('in', 'IN', 'O'), ('Baghdad', 'NNP', 'B-geo'), ('Sunday', 'NNP', 'B-tim'), ('.', '.', 'O')], [('Egyptian', 'JJ', 'B-gpe'), ('police', 'NNS', 'O'), ('have', 'VBP', 'O'), ('arrested', 'VBN', 'O'), ('at', 'IN', 'O'), ('least', 'JJS', 'O'), ('16', 'CD', 'O'), ('members', 'NNS', 'O'), ('of', 'IN', 'O'), ('the', 'DT', 'O'), ('opposition', 'NN', 'O'), ('Muslim', 'NNP', 'B-org'), ('Brotherhood', 'NNP', 'I-org'), ('as', 'IN', 'O'), ('parts', 'NNS', 'O'), ('of', 'IN', 'O'), ('the', 'DT', 'O'), ('country', 'NN', 'O'), ('prepare', 'VB', 'O'), ('for', 'IN', 'O'), ('parliamentary', 'JJ', 'O'), ('runoff', 'NN', 'O'), ('elections', 'NNS', 'O'), ('Saturday', 'NNP', 'B-tim'), ('.', '.', 'O')], [('The', 'DT', 'O'), ('arrests', 'NNS', 'O'), ('occurred', 'VBD', 'O'), ('Friday', 'NNP', 'B-tim'), ('in', 'IN', 'O'), ('Alexandria', 'NNP', 'B-geo'), ('.', '.', 'O')], [('A', 'DT', 'O'), ('spokesman', 'NN', 'O'), ('for', 'IN', 'O'), ('the', 'DT', 'O'), ('Brotherhood', 'NNP', 'B-org'), ('said', 'VBD', 'O'), ('the', 'DT', 'O'), ('arrests', 'NNS', 'O'), ('are', 'VBP', 'O'), ('an', 'DT', 'O'), ('attempt', 'NN', 'O'), ('to', 'TO', 'O'), ('cut', 'VB', 'O'), ('the', 'DT', 'O'), ('Brotherhood', 'NNP', 'B-org'), ('off', 'RB', 'O'), ('from', 'IN', 'O'), ('its', 'PRP$', 'O'), ('supporters', 'NNS', 'O'), ('and', 'CC', 'O'), ('punishment', 'NN', 'O'), ('for', 'IN', 'O'), ('winning', 'VBG', 'O'), ('parliamentary', 'JJ', 'O'), ('seats', 'NNS', 'O'), ('in', 'IN', 'O'), ('earlier', 'JJR', 'O'), ('elections', 'NNS', 'O'), ('.', '.', 'O')], [('The', 'DT', 'O'), ('Muslim', 'NNP', 'B-org'), ('Brotherhood', 'NNP', 'I-org'), ('has', 'VBZ', 'O'), ('tripled', 'VBN', 'O'), ('its', 'PRP$', 'O'), ('strength', 'NN', 'O'), ('in', 'IN', 'O'), ('parliament', 'NN', 'O'), ('in', 'IN', 'O'), ('recent', 'JJ', 'O'), ('elections', 'NNS', 'O'), (',', ',', 'O'), ('raising', 'VBG', 'O'), ('the', 'DT', 'O'), ('party', 'NN', 'O'), (\"'s\", 'POS', 'O'), ('total', 'NN', 'O'), ('to', 'TO', 'O'), ('47', 'CD', 'O'), ('seats', 'NNS', 'O'), ('.', '.', 'O')], [('In', 'IN', 'O'), ('Saturday', 'NNP', 'B-tim'), (\"'s\", 'POS', 'O'), ('elections', 'NNS', 'O'), (',', ',', 'O'), ('voters', 'NNS', 'O'), ('will', 'MD', 'O'), ('cast', 'VB', 'O'), ('ballots', 'NNS', 'O'), ('in', 'IN', 'O'), ('nine', 'CD', 'O'), ('provinces', 'NNS', 'O'), ('where', 'WRB', 'O'), ('no', 'DT', 'O'), ('candidate', 'NN', 'O'), ('won', 'VBD', 'O'), ('a', 'DT', 'O'), ('majority', 'NN', 'O'), ('in', 'IN', 'O'), ('the', 'DT', 'O'), ('previous', 'JJ', 'O'), ('round', 'NN', 'O'), ('of', 'IN', 'O'), ('voting', 'NN', 'O'), ('.', '.', 'O')], [('The', 'DT', 'O'), ('Muslim', 'NNP', 'B-org'), ('Brotherhood', 'NNP', 'I-org'), ('is', 'VBZ', 'O'), ('banned', 'VBN', 'O'), ('as', 'IN', 'O'), ('a', 'DT', 'O'), ('political', 'JJ', 'O'), ('party', 'NN', 'O'), (',', ',', 'O'), ('but', 'CC', 'O'), ('it', 'PRP', 'O'), ('endorses', 'VBZ', 'O'), ('so-called', 'JJ', 'O'), ('independent', 'JJ', 'O'), ('candidates', 'NNS', 'O'), ('whose', 'WP$', 'O'), ('allegiance', 'NN', 'O'), ('to', 'IN', 'O'), ('the', 'DT', 'O'), ('party', 'NN', 'O'), ('is', 'VBZ', 'O'), ('known', 'VBN', 'O'), ('to', 'TO', 'O'), ('voters', 'NNS', 'O'), ('.', '.', 'O')], [('Hardline', 'JJ', 'O'), ('lawmakers', 'NNS', 'O'), ('in', 'IN', 'O'), ('Pakistan', 'NNP', 'B-geo'), (\"'s\", 'POS', 'O'), ('North', 'NNP', 'B-geo'), ('West', 'NNP', 'I-geo'), ('Frontier', 'NNP', 'I-geo'), ('Province', 'NNP', 'I-geo'), ('have', 'VBP', 'O'), ('pushed', 'VBN', 'O'), ('through', 'IN', 'O'), ('a', 'DT', 'O'), ('law', 'NN', 'O'), ('that', 'WDT', 'O'), ('aims', 'VBZ', 'O'), ('to', 'TO', 'O'), ('ensure', 'VB', 'O'), ('\"', '``', 'O'), ('Islamic', 'JJ', 'O'), ('correctness', 'NN', 'O'), ('\"', '``', 'O'), ('in', 'IN', 'O'), ('public', 'JJ', 'O'), ('places', 'NNS', 'O'), ('and', 'CC', 'O'), ('establishes', 'VBZ', 'O'), ('a', 'DT', 'O'), ('morality', 'NN', 'O'), ('police', 'NN', 'O'), ('to', 'TO', 'O'), ('enforce', 'VB', 'O'), ('decent', 'JJ', 'O'), ('behavior', 'NN', 'O'), ('.', '.', 'O')], [('A', 'DT', 'O'), ('six-party', 'JJ', 'O'), ('coalition', 'NN', 'O'), ('of', 'IN', 'O'), ('religious', 'JJ', 'O'), ('based', 'VBN', 'O'), ('parties', 'NNS', 'O'), (',', ',', 'O'), ('the', 'DT', 'O'), ('Mutahida', 'NNP', 'B-org'), ('Majlis-e-Amal', 'NNP', 'I-org'), (',', ',', 'O'), ('dominates', 'VBZ', 'O'), ('the', 'DT', 'O'), ('provincial', 'JJ', 'O'), ('assembly', 'NN', 'O'), (',', ',', 'O'), ('so', 'IN', 'O'), ('the', 'DT', 'O'), ('bill', 'NN', 'O'), ('was', 'VBD', 'O'), ('easily', 'RB', 'O'), ('passed', 'VBN', 'O'), ('Thursday', 'NNP', 'B-tim'), ('by', 'IN', 'O'), ('a', 'DT', 'O'), ('vote', 'NN', 'O'), ('of', 'IN', 'O'), ('68-34', 'CD', 'O'), ('.', '.', 'O')], [('The', 'DT', 'O'), ('provincial', 'JJ', 'O'), ('governor', 'NN', 'O'), ('must', 'MD', 'O'), ('still', 'RB', 'O'), ('sign', 'VB', 'O'), ('the', 'DT', 'O'), ('bill', 'NN', 'O'), ('before', 'IN', 'O'), ('it', 'PRP', 'O'), ('becomes', 'VBZ', 'O'), ('law', 'NN', 'O'), (',', ',', 'O'), ('a', 'DT', 'O'), ('step', 'NN', 'O'), ('seen', 'VBN', 'O'), ('only', 'RB', 'O'), ('as', 'IN', 'O'), ('a', 'DT', 'O'), ('formality', 'NN', 'O'), ('.', '.', 'O')], [('The', 'DT', 'O'), ('proposed', 'JJ', 'O'), ('law', 'NN', 'O'), ('calls', 'VBZ', 'O'), ('for', 'IN', 'O'), ('setting', 'VBG', 'O'), ('up', 'RP', 'O'), ('a', 'DT', 'O'), ('\"', '``', 'O'), ('religious', 'JJ', 'O'), ('police', 'NN', 'O'), ('force', 'NN', 'O'), ('\"', '``', 'O'), ('to', 'TO', 'O'), ('make', 'VB', 'O'), ('sure', 'JJ', 'O'), ('people', 'NNS', 'O'), ('adhere', 'VBP', 'O'), ('to', 'TO', 'O'), ('Islamic', 'JJ', 'O'), ('values', 'NNS', 'O'), ('in', 'IN', 'O'), ('public', 'JJ', 'O'), ('places', 'NNS', 'O'), (',', ',', 'O'), ('and', 'CC', 'O'), ('entertainment', 'NN', 'O'), ('outlets', 'NNS', 'O'), ('close', 'RB', 'O'), ('during', 'IN', 'O'), ('weekly', 'JJ', 'O'), ('Friday', 'NNP', 'B-tim'), ('prayers', 'NNS', 'O'), ('.', '.', 'O')], [('Violators', 'NNS', 'O'), ('could', 'MD', 'O'), ('be', 'VB', 'O'), ('jailed', 'VBN', 'O'), ('for', 'IN', 'O'), ('up', 'RB', 'O'), ('to', 'TO', 'O'), ('six', 'CD', 'O'), ('months', 'NNS', 'O'), ('.', '.', 'O')], [('The', 'DT', 'O'), ('opposition', 'NN', 'O'), ('has', 'VBZ', 'O'), ('denounced', 'VBN', 'O'), ('the', 'DT', 'O'), ('measure', 'NN', 'O'), (',', ',', 'O'), ('comparing', 'VBG', 'O'), ('it', 'PRP', 'O'), ('to', 'TO', 'O'), ('the', 'DT', 'O'), ('draconian', 'JJ', 'O'), ('rule', 'NN', 'O'), ('of', 'IN', 'O'), ('the', 'DT', 'O'), ('former', 'JJ', 'O'), ('Taleban', 'NNP', 'B-org'), ('in', 'IN', 'O'), ('neighboring', 'VBG', 'O'), ('Afghanistan', 'NNP', 'B-geo'), ('.', '.', 'O')], [('British', 'JJ', 'B-gpe'), ('police', 'NNS', 'O'), ('say', 'VBP', 'O'), ('they', 'PRP', 'O'), ('have', 'VBP', 'O'), ('arrested', 'VBN', 'O'), ('a', 'DT', 'O'), ('man', 'NN', 'O'), ('who', 'WP', 'O'), ('dressed', 'VBD', 'O'), ('as', 'IN', 'O'), ('suicide', 'NN', 'O'), ('bomber', 'NN', 'O'), ('at', 'IN', 'O'), ('a', 'DT', 'O'), ('demonstration', 'NN', 'O'), ('against', 'IN', 'O'), ('the', 'DT', 'O'), ('publication', 'NN', 'O'), ('of', 'IN', 'O'), ('cartoons', 'NNS', 'O'), ('depicting', 'VBG', 'O'), ('Islam', 'NNP', 'B-org'), (\"'s\", 'POS', 'O'), ('Prophet', 'NNP', 'B-per'), ('Muhammad', 'NNP', 'I-per'), ('.', '.', 'O')], [('Bedfordshire', 'NNP', 'B-gpe'), ('police', 'NNS', 'O'), ('said', 'VBD', 'O'), ('Tuesday', 'NNP', 'B-tim'), ('that', 'IN', 'O'), ('Omar', 'NNP', 'B-per'), ('Khayam', 'NNP', 'I-per'), ('was', 'VBD', 'O'), ('arrested', 'VBN', 'O'), ('in', 'IN', 'O'), ('Bedford', 'NNP', 'B-geo'), ('for', 'IN', 'O'), ('breaching', 'VBG', 'O'), ('the', 'DT', 'O'), ('conditions', 'NNS', 'O'), ('of', 'IN', 'O'), ('his', 'PRP$', 'O'), ('parole', 'NN', 'O'), ('.', '.', 'O')], [('Police', 'NNS', 'O'), ('said', 'VBD', 'O'), ('the', 'DT', 'O'), ('British', 'NNP', 'B-org'), ('Home', 'NNP', 'I-org'), ('Office', 'NNP', 'I-org'), ('sought', 'VBD', 'O'), ('an', 'DT', 'O'), ('investigation', 'NN', 'O'), ('of', 'IN', 'O'), ('Khayam', 'NNP', 'B-per'), (\"'s\", 'POS', 'O'), ('behavior', 'NN', 'O'), ('after', 'IN', 'O'), ('he', 'PRP', 'O'), ('was', 'VBD', 'O'), ('photographed', 'VBN', 'O'), ('last', 'JJ', 'O'), ('week', 'NN', 'O'), ('at', 'IN', 'O'), ('a', 'DT', 'O'), ('demonstration', 'NN', 'O'), ('dressed', 'VBN', 'O'), ('in', 'IN', 'O'), ('fatigues', 'NNS', 'O'), (',', ',', 'O'), ('a', 'DT', 'O'), ('black', 'JJ', 'O'), ('cap', 'NN', 'O'), (',', ',', 'O'), ('and', 'CC', 'O'), ('a', 'DT', 'O'), ('bulky', 'JJ', 'O'), ('belt', 'NN', 'O'), ('.', '.', 'O')], [('A', 'DT', 'O'), ('Home', 'NNP', 'B-org'), ('Office', 'NNP', 'I-org'), ('spokesman', 'NN', 'O'), ('told', 'VBD', 'O'), ('the', 'DT', 'O'), ('Associated', 'NNP', 'B-org'), ('Press', 'NNP', 'I-org'), ('that', 'IN', 'O'), ('if', 'IN', 'O'), ('the', 'DT', 'O'), ('behavior', 'NN', 'O'), ('of', 'IN', 'O'), ('a', 'DT', 'O'), ('paroled', 'JJ', 'O'), ('offender', 'NN', 'O'), ('gives', 'VBZ', 'O'), ('cause', 'NN', 'O'), ('for', 'IN', 'O'), ('concern', 'NN', 'O'), (',', ',', 'O'), ('he', 'PRP', 'O'), ('can', 'MD', 'O'), ('be', 'VB', 'O'), ('sent', 'VBN', 'O'), ('back', 'RB', 'O'), ('to', 'TO', 'O'), ('prison', 'NN', 'O'), ('.', '.', 'O')], [('The', 'DT', 'O'), ('AP', 'NNP', 'B-org'), ('also', 'RB', 'O'), ('reports', 'VBZ', 'O'), ('Khayam', 'NNP', 'B-per'), ('has', 'VBZ', 'O'), ('been', 'VBN', 'O'), ('on', 'IN', 'O'), ('parole', 'NN', 'O'), ('from', 'IN', 'O'), ('prison', 'NN', 'O'), ('since', 'IN', 'O'), ('last', 'JJ', 'O'), ('year', 'NN', 'O'), ('after', 'IN', 'O'), ('serving', 'VBG', 'O'), ('half', 'PDT', 'O'), ('his', 'PRP$', 'O'), ('six-year', 'JJ', 'O'), ('sentence', 'NN', 'O'), ('for', 'IN', 'O'), ('drug', 'NN', 'O'), ('dealing', 'NN', 'O'), ('.', '.', 'O')], [('Pakistani', 'JJ', 'B-gpe'), ('officials', 'NNS', 'O'), ('say', 'VBP', 'O'), ('unidentified', 'JJ', 'O'), ('gunmen', 'NNS', 'O'), ('have', 'VBP', 'O'), ('killed', 'VBN', 'O'), ('three', 'CD', 'O'), ('people', 'NNS', 'O'), (',', ',', 'O'), ('including', 'VBG', 'O'), ('a', 'DT', 'O'), ('former', 'JJ', 'O'), ('government', 'NN', 'O'), ('minister', 'NN', 'O'), (',', ',', 'O'), ('in', 'IN', 'O'), ('a', 'DT', 'O'), ('semi-autonomous', 'JJ', 'O'), ('tribal', 'JJ', 'O'), ('region', 'NN', 'O'), ('bordering', 'VBG', 'O'), ('Afghanistan', 'NNP', 'B-geo'), ('.', '.', 'O')], [('The', 'DT', 'O'), ('officials', 'NNS', 'O'), ('say', 'VBP', 'O'), ('prominent', 'JJ', 'O'), ('tribal', 'JJ', 'O'), ('leader', 'NN', 'O'), ('Malik', 'NNP', 'B-per'), ('Faridullah', 'NNP', 'I-per'), ('Khan', 'NNP', 'I-per'), ('was', 'VBD', 'O'), ('traveling', 'VBG', 'O'), ('in', 'IN', 'O'), ('South', 'NNP', 'B-geo'), ('Waziristan', 'NNP', 'I-geo'), ('Sunday', 'NNP', 'B-tim'), ('when', 'WRB', 'O'), ('his', 'PRP$', 'O'), ('vehicle', 'NN', 'O'), ('was', 'VBD', 'O'), ('ambushed', 'VBN', 'O'), ('in', 'IN', 'O'), ('the', 'DT', 'O'), ('Kani', 'NNP', 'B-geo'), ('Wam', 'NNP', 'I-geo'), ('area', 'NN', 'O'), ('.', '.', 'O')], [('His', 'PRP$', 'O'), ('driver', 'NN', 'O'), ('and', 'CC', 'O'), ('a', 'DT', 'O'), ('tribal', 'JJ', 'O'), ('elder', 'NN', 'O'), ('were', 'VBD', 'O'), ('also', 'RB', 'O'), ('killed', 'VBN', 'O'), ('.', '.', 'O')], [('No', 'DT', 'O'), ('one', 'NN', 'O'), ('has', 'VBZ', 'O'), ('claimed', 'VBN', 'O'), ('responsibility', 'NN', 'O'), ('for', 'IN', 'O'), ('the', 'DT', 'O'), ('killings', 'NNS', 'O'), ('.', '.', 'O')], [('The', 'DT', 'O'), ('ambush', 'NN', 'O'), ('came', 'VBD', 'O'), ('a', 'DT', 'O'), ('day', 'NN', 'O'), ('after', 'IN', 'O'), ('a', 'DT', 'O'), ('commander', 'NN', 'O'), ('of', 'IN', 'O'), ('Pakistani', 'JJ', 'B-gpe'), ('troops', 'NNS', 'O'), ('said', 'VBD', 'O'), ('the', 'DT', 'O'), ('army', 'NN', 'O'), ('has', 'VBZ', 'O'), ('almost', 'RB', 'O'), ('completely', 'RB', 'O'), ('eliminated', 'VBN', 'O'), ('militants', 'NNS', 'O'), ('in', 'IN', 'O'), ('South', 'NNP', 'B-geo'), ('Waziristan', 'NNP', 'I-geo'), ('.', '.', 'O')], [('The', 'DT', 'O'), ('area', 'NN', 'O'), ('became', 'VBD', 'O'), ('a', 'DT', 'O'), ('refuge', 'NN', 'O'), ('for', 'IN', 'O'), ('many', 'JJ', 'O'), ('al-Qaida', 'NNP', 'B-org'), ('and', 'CC', 'O'), ('Taleban', 'NNP', 'B-org'), ('fighters', 'NNS', 'O'), ('after', 'IN', 'O'), ('the', 'DT', 'O'), ('Taleban', 'NNP', 'B-org'), ('government', 'NN', 'O'), ('was', 'VBD', 'O'), ('ousted', 'VBN', 'O'), ('in', 'IN', 'O'), ('Afghanistan', 'NNP', 'B-geo'), ('in', 'IN', 'O'), ('2001', 'CD', 'B-tim'), ('.', '.', 'O')], [('A', 'DT', 'O'), ('senior', 'JJ', 'O'), ('Pakistani', 'JJ', 'B-gpe'), ('military', 'JJ', 'O'), ('official', 'NN', 'O'), ('says', 'VBZ', 'O'), ('Pakistan', 'NNP', 'B-gpe'), ('wants', 'VBZ', 'O'), ('to', 'TO', 'O'), ('put', 'VB', 'O'), ('what', 'WP', 'O'), ('he', 'PRP', 'O'), ('calls', 'VBZ', 'O'), ('the', 'DT', 'O'), ('\"', '``', 'O'), ('sordid', 'JJ', 'O'), ('chapter', 'NN', 'O'), ('\"', '``', 'O'), ('of', 'IN', 'O'), ('proliferation', 'NN', 'O'), ('by', 'IN', 'O'), ('one', 'CD', 'O'), ('of', 'IN', 'O'), ('its', 'PRP$', 'O'), ('top', 'JJ', 'O'), ('scientists', 'NNS', 'O'), ('behind', 'IN', 'O'), ('it', 'PRP', 'O'), ('and', 'CC', 'O'), ('build', 'VB', 'O'), ('civilian', 'JJ', 'O'), ('nuclear', 'JJ', 'O'), ('ties', 'NNS', 'O'), ('with', 'IN', 'O'), ('the', 'DT', 'O'), ('United', 'NNP', 'B-gpe'), ('States', 'NNPS', 'I-gpe'), ('.', '.', 'O')], [('But', 'CC', 'O'), ('he', 'PRP', 'O'), ('says', 'VBZ', 'O'), ('Pakistan', 'NNP', 'B-gpe'), ('is', 'VBZ', 'O'), ('not', 'RB', 'O'), ('ready', 'JJ', 'O'), ('to', 'TO', 'O'), ('make', 'VB', 'O'), ('the', 'DT', 'O'), ('nuclear', 'JJ', 'O'), ('scientist', 'NN', 'O'), (',', ',', 'O'), ('Abdul', 'NNP', 'B-per'), ('Qadeer', 'NNP', 'I-per'), ('Khan', 'NNP', 'I-per'), (',', ',', 'O'), ('available', 'JJ', 'O'), ('for', 'IN', 'O'), ('direct', 'JJ', 'O'), ('questioning', 'VBG', 'O'), ('over', 'IN', 'O'), ('his', 'PRP$', 'O'), ('sale', 'NN', 'O'), ('of', 'IN', 'O'), ('nuclear', 'JJ', 'O'), ('parts', 'NNS', 'O'), ('and', 'CC', 'O'), ('secrets', 'NNS', 'O'), ('to', 'IN', 'O'), ('states', 'NNS', 'O'), ('including', 'VBG', 'O'), ('Iran', 'NNP', 'B-gpe'), (',', ',', 'O'), ('Libya', 'NNP', 'B-gpe'), ('and', 'CC', 'O'), ('North', 'NNP', 'B-gpe'), ('Korea', 'NNP', 'I-gpe'), ('.', '.', 'O')], [('He', 'PRP', 'O'), ('said', 'VBD', 'O'), ('there', 'EX', 'O'), ('are', 'VBP', 'O'), ('reasons', 'NNS', 'O'), ('of', 'IN', 'O'), ('national', 'JJ', 'O'), ('sensitivities', 'NNS', 'O'), ('for', 'IN', 'O'), ('not', 'RB', 'O'), ('making', 'VBG', 'O'), ('him', 'PRP', 'O'), ('available', 'JJ', 'O'), ('.', '.', 'O')], [('The', 'DT', 'O'), ('Pakistani', 'JJ', 'B-gpe'), ('official', 'NN', 'O'), ('was', 'VBD', 'O'), ('giving', 'VBG', 'O'), ('a', 'DT', 'O'), ('background', 'NN', 'O'), ('briefing', 'NN', 'O'), ('to', 'TO', 'O'), ('a', 'DT', 'O'), ('small', 'JJ', 'O'), ('group', 'NN', 'O'), ('of', 'IN', 'O'), ('reporters', 'NNS', 'O'), ('in', 'IN', 'O'), ('Washington', 'NNP', 'B-geo'), ('.', '.', 'O')], [('Khan', 'NNP', 'B-per'), ('admitted', 'VBD', 'O'), ('in', 'IN', 'O'), ('2004', 'CD', 'B-tim'), ('that', 'IN', 'O'), ('he', 'PRP', 'O'), ('operated', 'VBD', 'O'), ('a', 'DT', 'O'), ('worldwide', 'JJ', 'O'), ('clandestine', 'NN', 'O'), ('network', 'NN', 'O'), ('to', 'TO', 'O'), ('sell', 'VB', 'O'), ('nuclear', 'JJ', 'O'), ('technology', 'NN', 'O'), ('in', 'IN', 'O'), ('the', 'DT', 'O'), ('black', 'JJ', 'O'), ('market', 'NN', 'O'), ('.', '.', 'O')], [('He', 'PRP', 'O'), ('was', 'VBD', 'O'), ('placed', 'VBN', 'O'), ('under', 'IN', 'O'), ('house', 'NN', 'O'), ('arrest', 'NN', 'O'), ('in', 'IN', 'O'), ('Islamabad', 'NNP', 'B-geo'), (',', ',', 'O'), ('but', 'CC', 'O'), ('not', 'RB', 'O'), ('jailed', 'VBN', 'O'), ('because', 'IN', 'O'), ('he', 'PRP', 'O'), ('is', 'VBZ', 'O'), ('considered', 'VBN', 'O'), ('the', 'DT', 'O'), ('father', 'NN', 'O'), ('of', 'IN', 'O'), ('Pakistan', 'NNP', 'B-geo'), (\"'s\", 'POS', 'O'), ('nuclear', 'JJ', 'O'), ('bomb', 'NN', 'O'), ('.', '.', 'O')], [('U.S.', 'NNP', 'B-gpe'), ('Army', 'NNP', 'B-org'), ('officials', 'NNS', 'O'), ('said', 'VBD', 'O'), ('Wednesday', 'NNP', 'B-tim'), ('that', 'IN', 'O'), ('they', 'PRP', 'O'), ('will', 'MD', 'O'), ('not', 'RB', 'O'), ('renew', 'VB', 'O'), ('a', 'DT', 'O'), ('controversial', 'JJ', 'O'), ('multi-billion', 'JJ', 'O'), ('dollar', 'NN', 'O'), ('contract', 'NN', 'O'), ('with', 'IN', 'O'), ('the', 'DT', 'O'), ('Halliburton', 'NNP', 'B-org'), ('company', 'NN', 'O'), ('to', 'TO', 'O'), ('provide', 'VB', 'O'), ('logistical', 'JJ', 'O'), ('support', 'NN', 'O'), ('to', 'IN', 'O'), ('U.S.', 'NNP', 'B-gpe'), ('troops', 'NNS', 'O'), ('in', 'IN', 'O'), ('Iraq', 'NNP', 'B-geo'), ('and', 'CC', 'O'), ('elsewhere', 'RB', 'O'), ('.', '.', 'O')], [('Halliburton', 'NNP', 'B-org'), ('has', 'VBZ', 'O'), ('been', 'VBN', 'O'), ('providing', 'VBG', 'O'), ('a', 'DT', 'O'), ('long', 'JJ', 'O'), ('list', 'NN', 'O'), ('of', 'IN', 'O'), ('services', 'NNS', 'O'), (',', ',', 'O'), ('from', 'IN', 'O'), ('meals', 'NNS', 'O'), ('to', 'TO', 'O'), ('communication', 'NN', 'O'), (',', ',', 'O'), ('for', 'IN', 'O'), ('the', 'DT', 'O'), ('military', 'NN', 'O'), ('for', 'IN', 'O'), ('several', 'JJ', 'O'), ('years', 'NNS', 'O'), ('.', '.', 'O')], [('Critics', 'NNS', 'O'), ('of', 'IN', 'O'), ('Halliburton', 'NNP', 'B-org'), ('include', 'VBP', 'O'), ('auditors', 'NNS', 'O'), ('and', 'CC', 'O'), ('congressional', 'JJ', 'O'), ('Democrats', 'NNS', 'O'), ('.', '.', 'O')], [('They', 'PRP', 'O'), ('say', 'VBP', 'O'), ('the', 'DT', 'O'), ('company', 'NN', 'O'), ('has', 'VBZ', 'O'), ('produced', 'VBN', 'O'), ('some', 'DT', 'O'), ('shoddy', 'JJ', 'O'), ('work', 'NN', 'O'), ('and', 'CC', 'O'), ('charges', 'VBZ', 'O'), ('too', 'RB', 'O'), ('much', 'JJ', 'O'), ('money', 'NN', 'O'), ('.', '.', 'O')], [('The', 'DT', 'O'), ('company', 'NN', 'O'), ('strongly', 'RB', 'O'), ('denies', 'VBZ', 'O'), ('the', 'DT', 'O'), ('allegations', 'NNS', 'O'), ('.', '.', 'O')], [('When', 'WRB', 'O'), ('the', 'DT', 'O'), ('huge', 'JJ', 'O'), ('contract', 'NN', 'O'), ('is', 'VBZ', 'O'), ('put', 'VBN', 'O'), ('out', 'RP', 'O'), ('for', 'IN', 'O'), ('re-bidding', 'NN', 'O'), (',', ',', 'O'), ('several', 'JJ', 'O'), ('companies', 'NNS', 'O'), ('will', 'MD', 'O'), ('get', 'VB', 'O'), ('a', 'DT', 'O'), ('chance', 'NN', 'O'), ('to', 'TO', 'O'), ('compete', 'VB', 'O'), ('for', 'IN', 'O'), ('portions', 'NNS', 'O'), ('of', 'IN', 'O'), ('the', 'DT', 'O'), ('work', 'NN', 'O'), ('.', '.', 'O')], [('Representatives', 'NNS', 'O'), ('from', 'IN', 'O'), ('the', 'DT', 'O'), ('Asia', 'NNP', 'B-org'), ('Pacific', 'NNP', 'I-org'), ('Economic', 'NNP', 'I-org'), ('Cooperation', 'NNP', 'I-org'), ('Business', 'NNP', 'I-org'), ('Advisory', 'NNP', 'I-org'), ('Council', 'NNP', 'I-org'), ('are', 'VBP', 'O'), ('holding', 'VBG', 'O'), ('meetings', 'NNS', 'O'), ('this', 'DT', 'O'), ('week', 'NN', 'O'), ('to', 'TO', 'O'), ('finalize', 'VB', 'O'), ('their', 'PRP$', 'O'), ('annual', 'JJ', 'O'), ('report', 'NN', 'O'), ('for', 'IN', 'O'), ('APEC', 'NNP', 'B-org'), ('leaders', 'NNS', 'O'), ('who', 'WP', 'O'), ('will', 'MD', 'O'), ('hold', 'VB', 'O'), ('a', 'DT', 'O'), ('summit', 'NN', 'O'), ('on', 'IN', 'O'), ('September', 'NNP', 'B-tim'), ('8', 'CD', 'I-tim'), ('and', 'CC', 'O'), ('9', 'CD', 'B-tim'), ('.', '.', 'O')], [('VOA', 'NNP', 'B-org'), (\"'s\", 'POS', 'O'), ('Nancy-Amelia', 'NNP', 'B-per'), ('Collins', 'NNP', 'I-per'), ('reports', 'VBZ', 'O'), ('from', 'IN', 'O'), ('Sydney', 'NNP', 'B-geo'), ('.', '.', 'O')], [('Energy', 'NN', 'O'), (',', ',', 'O'), ('security', 'NN', 'O'), (',', ',', 'O'), ('climate', 'NN', 'O'), ('change', 'NN', 'O'), (',', ',', 'O'), ('the', 'DT', 'O'), ('World', 'NNP', 'B-org'), ('Trade', 'NNP', 'I-org'), ('Organization', 'NNP', 'I-org'), (\"'s\", 'POS', 'O'), ('stalled', 'VBN', 'O'), ('negotiations', 'NNS', 'O'), (',', ',', 'O'), ('and', 'CC', 'O'), ('investment', 'NN', 'O'), ('are', 'VBP', 'O'), ('all', 'DT', 'O'), ('expected', 'VBN', 'O'), ('to', 'TO', 'O'), ('be', 'VB', 'O'), ('among', 'IN', 'O'), ('the', 'DT', 'O'), ('major', 'JJ', 'O'), ('topics', 'NNS', 'O'), ('in', 'IN', 'O'), ('the', 'DT', 'O'), ('annual', 'JJ', 'O'), ('report', 'NN', 'O'), ('of', 'IN', 'O'), ('the', 'DT', 'O'), ('APEC', 'NNP', 'B-org'), ('Business', 'NNP', 'I-org'), ('Advisory', 'NNP', 'I-org'), ('Council', 'NNP', 'I-org'), (',', ',', 'O'), ('known', 'VBN', 'O'), ('as', 'IN', 'O'), ('ABAC', 'NNP', 'B-org'), ('.', '.', 'O')], [('Tim', 'NNP', 'B-per'), ('Harcourt', 'NNP', 'I-per'), (',', ',', 'O'), ('the', 'DT', 'O'), ('chief', 'JJ', 'O'), ('economist', 'NN', 'O'), ('of', 'IN', 'O'), ('the', 'DT', 'O'), ('Australian', 'NNP', 'B-org'), ('Trade', 'NNP', 'I-org'), ('Commission', 'NNP', 'I-org'), (',', ',', 'O'), ('says', 'VBZ', 'O'), ('ABAC', 'NNP', 'B-org'), ('plays', 'VBZ', 'O'), ('an', 'DT', 'O'), ('important', 'JJ', 'O'), ('role', 'NN', 'O'), ('by', 'IN', 'O'), ('informing', 'VBG', 'O'), ('governments', 'NNS', 'O'), ('where', 'WRB', 'O'), ('there', 'EX', 'O'), ('are', 'VBP', 'O'), ('problems', 'NNS', 'O'), ('.', '.', 'O')], [('\"', '``', 'O'), ('The', 'DT', 'O'), ('most', 'RBS', 'O'), ('important', 'JJ', 'O'), ('thing', 'NN', 'O'), ('the', 'DT', 'O'), ('business', 'NN', 'O'), ('groups', 'NNS', 'O'), ('can', 'MD', 'O'), ('do', 'VB', 'O'), ('is', 'VBZ', 'O'), ('to', 'TO', 'O'), ('tell', 'VB', 'O'), ('the', 'DT', 'O'), ('governments', 'NNS', 'O'), ('where', 'WRB', 'O'), ('there', 'EX', 'O'), ('are', 'VBP', 'O'), ('logjams', 'NNS', 'O'), (',', ',', 'O'), ('where', 'WRB', 'O'), ('there', 'EX', 'O'), ('are', 'VBP', 'O'), ('obstacles', 'NNS', 'O'), (',', ',', 'O'), ('where', 'WRB', 'O'), ('things', 'NNS', 'O'), ('can', 'MD', 'O'), ('improve', 'VB', 'O'), (',', ',', 'O'), ('\"', '``', 'O'), ('Harcourt', 'NNP', 'B-per'), ('said', 'VBD', 'O'), ('.', '.', 'O')], [('\"', '``', 'O'), ('I', 'PRP', 'O'), ('think', 'VBP', 'O'), ('actually', 'RB', 'O'), ('ABAC', 'NNP', 'B-org'), ('has', 'VBZ', 'O'), ('played', 'VBN', 'O'), ('a', 'DT', 'O'), ('pretty', 'RB', 'O'), ('good', 'JJ', 'O'), ('leadership', 'NN', 'O'), ('on', 'IN', 'O'), ('that', 'DT', 'O'), ('in', 'IN', 'O'), ('talking', 'VBG', 'O'), ('about', 'IN', 'O'), ('trade', 'NN', 'O'), ('facilitation', 'NN', 'O'), ('and', 'CC', 'O'), ('basically', 'RB', 'O'), ('making', 'VBG', 'O'), ('sure', 'JJ', 'O'), ('standards', 'NNS', 'O'), ('are', 'VBP', 'O'), ('consistent', 'JJ', 'O'), ('and', 'CC', 'O'), ('harmonious', 'JJ', 'O'), ('across', 'IN', 'O'), ('the', 'DT', 'O'), ('region', 'NN', 'O'), ('.', '.', 'O'), ('\"', '``', 'O')], [('ABAC', 'NNP', 'B-org'), ('comprises', 'VBZ', 'O'), ('up', 'RP', 'O'), ('to', 'TO', 'O'), ('three', 'CD', 'O'), ('members', 'NNS', 'O'), ('of', 'IN', 'O'), ('the', 'DT', 'O'), ('private', 'JJ', 'O'), ('sector', 'NN', 'O'), ('of', 'IN', 'O'), ('each', 'DT', 'O'), ('of', 'IN', 'O'), ('the', 'DT', 'O'), ('21', 'CD', 'O'), ('economies', 'NNS', 'O'), ('that', 'WDT', 'O'), ('make', 'VBP', 'O'), ('up', 'RP', 'O'), ('APEC', 'NNP', 'B-org'), ('.', '.', 'O')], [('It', 'PRP', 'O'), ('meets', 'VBZ', 'O'), ('three', 'CD', 'O'), ('times', 'NNS', 'O'), ('a', 'DT', 'O'), ('year', 'NN', 'O'), ('.', '.', 'O')], [('It', 'PRP', 'O'), ('was', 'VBD', 'O'), ('made', 'VBN', 'O'), ('a', 'DT', 'O'), ('permanent', 'JJ', 'O'), ('body', 'NN', 'O'), ('in', 'IN', 'O'), ('1995', 'CD', 'B-tim'), ('to', 'TO', 'O'), ('provide', 'VB', 'O'), ('an', 'DT', 'O'), ('independent', 'JJ', 'O'), ('business', 'NN', 'O'), ('perspective', 'NN', 'O'), ('within', 'IN', 'O'), ('APEC', 'NNP', 'B-org'), ('.', '.', 'O')], [('Members', 'NNS', 'O'), ('represent', 'VBP', 'O'), ('a', 'DT', 'O'), ('range', 'NN', 'O'), ('of', 'IN', 'O'), ('business', 'NN', 'O'), ('sectors', 'NNS', 'O'), (',', ',', 'O'), ('including', 'VBG', 'O'), ('medium', 'JJ', 'O'), ('and', 'CC', 'O'), ('small', 'JJ', 'O'), ('businesses', 'NNS', 'O'), ('.', '.', 'O')], [('ABAC', 'NNP', 'B-org'), ('says', 'VBZ', 'O'), ('there', 'EX', 'O'), ('is', 'VBZ', 'O'), ('a', 'DT', 'O'), ('need', 'NN', 'O'), ('for', 'IN', 'O'), ('businesses', 'NNS', 'O'), ('to', 'TO', 'O'), ('improve', 'VB', 'O'), ('energy', 'NN', 'O'), ('efficiency', 'NN', 'O'), ('and', 'CC', 'O'), ('to', 'TO', 'O'), ('encourage', 'VB', 'O'), ('conservation', 'NN', 'O'), ('practices', 'NNS', 'O'), (',', ',', 'O'), ('and', 'CC', 'O'), ('is', 'VBZ', 'O'), ('expected', 'VBN', 'O'), ('to', 'TO', 'O'), ('include', 'VB', 'O'), ('this', 'DT', 'O'), ('in', 'IN', 'O'), ('its', 'PRP$', 'O'), ('annual', 'JJ', 'O'), ('report', 'NN', 'O'), ('.', '.', 'O')], [('Harcourt', 'NNP', 'B-per'), (',', ',', 'O'), ('of', 'IN', 'O'), ('the', 'DT', 'O'), ('Australian', 'NNP', 'B-org'), ('Trade', 'NNP', 'I-org'), ('Commission', 'NNP', 'I-org'), (',', ',', 'O'), ('says', 'VBZ', 'O'), ('the', 'DT', 'O'), ('ABAC', 'NNP', 'B-org'), ('report', 'NN', 'O'), ('will', 'MD', 'O'), ('also', 'RB', 'O'), ('discuss', 'VB', 'O'), ('ways', 'NNS', 'O'), ('to', 'TO', 'O'), ('enhance', 'VB', 'O'), ('regional', 'JJ', 'O'), ('cooperation', 'NN', 'O'), ('.', '.', 'O')], [('\"', '``', 'O'), ('I', 'PRP', 'O'), ('reckon', 'VBP', 'O'), ('they', 'PRP', 'O'), (\"'ll\", 'MD', 'O'), ('talk', 'VB', 'O'), ('a', 'DT', 'O'), ('little', 'JJ', 'O'), ('bit', 'NN', 'O'), ('about', 'IN', 'O'), ('customs', 'NNS', 'O'), ('and', 'CC', 'O'), ('quarantine', 'NN', 'O'), (',', ',', 'O'), ('a', 'DT', 'O'), ('little', 'JJ', 'O'), ('bit', 'NN', 'O'), ('about', 'IN', 'O'), ('having', 'VBG', 'O'), ('consistent', 'JJ', 'O'), ('security', 'NN', 'O'), ('arrangements', 'NNS', 'O'), ('around', 'IN', 'O'), ('the', 'DT', 'O'), ('region', 'NN', 'O'), (',', ',', 'O'), ('\"', '``', 'O'), ('Harcourt', 'NNP', 'B-per'), ('said', 'VBD', 'O'), ('.', '.', 'O')], [('\"', '``', 'O'), ('And', 'CC', 'O'), ('I', 'PRP', 'O'), ('think', 'VBP', 'O'), ('they', 'PRP', 'O'), (\"'ll\", 'MD', 'O'), ('want', 'VB', 'O'), ('a', 'DT', 'O'), ('one-stop', 'JJ', 'O'), ('shop', 'NN', 'O'), ('in', 'IN', 'O'), ('terms', 'NNS', 'O'), ('of', 'IN', 'O'), ('combining', 'VBG', 'O'), ('security', 'NN', 'O'), (',', ',', 'O'), ('immigration', 'NN', 'O'), (',', ',', 'O'), ('customs', 'NNS', 'O'), (',', ',', 'O'), ('and', 'CC', 'O'), ('quarantine', 'VB', 'O'), ('together', 'RB', 'O'), ('\\x85', ',', 'O'), ('just', 'RB', 'O'), ('to', 'TO', 'O'), ('make', 'VB', 'O'), ('sure', 'JJ', 'O'), ('it', 'PRP', 'O'), (\"'s\", 'VBZ', 'O'), ('more', 'JJR', 'O'), ('streamlined', 'JJ', 'O'), ('and', 'CC', 'O'), ('provides', 'VBZ', 'O'), ('more', 'JJR', 'O'), ('certainty', 'NN', 'O'), ('.', '.', 'O'), ('\"', '``', 'O')], [('ABAC', 'NNP', 'B-org'), ('is', 'VBZ', 'O'), ('the', 'DT', 'O'), ('only', 'JJ', 'O'), ('non-governmental', 'JJ', 'O'), ('body', 'NN', 'O'), ('that', 'WDT', 'O'), ('has', 'VBZ', 'O'), ('an', 'DT', 'O'), ('official', 'JJ', 'O'), ('role', 'NN', 'O'), ('and', 'CC', 'O'), ('formal', 'JJ', 'O'), ('dialogue', 'NN', 'O'), ('with', 'IN', 'O'), ('the', 'DT', 'O'), ('leaders', 'NNS', 'O'), ('of', 'IN', 'O'), ('the', 'DT', 'O'), ('APEC', 'NNP', 'B-org'), ('economies', 'NNS', 'O'), ('.', '.', 'O')], [('It', 'PRP', 'O'), ('will', 'MD', 'O'), ('present', 'VB', 'O'), ('its', 'PRP$', 'O'), ('annual', 'JJ', 'O'), ('report', 'NN', 'O'), ('at', 'IN', 'O'), ('the', 'DT', 'O'), ('APEC', 'NNP', 'B-org'), ('leaders', 'NNS', 'O'), ('meeting', 'NN', 'O'), ('on', 'IN', 'O'), ('Saturday', 'NNP', 'B-tim'), ('.', '.', 'O')], [('Sudan', 'NNP', 'B-gpe'), (\"'s\", 'POS', 'O'), ('government', 'NN', 'O'), ('says', 'VBZ', 'O'), ('it', 'PRP', 'O'), ('will', 'MD', 'O'), ('order', 'VB', 'O'), ('troops', 'NNS', 'O'), ('to', 'TO', 'O'), ('end', 'VB', 'O'), ('attacks', 'NNS', 'O'), ('immediately', 'RB', 'O'), ('in', 'IN', 'O'), ('Darfur', 'NNP', 'B-geo'), (',', ',', 'O'), ('and', 'CC', 'O'), ('is', 'VBZ', 'O'), ('asking', 'VBG', 'O'), ('rebels', 'NNS', 'O'), ('to', 'TO', 'O'), ('do', 'VB', 'O'), ('the', 'DT', 'O'), ('same', 'NN', 'O'), ('.', '.', 'O')], [('Foreign', 'NNP', 'B-per'), ('Minister', 'NNP', 'I-per'), ('Mustafa', 'NNP', 'I-per'), ('Osman', 'NNP', 'I-per'), ('Ismail', 'NNP', 'I-per'), ('says', 'VBZ', 'O'), ('Sudanese', 'JJ', 'B-gpe'), ('troops', 'NNS', 'O'), ('will', 'MD', 'O'), ('also', 'RB', 'O'), ('withdraw', 'VB', 'O'), ('to', 'TO', 'O'), ('positions', 'NNS', 'O'), ('held', 'VBN', 'O'), ('before', 'IN', 'O'), ('an', 'DT', 'O'), ('April', 'NNP', 'B-tim'), ('cease-fire', 'NN', 'O'), (',', ',', 'O'), ('if', 'IN', 'O'), ('rebels', 'NNS', 'O'), ('in', 'IN', 'O'), ('the', 'DT', 'O'), ('western', 'JJ', 'O'), ('region', 'NN', 'O'), ('agree', 'VBP', 'O'), ('to', 'TO', 'O'), ('stop', 'VB', 'O'), ('attacks', 'NNS', 'O'), ('.', '.', 'O')], [('Mr.', 'NNP', 'B-per'), ('Ismail', 'NNP', 'I-per'), ('announced', 'VBD', 'O'), ('the', 'DT', 'O'), ('decision', 'NN', 'O'), ('after', 'IN', 'O'), ('meeting', 'VBG', 'O'), ('with', 'IN', 'O'), ('officials', 'NNS', 'O'), ('from', 'IN', 'O'), ('the', 'DT', 'O'), ('United', 'NNP', 'B-org'), ('Nations', 'NNPS', 'I-org'), ('and', 'CC', 'O'), ('African', 'NNP', 'B-org'), ('Union', 'NNP', 'I-org'), ('in', 'IN', 'O'), ('Khartoum', 'NNP', 'B-geo'), ('Sunday', 'NNP', 'B-tim'), ('.', '.', 'O')], [('In', 'IN', 'O'), ('recent', 'JJ', 'O'), ('weeks', 'NNS', 'O'), (',', ',', 'O'), ('AU', 'NNP', 'B-org'), ('officials', 'NNS', 'O'), ('say', 'VBP', 'O'), ('Sudanese', 'JJ', 'B-gpe'), ('troops', 'NNS', 'O'), ('and', 'CC', 'O'), ('rebels', 'NNS', 'O'), ('have', 'VBP', 'O'), ('repeatedly', 'RB', 'O'), ('violated', 'VBN', 'O'), ('the', 'DT', 'O'), ('April', 'NNP', 'B-tim'), ('truce', 'NN', 'O'), ('.', '.', 'O')], [('Saturday', 'NNP', 'B-tim'), (',', ',', 'O'), ('the', 'DT', 'O'), ('head', 'NN', 'O'), ('of', 'IN', 'O'), ('AU', 'NNP', 'B-org'), ('forces', 'NNS', 'O'), ('in', 'IN', 'O'), ('Darfur', 'NNP', 'B-geo'), ('accused', 'VBD', 'O'), ('Sudanese', 'JJ', 'B-gpe'), ('government', 'NN', 'O'), ('helicopters', 'NNS', 'O'), ('of', 'IN', 'O'), ('bombing', 'VBG', 'O'), ('rebel', 'NN', 'O'), ('sites', 'NNS', 'O'), ('in', 'IN', 'O'), ('the', 'DT', 'O'), ('South', 'NNP', 'B-geo'), ('Darfur', 'NNP', 'I-geo'), ('village', 'NN', 'O'), ('of', 'IN', 'O'), ('Labado', 'NNP', 'B-geo'), ('.', '.', 'O')], [('Khartoum', 'NNP', 'B-gpe'), ('says', 'VBZ', 'O'), ('troops', 'NNS', 'O'), ('were', 'VBD', 'O'), ('defending', 'VBG', 'O'), ('their', 'PRP$', 'O'), ('positions', 'NNS', 'O'), ('from', 'IN', 'O'), ('rebel', 'NN', 'O'), ('attacks', 'NNS', 'O'), ('.', '.', 'O')], [('Aid', 'NN', 'O'), ('workers', 'NNS', 'O'), ('say', 'VBP', 'O'), ('some', 'DT', 'O'), ('relief', 'NN', 'O'), ('efforts', 'NNS', 'O'), ('have', 'VBP', 'O'), ('been', 'VBN', 'O'), ('suspended', 'VBN', 'O'), ('in', 'IN', 'O'), ('South', 'NNP', 'B-geo'), ('Darfur', 'NNP', 'I-geo'), ('due', 'JJ', 'O'), ('to', 'TO', 'O'), ('recent', 'JJ', 'O'), ('attacks', 'NNS', 'O'), ('.', '.', 'O')], [('Indonesian', 'JJ', 'B-gpe'), ('police', 'NNS', 'O'), ('have', 'VBP', 'O'), ('arrested', 'VBN', 'O'), ('three', 'CD', 'O'), ('men', 'NNS', 'O'), ('in', 'IN', 'O'), ('connection', 'NN', 'O'), ('with', 'IN', 'O'), ('the', 'DT', 'O'), ('October', 'NNP', 'B-tim'), ('1', 'CD', 'I-tim'), ('Bali', 'NNP', 'B-geo'), ('bombings', 'NNS', 'O'), ('that', 'WDT', 'O'), ('left', 'VBD', 'O'), ('23', 'CD', 'O'), ('people', 'NNS', 'O'), ('dead', 'JJ', 'O'), ('.', '.', 'O')], [('Indonesian', 'JJ', 'B-gpe'), ('police', 'NN', 'O'), ('said', 'VBD', 'O'), ('Wednesday', 'NNP', 'B-tim'), ('the', 'DT', 'O'), ('men', 'NNS', 'O'), ('were', 'VBD', 'O'), ('flown', 'VBN', 'O'), ('to', 'TO', 'O'), ('Bali', 'NNP', 'B-geo'), ('from', 'IN', 'O'), ('neighboring', 'VBG', 'O'), ('Java', 'NNP', 'B-geo'), ('island', 'NN', 'O'), ('for', 'IN', 'O'), ('questioning', 'VBG', 'O'), ('at', 'IN', 'O'), ('Bali', 'NNP', 'B-geo'), ('police', 'NN', 'O'), ('headquarters', 'NN', 'O'), ('.', '.', 'O')], [('Australian', 'JJ', 'B-gpe'), ('and', 'CC', 'O'), ('French', 'JJ', 'B-gpe'), ('news', 'NN', 'O'), ('agencies', 'NNS', 'O'), ('say', 'VBP', 'O'), ('at', 'IN', 'O'), ('least', 'JJS', 'O'), ('one', 'CD', 'O'), ('of', 'IN', 'O'), ('the', 'DT', 'O'), ('men', 'NNS', 'O'), ('arrested', 'VBN', 'O'), ('(', 'LRB', 'O'), ('Cholily', 'NNP', 'B-per'), (')', 'RRB', 'O'), ('was', 'VBD', 'O'), ('captured', 'VBN', 'O'), ('during', 'IN', 'O'), ('a', 'DT', 'O'), ('series', 'NN', 'O'), ('of', 'IN', 'O'), ('counter-terrorism', 'NN', 'O'), ('raids', 'NNS', 'O'), ('last', 'JJ', 'O'), ('week', 'NN', 'O'), ('in', 'IN', 'O'), ('Indonesia', 'NNP', 'B-geo'), ('.', '.', 'O')], [('The', 'DT', 'O'), ('raids', 'NNS', 'O'), ('ended', 'VBD', 'O'), ('with', 'IN', 'O'), ('the', 'DT', 'O'), ('death', 'NN', 'O'), ('of', 'IN', 'O'), ('alleged', 'JJ', 'O'), ('extremist', 'NN', 'O'), ('bombmaker', 'NN', 'O'), ('Azahari', 'NNP', 'B-per'), ('bin', 'NNP', 'I-per'), ('Husin', 'NNP', 'I-per'), ('.', '.', 'O')], [('Indonesian', 'JJ', 'B-gpe'), ('authorities', 'NNS', 'O'), ('blame', 'VBP', 'O'), ('Azahari', 'NNP', 'B-per'), ('bin', 'NNP', 'I-per'), ('Husin', 'NNP', 'I-per'), ('for', 'IN', 'O'), ('orchestrating', 'VBG', 'O'), ('last', 'JJ', 'O'), ('month', 'NN', 'O'), (\"'s\", 'POS', 'O'), ('attacks', 'NNS', 'O'), ('in', 'IN', 'O'), ('Bali', 'NNP', 'B-geo'), ('as', 'RB', 'O'), ('well', 'RB', 'O'), ('as', 'IN', 'O'), ('the', 'DT', 'O'), ('2002', 'CD', 'B-tim'), ('Bali', 'NNP', 'B-geo'), ('bombings', 'NNS', 'O'), ('that', 'WDT', 'O'), ('killed', 'VBD', 'O'), ('more', 'JJR', 'O'), ('than', 'IN', 'O'), ('200', 'CD', 'O'), ('people', 'NNS', 'O'), ('.', '.', 'O')], [('Gunmen', 'NNS', 'O'), ('have', 'VBP', 'O'), ('shot', 'VBN', 'O'), ('and', 'CC', 'O'), ('killed', 'VBN', 'O'), ('a', 'DT', 'O'), ('Roman', 'NNP', 'B-org'), ('Catholic', 'NNP', 'I-org'), ('nun', 'NN', 'O'), ('and', 'CC', 'O'), ('her', 'PRP$', 'O'), ('bodyguard', 'NN', 'O'), ('at', 'IN', 'O'), ('the', 'DT', 'O'), ('hospital', 'NN', 'O'), ('where', 'WRB', 'O'), ('she', 'PRP', 'O'), ('worked', 'VBD', 'O'), ('in', 'IN', 'O'), ('Islamist-controlled', 'JJ', 'O'), ('Mogadishu', 'NNP', 'B-geo'), (',', ',', 'O'), ('Somalia', 'NNP', 'B-geo'), ('.', '.', 'O')], [('Some', 'DT', 'O'), ('witnesses', 'NNS', 'O'), ('to', 'TO', 'O'), ('the', 'DT', 'O'), ('Sunday', 'NNP', 'B-tim'), ('shooting', 'NN', 'O'), ('said', 'VBD', 'O'), ('they', 'PRP', 'O'), ('feared', 'VBD', 'O'), ('the', 'DT', 'O'), ('attack', 'NN', 'O'), ('was', 'VBD', 'O'), ('linked', 'VBN', 'O'), ('to', 'IN', 'O'), ('Muslim', 'NN', 'O'), ('anger', 'NN', 'O'), ('toward', 'IN', 'O'), ('Pope', 'NNP', 'B-per'), ('Benedict', 'NNP', 'I-per'), ('.', '.', 'O')], [('Two', 'CD', 'O'), ('men', 'NNS', 'O'), ('with', 'IN', 'O'), ('pistols', 'NNS', 'O'), ('attacked', 'VBD', 'O'), ('the', 'DT', 'O'), ('nun', 'NN', 'O'), (',', ',', 'O'), ('Sister', 'NNP', 'B-per'), ('Leonella', 'NNP', 'I-per'), ('Sgorbati', 'NNP', 'I-per'), (',', ',', 'O'), ('after', 'IN', 'O'), ('she', 'PRP', 'O'), ('finished', 'VBD', 'O'), ('teaching', 'VBG', 'O'), ('a', 'DT', 'O'), ('medical', 'JJ', 'O'), ('school', 'NN', 'O'), ('class', 'NN', 'O'), ('at', 'IN', 'O'), ('the', 'DT', 'O'), ('hospital', 'NN', 'O'), ('in', 'IN', 'O'), ('southern', 'JJ', 'O'), ('Mogadishu', 'NNP', 'B-geo'), ('.', '.', 'O')], [('Officials', 'NNS', 'O'), ('say', 'VBP', 'O'), ('one', 'CD', 'O'), ('suspect', 'NN', 'O'), ('was', 'VBD', 'O'), ('arrested', 'VBN', 'O'), ('.', '.', 'O')], [('In', 'IN', 'O'), ('Rome', 'NNP', 'B-geo'), (',', ',', 'O'), ('a', 'DT', 'O'), ('Vatican', 'NNP', 'B-org'), ('spokesman', 'NN', 'O'), ('deplored', 'VBD', 'O'), ('the', 'DT', 'O'), ('attack', 'NN', 'O'), ('and', 'CC', 'O'), ('said', 'VBD', 'O'), ('he', 'PRP', 'O'), ('hoped', 'VBD', 'O'), ('it', 'PRP', 'O'), ('was', 'VBD', 'O'), ('an', 'DT', 'O'), ('isolated', 'JJ', 'O'), ('event', 'NN', 'O'), (',', ',', 'O'), ('and', 'CC', 'O'), ('not', 'RB', 'O'), ('irrationality', 'JJ', 'O'), ('arising', 'VBG', 'O'), ('from', 'IN', 'O'), ('comments', 'NNS', 'O'), ('made', 'VBN', 'O'), ('by', 'IN', 'O'), ('the', 'DT', 'O'), ('Pope', 'NN', 'O'), ('which', 'WDT', 'O'), ('angered', 'VBD', 'O'), ('some', 'DT', 'O'), ('Muslims', 'NNS', 'O'), ('.', '.', 'O')], [('Authorities', 'NNS', 'O'), ('in', 'IN', 'O'), ('Mogadishu', 'NNP', 'B-geo'), ('have', 'VBP', 'O'), ('not', 'RB', 'O'), ('determined', 'VBN', 'O'), ('a', 'DT', 'O'), ('motive', 'NN', 'O'), ('for', 'IN', 'O'), ('the', 'DT', 'O'), ('shooting', 'NN', 'O'), ('.', '.', 'O')], [('The', 'DT', 'O'), ('pope', 'NN', 'O'), ('has', 'VBZ', 'O'), ('said', 'VBN', 'O'), ('he', 'PRP', 'O'), ('meant', 'VBD', 'O'), ('no', 'DT', 'O'), ('offense', 'NN', 'O'), ('to', 'TO', 'O'), ('Muslims', 'NNPS', 'O'), ('when', 'WRB', 'O'), ('he', 'PRP', 'O'), ('quoted', 'VBD', 'O'), ('a', 'DT', 'O'), ('14', 'CD', 'O'), ('century', 'NN', 'O'), ('Byzantine', 'NNP', 'B-per'), ('emperor', 'NN', 'O'), ('as', 'IN', 'O'), ('saying', 'VBG', 'O'), ('some', 'DT', 'O'), ('teachings', 'NNS', 'O'), ('of', 'IN', 'O'), ('the', 'DT', 'O'), ('Prophet', 'NNP', 'B-per'), ('Muhammed', 'NNP', 'I-per'), ('brought', 'VBD', 'O'), ('evil', 'NN', 'O'), ('to', 'TO', 'O'), ('the', 'DT', 'O'), ('world', 'NN', 'O'), ('.', '.', 'O')], [('Pakistani', 'JJ', 'B-gpe'), ('forces', 'NNS', 'O'), ('have', 'VBP', 'O'), ('targeted', 'VBN', 'O'), ('militants', 'NNS', 'O'), ('in', 'IN', 'O'), ('the', 'DT', 'O'), ('northwest', 'NN', 'O'), ('for', 'IN', 'O'), ('a', 'DT', 'O'), ('third', 'JJ', 'O'), ('day', 'NN', 'O'), (',', ',', 'O'), ('launching', 'VBG', 'O'), ('airstrikes', 'NNS', 'O'), ('that', 'IN', 'O'), ('they', 'PRP', 'O'), ('say', 'VBP', 'O'), ('killed', 'VBN', 'O'), ('at', 'IN', 'O'), ('least', 'JJS', 'O'), ('nine', 'CD', 'O'), ('suspected', 'JJ', 'O'), ('insurgents', 'NNS', 'O'), ('.', '.', 'O')], [('Helicopter', 'NN', 'O'), ('gunships', 'NNS', 'O'), ('Saturday', 'NNP', 'B-tim'), ('pounded', 'VBD', 'O'), ('militant', 'JJ', 'O'), ('hideouts', 'NNS', 'O'), ('in', 'IN', 'O'), ('the', 'DT', 'O'), ('Orakzai', 'NNP', 'B-geo'), ('tribal', 'JJ', 'O'), ('region', 'NN', 'O'), (',', ',', 'O'), ('where', 'WRB', 'O'), ('many', 'JJ', 'O'), ('Taliban', 'NNP', 'B-org'), ('militants', 'NNS', 'O'), ('are', 'VBP', 'O'), ('believed', 'VBN', 'O'), ('to', 'TO', 'O'), ('have', 'VB', 'O'), ('fled', 'VBN', 'O'), ('to', 'TO', 'O'), ('avoid', 'VB', 'O'), ('an', 'DT', 'O'), ('earlier', 'JJR', 'O'), ('military', 'JJ', 'O'), ('offensive', 'NN', 'O'), ('in', 'IN', 'O'), ('nearby', 'JJ', 'O'), ('South', 'NNP', 'B-geo'), ('Waziristan', 'NNP', 'I-geo'), ('.', '.', 'O')], [('The', 'DT', 'O'), ('Pakistani', 'JJ', 'B-gpe'), ('military', 'NN', 'O'), ('launched', 'VBD', 'O'), ('its', 'PRP$', 'O'), ('offensive', 'NN', 'O'), ('in', 'IN', 'O'), ('Orakzai', 'NNP', 'B-geo'), ('to', 'TO', 'O'), ('hunt', 'VB', 'O'), ('Taliban', 'NNP', 'B-org'), ('insurgents', 'NNS', 'O'), ('.', '.', 'O')], [('So', 'RB', 'O'), ('far', 'RB', 'O'), (',', ',', 'O'), ('nearly', 'RB', 'O'), ('100', 'CD', 'O'), ('militants', 'NNS', 'O'), ('have', 'VBP', 'O'), ('been', 'VBN', 'O'), ('reported', 'VBN', 'O'), ('killed', 'VBN', 'O'), ('in', 'IN', 'O'), ('the', 'DT', 'O'), ('region', 'NN', 'O'), ('since', 'IN', 'O'), ('Thursday', 'NNP', 'B-tim'), ('.', '.', 'O')], [('On', 'IN', 'O'), ('Friday', 'NNP', 'B-tim'), (',', ',', 'O'), ('five', 'CD', 'O'), ('soldiers', 'NNS', 'O'), ('were', 'VBD', 'O'), ('killed', 'VBN', 'O'), ('when', 'WRB', 'O'), ('dozens', 'NNS', 'O'), ('of', 'IN', 'O'), ('militants', 'NNS', 'O'), ('stormed', 'VBD', 'O'), ('a', 'DT', 'O'), ('military', 'JJ', 'O'), ('checkpoint', 'NN', 'O'), ('in', 'IN', 'O'), ('Orakzai', 'NNP', 'B-geo'), ('.', '.', 'O')], [('At', 'IN', 'O'), ('least', 'JJS', 'O'), ('32', 'CD', 'O'), ('suspected', 'JJ', 'O'), ('militants', 'NNS', 'O'), ('were', 'VBD', 'O'), ('killed', 'VBN', 'O'), ('when', 'WRB', 'O'), ('troops', 'NNS', 'O'), ('launched', 'VBD', 'O'), ('a', 'DT', 'O'), ('counter-attack', 'NN', 'O'), ('.', '.', 'O')], [('Elsewhere', 'RB', 'O'), ('in', 'IN', 'O'), ('the', 'DT', 'O'), ('northwest', 'JJS', 'O'), (',', ',', 'O'), ('authorities', 'NNS', 'O'), ('on', 'IN', 'O'), ('Saturday', 'NNP', 'B-tim'), ('found', 'VBD', 'O'), ('the', 'DT', 'O'), ('bodies', 'NNS', 'O'), ('of', 'IN', 'O'), ('six', 'CD', 'O'), ('people', 'NNS', 'O'), ('who', 'WP', 'O'), ('had', 'VBD', 'O'), ('been', 'VBN', 'O'), ('shot', 'VBN', 'O'), ('dead', 'RB', 'O'), ('in', 'IN', 'O'), ('the', 'DT', 'O'), ('Kurram', 'NNP', 'B-geo'), ('region', 'NN', 'O'), ('along', 'IN', 'O'), ('the', 'DT', 'O'), ('Afghan', 'JJ', 'B-gpe'), ('border', 'NN', 'O'), ('.', '.', 'O')], [('The', 'DT', 'O'), ('six', 'CD', 'O'), ('were', 'VBD', 'O'), ('kidnapped', 'VBN', 'O'), ('a', 'DT', 'O'), ('few', 'JJ', 'O'), ('days', 'NNS', 'O'), ('ago', 'RB', 'O'), ('.', '.', 'O')], [('The', 'DT', 'O'), ('U.S.', 'NNP', 'B-org'), ('military', 'NN', 'O'), ('in', 'IN', 'O'), ('Afghanistan', 'NNP', 'B-geo'), ('says', 'VBZ', 'O'), ('coalition', 'NN', 'O'), ('forces', 'NNS', 'O'), ('killed', 'VBD', 'O'), ('14', 'CD', 'O'), ('Taleban', 'NNP', 'B-org'), ('militants', 'NNS', 'O'), ('in', 'IN', 'O'), ('separate', 'JJ', 'O'), ('clashes', 'NNS', 'O'), ('this', 'DT', 'O'), ('week', 'NN', 'O'), ('.', '.', 'O')], [('The', 'DT', 'O'), ('military', 'NN', 'O'), ('said', 'VBD', 'O'), ('Saturday', 'NNP', 'B-tim'), ('13', 'CD', 'O'), ('guerrillas', 'NNS', 'O'), ('were', 'VBD', 'O'), ('killed', 'VBN', 'O'), ('in', 'IN', 'O'), ('two', 'CD', 'O'), ('encounters', 'NNS', 'O'), ('in', 'IN', 'O'), ('the', 'DT', 'O'), ('central', 'JJ', 'O'), ('province', 'NN', 'O'), ('of', 'IN', 'O'), ('Uruzgan', 'NNP', 'B-geo'), ('.', '.', 'O')], [('One', 'CD', 'O'), ('Afghan', 'JJ', 'B-gpe'), ('soldier', 'NN', 'O'), ('was', 'VBD', 'O'), ('killed', 'VBN', 'O'), ('and', 'CC', 'O'), ('four', 'CD', 'O'), ('others', 'NNS', 'O'), (',', ',', 'O'), ('including', 'VBG', 'O'), ('a', 'DT', 'O'), ('U.S.', 'NNP', 'B-gpe'), ('soldier', 'NN', 'O'), (',', ',', 'O'), ('were', 'VBD', 'O'), ('injured', 'VBN', 'O'), ('in', 'IN', 'O'), ('the', 'DT', 'O'), ('fighting', 'NN', 'O'), ('.', '.', 'O')], [('Another', 'DT', 'O'), ('militant', 'NN', 'O'), ('was', 'VBD', 'O'), ('killed', 'VBN', 'O'), ('by', 'IN', 'O'), ('U.S.', 'NNP', 'B-gpe'), ('troops', 'NNS', 'O'), ('in', 'IN', 'O'), ('eastern', 'JJ', 'O'), ('Paktika', 'NNP', 'B-geo'), ('province', 'NN', 'O'), ('.', '.', 'O')], [('Separately', 'RB', 'O'), (',', ',', 'O'), ('officials', 'NNS', 'O'), ('say', 'VBP', 'O'), ('four', 'CD', 'O'), ('British', 'JJ', 'B-gpe'), ('soldiers', 'NNS', 'O'), ('from', 'IN', 'O'), ('the', 'DT', 'O'), ('NATO-led', 'JJ', 'O'), ('peacekeeping', 'NN', 'O'), ('mission', 'NN', 'O'), ('were', 'VBD', 'O'), ('wounded', 'VBN', 'O'), ('early', 'JJ', 'O'), ('Saturday', 'NNP', 'B-tim'), ('in', 'IN', 'O'), ('an', 'DT', 'O'), ('attack', 'NN', 'O'), ('in', 'IN', 'O'), ('the', 'DT', 'O'), ('northern', 'JJ', 'O'), ('city', 'NN', 'O'), ('of', 'IN', 'O'), ('Mazar-e-Sharif', 'NNP', 'B-geo'), ('.', '.', 'O')], [('It', 'PRP', 'O'), ('was', 'VBD', 'O'), ('not', 'RB', 'O'), ('immediately', 'RB', 'O'), ('clear', 'JJ', 'O'), ('what', 'WP', 'O'), ('motivated', 'VBN', 'O'), ('the', 'DT', 'O'), ('attack', 'NN', 'O'), ('.', '.', 'O')], [('Taleban', 'NNP', 'B-org'), ('rebels', 'NNS', 'O'), ('are', 'VBP', 'O'), ('not', 'RB', 'O'), ('known', 'VBN', 'O'), ('to', 'TO', 'O'), ('operate', 'VB', 'O'), ('in', 'IN', 'O'), ('northern', 'JJ', 'O'), ('Afghanistan', 'NNP', 'B-geo'), ('and', 'CC', 'O'), ('the', 'DT', 'O'), ('area', 'NN', 'O'), ('has', 'VBZ', 'O'), ('been', 'VBN', 'O'), ('spared', 'VBN', 'O'), ('much', 'RB', 'O'), ('of', 'IN', 'O'), ('the', 'DT', 'O'), ('bloodshed', 'NN', 'O'), ('that', 'DT', 'O'), ('has', 'VBZ', 'O'), ('plagued', 'VBN', 'O'), ('southern', 'JJ', 'O'), ('and', 'CC', 'O'), ('eastern', 'JJ', 'O'), ('regions', 'NNS', 'O'), ('.', '.', 'O')], [('Russian', 'JJ', 'B-gpe'), ('officials', 'NNS', 'O'), ('say', 'VBP', 'O'), ('at', 'IN', 'O'), ('least', 'JJS', 'O'), ('five', 'CD', 'O'), ('more', 'JJR', 'O'), ('people', 'NNS', 'O'), ('have', 'VBP', 'O'), ('died', 'VBN', 'O'), ('from', 'IN', 'O'), ('a', 'DT', 'O'), ('wave', 'NN', 'O'), ('of', 'IN', 'O'), ('extremely', 'RB', 'O'), ('cold', 'JJ', 'O'), ('weather', 'NN', 'O'), ('gripping', 'VBG', 'O'), ('the', 'DT', 'O'), ('nation', 'NN', 'O'), (',', ',', 'O'), ('bringing', 'VBG', 'O'), ('the', 'DT', 'O'), ('death', 'NN', 'O'), ('toll', 'NN', 'O'), ('to', 'TO', 'O'), ('43', 'CD', 'O'), ('in', 'IN', 'O'), ('the', 'DT', 'O'), ('past', 'JJ', 'O'), ('week', 'NN', 'O'), ('.', '.', 'O')], [('Emergency', 'NN', 'O'), ('medical', 'JJ', 'O'), ('officials', 'NNS', 'O'), ('say', 'VBP', 'O'), ('the', 'DT', 'O'), ('five', 'CD', 'O'), ('victims', 'NNS', 'O'), ('died', 'VBD', 'O'), ('in', 'IN', 'O'), ('Moscow', 'NNP', 'B-geo'), ('from', 'IN', 'O'), ('exposure', 'NN', 'O'), (',', ',', 'O'), ('and', 'CC', 'O'), ('another', 'DT', 'O'), ('19', 'CD', 'O'), ('people', 'NNS', 'O'), ('are', 'VBP', 'O'), ('hospitalized', 'VBN', 'O'), ('with', 'IN', 'O'), ('hypothermia', 'NN', 'O'), ('.', '.', 'O')], [('Russia', 'NNP', 'B-geo'), (\"'s\", 'POS', 'O'), ('Itar-Tass', 'NNP', 'B-org'), ('news', 'NN', 'O'), ('agency', 'NN', 'O'), ('quotes', 'VBZ', 'O'), ('a', 'DT', 'O'), ('medical', 'JJ', 'O'), ('official', 'NN', 'O'), ('as', 'IN', 'O'), ('saying', 'VBG', 'O'), ('some', 'DT', 'O'), ('of', 'IN', 'O'), ('the', 'DT', 'O'), ('victims', 'NNS', 'O'), ('were', 'VBD', 'O'), ('intoxicated', 'JJ', 'O'), ('or', 'CC', 'O'), ('homeless', 'JJ', 'O'), ('.', '.', 'O')], [('The', 'DT', 'O'), ('unusually', 'RB', 'O'), ('cold', 'JJ', 'O'), ('weather', 'NN', 'O'), ('is', 'VBZ', 'O'), ('affecting', 'VBG', 'O'), ('Russia', 'NNP', 'B-geo'), (',', ',', 'O'), ('the', 'DT', 'O'), ('Baltic', 'JJ', 'B-geo'), ('states', 'NNS', 'I-geo'), ('of', 'IN', 'O'), ('Lithuania', 'NNP', 'B-geo'), (',', ',', 'O'), ('Latvia', 'NNP', 'B-geo'), ('and', 'CC', 'O'), ('Estonia', 'NNP', 'B-geo'), (',', ',', 'O'), ('and', 'CC', 'O'), ('is', 'VBZ', 'O'), ('moving', 'VBG', 'O'), ('into', 'IN', 'O'), ('the', 'DT', 'O'), ('Nordic', 'JJ', 'O'), ('countries', 'NNS', 'O'), ('.', '.', 'O')], [('The', 'DT', 'O'), ('death', 'NN', 'O'), ('toll', 'NN', 'O'), ('is', 'VBZ', 'O'), ('expected', 'VBN', 'O'), ('to', 'TO', 'O'), ('rise', 'VB', 'O'), ('as', 'IN', 'O'), ('temperatures', 'NNS', 'O'), ('continue', 'VBP', 'O'), ('to', 'TO', 'O'), ('hover', 'VB', 'O'), ('around', 'IN', 'O'), ('minus', 'NN', 'O'), ('30', 'CD', 'O'), ('degrees', 'NNS', 'O'), ('Celsius', 'NNP', 'O'), ('or', 'CC', 'O'), ('lower', 'JJR', 'O'), ('overnight', 'JJ', 'O'), ('.', '.', 'O')], [('Emergency', 'NN', 'O'), ('power', 'NN', 'O'), ('rationing', 'NN', 'O'), ('has', 'VBZ', 'O'), ('been', 'VBN', 'O'), ('put', 'VBN', 'O'), ('into', 'IN', 'O'), ('effect', 'NN', 'O'), ('around', 'IN', 'O'), ('Moscow', 'NNP', 'B-geo'), ('.', '.', 'O')], [('Health', 'NN', 'O'), ('officials', 'NNS', 'O'), ('in', 'IN', 'O'), ('Vietnam', 'NNP', 'B-geo'), ('say', 'VBP', 'O'), ('a', 'DT', 'O'), ('deadly', 'JJ', 'O'), ('strain', 'NN', 'O'), ('of', 'IN', 'O'), ('the', 'DT', 'O'), ('bird', 'NN', 'O'), ('flu', 'NN', 'O'), ('virus', 'NN', 'O'), ('has', 'VBZ', 'O'), ('killed', 'VBN', 'O'), ('a', 'DT', 'O'), ('second', 'JJ', 'O'), ('Vietnamese', 'JJ', 'B-gpe'), ('man', 'NN', 'O'), ('this', 'DT', 'O'), ('week', 'NN', 'O'), (',', ',', 'O'), ('raising', 'VBG', 'O'), ('the', 'DT', 'O'), ('country', 'NN', 'O'), (\"'s\", 'POS', 'O'), ('death', 'NN', 'O'), ('toll', 'NN', 'O'), ('from', 'IN', 'O'), ('the', 'DT', 'O'), ('virus', 'NN', 'O'), ('to', 'IN', 'O'), ('50', 'CD', 'O'), ('.', '.', 'O')], [('Officials', 'NNS', 'O'), ('say', 'VBP', 'O'), ('the', 'DT', 'O'), ('27-year', 'JJ', 'O'), ('old', 'JJ', 'O'), ('man', 'NN', 'O'), ('from', 'IN', 'O'), ('Vietnam', 'NNP', 'B-geo'), (\"'s\", 'POS', 'O'), ('northern', 'JJ', 'O'), ('Ninh', 'NNP', 'B-gpe'), ('Binh', 'NNP', 'I-gpe'), ('province', 'NN', 'O'), ('died', 'VBD', 'O'), ('late', 'JJ', 'O'), ('Thursday', 'NNP', 'B-tim'), ('and', 'CC', 'O'), ('tested', 'VBD', 'O'), ('positive', 'JJ', 'O'), ('for', 'IN', 'O'), ('the', 'DT', 'O'), ('H5N1', 'NNP', 'B-nat'), ('strain', 'NN', 'O'), ('of', 'IN', 'O'), ('bird', 'NN', 'O'), ('flu', 'NN', 'O'), ('.', '.', 'O')], [('Officials', 'NNS', 'O'), ('say', 'VBP', 'O'), ('the', 'DT', 'O'), ('man', 'NN', 'O'), ('fell', 'VBD', 'O'), ('ill', 'RB', 'O'), ('after', 'IN', 'O'), ('slaughtering', 'VBG', 'O'), ('two', 'CD', 'O'), ('chickens', 'NNS', 'O'), ('at', 'IN', 'O'), ('his', 'PRP$', 'O'), ('home', 'NN', 'O'), ('.', '.', 'O')], [('He', 'PRP', 'O'), ('is', 'VBZ', 'O'), ('the', 'DT', 'O'), ('third', 'JJ', 'O'), ('person', 'NN', 'O'), ('to', 'TO', 'O'), ('die', 'VB', 'O'), ('from', 'IN', 'O'), ('avian', 'JJ', 'O'), ('influenza', 'NN', 'O'), ('in', 'IN', 'O'), ('Vietnam', 'NNP', 'B-geo'), ('this', 'DT', 'O'), ('year', 'NN', 'O'), ('.', '.', 'O')], [('Not', 'RB', 'O'), ('counting', 'VBG', 'O'), ('the', 'DT', 'O'), ('latest', 'JJS', 'O'), ('death', 'NN', 'O'), (',', ',', 'O'), ('the', 'DT', 'O'), ('World', 'NNP', 'B-org'), ('Health', 'NNP', 'I-org'), ('Organization', 'NNP', 'I-org'), ('says', 'VBZ', 'O'), ('227', 'CD', 'O'), ('people', 'NNS', 'O'), ('around', 'IN', 'O'), ('the', 'DT', 'O'), ('world', 'NN', 'O'), ('have', 'VBP', 'O'), ('died', 'VBN', 'O'), ('from', 'IN', 'O'), ('bird', 'NN', 'O'), ('flu', 'NN', 'O'), ('since', 'IN', 'O'), ('2003', 'CD', 'B-tim'), ('.', '.', 'O')], [('Most', 'JJS', 'O'), ('of', 'IN', 'O'), ('the', 'DT', 'O'), ('world', 'NN', 'O'), (\"'s\", 'POS', 'O'), ('cases', 'NNS', 'O'), (',', ',', 'O'), ('103', 'CD', 'O'), (',', ',', 'O'), ('have', 'VBP', 'O'), ('occurred', 'VBN', 'O'), ('in', 'IN', 'O'), ('Indonesia', 'NNP', 'B-geo'), ('.', '.', 'O')], [('Witnesses', 'NNS', 'O'), ('in', 'IN', 'O'), ('Somalia', 'NNP', 'B-geo'), ('say', 'VBP', 'O'), ('insurgents', 'NNS', 'O'), ('have', 'VBP', 'O'), ('burned', 'VBN', 'O'), ('and', 'CC', 'O'), ('dragged', 'VBN', 'O'), ('the', 'DT', 'O'), ('bodies', 'NNS', 'O'), ('of', 'IN', 'O'), ('at', 'IN', 'O'), ('least', 'JJS', 'O'), ('two', 'CD', 'O'), ('soldiers', 'NNS', 'O'), ('through', 'IN', 'O'), ('the', 'DT', 'O'), ('streets', 'NNS', 'O'), ('of', 'IN', 'O'), ('Mogadishu', 'NNP', 'B-geo'), (',', ',', 'O'), ('after', 'IN', 'O'), ('a', 'DT', 'O'), ('clash', 'NN', 'O'), ('between', 'IN', 'O'), ('militants', 'NNS', 'O'), ('and', 'CC', 'O'), ('Ethiopian', 'JJ', 'B-gpe'), ('forces', 'NNS', 'O'), ('killed', 'VBD', 'O'), ('seven', 'CD', 'O'), ('people', 'NNS', 'O'), ('.', '.', 'O')], [('The', 'DT', 'O'), ('violence', 'NN', 'O'), ('erupted', 'VBD', 'O'), ('Wednesday', 'NNP', 'B-tim'), ('after', 'IN', 'O'), ('insurgents', 'NNS', 'O'), ('attacked', 'VBD', 'O'), ('Ethiopian', 'JJ', 'B-gpe'), ('tanks', 'NNS', 'O'), ('rolling', 'VBG', 'O'), ('through', 'IN', 'O'), ('an', 'DT', 'O'), ('insurgent', 'JJ', 'O'), ('stronghold', 'NN', 'O'), ('near', 'IN', 'O'), ('the', 'DT', 'O'), ('headquarters', 'NN', 'O'), ('of', 'IN', 'O'), ('the', 'DT', 'O'), ('former', 'JJ', 'O'), ('Defense', 'NNP', 'B-org'), ('Ministry', 'NNP', 'I-org'), ('in', 'IN', 'O'), ('southern', 'JJ', 'O'), ('Mogadishu', 'NNP', 'B-geo'), ('.', '.', 'O')], [('Witnesses', 'NNS', 'O'), ('say', 'VBP', 'O'), ('the', 'DT', 'O'), ('Ethiopian', 'JJ', 'B-gpe'), ('troops', 'NNS', 'O'), ('returned', 'VBD', 'O'), ('heavy', 'JJ', 'O'), ('fire', 'NN', 'O'), ('and', 'CC', 'O'), ('that', 'IN', 'O'), ('several', 'JJ', 'O'), ('people', 'NNS', 'O'), ('were', 'VBD', 'O'), ('wounded', 'VBN', 'O'), ('in', 'IN', 'O'), ('the', 'DT', 'O'), ('fighting', 'NN', 'O'), ('.', '.', 'O')], [('Ethiopia', 'NNP', 'B-gpe'), ('deployed', 'VBD', 'O'), ('soldiers', 'NNS', 'O'), ('to', 'IN', 'O'), ('Somalia', 'NNP', 'B-geo'), ('last', 'JJ', 'O'), ('December', 'NNP', 'B-tim'), ('to', 'TO', 'O'), ('help', 'VB', 'O'), ('the', 'DT', 'O'), ('interim', 'JJ', 'O'), ('government', 'NN', 'O'), ('push', 'VB', 'O'), ('an', 'DT', 'O'), ('Islamist', 'JJ', 'O'), ('movement', 'NN', 'O'), ('from', 'IN', 'O'), ('power', 'NN', 'O'), ('.', '.', 'O')], [('Somalia', 'NNP', 'B-gpe'), (\"'s\", 'POS', 'O'), ('internationally-recognized', 'JJ', 'O'), ('government', 'NN', 'O'), ('has', 'VBZ', 'O'), ('since', 'IN', 'O'), ('been', 'VBN', 'O'), ('struggling', 'VBG', 'O'), ('to', 'TO', 'O'), ('contain', 'VB', 'O'), ('regular', 'JJ', 'O'), ('outbursts', 'NNS', 'O'), ('of', 'IN', 'O'), ('violence', 'NN', 'O'), ('by', 'IN', 'O'), ('fighters', 'NNS', 'O'), ('loyal', 'JJ', 'O'), ('to', 'TO', 'O'), ('the', 'DT', 'O'), ('fallen', 'JJ', 'O'), ('Islamist', 'NNP', 'B-org'), ('movement', 'NN', 'O'), ('.', '.', 'O')], [('The', 'DT', 'O'), ('African', 'NNP', 'B-org'), ('Union', 'NNP', 'I-org'), ('has', 'VBZ', 'O'), ('deployed', 'VBN', 'O'), ('troops', 'NNS', 'O'), ('to', 'TO', 'O'), ('Somalia', 'NNP', 'B-geo'), ('to', 'TO', 'O'), ('replace', 'VB', 'O'), ('the', 'DT', 'O'), ('Ethiopian', 'JJ', 'B-gpe'), ('forces', 'NNS', 'O'), (',', ',', 'O'), ('which', 'WDT', 'O'), ('Addis', 'NNP', 'B-gpe'), ('Ababa', 'NNP', 'I-gpe'), ('plans', 'VBZ', 'O'), ('to', 'TO', 'O'), ('withdraw', 'VB', 'O'), ('.', '.', 'O')], [('Top', 'JJ', 'O'), ('Palestinian', 'JJ', 'B-gpe'), ('negotiator', 'NN', 'O'), ('Ahmed', 'NNP', 'B-per'), ('Qureia', 'NNP', 'I-per'), ('says', 'VBZ', 'O'), ('Israeli', 'JJ', 'B-gpe'), ('and', 'CC', 'O'), ('Palestinian', 'JJ', 'B-gpe'), ('mediators', 'NNS', 'O'), ('have', 'VBP', 'O'), ('agreed', 'VBN', 'O'), ('to', 'TO', 'O'), ('prepare', 'VB', 'O'), ('a', 'DT', 'O'), ('document', 'NN', 'O'), ('outlining', 'VBG', 'O'), ('their', 'PRP$', 'O'), ('progress', 'NN', 'O'), ('toward', 'IN', 'O'), ('a', 'DT', 'O'), ('peace', 'NN', 'O'), ('accord', 'NN', 'O'), ('.', '.', 'O')], [('In', 'IN', 'O'), ('remarks', 'NNS', 'O'), ('to', 'TO', 'O'), ('reporters', 'NNS', 'O'), (',', ',', 'O'), ('Qureia', 'NNP', 'B-per'), ('said', 'VBD', 'O'), ('the', 'DT', 'O'), ('two', 'CD', 'O'), ('sides', 'NNS', 'O'), ('agreed', 'VBD', 'O'), ('during', 'IN', 'O'), ('recent', 'JJ', 'O'), ('meetings', 'NNS', 'O'), ('to', 'TO', 'O'), ('begin', 'VB', 'O'), ('writing', 'VBG', 'O'), ('out', 'RP', 'O'), ('their', 'PRP$', 'O'), ('positions', 'NNS', 'O'), ('on', 'IN', 'O'), ('all', 'DT', 'O'), ('issues', 'NNS', 'O'), ('discussed', 'VBN', 'O'), ('during', 'IN', 'O'), ('peace', 'NN', 'O'), ('negotiations', 'NNS', 'O'), ('.', '.', 'O')], [('He', 'PRP', 'O'), ('did', 'VBD', 'O'), ('not', 'RB', 'O'), ('elaborate', 'VB', 'O'), ('on', 'IN', 'O'), ('why', 'WRB', 'O'), ('negotiators', 'NNS', 'O'), ('had', 'VBD', 'O'), ('come', 'VBN', 'O'), ('to', 'TO', 'O'), ('the', 'DT', 'O'), ('decision', 'NN', 'O'), ('.', '.', 'O')], [('Israeli', 'JJ', 'B-gpe'), ('Prime', 'NNP', 'B-per'), ('Minister', 'NNP', 'I-per'), ('Ehud', 'NNP', 'I-per'), ('Olmert', 'NNP', 'I-per'), ('and', 'CC', 'O'), ('Palestinian', 'JJ', 'B-gpe'), ('President', 'NNP', 'B-per'), ('Mahmoud', 'NNP', 'I-per'), ('Abbas', 'NNP', 'I-per'), ('resumed', 'VBD', 'O'), ('U.S.-brokered', 'JJ', 'O'), ('peace', 'NN', 'O'), ('talks', 'NNS', 'O'), ('last', 'JJ', 'O'), ('November', 'NNP', 'B-tim'), (',', ',', 'O'), ('but', 'CC', 'O'), ('progress', 'NN', 'O'), ('has', 'VBZ', 'O'), ('been', 'VBN', 'O'), ('slow', 'JJ', 'O'), ('.', '.', 'O')], [('The', 'DT', 'O'), ('two', 'CD', 'O'), ('sides', 'NNS', 'O'), ('have', 'VBP', 'O'), ('expressed', 'VBN', 'O'), ('hope', 'NN', 'O'), ('at', 'IN', 'O'), ('reaching', 'VBG', 'O'), ('a', 'DT', 'O'), ('peace', 'NN', 'O'), ('deal', 'NN', 'O'), ('before', 'IN', 'O'), ('U.S.', 'NNP', 'B-gpe'), ('President', 'NNP', 'B-per'), ('George', 'NNP', 'I-per'), ('Bush', 'NNP', 'I-per'), ('leaves', 'VBZ', 'O'), ('office', 'NN', 'O'), ('early', 'RB', 'O'), ('next', 'JJ', 'O'), ('year', 'NN', 'O'), ('.', '.', 'O')], [('But', 'CC', 'O'), ('Qureia', 'NNP', 'B-per'), ('said', 'VBD', 'O'), ('Wednesday', 'NNP', 'B-tim'), ('that', 'IN', 'O'), ('reaching', 'VBG', 'O'), ('a', 'DT', 'O'), ('peace', 'NN', 'O'), ('agreement', 'NN', 'O'), ('with', 'IN', 'O'), ('Israel', 'NNP', 'B-geo'), ('before', 'IN', 'O'), ('Mr.', 'NNP', 'B-per'), ('Bush', 'NNP', 'I-per'), ('leaves', 'VBZ', 'O'), ('office', 'NN', 'O'), ('will', 'MD', 'O'), ('take', 'VB', 'O'), ('a', 'DT', 'O'), ('\"', '``', 'O'), ('miracle', 'NN', 'O'), ('.', '.', 'O'), ('\"', '``', 'O')], [('He', 'PRP', 'O'), ('told', 'VBD', 'O'), ('reporters', 'NNS', 'O'), ('in', 'IN', 'O'), ('the', 'DT', 'O'), ('West', 'NNP', 'B-geo'), ('Bank', 'NNP', 'I-geo'), ('that', 'IN', 'O'), ('there', 'EX', 'O'), ('is', 'VBZ', 'O'), ('still', 'RB', 'O'), ('room', 'NN', 'O'), ('for', 'IN', 'O'), ('progress', 'NN', 'O'), ('in', 'IN', 'O'), ('Israeli-Palestinian', 'JJ', 'O'), ('negotiations', 'NNS', 'O'), ('.', '.', 'O')], [('The', 'DT', 'O'), ('Israeli', 'JJ', 'B-gpe'), ('military', 'NN', 'O'), ('says', 'VBZ', 'O'), ('Major', 'NNP', 'B-per'), ('General', 'NNP', 'I-per'), ('Udi', 'NNP', 'I-per'), ('Adam', 'NNP', 'I-per'), ('-', 'IN', 'O'), ('the', 'DT', 'O'), ('head', 'NN', 'O'), ('of', 'IN', 'O'), ('the', 'DT', 'O'), ('army', 'NN', 'O'), (\"'s\", 'POS', 'O'), ('Northern', 'NNP', 'B-org'), ('Command', 'NNP', 'I-org'), ('-', ':', 'O'), ('has', 'VBZ', 'O'), ('announced', 'VBN', 'O'), ('his', 'PRP$', 'O'), ('resignation', 'NN', 'O'), ('.', '.', 'O')], [('A', 'DT', 'O'), ('military', 'JJ', 'O'), ('statement', 'NN', 'O'), ('Wednesday', 'NNP', 'B-tim'), (',', ',', 'O'), ('said', 'VBD', 'O'), ('General', 'NNP', 'B-per'), ('Adam', 'NNP', 'I-per'), ('has', 'VBZ', 'O'), ('asked', 'VBN', 'O'), ('to', 'TO', 'O'), ('leave', 'VB', 'O'), ('his', 'PRP$', 'O'), ('post', 'NN', 'O'), ('\"', '``', 'O'), ('as', 'RB', 'O'), ('soon', 'RB', 'O'), ('as', 'IN', 'O'), ('possible', 'JJ', 'O'), (',', ',', 'O'), ('\"', '``', 'O'), ('and', 'CC', 'O'), ('the', 'DT', 'O'), ('chief', 'NN', 'O'), ('of', 'IN', 'O'), ('staff', 'NN', 'O'), ('has', 'VBZ', 'O'), ('accepted', 'VBN', 'O'), ('the', 'DT', 'O'), ('request', 'NN', 'O'), ('to', 'TO', 'O'), ('begin', 'VB', 'O'), ('the', 'DT', 'O'), ('process', 'NN', 'O'), ('of', 'IN', 'O'), ('his', 'PRP$', 'O'), ('replacement', 'NN', 'O'), ('.', '.', 'O')], [('Adam', 'NNP', 'B-per'), ('was', 'VBD', 'O'), ('widely', 'RB', 'O'), ('expected', 'VBN', 'O'), ('to', 'TO', 'O'), ('leave', 'VB', 'O'), ('the', 'DT', 'O'), ('army', 'NN', 'O'), ('after', 'IN', 'O'), ('he', 'PRP', 'O'), ('was', 'VBD', 'O'), ('pushed', 'VBN', 'O'), ('aside', 'RB', 'O'), ('near', 'IN', 'O'), ('the', 'DT', 'O'), ('end', 'NN', 'O'), ('of', 'IN', 'O'), ('the', 'DT', 'O'), ('34-day', 'JJ', 'O'), ('war', 'NN', 'O'), ('against', 'IN', 'O'), ('Hezbollah', 'NNP', 'B-org'), ('guerrillas', 'NNS', 'O'), ('in', 'IN', 'O'), ('Lebanon', 'NNP', 'B-geo'), ('.', '.', 'O')], [('He', 'PRP', 'O'), ('was', 'VBD', 'O'), ('replaced', 'VBN', 'O'), ('by', 'IN', 'O'), ('another', 'DT', 'O'), ('general', 'JJ', 'O'), ('as', 'IN', 'O'), ('\"', '``', 'O'), ('coordinator', 'NN', 'O'), ('of', 'IN', 'O'), ('operations', 'NNS', 'O'), ('in', 'IN', 'O'), ('Lebanon', 'NNP', 'B-geo'), ('.', '.', 'O'), ('\"', '``', 'O')], [('Israeli', 'JJ', 'B-gpe'), ('media', 'NNS', 'O'), ('say', 'VBP', 'O'), ('Adam', 'NNP', 'B-per'), ('had', 'VBD', 'O'), ('several', 'JJ', 'O'), ('disagreements', 'NNS', 'O'), ('with', 'IN', 'O'), ('the', 'DT', 'O'), ('army', 'NN', 'O'), ('chief', 'NN', 'O'), (',', ',', 'O'), ('Lieutenant', 'NNP', 'B-per'), ('General', 'NNP', 'I-per'), ('Dan', 'NNP', 'I-per'), ('Halutz', 'NNP', 'I-per'), (',', ',', 'O'), ('over', 'IN', 'O'), ('the', 'DT', 'O'), ('conduct', 'NN', 'O'), ('of', 'IN', 'O'), ('the', 'DT', 'O'), ('war', 'NN', 'O'), ('.', '.', 'O')], [('A', 'DT', 'O'), ('Washington-based', 'JJ', 'O'), ('research', 'NN', 'O'), ('institute', 'NN', 'O'), ('says', 'VBZ', 'O'), ('Pakistan', 'NNP', 'B-gpe'), ('is', 'VBZ', 'O'), ('building', 'VBG', 'O'), ('a', 'DT', 'O'), ('nuclear', 'JJ', 'O'), ('reactor', 'NN', 'O'), ('that', 'WDT', 'O'), ('could', 'MD', 'O'), ('produce', 'VB', 'O'), ('enough', 'JJ', 'O'), ('plutonium', 'NN', 'O'), ('for', 'IN', 'O'), ('40', 'CD', 'O'), ('to', 'IN', 'O'), ('50', 'CD', 'O'), ('nuclear', 'JJ', 'O'), ('weapons', 'NNS', 'O'), ('a', 'DT', 'O'), ('year', 'NN', 'O'), ('.', '.', 'O')], [('The', 'DT', 'O'), ('Institute', 'NNP', 'B-org'), ('for', 'IN', 'I-org'), ('Science', 'NNP', 'I-org'), ('and', 'CC', 'I-org'), ('International', 'NNP', 'I-org'), ('Security', 'NNP', 'I-org'), ('reports', 'VBZ', 'O'), ('that', 'IN', 'O'), ('satellite', 'NN', 'O'), ('photos', 'NNS', 'O'), ('show', 'VBP', 'O'), ('a', 'DT', 'O'), ('possible', 'JJ', 'O'), ('construction', 'NN', 'O'), ('site', 'NN', 'O'), ('for', 'IN', 'O'), ('a', 'DT', 'O'), ('larger', 'JJR', 'O'), ('nuclear', 'JJ', 'O'), ('reactor', 'NN', 'O'), ('near', 'IN', 'O'), ('the', 'DT', 'O'), ('small', 'JJ', 'O'), ('one', 'CD', 'O'), ('in', 'IN', 'O'), ('the', 'DT', 'O'), ('Khushab', 'NNP', 'B-geo'), ('district', 'NN', 'O'), ('of', 'IN', 'O'), ('Punjab', 'NNP', 'B-geo'), ('province', 'NN', 'O'), ('.', '.', 'O')], [('The', 'DT', 'O'), ('report', 'NN', 'O'), ('says', 'VBZ', 'O'), ('such', 'JJ', 'O'), ('a', 'DT', 'O'), ('reactor', 'NN', 'O'), ('could', 'MD', 'O'), ('produce', 'VB', 'O'), ('over', 'IN', 'O'), ('200', 'CD', 'O'), ('kilograms', 'NNS', 'O'), ('of', 'IN', 'O'), ('weapons-grade', 'JJ', 'O'), ('plutonium', 'NN', 'O'), (',', ',', 'O'), ('good', 'JJ', 'O'), ('for', 'IN', 'O'), ('40', 'CD', 'O'), ('to', 'TO', 'O'), ('50', 'CD', 'O'), ('nuclear', 'JJ', 'O'), ('weapons', 'NNS', 'O'), ('a', 'DT', 'O'), ('year', 'NN', 'O'), ('.', '.', 'O')], [('According', 'VBG', 'O'), ('to', 'TO', 'O'), ('some', 'DT', 'O'), ('media', 'NNS', 'O'), ('reports', 'NNS', 'O'), (',', ',', 'O'), ('Pakistan', 'NNP', 'B-gpe'), ('is', 'VBZ', 'O'), ('now', 'RB', 'O'), ('capable', 'JJ', 'O'), ('of', 'IN', 'O'), ('producing', 'VBG', 'O'), ('plutonium', 'NN', 'O'), ('for', 'IN', 'O'), ('just', 'RB', 'O'), ('two', 'CD', 'O'), ('warheads', 'NNS', 'O'), ('a', 'DT', 'O'), ('year', 'NN', 'O'), ('.', '.', 'O')], [('Pakistan', 'NNP', 'B-geo'), (\"'s\", 'POS', 'O'), ('Foreign', 'NNP', 'B-org'), ('Ministry', 'NNP', 'I-org'), ('spokeswoman', 'NN', 'O'), ('Tasnim', 'NNP', 'B-per'), ('Aslam', 'NNP', 'I-per'), ('declined', 'VBD', 'O'), ('to', 'TO', 'O'), ('say', 'VB', 'O'), ('whether', 'IN', 'O'), ('a', 'DT', 'O'), ('new', 'JJ', 'O'), ('reactor', 'NN', 'O'), ('is', 'VBZ', 'O'), ('being', 'VBG', 'O'), ('constructed', 'VBN', 'O'), (',', ',', 'O'), ('but', 'CC', 'O'), ('she', 'PRP', 'O'), ('said', 'VBD', 'O'), ('the', 'DT', 'O'), ('presence', 'NN', 'O'), ('of', 'IN', 'O'), ('a', 'DT', 'O'), ('nuclear', 'JJ', 'O'), ('weapons', 'NNS', 'O'), ('program', 'NN', 'O'), ('and', 'CC', 'O'), ('facilities', 'NNS', 'O'), ('at', 'IN', 'O'), ('Khushab', 'NNP', 'B-geo'), ('are', 'VBP', 'O'), ('well', 'RB', 'O'), ('known', 'VBN', 'O'), ('.', '.', 'O')], [('The', 'DT', 'O'), ('American', 'NNP', 'B-org'), ('Diabetes', 'NNP', 'I-org'), ('Association', 'NNP', 'I-org'), ('reports', 'VBZ', 'O'), ('the', 'DT', 'O'), ('disease', 'NN', 'O'), ('is', 'VBZ', 'O'), ('the', 'DT', 'O'), ('leading', 'VBG', 'O'), ('cause', 'NN', 'O'), ('of', 'IN', 'O'), ('new', 'JJ', 'O'), ('cases', 'NNS', 'O'), ('of', 'IN', 'O'), ('blindness', 'NN', 'O'), ('among', 'IN', 'O'), ('adults', 'NNS', 'O'), ('.', '.', 'O')], [('It', 'PRP', 'O'), ('is', 'VBZ', 'O'), ('the', 'DT', 'O'), ('leading', 'VBG', 'O'), ('cause', 'NN', 'O'), ('of', 'IN', 'O'), ('kidney', 'NN', 'O'), ('failure', 'NN', 'O'), ('.', '.', 'O')], [('The', 'DT', 'O'), ('rate', 'NN', 'O'), ('of', 'IN', 'O'), ('amputation', 'NN', 'O'), ('is', 'VBZ', 'O'), ('10', 'CD', 'O'), ('times', 'NNS', 'O'), ('higher', 'JJR', 'O'), ('among', 'IN', 'O'), ('those', 'DT', 'O'), ('who', 'WP', 'O'), ('suffer', 'VBP', 'O'), ('from', 'IN', 'O'), ('the', 'DT', 'O'), ('disease', 'NN', 'O'), ('.', '.', 'O')], [('Experts', 'NNS', 'O'), ('say', 'VBP', 'O'), ('those', 'DT', 'O'), ('who', 'WP', 'O'), ('learn', 'VBP', 'O'), ('how', 'WRB', 'O'), ('to', 'TO', 'O'), ('manage', 'VB', 'O'), ('the', 'DT', 'O'), ('disease', 'NN', 'O'), ('early', 'RB', 'O'), (',', ',', 'O'), ('can', 'MD', 'O'), ('live', 'VB', 'O'), ('healthier', 'JJR', 'O'), ('and', 'CC', 'O'), ('more', 'JJR', 'O'), ('normal', 'JJ', 'O'), ('lives', 'NNS', 'O'), ('.', '.', 'O')], [('VOA', 'NNP', 'B-org'), (\"'s\", 'POS', 'O'), ('June', 'NNP', 'B-per'), ('Soh', 'NNP', 'I-per'), ('found', 'VBD', 'O'), ('camps', 'NNS', 'O'), ('that', 'WDT', 'O'), ('provide', 'VBP', 'O'), ('children', 'NNS', 'O'), ('with', 'IN', 'O'), ('this', 'DT', 'O'), ('chronic', 'JJ', 'O'), ('disease', 'NN', 'O'), ('a', 'DT', 'O'), ('positive', 'JJ', 'O'), ('approach', 'NN', 'O'), ('to', 'TO', 'O'), ('living', 'VBG', 'O'), ('with', 'IN', 'O'), ('diabetes', 'NNS', 'O'), ('while', 'IN', 'O'), ('letting', 'VBG', 'O'), ('them', 'PRP', 'O'), ('just', 'RB', 'O'), ('be', 'VB', 'O'), ('kids', 'NNS', 'O'), ('.', '.', 'O')], [('Amy', 'NNP', 'B-per'), ('Katz', 'NNP', 'I-per'), ('Narrates', 'VBZ', 'O'), ('.', '.', 'O')], [('Cuba', 'NNP', 'B-gpe'), ('and', 'CC', 'O'), ('Panama', 'NNP', 'B-gpe'), ('have', 'VBP', 'O'), ('said', 'VBN', 'O'), ('they', 'PRP', 'O'), ('will', 'MD', 'O'), ('restore', 'VB', 'O'), ('consular', 'JJ', 'O'), ('relations', 'NNS', 'O'), (',', ',', 'O'), ('months', 'NNS', 'O'), ('after', 'IN', 'O'), ('Havana', 'NNP', 'B-gpe'), ('broke', 'VBD', 'O'), ('ties', 'NNS', 'O'), ('with', 'IN', 'O'), ('Panama', 'NNP', 'B-gpe'), ('City', 'NNP', 'I-gpe'), ('for', 'IN', 'O'), ('pardoning', 'VBG', 'O'), ('four', 'CD', 'O'), ('men', 'NNS', 'O'), ('convicted', 'VBN', 'O'), ('in', 'IN', 'O'), ('connection', 'NN', 'O'), ('with', 'IN', 'O'), ('an', 'DT', 'O'), ('assassination', 'NN', 'O'), ('attempt', 'NN', 'O'), ('against', 'IN', 'O'), ('Cuban', 'JJ', 'B-gpe'), ('President', 'NNP', 'B-per'), ('Fidel', 'NNP', 'I-per'), ('Castro', 'NNP', 'I-per'), ('.', '.', 'O')], [('The', 'DT', 'O'), ('countries', 'NNS', 'O'), ('agreed', 'VBD', 'O'), ('to', 'TO', 'O'), ('reopen', 'VB', 'O'), ('their', 'PRP$', 'O'), ('consulates', 'NNS', 'O'), (',', ',', 'O'), ('following', 'VBG', 'O'), ('a', 'DT', 'O'), ('meeting', 'NN', 'O'), ('Friday', 'NNP', 'B-tim'), ('between', 'IN', 'O'), ('Panamanian', 'JJ', 'B-gpe'), ('President', 'NNP', 'B-per'), ('Martin', 'NNP', 'I-per'), ('Torrijos', 'NNP', 'I-per'), ('and', 'CC', 'O'), ('Cuban', 'JJ', 'B-gpe'), ('Vice', 'NNP', 'B-per'), ('President', 'NNP', 'I-per'), ('Carlos', 'NNP', 'I-per'), ('Lage', 'NNP', 'I-per'), ('.', '.', 'O')], [('The', 'DT', 'O'), ('meeting', 'NN', 'O'), ('took', 'VBD', 'O'), ('place', 'NN', 'O'), ('on', 'IN', 'O'), ('the', 'DT', 'O'), ('sidelines', 'NNS', 'O'), ('of', 'IN', 'O'), ('the', 'DT', 'O'), ('Ibero-American', 'JJ', 'O'), ('Summit', 'NNP', 'O'), ('in', 'IN', 'O'), ('San', 'NNP', 'B-geo'), ('Jose', 'NNP', 'I-geo'), (',', ',', 'O'), ('Costa', 'NNP', 'B-geo'), ('Rica', 'NNP', 'I-geo'), (',', ',', 'O'), ('where', 'WRB', 'O'), ('heads', 'NNS', 'O'), ('of', 'IN', 'O'), ('state', 'NN', 'O'), ('were', 'VBD', 'O'), ('meeting', 'VBG', 'O'), ('to', 'TO', 'O'), ('discuss', 'VB', 'O'), ('a', 'DT', 'O'), ('candidate', 'NN', 'O'), ('to', 'TO', 'O'), ('head', 'VB', 'O'), ('the', 'DT', 'O'), ('Organization', 'NNP', 'B-org'), ('of', 'IN', 'I-org'), ('American', 'NNP', 'I-org'), ('States', 'NNPS', 'I-org'), ('and', 'CC', 'O'), ('other', 'JJ', 'O'), ('regional', 'JJ', 'O'), ('issues', 'NNS', 'O'), ('.', '.', 'O')], [('Cuba', 'NNP', 'B-gpe'), ('severed', 'VBD', 'O'), ('ties', 'NNS', 'O'), ('with', 'IN', 'O'), ('Panama', 'NNP', 'B-gpe'), ('in', 'IN', 'O'), ('August', 'NNP', 'B-tim'), (',', ',', 'O'), ('hours', 'NNS', 'O'), ('after', 'IN', 'O'), ('Panamanian', 'JJ', 'B-gpe'), ('President', 'NNP', 'B-per'), ('Mireya', 'NNP', 'I-per'), ('Moscoso', 'NNP', 'I-per'), (',', ',', 'O'), ('in', 'IN', 'O'), ('her', 'PRP$', 'O'), ('final', 'JJ', 'O'), ('days', 'NNS', 'O'), ('in', 'IN', 'O'), ('office', 'NN', 'O'), (',', ',', 'O'), ('pardoned', 'VBD', 'O'), ('the', 'DT', 'O'), ('men', 'NNS', 'O'), (',', ',', 'O'), ('preventing', 'VBG', 'O'), ('their', 'PRP$', 'O'), ('extradition', 'NN', 'O'), ('to', 'IN', 'O'), ('Cuba', 'NNP', 'B-geo'), ('.', '.', 'O')], [('They', 'PRP', 'O'), ('were', 'VBD', 'O'), ('convicted', 'VBN', 'O'), ('of', 'IN', 'O'), ('plotting', 'VBG', 'O'), ('to', 'TO', 'O'), ('kill', 'VB', 'O'), ('Mr.', 'NNP', 'B-per'), ('Castro', 'NNP', 'I-per'), ('during', 'IN', 'O'), ('the', 'DT', 'O'), ('2000', 'CD', 'B-tim'), ('Ibero-American', 'JJ', 'O'), ('summit', 'NN', 'O'), ('in', 'IN', 'O'), ('Panama', 'NNP', 'B-geo'), ('City', 'NNP', 'I-geo'), ('.', '.', 'O')], [('The', 'DT', 'O'), ('Israeli', 'JJ', 'B-gpe'), ('army', 'NN', 'O'), ('has', 'VBZ', 'O'), ('killed', 'VBN', 'O'), ('a', 'DT', 'O'), ('Palestinian', 'JJ', 'B-gpe'), ('youth', 'NN', 'O'), ('in', 'IN', 'O'), ('the', 'DT', 'O'), ('northern', 'JJ', 'O'), ('Gaza', 'NNP', 'B-geo'), ('Strip', 'NNP', 'I-geo'), ('and', 'CC', 'O'), ('wounded', 'VBN', 'O'), ('at', 'IN', 'O'), ('least', 'JJS', 'O'), ('three', 'CD', 'O'), ('other', 'JJ', 'O'), ('people', 'NNS', 'O'), ('.', '.', 'O')], [('The', 'DT', 'O'), ('army', 'NN', 'O'), ('says', 'VBZ', 'O'), ('it', 'PRP', 'O'), ('targeted', 'VBD', 'O'), ('a', 'DT', 'O'), ('man', 'NN', 'O'), ('who', 'WP', 'O'), ('was', 'VBD', 'O'), ('collecting', 'VBG', 'O'), ('a', 'DT', 'O'), ('rocket', 'NN', 'O'), ('launcher', 'NN', 'O'), ('from', 'IN', 'O'), ('an', 'DT', 'O'), ('area', 'NN', 'O'), ('used', 'VBN', 'O'), ('to', 'TO', 'O'), ('fire', 'VB', 'O'), ('rockets', 'NNS', 'O'), ('at', 'IN', 'O'), ('Israel', 'NNP', 'B-geo'), ('recently', 'RB', 'O'), ('.', '.', 'O')], [('Palestinian', 'JJ', 'B-gpe'), ('medical', 'JJ', 'O'), ('sources', 'NNS', 'O'), ('say', 'VBP', 'O'), ('the', 'DT', 'O'), ('Israeli', 'JJ', 'B-gpe'), ('strike', 'NN', 'O'), ('killed', 'VBD', 'O'), ('a', 'DT', 'O'), ('teenager', 'NN', 'O'), ('.', '.', 'O')], [('The', 'DT', 'O'), ('Israeli', 'JJ', 'B-gpe'), ('military', 'NN', 'O'), ('began', 'VBD', 'O'), ('an', 'DT', 'O'), ('offensive', 'NN', 'O'), ('in', 'IN', 'O'), ('Gaza', 'NNP', 'B-geo'), ('after', 'IN', 'O'), ('militants', 'NNS', 'O'), ('kidnapped', 'VBD', 'O'), ('an', 'DT', 'O'), ('Israeli', 'JJ', 'B-gpe'), ('soldier', 'NN', 'O'), ('in', 'IN', 'O'), ('June', 'NNP', 'B-tim'), ('.', '.', 'O')], [('More', 'JJR', 'O'), ('than', 'IN', 'O'), ('200', 'CD', 'O'), ('Palestinians', 'NNS', 'B-gpe'), ('have', 'VBP', 'O'), ('been', 'VBN', 'O'), ('killed', 'VBN', 'O'), ('in', 'IN', 'O'), ('the', 'DT', 'O'), ('offensive', 'NN', 'O'), ('.', '.', 'O')], [('On', 'IN', 'O'), ('Sunday', 'NNP', 'B-tim'), (',', ',', 'O'), ('Palestinian', 'JJ', 'B-gpe'), ('Prime', 'NNP', 'B-per'), ('Minister', 'NNP', 'I-per'), ('Ismail', 'NNP', 'I-per'), ('Haniyeh', 'NNP', 'I-per'), ('said', 'VBD', 'O'), ('his', 'PRP$', 'O'), ('Hamas-led', 'JJ', 'O'), ('government', 'NN', 'O'), ('will', 'MD', 'O'), ('not', 'RB', 'O'), ('recognize', 'VB', 'O'), ('Israel', 'NNP', 'B-gpe'), ('.', '.', 'O')], [('He', 'PRP', 'O'), ('said', 'VBD', 'O'), ('an', 'DT', 'O'), ('Arab', 'JJ', 'B-gpe'), ('peace', 'NN', 'O'), ('plan', 'NN', 'O'), ('for', 'IN', 'O'), ('the', 'DT', 'O'), ('region', 'NN', 'O'), ('is', 'VBZ', 'O'), ('problematic', 'JJ', 'O'), ('because', 'IN', 'O'), ('it', 'PRP', 'O'), ('requires', 'VBZ', 'O'), ('Palestinians', 'NNS', 'B-gpe'), ('to', 'TO', 'O'), ('recognize', 'VB', 'O'), ('Israel', 'NNP', 'B-gpe'), ('in', 'IN', 'O'), ('exchange', 'NN', 'O'), ('for', 'IN', 'O'), ('an', 'DT', 'O'), ('Israeli', 'JJ', 'B-gpe'), ('pullout', 'NN', 'O'), ('from', 'IN', 'O'), ('Palestinian', 'JJ', 'B-gpe'), ('territories', 'NNS', 'O'), ('.', '.', 'O')], [('He', 'PRP', 'O'), ('spoke', 'VBD', 'O'), ('after', 'IN', 'O'), ('a', 'DT', 'O'), ('week', 'NN', 'O'), ('of', 'IN', 'O'), ('deadly', 'JJ', 'O'), ('political', 'JJ', 'O'), ('infighting', 'NN', 'O'), ('between', 'IN', 'O'), ('Hamas', 'NNP', 'B-org'), ('and', 'CC', 'O'), ('the', 'DT', 'O'), ('rival', 'JJ', 'O'), ('Fatah', 'NNP', 'B-org'), ('party', 'NN', 'O'), ('of', 'IN', 'O'), ('President', 'NNP', 'B-per'), ('Mahmoud', 'NNP', 'I-per'), ('Abbas', 'NNP', 'I-per'), ('.', '.', 'O')], [('U.S.', 'NNP', 'B-geo'), ('automaker', 'NN', 'O'), ('Chrysler', 'NNP', 'B-org'), ('has', 'VBZ', 'O'), ('opened', 'VBN', 'O'), ('a', 'DT', 'O'), ('$', '$', 'O'), ('570', 'CD', 'O'), ('million', 'CD', 'O'), ('engine', 'NN', 'O'), ('plant', 'NN', 'O'), ('in', 'IN', 'O'), ('northern', 'JJ', 'O'), ('Mexico', 'NNP', 'B-geo'), ('.', '.', 'O')], [('During', 'IN', 'O'), ('the', 'DT', 'O'), ('ceremonial', 'JJ', 'O'), ('startup', 'NN', 'O'), ('of', 'IN', 'O'), ('the', 'DT', 'O'), ('Saltillo', 'NNP', 'B-art'), ('plant', 'NN', 'O'), ('Friday', 'NNP', 'B-tim'), (',', ',', 'O'), ('Mexican', 'JJ', 'B-gpe'), ('President', 'NNP', 'B-per'), ('Felipe', 'NNP', 'I-per'), ('Calderon', 'NNP', 'I-per'), ('said', 'VBD', 'O'), ('Chrysler', 'NNP', 'B-org'), (\"'s\", 'POS', 'O'), ('sixth', 'JJ', 'O'), ('plant', 'NN', 'O'), ('in', 'IN', 'O'), ('Mexico', 'NNP', 'B-geo'), ('will', 'MD', 'O'), ('create', 'VB', 'O'), ('700', 'CD', 'O'), ('jobs', 'NNS', 'O'), ('.', '.', 'O')], [('Mr.', 'NNP', 'B-per'), ('Calderon', 'NNP', 'I-per'), ('said', 'VBD', 'O'), ('Mexico', 'NNP', 'B-gpe'), ('has', 'VBZ', 'O'), ('become', 'VBN', 'O'), ('a', 'DT', 'O'), ('worldwide', 'JJ', 'O'), ('leader', 'NN', 'O'), ('in', 'IN', 'O'), ('the', 'DT', 'O'), ('auto', 'NN', 'O'), ('industry', 'NN', 'O'), ('.', '.', 'O')], [('Chrysler', 'NNP', 'B-org'), ('plans', 'VBZ', 'O'), ('to', 'TO', 'O'), ('build', 'VB', 'O'), ('its', 'PRP$', 'O'), ('new', 'JJ', 'O'), ('fuel-efficient', 'JJ', 'O'), ('Pentastar', 'NNP', 'B-art'), ('V-6', 'NNP', 'I-art'), ('engine', 'NN', 'O'), ('for', 'IN', 'O'), ('Chrysler', 'NNP', 'B-art'), (',', ',', 'O'), ('Dodge', 'NNP', 'B-art'), (',', ',', 'O'), ('Jeep', 'NNP', 'B-art'), ('and', 'CC', 'O'), ('Ram', 'NNP', 'B-art'), ('vehicles', 'NNS', 'O'), ('.', '.', 'O')], [('Mexican', 'JJ', 'B-gpe'), ('officials', 'NNS', 'O'), ('say', 'VBP', 'O'), ('the', 'DT', 'O'), ('new', 'JJ', 'O'), ('plant', 'NN', 'O'), ('will', 'MD', 'O'), ('have', 'VB', 'O'), ('the', 'DT', 'O'), ('capacity', 'NN', 'O'), ('to', 'TO', 'O'), ('build', 'VB', 'O'), ('4,40,000', 'CD', 'O'), ('engines', 'NNS', 'O'), ('per', 'IN', 'O'), ('year', 'NN', 'O'), ('.', '.', 'O')], [('A', 'DT', 'O'), ('U.S.', 'NNP', 'B-geo'), ('jury', 'NN', 'O'), ('has', 'VBZ', 'O'), ('found', 'VBN', 'O'), ('that', 'IN', 'O'), ('drug', 'NN', 'O'), ('maker', 'NN', 'O'), ('Merck', 'NNP', 'B-org'), ('is', 'VBZ', 'O'), ('not', 'RB', 'O'), ('liable', 'JJ', 'O'), ('for', 'IN', 'O'), ('the', 'DT', 'O'), ('heart', 'NN', 'O'), ('attack', 'NN', 'O'), ('suffered', 'VBN', 'O'), ('by', 'IN', 'O'), ('a', 'DT', 'O'), ('man', 'NN', 'O'), ('taking', 'VBG', 'O'), ('its', 'PRP$', 'O'), ('painkiller', 'NN', 'O'), ('Vioxx', 'NNP', 'B-art'), ('.', '.', 'O')], [('The', 'DT', 'O'), ('New', 'NNP', 'B-geo'), ('Jersey', 'NNP', 'I-geo'), ('jurists', 'NNS', 'O'), ('agreed', 'VBD', 'O'), ('with', 'IN', 'O'), ('Merck', 'NNP', 'B-org'), ('that', 'IN', 'O'), ('job', 'NN', 'O'), ('stress', 'NN', 'O'), ('and', 'CC', 'O'), ('health', 'NN', 'O'), ('risks', 'NNS', 'O'), ('caused', 'VBD', 'O'), ('the', 'DT', 'O'), ('60-year', 'JJ', 'O'), ('old', 'JJ', 'O'), ('postal', 'JJ', 'O'), ('worker', 'NN', 'O'), ('to', 'TO', 'O'), ('have', 'VB', 'O'), ('a', 'DT', 'O'), ('heart', 'NN', 'O'), ('attack', 'NN', 'O'), ('four', 'CD', 'O'), ('years', 'NNS', 'O'), ('ago', 'RB', 'O'), ('.', '.', 'O')], [('The', 'DT', 'O'), ('plaintiff', 'NN', 'O'), ('argued', 'VBD', 'O'), ('Vioxx', 'NNP', 'B-org'), ('was', 'VBD', 'O'), ('responsible', 'JJ', 'O'), ('.', '.', 'O')], [('The', 'DT', 'O'), ('jury', 'NN', 'O'), ('also', 'RB', 'O'), ('rejected', 'VBD', 'O'), ('the', 'DT', 'O'), ('man', 'NN', 'O'), (\"'s\", 'POS', 'O'), ('claim', 'NN', 'O'), ('that', 'IN', 'O'), ('Merck', 'NNP', 'B-org'), ('failed', 'VBD', 'O'), ('to', 'TO', 'O'), ('properly', 'RB', 'O'), ('warn', 'VB', 'O'), ('users', 'NNS', 'O'), ('about', 'IN', 'O'), ('the', 'DT', 'O'), ('drug', 'NN', 'O'), (\"'s\", 'POS', 'O'), ('risks', 'NNS', 'O'), ('.', '.', 'O')], [('Merck', 'NNP', 'B-org'), ('withdrew', 'VBD', 'O'), ('the', 'DT', 'O'), ('popular', 'JJ', 'O'), ('drug', 'NN', 'O'), ('last', 'JJ', 'O'), ('year', 'NN', 'O'), ('after', 'IN', 'O'), ('a', 'DT', 'O'), ('study', 'NN', 'O'), ('showed', 'VBD', 'O'), ('it', 'PRP', 'O'), ('doubled', 'VBD', 'O'), ('the', 'DT', 'O'), ('risk', 'NN', 'O'), ('of', 'IN', 'O'), ('heart', 'NN', 'O'), ('problems', 'NNS', 'O'), ('in', 'IN', 'O'), ('long-term', 'JJ', 'O'), ('users', 'NNS', 'O'), ('.', '.', 'O')], [('Merck', 'NNP', 'B-org'), ('is', 'VBZ', 'O'), ('facing', 'VBG', 'O'), ('thousands', 'NNS', 'O'), ('of', 'IN', 'O'), ('other', 'JJ', 'O'), ('lawsuits', 'NNS', 'O'), ('over', 'IN', 'O'), ('Vioxx', 'NNP', 'B-art'), ('.', '.', 'O')], [('Thursday', 'NNP', 'B-tim'), (\"'s\", 'POS', 'O'), ('verdict', 'NN', 'O'), ('is', 'VBZ', 'O'), ('only', 'RB', 'O'), ('the', 'DT', 'O'), ('second', 'NN', 'O'), ('in', 'IN', 'O'), ('a', 'DT', 'O'), ('Vioxx', 'NNP', 'B-art'), ('case', 'NN', 'O'), ('.', '.', 'O')], [('In', 'IN', 'O'), ('the', 'DT', 'O'), ('first', 'JJ', 'O'), (',', ',', 'O'), ('Merck', 'NNP', 'B-org'), ('was', 'VBD', 'O'), ('ordered', 'VBN', 'O'), ('to', 'TO', 'O'), ('pay', 'VB', 'O'), ('millions', 'NNS', 'O'), ('of', 'IN', 'O'), ('dollars', 'NNS', 'O'), ('to', 'TO', 'O'), ('the', 'DT', 'O'), ('widow', 'NN', 'O'), ('of', 'IN', 'O'), ('a', 'DT', 'O'), ('Vioxx', 'NNP', 'B-art'), ('user', 'NN', 'O'), ('.', '.', 'O')], [('Merck', 'NNP', 'B-org'), ('is', 'VBZ', 'O'), ('appealing', 'VBG', 'O'), ('that', 'DT', 'O'), ('decision', 'NN', 'O'), ('.', '.', 'O')], [('The', 'DT', 'O'), ('rumors', 'NNS', 'O'), ('are', 'VBP', 'O'), ('TRUE', 'JJ', 'O'), (':', 'IN', 'O'), ('Nicole', 'NNP', 'B-per'), ('Ritchie', 'NNP', 'I-per'), ('is', 'VBZ', 'O'), ('pregnant', 'JJ', 'O'), ('.', '.', 'O')], [('Speaking', 'VBG', 'O'), ('to', 'TO', 'O'), ('ABC', 'NNP', 'B-org'), ('News', 'NNP', 'I-org'), ('interviewer', 'NN', 'O'), ('Dianne', 'NNP', 'B-per'), ('Sawyer', 'NNP', 'I-per'), (',', ',', 'O'), ('the', 'DT', 'O'), ('25-year-old', 'JJ', 'O'), ('co-star', 'NN', 'O'), ('of', 'IN', 'O'), ('TV', 'NN', 'O'), (\"'s\", 'POS', 'O'), ('The', 'DT', 'B-art'), ('Simple', 'NNP', 'I-art'), ('Life', 'NNP', 'I-art'), ('said', 'VBD', 'O'), ('she', 'PRP', 'O'), ('is', 'VBZ', 'O'), ('almost', 'RB', 'O'), ('four', 'CD', 'O'), ('months', 'NNS', 'O'), ('along', 'IN', 'O'), ('in', 'IN', 'O'), ('her', 'PRP$', 'O'), ('pregnancy', 'NN', 'O'), ('.', '.', 'O')], [('She', 'PRP', 'O'), ('said', 'VBD', 'O'), ('the', 'DT', 'O'), ('father', 'NN', 'O'), ('is', 'VBZ', 'O'), ('her', 'PRP$', 'O'), ('boyfriend', 'NN', 'O'), (',', ',', 'O'), ('Joel', 'NNP', 'B-per'), ('Madden', 'NNP', 'I-per'), ('of', 'IN', 'O'), ('the', 'DT', 'O'), ('rock', 'JJ', 'O'), ('band', 'NN', 'O'), ('Good', 'NNP', 'B-org'), ('Charlotte', 'NNP', 'I-org'), ('.', '.', 'O')], [('Ritchie', 'NNP', 'B-per'), ('also', 'RB', 'O'), ('spoke', 'VBD', 'O'), ('about', 'IN', 'O'), ('her', 'PRP$', 'O'), ('guilty', 'JJ', 'O'), ('plea', 'NN', 'O'), ('last', 'JJ', 'O'), ('week', 'NN', 'O'), ('to', 'TO', 'O'), ('driving', 'VBG', 'O'), ('under', 'IN', 'O'), ('the', 'DT', 'O'), ('influence', 'NN', 'O'), ('and', 'CC', 'O'), ('the', 'DT', 'O'), ('resulting', 'VBG', 'O'), ('four-day', 'JJ', 'O'), ('jail', 'NN', 'O'), ('sentence', 'NN', 'O'), ('.', '.', 'O')], [('\"', '``', 'O'), ('I', 'PRP', 'O'), ('have', 'VBP', 'O'), ('a', 'DT', 'O'), ('responsibility', 'NN', 'O'), ('and', 'CC', 'O'), ('it', 'PRP', 'O'), (\"'s\", 'VBZ', 'O'), ('something', 'DT', 'O'), ('that', 'IN', 'O'), ('I', 'PRP', 'O'), ('did', 'VBD', 'O'), ('wrong', 'JJ', 'O'), (',', ',', 'O'), ('and', 'CC', 'O'), ('if', 'IN', 'O'), ('I', 'PRP', 'O'), ('could', 'MD', 'O'), ('personally', 'RB', 'O'), ('apologize', 'VB', 'O'), ('to', 'TO', 'O'), ('every', 'DT', 'O'), ('single', 'JJ', 'O'), ('person', 'NN', 'O'), ('that', 'WDT', 'O'), ('has', 'VBZ', 'O'), ('lost', 'VBN', 'O'), ('a', 'DT', 'O'), ('loved', 'JJ', 'O'), ('one', 'CD', 'O'), ('from', 'IN', 'O'), ('drunk', 'JJ', 'O'), ('driving', 'NN', 'O'), (',', ',', 'O'), ('I', 'PRP', 'O'), ('would', 'MD', 'O'), (',', ',', 'O'), ('\"', '``', 'O'), ('she', 'PRP', 'O'), ('said', 'VBD', 'O'), ('.', '.', 'O')], [('\"', '``', 'O'), ('And', 'CC', 'O'), ('unfortunately', 'RB', 'O'), ('I', 'PRP', 'O'), ('ca', 'MD', 'O'), (\"n't\", 'RB', 'O'), (',', ',', 'O'), ('but', 'CC', 'O'), ('this', 'DT', 'O'), ('is', 'VBZ', 'O'), ('my', 'PRP$', 'O'), ('way', 'NN', 'O'), ('of', 'IN', 'O'), ('paying', 'VBG', 'O'), ('my', 'PRP$', 'O'), ('dues', 'NNS', 'O'), ('and', 'CC', 'O'), ('taking', 'VBG', 'O'), ('responsibility', 'NN', 'O'), ('and', 'CC', 'O'), ('being', 'VBG', 'O'), ('an', 'DT', 'O'), ('adult', 'NN', 'O'), ('.', '.', 'O'), ('\"', '``', 'O')], [('The', 'DT', 'O'), ('interview', 'NN', 'O'), ('airs', 'VBZ', 'O'), ('August', 'NNP', 'B-tim'), ('2', 'CD', 'I-tim'), ('and', 'CC', 'O'), ('3', 'CD', 'B-tim'), ('on', 'IN', 'O'), ('Good', 'NNP', 'B-art'), ('Morning', 'NNP', 'I-art'), ('America', 'NNP', 'I-art'), (',', ',', 'O'), ('and', 'CC', 'O'), ('later', 'RB', 'O'), ('August', 'NNP', 'B-tim'), ('3', 'CD', 'I-tim'), ('on', 'IN', 'O'), ('20/20', 'NNP', 'B-art'), ('.', '.', 'O')], [('U.S.', 'NNP', 'B-gpe'), ('Senator', 'NNP', 'B-per'), ('John', 'NNP', 'I-per'), ('Warner', 'NNP', 'I-per'), ('of', 'IN', 'O'), ('the', 'DT', 'O'), ('southeastern', 'JJ', 'O'), ('state', 'NN', 'O'), ('of', 'IN', 'O'), ('Virginia', 'NNP', 'B-geo'), (',', ',', 'O'), ('a', 'DT', 'O'), ('prominent', 'JJ', 'O'), ('Republican', 'JJ', 'O'), ('figure', 'NN', 'O'), ('in', 'IN', 'O'), ('the', 'DT', 'O'), ('debate', 'NN', 'O'), ('over', 'IN', 'O'), ('the', 'DT', 'O'), ('war', 'NN', 'O'), ('in', 'IN', 'O'), ('Iraq', 'NNP', 'B-geo'), (',', ',', 'O'), ('says', 'VBZ', 'O'), ('he', 'PRP', 'O'), ('will', 'MD', 'O'), ('retire', 'VB', 'O'), ('after', 'IN', 'O'), ('finishing', 'VBG', 'O'), ('his', 'PRP$', 'O'), ('term', 'NN', 'O'), ('in', 'IN', 'O'), ('2009', 'CD', 'B-tim'), ('.', '.', 'O')], [('Warner', 'NNP', 'B-per'), ('told', 'VBD', 'O'), ('supporters', 'NNS', 'O'), ('outside', 'IN', 'O'), ('of', 'IN', 'O'), ('the', 'DT', 'O'), ('University', 'NNP', 'B-org'), ('of', 'IN', 'I-org'), ('Virginia', 'NNP', 'I-org'), ('Friday', 'NNP', 'B-tim'), ('that', 'IN', 'O'), ('he', 'PRP', 'O'), ('will', 'MD', 'O'), ('not', 'RB', 'O'), ('seek', 'VB', 'O'), ('a', 'DT', 'O'), ('sixth', 'JJ', 'O'), ('term', 'NN', 'O'), ('in', 'IN', 'O'), ('the', 'DT', 'O'), ('2008', 'CD', 'B-tim'), ('elections', 'NNS', 'O'), ('.', '.', 'O')], [('The', 'DT', 'O'), ('former', 'JJ', 'O'), ('chairman', 'NN', 'O'), ('of', 'IN', 'O'), ('the', 'DT', 'O'), ('powerful', 'JJ', 'O'), ('Senate', 'NNP', 'B-org'), ('Armed', 'NNP', 'I-org'), ('Services', 'NNP', 'I-org'), ('Committee', 'NNP', 'I-org'), ('has', 'VBZ', 'O'), ('openly', 'RB', 'O'), ('criticized', 'VBN', 'O'), ('President', 'NNP', 'B-per'), ('Bush', 'NNP', 'I-per'), (\"'s\", 'POS', 'O'), ('handling', 'NN', 'O'), ('of', 'IN', 'O'), ('the', 'DT', 'O'), ('war', 'NN', 'O'), ('in', 'IN', 'O'), ('Iraq', 'NNP', 'B-geo'), ('.', '.', 'O')], [('He', 'PRP', 'O'), ('called', 'VBD', 'O'), ('on', 'IN', 'O'), ('Mr.', 'NNP', 'B-per'), ('Bush', 'NNP', 'I-per'), ('earlier', 'RBR', 'O'), ('this', 'DT', 'O'), ('month', 'NN', 'O'), ('to', 'TO', 'O'), ('begin', 'VB', 'O'), ('withdrawing', 'VBG', 'O'), ('some', 'DT', 'O'), ('U.S.', 'NNP', 'B-gpe'), ('troops', 'NNS', 'O'), ('from', 'IN', 'O'), ('Iraq', 'NNP', 'B-geo'), ('.', '.', 'O')], [('His', 'PRP$', 'O'), ('retirement', 'NN', 'O'), ('will', 'MD', 'O'), ('leave', 'VB', 'O'), ('open', 'JJ', 'O'), ('what', 'WP', 'O'), ('would', 'MD', 'O'), ('have', 'VB', 'O'), ('been', 'VBN', 'O'), ('a', 'DT', 'O'), ('relatively', 'RB', 'O'), ('safe', 'JJ', 'O'), ('seat', 'NN', 'O'), ('for', 'IN', 'O'), ('Republicans', 'NNS', 'O'), ('in', 'IN', 'O'), ('the', 'DT', 'O'), ('fight', 'NN', 'O'), ('for', 'IN', 'O'), ('Senate', 'NNP', 'B-org'), ('control', 'NN', 'O'), ('in', 'IN', 'O'), ('the', 'DT', 'O'), ('elections', 'NNS', 'O'), ('.', '.', 'O')], [('Democrats', 'NNS', 'O'), ('will', 'MD', 'O'), ('now', 'RB', 'O'), ('have', 'VB', 'O'), ('a', 'DT', 'O'), ('better', 'JJR', 'O'), ('chance', 'NN', 'O'), ('to', 'TO', 'O'), ('protect', 'VB', 'O'), ('or', 'CC', 'O'), ('expand', 'VB', 'O'), ('their', 'PRP$', 'O'), ('one-seat', 'JJ', 'O'), ('majority', 'NN', 'O'), ('in', 'IN', 'O'), ('the', 'DT', 'O'), ('Senate', 'NNP', 'B-org'), ('.', '.', 'O')], [('When', 'WRB', 'O'), ('he', 'PRP', 'O'), ('leaves', 'VBZ', 'O'), ('office', 'NN', 'O'), (',', ',', 'O'), ('the', 'DT', 'O'), ('80-year-old', 'JJ', 'O'), ('former', 'JJ', 'O'), ('Navy', 'NNP', 'B-org'), ('secretary', 'NN', 'O'), ('will', 'MD', 'O'), ('have', 'VB', 'O'), ('served', 'VBN', 'O'), ('30', 'CD', 'O'), ('years', 'NNS', 'O'), ('as', 'IN', 'O'), ('a', 'DT', 'O'), ('U.S.', 'NNP', 'B-gpe'), ('senator', 'NN', 'O'), ('.', '.', 'O')], [('The', 'DT', 'O'), ('United', 'NNP', 'B-org'), ('Nations', 'NNP', 'I-org'), ('says', 'VBZ', 'O'), ('December', 'NNP', 'B-tim'), (\"'s\", 'POS', 'O'), ('Indian', 'NNP', 'B-geo'), ('Ocean', 'NNP', 'I-geo'), ('tsunami', 'NN', 'O'), ('caused', 'VBD', 'O'), ('around', 'IN', 'O'), ('$', '$', 'O'), ('520', 'CD', 'O'), ('million', 'CD', 'O'), ('in', 'IN', 'O'), ('damage', 'NN', 'O'), ('to', 'TO', 'O'), ('fishing', 'NN', 'O'), ('industries', 'NNS', 'O'), ('in', 'IN', 'O'), ('seven', 'CD', 'O'), ('of', 'IN', 'O'), ('the', 'DT', 'O'), ('worst', 'RBS', 'O'), ('hit', 'VBN', 'O'), ('countries', 'NNS', 'O'), ('.', '.', 'O')], [('The', 'DT', 'O'), ('U.N.', 'NNP', 'B-org'), (\"'s\", 'POS', 'O'), ('Food', 'NNP', 'B-org'), ('and', 'CC', 'I-org'), ('Agricultural', 'NNP', 'I-org'), ('Organization', 'NNP', 'I-org'), ('(', 'LRB', 'O'), ('FAO', 'NNP', 'B-org'), (')', 'RRB', 'O'), ('said', 'VBD', 'O'), ('the', 'DT', 'O'), ('tsunami', 'NN', 'O'), ('destroyed', 'VBD', 'O'), ('or', 'CC', 'O'), ('damaged', 'VBD', 'O'), ('more', 'JJR', 'O'), ('than', 'IN', 'O'), ('1,11,000', 'CD', 'O'), ('fishing', 'NN', 'O'), ('vessels', 'NNS', 'O'), ('in', 'IN', 'O'), ('the', 'DT', 'O'), ('region', 'NN', 'O'), ('.', '.', 'O')], [('It', 'PRP', 'O'), ('said', 'VBD', 'O'), ('the', 'DT', 'O'), ('loss', 'NN', 'O'), ('was', 'VBD', 'O'), ('significant', 'JJ', 'O'), ('in', 'IN', 'O'), ('a', 'DT', 'O'), ('region', 'NN', 'O'), ('where', 'WRB', 'O'), ('fishing', 'NN', 'O'), ('provides', 'VBZ', 'O'), ('a', 'DT', 'O'), ('vital', 'JJ', 'O'), ('source', 'NN', 'O'), ('of', 'IN', 'O'), ('food', 'NN', 'O'), ('.', '.', 'O')], [('The', 'DT', 'O'), ('FAO', 'NNP', 'B-org'), (\"'s\", 'POS', 'O'), ('estimate', 'NN', 'O'), ('includes', 'VBZ', 'O'), ('damage', 'NN', 'O'), ('to', 'TO', 'O'), ('fishing', 'NN', 'O'), ('industries', 'NNS', 'O'), ('in', 'IN', 'O'), ('Indonesia', 'NNP', 'B-geo'), (',', ',', 'O'), ('Maldives', 'NNP', 'B-geo'), (',', ',', 'O'), ('Somalia', 'NNP', 'B-geo'), (',', ',', 'O'), ('Sri', 'NNP', 'B-geo'), ('Lanka', 'NNP', 'I-geo'), ('and', 'CC', 'O'), ('Thailand', 'NNP', 'B-geo'), ('.', '.', 'O')], [('The', 'DT', 'O'), ('agency', 'NN', 'O'), ('says', 'VBZ', 'O'), ('it', 'PRP', 'O'), ('has', 'VBZ', 'O'), ('sent', 'VBN', 'O'), ('experts', 'NNS', 'O'), ('to', 'TO', 'O'), ('help', 'VB', 'O'), ('rebuild', 'VB', 'O'), ('fishing', 'NN', 'O'), ('industry', 'NN', 'O'), ('infrastructure', 'NN', 'O'), ('lost', 'VBN', 'O'), ('in', 'IN', 'O'), ('the', 'DT', 'O'), ('disaster', 'NN', 'O'), ('and', 'CC', 'O'), ('is', 'VBZ', 'O'), ('developing', 'VBG', 'O'), ('strategies', 'NNS', 'O'), ('for', 'IN', 'O'), ('long-term', 'JJ', 'O'), ('recovery', 'NN', 'O'), ('in', 'IN', 'O'), ('the', 'DT', 'O'), ('region', 'NN', 'O'), ('.', '.', 'O')], [('Officials', 'NNS', 'O'), ('in', 'IN', 'O'), ('Indonesia', 'NNP', 'B-geo'), ('say', 'VBP', 'O'), ('another', 'DT', 'O'), ('person', 'NN', 'O'), ('has', 'VBZ', 'O'), ('died', 'VBN', 'O'), ('from', 'IN', 'O'), ('bird', 'NN', 'O'), ('flu', 'NN', 'O'), (',', ',', 'O'), ('bringing', 'VBG', 'O'), ('the', 'DT', 'O'), ('country', 'NN', 'O'), (\"'s\", 'POS', 'O'), ('death', 'NN', 'O'), ('toll', 'NN', 'O'), ('from', 'IN', 'O'), ('the', 'DT', 'O'), ('disease', 'NN', 'O'), ('to', 'TO', 'O'), ('96', 'CD', 'O'), ('since', 'IN', 'O'), ('the', 'DT', 'O'), ('outbreak', 'NN', 'O'), ('started', 'VBD', 'O'), ('in', 'IN', 'O'), ('2003', 'CD', 'B-tim'), ('.', '.', 'O')], [('The', 'DT', 'O'), ('latest', 'JJS', 'O'), ('victim', 'NN', 'O'), ('was', 'VBD', 'O'), ('a', 'DT', 'O'), ('16-year-old', 'JJ', 'O'), ('girl', 'NN', 'O'), ('from', 'IN', 'O'), ('the', 'DT', 'O'), ('town', 'NN', 'O'), ('of', 'IN', 'O'), ('Bekasi', 'NNP', 'B-geo'), (',', ',', 'O'), ('on', 'IN', 'O'), ('the', 'DT', 'O'), ('eastern', 'JJ', 'O'), ('outskirts', 'NNS', 'O'), ('of', 'IN', 'O'), ('Jakarta', 'NNP', 'B-geo'), ('.', '.', 'O')], [('Officials', 'NNS', 'O'), ('say', 'VBP', 'O'), ('she', 'PRP', 'O'), ('died', 'VBD', 'O'), ('Tuesday', 'NNP', 'B-tim'), ('.', '.', 'O')], [('Monday', 'NNP', 'B-tim'), (',', ',', 'O'), ('officials', 'NNS', 'O'), ('reported', 'VBD', 'O'), ('that', 'IN', 'O'), ('a', 'DT', 'O'), ('32-year-old', 'JJ', 'O'), ('woman', 'NN', 'O'), ('from', 'IN', 'O'), ('an', 'DT', 'O'), ('area', 'NN', 'O'), ('just', 'RB', 'O'), ('west', 'JJS', 'O'), ('of', 'IN', 'O'), ('Jakarta', 'NNP', 'B-geo'), ('died', 'VBD', 'O'), ('of', 'IN', 'O'), ('bird', 'NN', 'O'), ('flu', 'NN', 'O'), ('last', 'JJ', 'O'), ('week', 'NN', 'O'), (',', ',', 'O'), ('at', 'IN', 'O'), ('her', 'PRP$', 'O'), ('home', 'NN', 'O'), ('in', 'IN', 'O'), ('the', 'DT', 'O'), ('city', 'NN', 'O'), ('of', 'IN', 'O'), ('Tangerang', 'NNP', 'B-geo'), ('.', '.', 'O')], [('A', 'DT', 'O'), ('statement', 'NN', 'O'), ('from', 'IN', 'O'), ('the', 'DT', 'O'), ('health', 'NN', 'O'), ('ministry', 'NN', 'O'), ('said', 'VBD', 'O'), ('the', 'DT', 'O'), ('woman', 'NN', 'O'), (\"'s\", 'POS', 'O'), ('family', 'NN', 'O'), ('kept', 'VBD', 'O'), ('chickens', 'NNS', 'O'), ('in', 'IN', 'O'), ('their', 'PRP$', 'O'), ('backyard', 'NN', 'O'), ('.', '.', 'O')], [('Humans', 'NNS', 'O'), ('are', 'VBP', 'O'), ('usually', 'RB', 'O'), ('infected', 'VBN', 'O'), ('with', 'IN', 'O'), ('bird', 'NN', 'O'), ('flu', 'NN', 'O'), ('by', 'IN', 'O'), ('direct', 'JJ', 'O'), ('contact', 'NN', 'O'), ('with', 'IN', 'O'), ('infected', 'JJ', 'O'), ('poultry', 'NN', 'O'), (',', ',', 'O'), ('but', 'CC', 'O'), ('experts', 'NNS', 'O'), ('fear', 'VBP', 'O'), ('the', 'DT', 'O'), ('H5N1', 'NNP', 'B-nat'), ('virus', 'NN', 'O'), ('may', 'MD', 'O'), ('mutate', 'VB', 'O'), ('into', 'IN', 'O'), ('a', 'DT', 'O'), ('form', 'NN', 'O'), ('easily', 'RB', 'O'), ('transmitted', 'VBN', 'O'), ('between', 'IN', 'O'), ('people', 'NNS', 'O'), ('.', '.', 'O')], [('Scientists', 'NNS', 'O'), ('fear', 'VBP', 'O'), ('such', 'JJ', 'O'), ('a', 'DT', 'O'), ('mutation', 'NN', 'O'), ('could', 'MD', 'O'), ('spark', 'VB', 'O'), ('a', 'DT', 'O'), ('global', 'JJ', 'O'), ('pandemic', 'NN', 'O'), ('with', 'IN', 'O'), ('a', 'DT', 'O'), ('potential', 'JJ', 'O'), ('death', 'NN', 'O'), ('toll', 'NN', 'O'), ('of', 'IN', 'O'), ('millions', 'NNS', 'O'), ('.', '.', 'O')], [('Thailand', 'NNP', 'B-gpe'), ('says', 'VBZ', 'O'), ('it', 'PRP', 'O'), ('has', 'VBZ', 'O'), ('photo', 'NN', 'O'), ('evidence', 'NN', 'O'), ('to', 'TO', 'O'), ('prove', 'VB', 'O'), ('its', 'PRP$', 'O'), ('claim', 'NN', 'O'), ('that', 'IN', 'O'), ('Islamic', 'NNP', 'B-org'), ('militants', 'NNS', 'O'), ('responsible', 'JJ', 'O'), ('for', 'IN', 'O'), ('violence', 'NN', 'O'), ('in', 'IN', 'O'), ('Thailand', 'NNP', 'B-geo'), (\"'s\", 'POS', 'O'), ('Muslim-majority', 'JJ', 'O'), ('south', 'NN', 'O'), ('are', 'VBP', 'O'), ('training', 'VBG', 'O'), ('in', 'IN', 'O'), ('neighboring', 'VBG', 'O'), ('Malaysia', 'NNP', 'B-geo'), ('.', '.', 'O')], [('Thai', 'JJ', 'B-gpe'), ('Deputy', 'NNP', 'B-per'), ('Interior', 'NNP', 'I-per'), ('Minister', 'NNP', 'I-per'), ('Sutham', 'NNP', 'I-per'), ('Saengprathum', 'NNP', 'I-per'), ('says', 'VBZ', 'O'), ('the', 'DT', 'O'), ('photos', 'NNS', 'O'), ('show', 'VBP', 'O'), ('the', 'DT', 'O'), ('militants', 'NNS', 'O'), ('training', 'VBG', 'O'), ('in', 'IN', 'O'), ('Malaysia', 'NNP', 'B-geo'), (\"'s\", 'POS', 'O'), ('northern', 'JJ', 'O'), ('Kelantan', 'NNP', 'B-geo'), ('state', 'NN', 'O'), (',', ',', 'O'), ('which', 'WDT', 'O'), ('borders', 'VBZ', 'O'), ('southern', 'JJ', 'O'), ('Thailand', 'NNP', 'B-geo'), ('.', '.', 'O')], [('He', 'PRP', 'O'), ('said', 'VBD', 'O'), ('if', 'IN', 'O'), ('Malaysia', 'NNP', 'B-gpe'), ('wants', 'VBZ', 'O'), ('to', 'TO', 'O'), ('see', 'VB', 'O'), ('the', 'DT', 'O'), ('photos', 'NNS', 'O'), (',', ',', 'O'), ('Bangkok', 'NNP', 'B-gpe'), ('will', 'MD', 'O'), ('provide', 'VB', 'O'), ('them', 'PRP', 'O'), ('.', '.', 'O')], [('Thai', 'JJ', 'B-gpe'), ('Prime', 'NNP', 'B-per'), ('Minister', 'NNP', 'I-per'), ('Thaksin', 'NNP', 'I-per'), ('Shinawatra', 'NNP', 'I-per'), ('has', 'VBZ', 'O'), ('said', 'VBN', 'O'), ('he', 'PRP', 'O'), ('believes', 'VBZ', 'O'), ('some', 'DT', 'O'), ('of', 'IN', 'O'), ('the', 'DT', 'O'), ('insurgents', 'NNS', 'O'), ('have', 'VBP', 'O'), ('been', 'VBN', 'O'), ('trained', 'VBN', 'O'), ('in', 'IN', 'O'), ('Malaysia', 'NNP', 'B-geo'), (',', ',', 'O'), ('Indonesia', 'NNP', 'B-geo'), ('and', 'CC', 'O'), ('southern', 'JJ', 'O'), ('Thailand', 'NNP', 'B-geo'), ('.', '.', 'O')], [('Malaysia', 'NNP', 'B-gpe'), ('and', 'CC', 'O'), ('Indonesia', 'NNP', 'B-gpe'), ('have', 'VBP', 'O'), ('demanded', 'VBN', 'O'), ('proof', 'NN', 'O'), ('of', 'IN', 'O'), ('Bangkok', 'NNP', 'B-gpe'), (\"'s\", 'POS', 'O'), ('allegations', 'NNS', 'O'), ('.', '.', 'O')], [('More', 'JJR', 'O'), ('than', 'IN', 'O'), ('500', 'CD', 'O'), ('people', 'NNS', 'O'), ('have', 'VBP', 'O'), ('been', 'VBN', 'O'), ('killed', 'VBN', 'O'), ('this', 'DT', 'O'), ('year', 'NN', 'O'), ('in', 'IN', 'O'), ('an', 'DT', 'O'), ('insurgency', 'NN', 'O'), ('that', 'IN', 'O'), ('some', 'DT', 'O'), ('say', 'VBP', 'O'), ('is', 'VBZ', 'O'), ('supported', 'VBN', 'O'), ('by', 'IN', 'O'), ('extremist', 'NN', 'O'), ('Muslims', 'NNS', 'B-org'), ('in', 'IN', 'O'), ('Indonesia', 'NNP', 'B-geo'), ('and', 'CC', 'O'), ('Malaysia', 'NNP', 'B-geo'), ('.', '.', 'O')], [('Anti-Japanese', 'JJ', 'O'), ('protests', 'NNS', 'O'), ('in', 'IN', 'O'), ('the', 'DT', 'O'), ('western', 'JJ', 'O'), ('Chinese', 'JJ', 'B-gpe'), ('city', 'NN', 'O'), ('of', 'IN', 'O'), ('Shanghai', 'NNP', 'B-geo'), ('turned', 'VBD', 'O'), ('violent', 'JJ', 'O'), ('Saturday', 'NNP', 'B-tim'), (',', ',', 'O'), ('with', 'IN', 'O'), ('protesters', 'NNS', 'O'), ('pelting', 'VBG', 'O'), ('the', 'DT', 'O'), ('Japanese', 'JJ', 'B-gpe'), ('consulate', 'NN', 'O'), ('with', 'IN', 'O'), ('rocks', 'NNS', 'O'), (',', ',', 'O'), ('bottles', 'NNS', 'O'), ('and', 'CC', 'O'), ('eggs', 'NNS', 'O'), ('.', '.', 'O')], [('Several', 'JJ', 'O'), ('thousand', 'CD', 'O'), ('people', 'NNS', 'O'), ('took', 'VBD', 'O'), ('to', 'TO', 'O'), ('the', 'DT', 'O'), ('streets', 'NNS', 'O'), ('of', 'IN', 'O'), ('Shanghai', 'NNP', 'B-geo'), ('as', 'IN', 'O'), ('part', 'NN', 'O'), ('of', 'IN', 'O'), ('a', 'DT', 'O'), ('new', 'JJ', 'O'), ('wave', 'NN', 'O'), ('of', 'IN', 'O'), ('anti-Japanese', 'JJ', 'O'), ('protests', 'NNS', 'O'), ('over', 'IN', 'O'), ('Japan', 'NNP', 'B-gpe'), (\"'s\", 'POS', 'O'), ('bid', 'NN', 'O'), ('for', 'IN', 'O'), ('a', 'DT', 'O'), ('permanent', 'JJ', 'O'), ('seat', 'NN', 'O'), ('on', 'IN', 'O'), ('the', 'DT', 'O'), ('U.N.', 'NNP', 'B-org'), ('Security', 'NNP', 'I-org'), ('Council', 'NNP', 'I-org'), ('and', 'CC', 'O'), ('Tokyo', 'NNP', 'B-gpe'), (\"'s\", 'POS', 'O'), ('alleged', 'JJ', 'O'), ('downplaying', 'NN', 'O'), ('of', 'IN', 'O'), ('war', 'NN', 'O'), ('atrocities', 'NNS', 'O'), ('.', '.', 'O')], [('In', 'IN', 'O'), ('Beijing', 'NNP', 'B-geo'), (',', ',', 'O'), ('police', 'NNS', 'O'), ('are', 'VBP', 'O'), ('out', 'RB', 'O'), ('in', 'IN', 'O'), ('force', 'NN', 'O'), ('waiting', 'VBG', 'O'), ('for', 'IN', 'O'), ('protests', 'NNS', 'O'), ('to', 'TO', 'O'), ('begin', 'VB', 'O'), ('in', 'IN', 'O'), ('the', 'DT', 'O'), ('capital', 'NN', 'O'), ('.', '.', 'O')], [('State', 'NNP', 'B-per'), ('Councilor', 'NNP', 'I-per'), ('Tang', 'NNP', 'I-per'), ('Jiaxuan', 'NNP', 'I-per'), ('told', 'VBD', 'O'), ('the', 'DT', 'O'), ('official', 'JJ', 'O'), ('Xinhua', 'NNP', 'B-org'), ('news', 'NN', 'O'), ('agency', 'NN', 'O'), ('that', 'IN', 'O'), ('China', 'NNP', 'B-gpe'), (\"'s\", 'POS', 'O'), ('government', 'NN', 'O'), ('is', 'VBZ', 'O'), ('urging', 'VBG', 'O'), ('people', 'NNS', 'O'), ('to', 'TO', 'O'), ('protest', 'VB', 'O'), ('in', 'IN', 'O'), ('a', 'DT', 'O'), ('calm', 'JJ', 'O'), ('and', 'CC', 'O'), ('orderly', 'JJ', 'O'), ('manner', 'NN', 'O'), ('.', '.', 'O')], [('Japan', 'NNP', 'B-geo'), (\"'s\", 'POS', 'O'), ('Foreign', 'NNP', 'B-per'), ('Minister', 'NNP', 'I-per'), (',', ',', 'O'), ('Nobutaka', 'NNP', 'B-per'), ('Machimura', 'NNP', 'I-per'), (',', ',', 'O'), ('arrives', 'VBZ', 'O'), ('Sunday', 'NNP', 'B-tim'), ('in', 'IN', 'O'), ('Beijing', 'NNP', 'B-geo'), ('for', 'IN', 'O'), ('talks', 'NNS', 'O'), ('with', 'IN', 'O'), ('his', 'PRP$', 'O'), ('Chinese', 'JJ', 'B-gpe'), ('counterpart', 'NN', 'O'), (',', ',', 'O'), ('Li', 'NNP', 'B-per'), ('Zhaoxing', 'NNP', 'I-per'), (',', ',', 'O'), ('to', 'TO', 'O'), ('discuss', 'VB', 'O'), ('relations', 'NNS', 'O'), ('between', 'IN', 'O'), ('the', 'DT', 'O'), ('two', 'CD', 'O'), ('countries', 'NNS', 'O'), ('.', '.', 'O')], [('Organizers', 'NNS', 'O'), ('of', 'IN', 'O'), ('the', 'DT', 'O'), ('2012', 'CD', 'B-eve'), ('Summer', 'NNP', 'I-eve'), ('Olympics', 'NNPS', 'I-eve'), ('in', 'IN', 'O'), ('London', 'NNP', 'B-geo'), ('have', 'VBP', 'O'), ('promised', 'VBN', 'O'), ('the', 'DT', 'O'), ('\"', '``', 'O'), ('greenest', 'JJS', 'O'), ('games', 'NNS', 'O'), ('\"', '``', 'O'), ('in', 'IN', 'O'), ('history', 'NN', 'O'), ('and', 'CC', 'O'), ('sought', 'VBD', 'O'), ('to', 'TO', 'O'), ('soothe', 'VB', 'O'), ('concerns', 'NNS', 'O'), ('about', 'IN', 'O'), ('the', 'DT', 'O'), ('rising', 'VBG', 'O'), ('cost', 'NN', 'O'), ('of', 'IN', 'O'), ('the', 'DT', 'O'), ('event', 'NN', 'O'), ('.', '.', 'O')], [('With', 'IN', 'O'), ('2,012', 'CD', 'O'), ('days', 'NNS', 'O'), ('to', 'TO', 'O'), ('go', 'VB', 'O'), ('until', 'IN', 'O'), ('the', 'DT', 'O'), ('Games', 'NNPS', 'B-eve'), ('get', 'VBP', 'O'), ('under', 'IN', 'O'), ('way', 'NN', 'O'), (',', ',', 'O'), ('organizers', 'NNS', 'O'), ('said', 'VBD', 'O'), ('the', 'DT', 'O'), ('design', 'NN', 'O'), ('would', 'MD', 'O'), ('champion', 'JJ', 'O'), ('low', 'JJ', 'O'), ('waste', 'NN', 'O'), (',', ',', 'O'), ('low', 'JJ', 'O'), ('carbon', 'NN', 'O'), ('emissions', 'NNS', 'O'), ('and', 'CC', 'O'), ('environmentally', 'RB', 'O'), ('friendly', 'JJ', 'O'), ('transportation', 'NN', 'O'), ('.', '.', 'O')], [('The', 'DT', 'O'), ('Olympic', 'NNP', 'B-org'), ('Delivery', 'NNP', 'I-org'), ('Authority', 'NNP', 'I-org'), ('has', 'VBZ', 'O'), ('promised', 'VBN', 'O'), ('to', 'TO', 'O'), ('cut', 'VB', 'O'), ('emissions', 'NNS', 'O'), ('50', 'CD', 'O'), ('percent', 'NN', 'O'), ('by', 'IN', 'O'), ('generating', 'VBG', 'O'), ('energy', 'NN', 'O'), ('on', 'IN', 'O'), ('site', 'NN', 'O'), ('and', 'CC', 'O'), ('using', 'VBG', 'O'), ('renewable', 'JJ', 'O'), ('energy', 'NN', 'O'), ('.', '.', 'O')], [('Prime', 'NNP', 'B-per'), ('Minister', 'NNP', 'I-per'), ('Tony', 'NNP', 'I-per'), ('Blair', 'NNP', 'I-per'), ('said', 'VBD', 'O'), ('London', 'NNP', 'B-gpe'), ('is', 'VBZ', 'O'), ('farther', 'RB', 'O'), ('ahead', 'RB', 'O'), ('in', 'IN', 'O'), ('preparations', 'NNS', 'O'), ('at', 'IN', 'O'), ('this', 'DT', 'O'), ('stage', 'NN', 'O'), ('than', 'IN', 'O'), ('any', 'DT', 'O'), ('other', 'JJ', 'O'), ('previous', 'JJ', 'O'), ('Olympic', 'JJ', 'O'), ('host', 'NN', 'O'), ('city', 'NN', 'O'), ('.', '.', 'O')], [('The', 'DT', 'O'), ('British', 'JJ', 'B-gpe'), ('government', 'NN', 'O'), ('wants', 'VBZ', 'O'), ('to', 'TO', 'O'), ('have', 'VB', 'O'), ('the', 'DT', 'O'), ('Olympic', 'NNP', 'O'), ('budget', 'NN', 'O'), ('finalized', 'VBN', 'O'), ('early', 'RB', 'O'), ('this', 'DT', 'O'), ('year', 'NN', 'O'), (',', ',', 'O'), ('but', 'CC', 'O'), ('costs', 'NNS', 'O'), ('have', 'VBP', 'O'), ('already', 'RB', 'O'), ('risen', 'VBN', 'O'), ('substantially', 'RB', 'O'), ('since', 'IN', 'O'), ('London', 'NNP', 'B-gpe'), ('won', 'VBD', 'O'), ('the', 'DT', 'O'), ('bid', 'NN', 'O'), ('in', 'IN', 'O'), ('July', 'NNP', 'B-tim'), ('of', 'IN', 'I-tim'), ('2005', 'CD', 'I-tim'), ('.', '.', 'O')], [('A', 'DT', 'O'), ('select', 'JJ', 'O'), ('committee', 'NN', 'O'), ('report', 'NN', 'O'), ('due', 'JJ', 'O'), ('Wednesday', 'NNP', 'B-tim'), ('is', 'VBZ', 'O'), ('expected', 'VBN', 'O'), ('to', 'TO', 'O'), ('be', 'VB', 'O'), ('highly', 'RB', 'O'), ('critical', 'JJ', 'O'), ('of', 'IN', 'O'), ('the', 'DT', 'O'), ('government', 'NN', 'O'), (\"'s\", 'POS', 'O'), ('financing', 'NN', 'O'), ('of', 'IN', 'O'), ('the', 'DT', 'O'), ('Games', 'NNPS', 'B-eve'), ('.', '.', 'O')], [('China', 'NNP', 'B-geo'), (\"'s\", 'POS', 'O'), ('giant', 'JJ', 'O'), ('pandas', 'NNS', 'O'), ('have', 'VBP', 'O'), ('been', 'VBN', 'O'), ('on', 'IN', 'O'), ('endangered', 'JJ', 'O'), ('species', 'NNS', 'O'), ('lists', 'NNS', 'O'), ('for', 'IN', 'O'), ('nearly', 'RB', 'O'), ('30', 'CD', 'O'), ('years', 'NNS', 'O'), ('.', '.', 'O')], [('There', 'EX', 'O'), ('are', 'VBP', 'O'), ('only', 'RB', 'O'), ('about', 'IN', 'O'), ('1,600', 'CD', 'O'), ('pandas', 'NNS', 'O'), ('still', 'RB', 'O'), ('living', 'VBG', 'O'), ('in', 'IN', 'O'), ('the', 'DT', 'O'), ('wild', 'NN', 'O'), ('in', 'IN', 'O'), ('China', 'NNP', 'B-geo'), ('.', '.', 'O')], [('One', 'CD', 'O'), ('of', 'IN', 'O'), ('the', 'DT', 'O'), ('2008', 'CD', 'B-eve'), ('Olympic', 'JJ', 'I-eve'), ('mascots', 'NNS', 'O'), ('is', 'VBZ', 'O'), ('modeled', 'VBN', 'O'), ('on', 'IN', 'O'), ('a', 'DT', 'O'), ('panda', 'NN', 'O'), ('called', 'VBN', 'O'), ('Jing', 'NNP', 'B-nat'), ('Jing', 'NNP', 'I-nat'), ('.', '.', 'O')], [('Conservationists', 'NNS', 'O'), ('hope', 'VBP', 'O'), ('she', 'PRP', 'O'), ('will', 'MD', 'O'), ('help', 'VB', 'O'), ('draw', 'VB', 'O'), ('attention', 'NN', 'O'), ('to', 'TO', 'O'), ('the', 'DT', 'O'), ('threats', 'NNS', 'O'), ('facing', 'VBG', 'O'), ('the', 'DT', 'O'), ('giant', 'JJ', 'O'), ('panda', 'NN', 'O'), ('--', 'IN', 'O'), ('one', 'CD', 'O'), ('of', 'IN', 'O'), ('China', 'NNP', 'B-gpe'), (\"'s\", 'POS', 'O'), ('national', 'JJ', 'O'), ('symbols', 'NNS', 'O'), ('.', '.', 'O')], [('Sam', 'NNP', 'B-per'), ('Beattie', 'NNP', 'I-per'), ('reports', 'VBZ', 'O'), ('from', 'IN', 'O'), ('Jing', 'NNP', 'B-nat'), ('Jing', 'NNP', 'I-nat'), (\"'s\", 'POS', 'O'), ('home', 'NN', 'O'), ('in', 'IN', 'O'), ('Sichuan', 'NNP', 'B-geo'), ('province', 'NN', 'O'), ('.', '.', 'O')], [('British', 'JJ', 'B-gpe'), ('defense', 'NN', 'O'), ('officials', 'NNS', 'O'), ('say', 'VBP', 'O'), ('14', 'CD', 'O'), ('British', 'JJ', 'B-gpe'), ('military', 'JJ', 'O'), ('personnel', 'NNS', 'O'), ('have', 'VBP', 'O'), ('been', 'VBN', 'O'), ('killed', 'VBN', 'O'), ('in', 'IN', 'O'), ('a', 'DT', 'O'), ('crash', 'NN', 'O'), ('of', 'IN', 'O'), ('a', 'DT', 'O'), ('NATO', 'NNP', 'B-org'), ('aircraft', 'NN', 'O'), ('in', 'IN', 'O'), ('southern', 'JJ', 'O'), ('Afghanistan', 'NNP', 'B-geo'), ('.', '.', 'O')], [('A', 'DT', 'O'), ('NATO', 'NNP', 'B-org'), ('spokesman', 'NN', 'O'), ('says', 'VBZ', 'O'), ('the', 'DT', 'O'), ('aircraft', 'NN', 'O'), ('went', 'VBD', 'O'), ('off', 'IN', 'O'), ('the', 'DT', 'O'), ('radar', 'NN', 'O'), ('and', 'CC', 'O'), ('crashed', 'VBD', 'O'), ('in', 'IN', 'O'), ('an', 'DT', 'O'), ('open', 'JJ', 'O'), ('area', 'NN', 'O'), ('near', 'IN', 'O'), ('Kandahar', 'NNP', 'B-geo'), ('Saturday', 'NNP', 'B-tim'), ('.', '.', 'O')], [('Officials', 'NNS', 'O'), ('say', 'VBP', 'O'), ('the', 'DT', 'O'), ('aircraft', 'NN', 'O'), ('was', 'VBD', 'O'), ('supporting', 'VBG', 'O'), ('a', 'DT', 'O'), ('NATO', 'NNP', 'B-org'), ('mission', 'NN', 'O'), ('in', 'IN', 'O'), ('the', 'DT', 'O'), ('country', 'NN', 'O'), (\"'s\", 'POS', 'O'), ('south', 'NN', 'O'), (',', ',', 'O'), ('but', 'CC', 'O'), ('there', 'EX', 'O'), ('is', 'VBZ', 'O'), ('no', 'DT', 'O'), ('indication', 'NN', 'O'), ('of', 'IN', 'O'), ('enemy', 'NN', 'O'), ('action', 'NN', 'O'), ('causing', 'VBG', 'O'), ('the', 'DT', 'O'), ('crash', 'NN', 'O'), ('.', '.', 'O')], [('The', 'DT', 'O'), ('crash', 'NN', 'O'), ('comes', 'VBZ', 'O'), ('as', 'IN', 'O'), ('NATO', 'NNP', 'B-org'), ('forces', 'NNS', 'O'), ('launched', 'VBD', 'O'), ('an', 'DT', 'O'), ('offensive', 'NN', 'O'), ('to', 'TO', 'O'), ('drive', 'VB', 'O'), ('Taleban', 'NNP', 'B-org'), ('remnants', 'NNS', 'O'), ('out', 'IN', 'O'), ('of', 'IN', 'O'), ('Kandahar', 'NNP', 'B-geo'), ('.', '.', 'O')], [('Officials', 'NNS', 'O'), ('say', 'VBP', 'O'), ('\"', '``', 'O'), ('Operation', 'NNP', 'B-eve'), ('Medusa', 'NNP', 'I-eve'), ('\"', '``', 'O'), ('is', 'VBZ', 'O'), ('aimed', 'VBN', 'O'), ('at', 'IN', 'O'), ('removing', 'VBG', 'O'), ('the', 'DT', 'O'), ('Taleban', 'NNP', 'B-org'), ('threat', 'NN', 'O'), ('so', 'RB', 'O'), ('that', 'IN', 'O'), ('stability', 'NN', 'O'), (',', ',', 'O'), ('reconstruction', 'NN', 'O'), ('and', 'CC', 'O'), ('development', 'NN', 'O'), ('can', 'MD', 'O'), ('be', 'VB', 'O'), ('achieved', 'VBN', 'O'), ('in', 'IN', 'O'), ('the', 'DT', 'O'), ('area', 'NN', 'O'), ('.', '.', 'O')], [('Sri', 'NNP', 'B-geo'), ('Lankan', 'NNP', 'B-gpe'), ('authorities', 'NNS', 'O'), ('say', 'VBP', 'O'), ('a', 'DT', 'O'), ('prominent', 'JJ', 'O'), ('Tamil', 'NNP', 'B-org'), ('journalist', 'NN', 'O'), ('was', 'VBD', 'O'), ('found', 'VBN', 'O'), ('shot', 'VBN', 'O'), ('dead', 'JJ', 'O'), ('Friday', 'NNP', 'B-tim'), ('in', 'IN', 'O'), ('Colombo', 'NNP', 'B-geo'), (',', ',', 'O'), ('hours', 'NNS', 'O'), ('after', 'IN', 'O'), ('he', 'PRP', 'O'), ('was', 'VBD', 'O'), ('abducted', 'VBN', 'O'), ('by', 'IN', 'O'), ('several', 'JJ', 'O'), ('attackers', 'NNS', 'O'), ('as', 'IN', 'O'), ('he', 'PRP', 'O'), ('left', 'VBD', 'O'), ('a', 'DT', 'O'), ('restaurant', 'NN', 'O'), ('.', '.', 'O')], [('Dharmeratnam', 'NNP', 'B-per'), ('Sivaram', 'NNP', 'I-per'), ('was', 'VBD', 'O'), ('a', 'DT', 'O'), ('board', 'NN', 'O'), ('member', 'NN', 'O'), ('of', 'IN', 'O'), ('the', 'DT', 'O'), ('pro-rebel', 'JJ', 'O'), ('TamilNet', 'NNP', 'B-org'), ('Web', 'NNP', 'B-art'), ('site', 'NN', 'O'), ('and', 'CC', 'O'), ('a', 'DT', 'O'), ('columnist', 'NN', 'O'), ('for', 'IN', 'O'), ('Sri', 'NNP', 'B-gpe'), ('Lanka', 'NNP', 'I-gpe'), (\"'s\", 'POS', 'O'), ('english', 'NNP', 'B-art'), ('newspaper', 'NN', 'O'), (',', ',', 'O'), ('the', 'DT', 'O'), ('Daily', 'NNP', 'B-art'), ('Mirror', 'NNP', 'I-art'), ('.', '.', 'O')], [('Mr.', 'NNP', 'B-per'), ('Sivaram', 'NNP', 'I-per'), (\"'s\", 'POS', 'O'), ('Web', 'NNP', 'B-art'), ('site', 'NN', 'O'), ('became', 'VBD', 'O'), ('popular', 'JJ', 'O'), ('for', 'IN', 'O'), ('ongoing', 'JJ', 'O'), ('reports', 'NNS', 'O'), ('on', 'IN', 'O'), ('the', 'DT', 'O'), ('Sri', 'NNP', 'B-org'), ('Lankan', 'NNP', 'B-geo'), ('civil', 'JJ', 'O'), ('war', 'NN', 'O'), ('and', 'CC', 'O'), ('was', 'VBD', 'O'), ('a', 'DT', 'O'), ('prominent', 'JJ', 'O'), ('supporter', 'NN', 'O'), ('of', 'IN', 'O'), ('the', 'DT', 'O'), ('Tamil', 'NNP', 'B-org'), ('Tiger', 'NNP', 'I-org'), ('rebel', 'NN', 'O'), ('movement', 'NN', 'O'), ('.', '.', 'O')], [('Mr.', 'NNP', 'B-per'), ('Sivaram', 'NNP', 'I-per'), (',', ',', 'O'), ('who', 'WP', 'O'), ('was', 'VBD', 'O'), ('also', 'RB', 'O'), ('brutally', 'RB', 'O'), ('attacked', 'VBN', 'O'), ('in', 'IN', 'O'), ('2001', 'CD', 'B-tim'), (',', ',', 'O'), ('was', 'VBD', 'O'), ('found', 'VBN', 'O'), ('near', 'IN', 'O'), ('a', 'DT', 'O'), ('lake', 'NN', 'O'), ('gagged', 'VBN', 'O'), ('with', 'IN', 'O'), ('gunshot', 'NN', 'O'), ('wounds', 'NNS', 'O'), ('to', 'TO', 'O'), ('the', 'DT', 'O'), ('head', 'NN', 'O'), ('.', '.', 'O')], [('No', 'DT', 'O'), ('one', 'NN', 'O'), ('claimed', 'VBD', 'O'), ('responsibility', 'NN', 'O'), ('for', 'IN', 'O'), ('the', 'DT', 'O'), ('killing', 'NN', 'O'), ('.', '.', 'O')], [('Japan', 'NNP', 'B-gpe'), ('and', 'CC', 'O'), ('North', 'NNP', 'B-gpe'), ('Korea', 'NNP', 'I-gpe'), ('say', 'VBP', 'O'), ('they', 'PRP', 'O'), ('are', 'VBP', 'O'), ('considering', 'VBG', 'O'), ('a', 'DT', 'O'), ('resumption', 'NN', 'O'), ('of', 'IN', 'O'), ('bilateral', 'JJ', 'O'), ('talks', 'NNS', 'O'), ('as', 'IN', 'O'), ('part', 'NN', 'O'), ('of', 'IN', 'O'), ('efforts', 'NNS', 'O'), ('to', 'TO', 'O'), ('normalize', 'VB', 'O'), ('relations', 'NNS', 'O'), ('.', '.', 'O')], [('Japanese', 'JJ', 'B-gpe'), ('media', 'NNS', 'O'), ('reported', 'VBD', 'O'), ('Monday', 'NNP', 'B-tim'), ('that', 'IN', 'O'), ('the', 'DT', 'O'), ('two', 'CD', 'O'), ('countries', 'NNS', 'O'), ('hope', 'VBP', 'O'), ('to', 'TO', 'O'), ('arrange', 'VB', 'O'), ('to', 'TO', 'O'), ('hold', 'VB', 'O'), ('the', 'DT', 'O'), ('talks', 'NNS', 'O'), ('in', 'IN', 'O'), ('Beijing', 'NNP', 'B-geo'), ('in', 'IN', 'O'), ('early', 'JJ', 'O'), ('November', 'NNP', 'B-tim'), ('.', '.', 'O')], [('The', 'DT', 'O'), ('talks', 'NNS', 'O'), ('could', 'MD', 'O'), ('come', 'VB', 'O'), ('before', 'IN', 'O'), ('six-party', 'JJ', 'O'), ('talks', 'NNS', 'O'), ('on', 'IN', 'O'), ('North', 'NNP', 'B-gpe'), ('Korea', 'NNP', 'I-gpe'), (\"'s\", 'POS', 'O'), ('nuclear', 'JJ', 'O'), ('ambitions', 'NNS', 'O'), ('resume', 'VBP', 'O'), ('.', '.', 'O')], [('Japan', 'NNP', 'B-gpe'), ('and', 'CC', 'O'), ('North', 'NNP', 'B-gpe'), ('Korea', 'NNP', 'I-gpe'), ('have', 'VBP', 'O'), ('not', 'RB', 'O'), ('had', 'VBN', 'O'), ('formal', 'JJ', 'O'), ('bilateral', 'JJ', 'O'), ('talks', 'NNS', 'O'), ('for', 'IN', 'O'), ('about', 'RB', 'O'), ('a', 'DT', 'O'), ('year', 'NN', 'O'), ('.', '.', 'O')], [('Tokyo', 'NNP', 'B-gpe'), ('and', 'CC', 'O'), ('Pyongyang', 'NNP', 'B-gpe'), ('are', 'VBP', 'O'), ('at', 'IN', 'O'), ('odds', 'NNS', 'O'), ('over', 'IN', 'O'), ('North', 'NNP', 'B-gpe'), ('Korea', 'NNP', 'I-gpe'), (\"'s\", 'POS', 'O'), ('nuclear', 'JJ', 'O'), ('weapons', 'NNS', 'O'), ('program', 'NN', 'O'), ('and', 'CC', 'O'), ('the', 'DT', 'O'), ('North', 'NNP', 'B-gpe'), (\"'s\", 'POS', 'O'), ('kidnapping', 'NN', 'O'), ('of', 'IN', 'O'), ('Japanese', 'JJ', 'B-gpe'), ('citizens', 'NNS', 'O'), ('in', 'IN', 'O'), ('the', 'DT', 'O'), ('1970s', 'NNS', 'B-tim'), ('and', 'CC', 'O'), ('1980s', 'NNS', 'B-tim'), ('.', '.', 'O')], [('A', 'DT', 'O'), ('human', 'JJ', 'O'), ('rights', 'NNS', 'O'), ('group', 'NN', 'O'), ('has', 'VBZ', 'O'), ('accused', 'VBN', 'O'), ('coalition', 'NN', 'O'), ('forces', 'NNS', 'O'), ('in', 'IN', 'O'), ('Iraq', 'NNP', 'B-geo'), ('of', 'IN', 'O'), ('failing', 'VBG', 'O'), ('to', 'TO', 'O'), ('secure', 'VB', 'O'), ('evidence', 'NN', 'O'), ('considered', 'VBN', 'O'), ('vital', 'JJ', 'O'), ('to', 'TO', 'O'), ('the', 'DT', 'O'), ('upcoming', 'JJ', 'O'), ('war', 'NN', 'O'), ('crimes', 'NNS', 'O'), ('trial', 'NN', 'O'), ('of', 'IN', 'O'), ('former', 'JJ', 'O'), ('Iraqi', 'JJ', 'B-gpe'), ('leader', 'NN', 'O'), ('Saddam', 'NNP', 'B-per'), ('Hussein', 'NNP', 'I-per'), ('.', '.', 'O')], [('Human', 'NNP', 'B-org'), ('Rights', 'NNP', 'I-org'), ('Watch', 'NNP', 'I-org'), (',', ',', 'O'), ('in', 'IN', 'O'), ('a', 'DT', 'O'), ('report', 'NN', 'O'), ('released', 'VBN', 'O'), ('Thursday', 'NNP', 'B-tim'), (',', ',', 'O'), ('said', 'VBD', 'O'), ('coalition', 'NN', 'O'), ('forces', 'NNS', 'O'), ('failed', 'VBD', 'O'), ('to', 'TO', 'O'), ('stop', 'VB', 'O'), ('people', 'NNS', 'O'), ('from', 'IN', 'O'), ('stealing', 'VBG', 'O'), ('thousands', 'NNS', 'O'), ('of', 'IN', 'O'), ('Iraqi', 'JJ', 'B-gpe'), ('government', 'NN', 'O'), ('documents', 'NNS', 'O'), ('in', 'IN', 'O'), ('the', 'DT', 'O'), ('months', 'NNS', 'O'), ('after', 'IN', 'O'), ('the', 'DT', 'O'), ('2003', 'CD', 'B-tim'), ('invasion', 'NN', 'O'), ('of', 'IN', 'O'), ('Iraq', 'NNP', 'B-geo'), ('.', '.', 'O')], [('The', 'DT', 'O'), ('group', 'NN', 'O'), ('also', 'RB', 'O'), ('accused', 'VBD', 'O'), ('troops', 'NNS', 'O'), ('of', 'IN', 'O'), ('failing', 'VBG', 'O'), ('to', 'TO', 'O'), ('stop', 'VB', 'O'), ('people', 'NNS', 'O'), ('from', 'IN', 'O'), ('damaging', 'VBG', 'O'), ('several', 'JJ', 'O'), ('mass', 'NN', 'O'), ('graves', 'NNS', 'O'), ('in', 'IN', 'O'), ('the', 'DT', 'O'), ('war-torn', 'JJ', 'O'), ('country', 'NN', 'O'), ('.', '.', 'O')], [('The', 'DT', 'O'), ('Associated', 'NNP', 'B-org'), ('Press', 'NNP', 'I-org'), ('quotes', 'VBZ', 'O'), ('a', 'DT', 'O'), ('U.S.', 'NNP', 'B-gpe'), ('Defense', 'NNP', 'B-org'), ('Department', 'NNP', 'I-org'), ('spokeswoman', 'NN', 'O'), ('as', 'IN', 'O'), ('saying', 'VBG', 'O'), ('it', 'PRP', 'O'), ('has', 'VBZ', 'O'), ('not', 'RB', 'O'), ('reviewed', 'VBN', 'O'), ('the', 'DT', 'O'), ('report', 'NN', 'O'), ('.', '.', 'O')], [('Saddam', 'NNP', 'B-per'), ('Hussein', 'NNP', 'I-per'), ('was', 'VBD', 'O'), ('arraigned', 'VBN', 'O'), ('in', 'IN', 'O'), ('July', 'NNP', 'B-tim'), ('at', 'IN', 'O'), ('a', 'DT', 'O'), ('U.S.', 'NNP', 'B-gpe'), ('military', 'NN', 'O'), ('base', 'NN', 'O'), ('on', 'IN', 'O'), ('the', 'DT', 'O'), ('outskirts', 'NNS', 'O'), ('of', 'IN', 'O'), ('Baghdad', 'NNP', 'B-geo'), ('.', '.', 'O')], [('He', 'PRP', 'O'), ('faces', 'VBZ', 'O'), ('charges', 'NNS', 'O'), ('of', 'IN', 'O'), ('war', 'NN', 'O'), ('crimes', 'NNS', 'O'), (',', ',', 'O'), ('genocide', 'NN', 'O'), ('and', 'CC', 'O'), ('crimes', 'NNS', 'O'), ('against', 'IN', 'O'), ('humanity', 'NN', 'O'), ('.', '.', 'O')], [('Egypt', 'NNP', 'B-gpe'), (\"'s\", 'POS', 'O'), ('government', 'NN', 'O'), ('and', 'CC', 'O'), ('the', 'DT', 'O'), ('World', 'NNP', 'B-org'), ('Health', 'NNP', 'I-org'), ('Organization', 'NNP', 'I-org'), ('say', 'VBP', 'O'), ('three', 'CD', 'O'), ('Egyptian', 'JJ', 'B-gpe'), ('children', 'NNS', 'O'), ('have', 'VBP', 'O'), ('been', 'VBN', 'O'), ('hospitalized', 'VBN', 'O'), ('with', 'IN', 'O'), ('the', 'DT', 'O'), ('deadly', 'JJ', 'O'), ('form', 'NN', 'O'), ('of', 'IN', 'O'), ('avian', 'JJ', 'O'), ('flu', 'NN', 'O'), ('.', '.', 'O')], [('The', 'DT', 'O'), ('children', 'NNS', 'O'), ('come', 'VBP', 'O'), ('from', 'IN', 'O'), ('different', 'JJ', 'O'), ('parts', 'NNS', 'O'), ('of', 'IN', 'O'), ('the', 'DT', 'O'), ('country', 'NN', 'O'), ('.', '.', 'O')], [('WHO', 'NNP', 'B-org'), ('says', 'VBZ', 'O'), ('they', 'PRP', 'O'), ('are', 'VBP', 'O'), ('receiving', 'VBG', 'O'), ('treatment', 'NN', 'O'), ('and', 'CC', 'O'), ('are', 'VBP', 'O'), ('in', 'IN', 'O'), ('stable', 'JJ', 'O'), ('condition', 'NN', 'O'), ('.', '.', 'O')], [('The', 'DT', 'O'), ('organization', 'NN', 'O'), ('says', 'VBZ', 'O'), ('the', 'DT', 'O'), ('children', 'NNS', 'O'), ('had', 'VBD', 'O'), ('a', 'DT', 'O'), ('history', 'NN', 'O'), ('of', 'IN', 'O'), ('contact', 'NN', 'O'), ('with', 'IN', 'O'), ('dead', 'JJ', 'O'), ('birds', 'NNS', 'O'), ('.', '.', 'O')], [('Thirty', 'CD', 'O'), ('two', 'CD', 'O'), ('Egyptians', 'NNS', 'B-gpe'), ('have', 'VBP', 'O'), ('contracted', 'VBN', 'O'), ('the', 'DT', 'O'), ('H5N1', 'NNP', 'B-nat'), ('form', 'NN', 'O'), ('of', 'IN', 'O'), ('avian', 'JJ', 'O'), ('flu', 'NN', 'O'), ('.', '.', 'O')], [('Thirteen', 'CD', 'O'), ('of', 'IN', 'O'), ('them', 'PRP', 'O'), ('have', 'VBP', 'O'), ('died', 'VBN', 'O'), ('.', '.', 'O')], [('Egypt', 'NNP', 'B-geo'), ('has', 'VBZ', 'O'), ('had', 'VBN', 'O'), ('the', 'DT', 'O'), ('largest', 'JJS', 'O'), ('number', 'NN', 'O'), ('of', 'IN', 'O'), ('human', 'JJ', 'O'), ('bird', 'NN', 'O'), ('flu', 'NN', 'O'), ('cases', 'NNS', 'O'), ('outside', 'IN', 'O'), ('of', 'IN', 'O'), ('Asia', 'NNP', 'B-geo'), ('.', '.', 'O')], [('The', 'DT', 'O'), ('head', 'NN', 'O'), ('of', 'IN', 'O'), ('the', 'DT', 'O'), ('U.N.', 'NNP', 'B-org'), ('investigation', 'NN', 'O'), ('into', 'IN', 'O'), ('the', 'DT', 'O'), ('Iraq', 'NNP', 'B-gpe'), ('oil-for-food', 'NN', 'O'), ('program', 'NN', 'O'), ('says', 'VBZ', 'O'), ('Saddam', 'NNP', 'B-per'), ('Hussein', 'NNP', 'I-per'), ('illegally', 'RB', 'O'), ('obtained', 'VBD', 'O'), ('more', 'JJR', 'O'), ('money', 'NN', 'O'), ('from', 'IN', 'O'), ('oil', 'NN', 'O'), ('smuggling', 'NN', 'O'), ('than', 'IN', 'O'), ('from', 'IN', 'O'), ('corruption', 'NN', 'O'), ('in', 'IN', 'O'), ('the', 'DT', 'O'), ('U.N.', 'NNP', 'B-org'), ('program', 'NN', 'O'), ('.', '.', 'O')], [('Former', 'JJ', 'O'), ('U.S.', 'NNP', 'B-gpe'), ('Federal', 'NNP', 'B-org'), ('Reserve', 'NNP', 'I-org'), ('Chairman', 'NNP', 'B-per'), ('Paul', 'NNP', 'I-per'), ('Volcker', 'NNP', 'I-per'), ('says', 'VBZ', 'O'), ('the', 'DT', 'O'), ('smuggling', 'NN', 'O'), ('began', 'VBD', 'O'), ('before', 'IN', 'O'), ('the', 'DT', 'O'), ('start', 'NN', 'O'), ('of', 'IN', 'O'), ('the', 'DT', 'O'), ('oil-for-food', 'NN', 'O'), ('program', 'NN', 'O'), (',', ',', 'O'), ('and', 'CC', 'O'), ('was', 'VBD', 'O'), ('known', 'VBN', 'O'), ('to', 'TO', 'O'), ('the', 'DT', 'O'), ('United', 'NNP', 'B-org'), ('Nations', 'NNP', 'I-org'), ('Security', 'NNP', 'I-org'), ('Council', 'NNP', 'I-org'), ('.', '.', 'O')], [('In', 'IN', 'O'), ('an', 'DT', 'O'), ('interview', 'NN', 'O'), ('with', 'IN', 'O'), ('the', 'DT', 'O'), ('U.S.', 'NNP', 'B-gpe'), ('government-funded', 'JJ', 'B-org'), ('alHurra', 'NNP', 'B-art'), ('television', 'NN', 'O'), ('station', 'NN', 'O'), (',', ',', 'O'), ('Mr.', 'NNP', 'B-per'), ('Volcker', 'NNP', 'I-per'), ('said', 'VBD', 'O'), ('there', 'EX', 'O'), ('is', 'VBZ', 'O'), ('a', 'DT', 'O'), ('lot', 'NN', 'O'), ('of', 'IN', 'O'), ('confusion', 'NN', 'O'), ('about', 'IN', 'O'), ('how', 'WRB', 'O'), ('much', 'JJ', 'O'), ('money', 'NN', 'O'), ('Saddam', 'NNP', 'B-per'), ('obtained', 'VBD', 'O'), ('from', 'IN', 'O'), ('the', 'DT', 'O'), ('oil-for-food', 'NN', 'O'), ('program', 'NN', 'O'), ('itself', 'PRP', 'O'), ('.', '.', 'O')], [('He', 'PRP', 'O'), ('refused', 'VBD', 'O'), ('to', 'TO', 'O'), ('provide', 'VB', 'O'), ('specific', 'JJ', 'O'), ('estimates', 'NNS', 'O'), (',', ',', 'O'), ('but', 'CC', 'O'), ('said', 'VBD', 'O'), ('large', 'JJ', 'O'), ('amounts', 'NNS', 'O'), ('that', 'WDT', 'O'), ('have', 'VBP', 'O'), ('been', 'VBN', 'O'), ('reported', 'VBN', 'O'), ('in', 'IN', 'O'), ('the', 'DT', 'O'), ('media', 'NNS', 'O'), ('were', 'VBD', 'O'), ('from', 'IN', 'O'), ('smuggling', 'VBG', 'O'), ('and', 'CC', 'O'), ('not', 'RB', 'O'), ('from', 'IN', 'O'), ('funds', 'NNS', 'O'), ('diverted', 'VBN', 'O'), ('from', 'IN', 'O'), ('the', 'DT', 'O'), ('program', 'NN', 'O'), ('.', '.', 'O')], [('The', 'DT', 'O'), ('United', 'NNP', 'B-org'), ('Nations', 'NNPS', 'I-org'), ('created', 'VBD', 'O'), ('the', 'DT', 'O'), ('oil-for-food', 'NN', 'O'), ('program', 'NN', 'O'), ('after', 'IN', 'O'), ('the', 'DT', 'O'), ('first', 'JJ', 'O'), ('Gulf', 'NNP', 'B-eve'), ('War', 'NNP', 'I-eve'), ('to', 'TO', 'O'), ('allow', 'VB', 'O'), ('Iraq', 'NNP', 'B-gpe'), ('to', 'TO', 'O'), ('sell', 'VB', 'O'), ('oil', 'NN', 'O'), ('and', 'CC', 'O'), ('use', 'VB', 'O'), ('the', 'DT', 'O'), ('profits', 'NNS', 'O'), ('for', 'IN', 'O'), ('the', 'DT', 'O'), ('Iraqi', 'JJ', 'B-gpe'), ('people', 'NNS', 'O'), (\"'s\", 'POS', 'O'), ('humanitarian', 'JJ', 'O'), ('needs', 'NNS', 'O'), ('.', '.', 'O')], [('Kyrgyzstan', 'NNP', 'B-gpe'), (\"'s\", 'POS', 'O'), ('Justice', 'NNP', 'B-org'), ('Ministry', 'NNP', 'I-org'), ('says', 'VBZ', 'O'), ('four', 'CD', 'O'), ('people', 'NNS', 'O'), (',', ',', 'O'), ('including', 'VBG', 'O'), ('parliament', 'NN', 'O'), ('member', 'NN', 'O'), ('Tynychbek', 'NNP', 'B-per'), ('Akmatbayev', 'NNP', 'I-per'), (',', ',', 'O'), ('have', 'VBP', 'O'), ('been', 'VBN', 'O'), ('killed', 'VBN', 'O'), ('at', 'IN', 'O'), ('a', 'DT', 'O'), ('prison', 'NN', 'O'), ('near', 'IN', 'O'), ('Bishkek', 'NNP', 'B-geo'), ('after', 'IN', 'O'), ('inmates', 'NNS', 'O'), ('took', 'VBD', 'O'), ('them', 'PRP', 'O'), ('hostage', 'NN', 'O'), ('.', '.', 'O')], [('Interior', 'NNP', 'B-per'), ('Minister', 'NNP', 'I-per'), ('Murat', 'NNP', 'I-per'), ('Sutalinov', 'NNP', 'I-per'), ('is', 'VBZ', 'O'), ('at', 'IN', 'O'), ('the', 'DT', 'O'), ('prison', 'NN', 'O'), ('to', 'TO', 'O'), ('head', 'VB', 'O'), ('negotiations', 'NNS', 'O'), ('with', 'IN', 'O'), ('the', 'DT', 'O'), ('inmates', 'NNS', 'O'), ('.', '.', 'O')], [('The', 'DT', 'O'), ('ministry', 'NN', 'O'), ('gave', 'VBD', 'O'), ('no', 'DT', 'O'), ('other', 'JJ', 'O'), ('details', 'NNS', 'O'), ('.', '.', 'O')], [('It', 'PRP', 'O'), ('is', 'VBZ', 'O'), ('not', 'RB', 'O'), ('clear', 'JJ', 'O'), ('if', 'IN', 'O'), ('the', 'DT', 'O'), ('hostage-takers', 'NNS', 'O'), ('made', 'VBD', 'O'), ('any', 'DT', 'O'), ('demands', 'NNS', 'O'), ('.', '.', 'O')], [('Mr.', 'NNP', 'B-per'), ('Akmatbayev', 'NNP', 'I-per'), ('was', 'VBD', 'O'), ('involved', 'VBN', 'O'), ('in', 'IN', 'O'), ('negotiations', 'NNS', 'O'), ('on', 'IN', 'O'), ('Wednesday', 'NNP', 'B-tim'), ('at', 'IN', 'O'), ('another', 'DT', 'O'), ('Kyrgyz', 'JJ', 'B-gpe'), ('prison', 'NN', 'O'), ('where', 'WRB', 'O'), ('a', 'DT', 'O'), ('riot', 'NN', 'O'), ('over', 'IN', 'O'), ('poor', 'JJ', 'O'), ('living', 'NN', 'O'), ('conditions', 'NNS', 'O'), ('forced', 'VBD', 'O'), ('the', 'DT', 'O'), ('staff', 'NN', 'O'), ('to', 'TO', 'O'), ('evacuate', 'VB', 'O'), ('earlier', 'RBR', 'O'), ('this', 'DT', 'O'), ('week', 'NN', 'O'), ('.', '.', 'O')], [('That', 'DT', 'O'), ('prison', 'NN', 'O'), (',', ',', 'O'), ('also', 'RB', 'O'), ('near', 'IN', 'O'), ('Bishkek', 'NNP', 'B-geo'), (',', ',', 'O'), ('remained', 'VBD', 'O'), ('surrounded', 'VBN', 'O'), ('by', 'IN', 'O'), ('security', 'NN', 'O'), ('forces', 'NNS', 'O'), ('on', 'IN', 'O'), ('Thursday', 'NNP', 'B-tim'), ('.', '.', 'O')], [('A', 'DT', 'O'), ('commercial', 'JJ', 'O'), ('airplane', 'NN', 'O'), ('taking', 'VBG', 'O'), ('off', 'RP', 'O'), ('from', 'IN', 'O'), ('Western', 'NNP', 'B-geo'), ('Europe', 'NNP', 'I-geo'), ('has', 'VBZ', 'O'), ('landed', 'VBN', 'O'), ('in', 'IN', 'O'), ('Iraq', 'NNP', 'B-geo'), ('for', 'IN', 'O'), ('the', 'DT', 'O'), ('first', 'JJ', 'O'), ('time', 'NN', 'O'), ('in', 'IN', 'O'), ('nearly', 'RB', 'O'), ('20', 'CD', 'O'), ('years', 'NNS', 'O'), ('.', '.', 'O')], [('The', 'DT', 'O'), ('plane', 'NN', 'O'), (',', ',', 'O'), ('operated', 'VBN', 'O'), ('by', 'IN', 'O'), ('France', 'NNP', 'B-gpe'), (\"'s\", 'POS', 'O'), ('Aigle', 'NNP', 'B-org'), ('Azur', 'NNP', 'I-org'), ('airline', 'NN', 'O'), (',', ',', 'O'), ('took', 'VBD', 'O'), ('off', 'RP', 'O'), ('from', 'IN', 'O'), ('Charles', 'NNP', 'B-art'), ('De', 'NNP', 'I-art'), ('Gaulle', 'NNP', 'I-art'), ('airport', 'NN', 'O'), ('in', 'IN', 'O'), ('Paris', 'NNP', 'B-geo'), ('late', 'JJ', 'O'), ('Saturday', 'NNP', 'B-tim'), ('and', 'CC', 'O'), ('touched', 'VBD', 'O'), ('down', 'RP', 'O'), ('at', 'IN', 'O'), ('Baghdad', 'NNP', 'B-art'), ('International', 'NNP', 'I-art'), ('Airport', 'NNP', 'I-art'), ('early', 'JJ', 'O'), ('Sunday', 'NNP', 'B-tim'), ('.', '.', 'O')], [('Officials', 'NNS', 'O'), ('said', 'VBD', 'O'), ('this', 'DT', 'O'), ('first', 'JJ', 'O'), ('flight', 'NN', 'O'), ('was', 'VBD', 'O'), ('largely', 'RB', 'O'), ('ceremonial', 'JJ', 'O'), (',', ',', 'O'), ('and', 'CC', 'O'), ('that', 'IN', 'O'), ('most', 'JJS', 'O'), ('of', 'IN', 'O'), ('the', 'DT', 'O'), ('passengers', 'NNS', 'O'), ('were', 'VBD', 'O'), ('French', 'JJ', 'B-gpe'), ('diplomats', 'NNS', 'O'), ('and', 'CC', 'O'), ('business', 'NN', 'O'), ('leaders', 'NNS', 'O'), ('.', '.', 'O')], [('One', 'CD', 'O'), ('of', 'IN', 'O'), ('the', 'DT', 'O'), ('passengers', 'NNS', 'O'), (',', ',', 'O'), ('French', 'JJ', 'B-gpe'), ('Foreign', 'NNP', 'B-per'), ('Trade', 'NNP', 'I-per'), ('Minister', 'NNP', 'I-per'), ('Anne-Marie', 'NNP', 'I-per'), ('Idrac', 'NNP', 'I-per'), (',', ',', 'O'), ('called', 'VBD', 'O'), ('it', 'PRP', 'O'), ('a', 'DT', 'O'), ('historic', 'JJ', 'O'), ('day', 'NN', 'O'), ('for', 'IN', 'O'), ('cooperation', 'NN', 'O'), ('between', 'IN', 'O'), ('France', 'NNP', 'B-gpe'), ('and', 'CC', 'O'), ('Iraq', 'NNP', 'B-gpe'), ('.', '.', 'O')], [('Regular', 'JJ', 'O'), ('service', 'NN', 'O'), ('between', 'IN', 'O'), ('Paris', 'NNP', 'B-geo'), ('and', 'CC', 'O'), ('Baghdad', 'NNP', 'B-geo'), ('is', 'VBZ', 'O'), ('not', 'RB', 'O'), ('expected', 'VBN', 'O'), ('to', 'TO', 'O'), ('start', 'VB', 'O'), ('for', 'IN', 'O'), ('at', 'IN', 'O'), ('least', 'JJS', 'O'), ('several', 'JJ', 'O'), ('weeks', 'NNS', 'O'), ('.', '.', 'O')], [('Aigle', 'NNP', 'B-org'), ('Azur', 'NNP', 'I-org'), ('is', 'VBZ', 'O'), ('just', 'RB', 'O'), ('one', 'CD', 'O'), ('of', 'IN', 'O'), ('a', 'DT', 'O'), ('number', 'NN', 'O'), ('of', 'IN', 'O'), ('airlines', 'NNS', 'O'), ('to', 'TO', 'O'), ('start', 'VB', 'O'), ('flying', 'VBG', 'O'), ('to', 'TO', 'O'), ('Baghdad', 'NNP', 'B-geo'), ('.', '.', 'O')], [('Etihad', 'NNP', 'B-org'), ('and', 'CC', 'O'), ('Emirates', 'NNP', 'B-org'), ('airlines', 'NNS', 'I-org'), (',', ',', 'O'), ('both', 'DT', 'O'), ('operating', 'VBG', 'O'), ('out', 'IN', 'O'), ('of', 'IN', 'O'), ('the', 'DT', 'O'), ('United', 'NNP', 'B-geo'), ('Arab', 'NNP', 'I-geo'), ('Emirates', 'NNPS', 'I-geo'), (',', ',', 'O'), ('started', 'VBD', 'O'), ('flying', 'VBG', 'O'), ('to', 'TO', 'O'), ('Baghdad', 'NNP', 'B-geo'), ('earlier', 'RBR', 'O'), ('this', 'DT', 'O'), ('year', 'NN', 'O'), ('.', '.', 'O')], [('A', 'DT', 'O'), ('new', 'JJ', 'O'), ('government', 'NN', 'O'), ('report', 'NN', 'O'), ('shows', 'VBZ', 'O'), ('U.S.', 'NNP', 'B-gpe'), ('businesses', 'NNS', 'O'), ('added', 'VBD', 'O'), ('a', 'DT', 'O'), ('moderate', 'JJ', 'O'), ('1,11,000', 'CD', 'O'), ('new', 'JJ', 'O'), ('jobs', 'NNS', 'O'), ('in', 'IN', 'O'), ('January', 'NNP', 'B-tim'), ('.', '.', 'O')], [('The', 'DT', 'O'), ('Labor', 'NNP', 'B-org'), ('Department', 'NNP', 'I-org'), ('Friday', 'NNP', 'B-tim'), ('issued', 'VBD', 'O'), ('a', 'DT', 'O'), ('report', 'NN', 'O'), ('that', 'WDT', 'O'), ('also', 'RB', 'O'), ('showed', 'VBD', 'O'), ('the', 'DT', 'O'), ('U.S.', 'NNP', 'B-gpe'), ('unemployment', 'NN', 'O'), ('rate', 'NN', 'O'), ('increased', 'VBD', 'O'), ('for', 'IN', 'O'), ('the', 'DT', 'O'), ('first', 'JJ', 'O'), ('time', 'NN', 'O'), ('in', 'IN', 'O'), ('three', 'CD', 'O'), ('months', 'NNS', 'O'), ('-', 'IN', 'O'), ('to', 'IN', 'O'), ('4.6', 'CD', 'O'), ('percent', 'NN', 'O'), ('.', '.', 'O')], [('According', 'VBG', 'O'), ('to', 'TO', 'O'), ('the', 'DT', 'O'), ('report', 'NN', 'O'), (',', ',', 'O'), ('American', 'JJ', 'B-gpe'), ('workers', 'NNS', 'O'), ('earned', 'VBD', 'O'), ('an', 'DT', 'O'), ('average', 'NN', 'O'), ('of', 'IN', 'O'), ('$', '$', 'O'), ('17.09', 'CD', 'O'), ('an', 'DT', 'O'), ('hour', 'NN', 'O'), ('in', 'IN', 'O'), ('January', 'NNP', 'B-tim'), ('-', 'IN', 'O'), ('a', 'DT', 'O'), ('slight', 'JJ', 'O'), ('increase', 'NN', 'O'), ('from', 'IN', 'O'), ('the', 'DT', 'O'), ('previous', 'JJ', 'O'), ('month', 'NN', 'O'), ('.', '.', 'O')], [('Analysts', 'NNS', 'O'), ('say', 'VBP', 'O'), ('the', 'DT', 'O'), ('Department', 'NNP', 'B-org'), ('of', 'IN', 'I-org'), ('Labor', 'NNP', 'I-org'), ('report', 'NN', 'O'), ('will', 'MD', 'O'), ('help', 'VB', 'O'), ('ease', 'VB', 'O'), ('worries', 'NNS', 'O'), ('that', 'IN', 'O'), ('a', 'DT', 'O'), ('tight', 'JJ', 'O'), ('labor', 'NN', 'O'), ('market', 'NN', 'O'), ('will', 'MD', 'O'), ('significantly', 'RB', 'O'), ('inflate', 'VB', 'O'), ('wages', 'NNS', 'O'), ('and', 'CC', 'O'), ('costs', 'NNS', 'O'), ('.', '.', 'O')], [('Earlier', 'RBR', 'O'), ('this', 'DT', 'O'), ('week', 'NN', 'O'), (',', ',', 'O'), ('the', 'DT', 'O'), ('U.S.', 'NNP', 'B-gpe'), ('central', 'JJ', 'O'), ('bank', 'NN', 'O'), ('decided', 'VBD', 'O'), ('to', 'TO', 'O'), ('maintain', 'VB', 'O'), ('a', 'DT', 'O'), ('key', 'JJ', 'O'), ('interest', 'NN', 'O'), ('rate', 'NN', 'O'), (',', ',', 'O'), ('despite', 'IN', 'O'), ('the', 'DT', 'O'), ('risk', 'NN', 'O'), ('of', 'IN', 'O'), ('inflation', 'NN', 'O'), ('.', '.', 'O')], [('Venezuelan', 'JJ', 'B-gpe'), ('President', 'NNP', 'B-per'), ('Hugo', 'NNP', 'I-per'), ('Chavez', 'NNP', 'I-per'), ('has', 'VBZ', 'O'), ('denounced', 'VBN', 'O'), ('Colombia', 'NNP', 'B-gpe'), (\"'s\", 'POS', 'O'), ('defense', 'NN', 'O'), ('minister', 'NN', 'O'), ('as', 'IN', 'O'), ('an', 'DT', 'O'), ('obstacle', 'NN', 'O'), ('to', 'TO', 'O'), ('peace', 'NN', 'O'), ('and', 'CC', 'O'), ('a', 'DT', 'O'), ('pawn', 'NN', 'O'), ('of', 'IN', 'O'), ('the', 'DT', 'O'), ('United', 'NNP', 'B-gpe'), ('States', 'NNPS', 'I-gpe'), ('.', '.', 'O')], [('Mr.', 'NNP', 'B-per'), ('Chavez', 'NNP', 'I-per'), ('reacted', 'VBD', 'O'), ('sharply', 'RB', 'O'), ('Sunday', 'NNP', 'B-tim'), ('to', 'TO', 'O'), ('the', 'DT', 'O'), ('defense', 'NN', 'O'), ('minister', 'NN', 'O'), (\"'s\", 'POS', 'O'), ('remarks', 'NNS', 'O'), ('about', 'IN', 'O'), ('a', 'DT', 'O'), ('meeting', 'NN', 'O'), ('between', 'IN', 'O'), ('Mr.', 'NNP', 'B-per'), ('Chavez', 'NNP', 'I-per'), ('and', 'CC', 'O'), ('Colombian', 'JJ', 'B-gpe'), ('President', 'NNP', 'B-per'), ('Alvaro', 'NNP', 'I-per'), ('Uribe', 'NNP', 'I-per'), ('.', '.', 'O')], [('The', 'DT', 'O'), ('two', 'CD', 'O'), ('presidents', 'NNS', 'O'), ('met', 'VBD', 'O'), ('Friday', 'NNP', 'B-tim'), ('to', 'TO', 'O'), ('try', 'VB', 'O'), ('to', 'TO', 'O'), ('mend', 'VB', 'O'), ('ties', 'NNS', 'O'), ('between', 'IN', 'O'), ('their', 'PRP$', 'O'), ('countries', 'NNS', 'O'), ('.', '.', 'O')], [('After', 'IN', 'O'), ('the', 'DT', 'O'), ('meeting', 'NN', 'O'), (',', ',', 'O'), ('Colombian', 'JJ', 'B-gpe'), ('Defense', 'NNP', 'B-per'), ('Minister', 'NNP', 'I-per'), ('Juan', 'NNP', 'I-per'), ('Manuel', 'NNP', 'I-per'), ('Santos', 'NNP', 'I-per'), ('said', 'VBD', 'O'), ('he', 'PRP', 'O'), ('hoped', 'VBD', 'O'), ('Venezuela', 'NNP', 'B-gpe'), ('would', 'MD', 'O'), ('follow', 'VB', 'O'), ('through', 'IN', 'O'), ('with', 'IN', 'O'), ('promises', 'NNS', 'O'), ('made', 'VBN', 'O'), ('during', 'IN', 'O'), ('the', 'DT', 'O'), ('meeting', 'NN', 'O'), ('.', '.', 'O')], [('During', 'IN', 'O'), ('a', 'DT', 'O'), ('televised', 'JJ', 'O'), ('speech', 'NN', 'O'), ('Sunday', 'NNP', 'B-tim'), (',', ',', 'O'), ('Mr.', 'NNP', 'B-per'), ('Chavez', 'NNP', 'I-per'), ('called', 'VBD', 'O'), ('on', 'IN', 'O'), ('President', 'NNP', 'B-per'), ('Uribe', 'NNP', 'I-per'), ('to', 'TO', 'O'), ('put', 'VB', 'O'), ('his', 'PRP$', 'O'), ('defense', 'NN', 'O'), ('minister', 'NN', 'O'), ('in', 'IN', 'O'), ('his', 'PRP$', 'O'), ('place', 'NN', 'O'), ('.', '.', 'O')], [('Tensions', 'NNS', 'O'), ('between', 'IN', 'O'), ('the', 'DT', 'O'), ('two', 'CD', 'O'), ('countries', 'NNS', 'O'), ('rose', 'VBD', 'O'), ('in', 'IN', 'O'), ('March', 'NNP', 'B-tim'), ('when', 'WRB', 'O'), ('Colombia', 'NNP', 'B-gpe'), ('attacked', 'VBD', 'O'), ('a', 'DT', 'O'), ('rebel', 'NN', 'O'), ('camp', 'NN', 'O'), ('in', 'IN', 'O'), ('Ecuador', 'NNP', 'B-geo'), ('.', '.', 'O')], [('Venezuela', 'NNP', 'B-gpe'), ('responded', 'VBD', 'O'), ('by', 'IN', 'O'), ('sending', 'VBG', 'O'), ('troops', 'NNS', 'O'), ('to', 'TO', 'O'), ('the', 'DT', 'O'), ('Colombian', 'JJ', 'B-gpe'), ('border', 'NN', 'O'), ('.', '.', 'O')], [('China', 'NNP', 'B-gpe'), ('has', 'VBZ', 'O'), ('lashed', 'VBN', 'O'), ('out', 'RP', 'O'), ('at', 'IN', 'O'), ('a', 'DT', 'O'), ('U.S.', 'NNP', 'B-gpe'), ('report', 'NN', 'O'), ('critical', 'JJ', 'O'), ('of', 'IN', 'O'), ('Chinese', 'JJ', 'B-gpe'), ('policies', 'NNS', 'O'), ('on', 'IN', 'O'), ('religious', 'JJ', 'O'), ('freedom', 'NN', 'O'), (',', ',', 'O'), ('saying', 'VBG', 'O'), ('such', 'JJ', 'O'), ('criticism', 'NN', 'O'), ('could', 'MD', 'O'), ('harm', 'VB', 'O'), ('U.S.', 'NNP', 'B-gpe'), ('-', 'IN', 'O'), ('China', 'NNP', 'B-gpe'), ('relations', 'NNS', 'O'), ('.', '.', 'O')], [('In', 'IN', 'O'), ('its', 'PRP$', 'O'), ('annual', 'JJ', 'O'), ('report', 'NN', 'O'), ('issued', 'VBN', 'O'), ('Wednesday', 'NNP', 'B-tim'), (',', ',', 'O'), ('the', 'DT', 'O'), ('U.S.', 'NNP', 'B-org'), ('Commission', 'NNP', 'I-org'), ('on', 'IN', 'I-org'), ('International', 'NNP', 'I-org'), ('Religious', 'NNP', 'I-org'), ('Freedom', 'NNP', 'I-org'), ('said', 'VBD', 'O'), ('China', 'NNP', 'B-gpe'), ('continues', 'VBZ', 'O'), ('to', 'TO', 'O'), ('be', 'VB', 'O'), ('responsible', 'JJ', 'O'), ('for', 'IN', 'O'), ('pervasive', 'JJ', 'O'), ('and', 'CC', 'O'), ('severe', 'JJ', 'O'), ('violations', 'NNS', 'O'), ('of', 'IN', 'O'), ('religious', 'JJ', 'O'), ('freedom', 'NN', 'O'), (',', ',', 'O'), ('regularly', 'RB', 'O'), ('imprisoning', 'VBG', 'O'), ('and', 'CC', 'O'), ('harassing', 'VBG', 'O'), ('religious', 'JJ', 'O'), ('leaders', 'NNS', 'O'), ('and', 'CC', 'O'), ('practitioners', 'NNS', 'O'), ('.', '.', 'O')], [('In', 'IN', 'O'), ('a', 'DT', 'O'), ('statement', 'NN', 'O'), ('Saturday', 'NNP', 'B-tim'), ('Chinese', 'JJ', 'B-gpe'), ('Foreign', 'NNP', 'B-org'), ('Ministry', 'NNP', 'I-org'), ('spokesman', 'NN', 'O'), ('Liu', 'NNP', 'B-per'), ('Jianchao', 'NNP', 'I-per'), ('accused', 'VBD', 'O'), ('the', 'DT', 'O'), ('U.S.', 'NNP', 'B-gpe'), ('body', 'NN', 'O'), ('of', 'IN', 'O'), ('attempting', 'VBG', 'O'), ('to', 'TO', 'O'), ('interfere', 'VB', 'O'), ('with', 'IN', 'O'), ('Chinese', 'JJ', 'B-gpe'), ('internal', 'JJ', 'O'), ('affairs', 'NNS', 'O'), ('under', 'IN', 'O'), ('the', 'DT', 'O'), ('guise', 'NN', 'O'), ('of', 'IN', 'O'), ('religious', 'JJ', 'O'), ('freedom', 'NN', 'O'), ('.', '.', 'O')], [('He', 'PRP', 'O'), ('said', 'VBD', 'O'), ('such', 'JJ', 'O'), ('criticism', 'NN', 'O'), ('runs', 'VBZ', 'O'), ('counter', 'NN', 'O'), ('to', 'TO', 'O'), ('the', 'DT', 'O'), ('good', 'JJ', 'O'), ('development', 'NN', 'O'), ('of', 'IN', 'O'), ('U.S', 'NNP', 'B-gpe'), ('-', 'IN', 'O'), ('China', 'NNP', 'B-gpe'), ('relations', 'NNS', 'O'), ('.', '.', 'O')], [('Liu', 'NNP', 'B-per'), ('said', 'VBD', 'O'), ('China', 'NNP', 'B-gpe'), ('protects', 'VBZ', 'O'), ('the', 'DT', 'O'), ('religious', 'JJ', 'O'), ('freedom', 'NN', 'O'), ('of', 'IN', 'O'), ('Chinese', 'JJ', 'B-gpe'), ('citizens', 'NNS', 'O'), ('according', 'VBG', 'O'), ('to', 'TO', 'O'), ('law', 'NN', 'O'), (',', ',', 'O'), ('and', 'CC', 'O'), ('that', 'IN', 'O'), ('citizens', 'NNS', 'O'), ('enjoy', 'VBP', 'O'), ('full', 'JJ', 'O'), ('freedom', 'NN', 'O'), ('of', 'IN', 'O'), ('religion', 'NN', 'O'), ('.', '.', 'O')], [('China', 'NNP', 'B-gpe'), (\"'s\", 'POS', 'O'), ('communist', 'JJ', 'O'), ('government', 'NN', 'O'), ('allows', 'VBZ', 'O'), ('worship', 'NN', 'O'), ('only', 'RB', 'O'), ('in', 'IN', 'O'), ('state-approved', 'JJ', 'O'), ('and', 'CC', 'O'), ('state-monitored', 'JJ', 'O'), ('churches', 'NNS', 'O'), (',', ',', 'O'), ('temples', 'NNS', 'O'), ('and', 'CC', 'O'), ('mosques', 'NNS', 'O'), ('.', '.', 'O')], [('People', 'NNS', 'O'), ('who', 'WP', 'O'), ('worship', 'VBP', 'O'), ('in', 'IN', 'O'), ('unauthorized', 'JJ', 'O'), ('ways', 'NNS', 'O'), ('are', 'VBP', 'O'), ('subject', 'JJ', 'O'), ('to', 'TO', 'O'), ('arrest', 'NN', 'O'), ('.', '.', 'O')], [('President', 'NNP', 'B-per'), ('Bush', 'NNP', 'I-per'), ('has', 'VBZ', 'O'), ('issued', 'VBN', 'O'), ('14', 'CD', 'O'), ('pardons', 'NNS', 'O'), ('to', 'TO', 'O'), ('convicted', 'VBN', 'O'), ('criminals', 'NNS', 'O'), (',', ',', 'O'), ('and', 'CC', 'O'), ('has', 'VBZ', 'O'), ('commuted', 'VBN', 'O'), ('the', 'DT', 'O'), ('prison', 'NN', 'O'), ('sentences', 'NNS', 'O'), ('of', 'IN', 'O'), ('two', 'CD', 'O'), ('others', 'NNS', 'O'), ('.', '.', 'O')], [('The', 'DT', 'O'), ('pardons', 'NNS', 'O'), (',', ',', 'O'), ('announced', 'VBN', 'O'), ('Monday', 'NNP', 'B-tim'), (',', ',', 'O'), ('include', 'VBP', 'O'), ('no', 'DT', 'O'), ('high-profile', 'JJ', 'O'), ('names', 'NNS', 'O'), ('.', '.', 'O')], [('They', 'PRP', 'O'), ('were', 'VBD', 'O'), ('for', 'IN', 'O'), ('people', 'NNS', 'O'), ('convicted', 'VBN', 'O'), ('of', 'IN', 'O'), ('such', 'JJ', 'O'), ('acts', 'NNS', 'O'), ('as', 'IN', 'O'), ('bank', 'NN', 'O'), ('embezzlement', 'NN', 'O'), (',', ',', 'O'), ('making', 'VBG', 'O'), ('FALSE', 'JJ', 'O'), ('statements', 'NNS', 'O'), ('to', 'TO', 'O'), ('the', 'DT', 'O'), ('federal', 'JJ', 'O'), ('government', 'NN', 'O'), (',', ',', 'O'), ('unlawfully', 'RB', 'O'), ('killing', 'VBG', 'O'), ('wildlife', 'NN', 'O'), (',', ',', 'O'), ('and', 'CC', 'O'), ('committing', 'VBG', 'O'), ('drug', 'NN', 'O'), ('offenses', 'NNS', 'O'), ('.', '.', 'O')], [('Including', 'IN', 'O'), ('Monday', 'NNP', 'B-tim'), (\"'s\", 'POS', 'O'), ('actions', 'NNS', 'O'), (',', ',', 'O'), ('Mr.', 'NNP', 'B-per'), ('Bush', 'NNP', 'I-per'), ('has', 'VBZ', 'O'), ('granted', 'VBN', 'O'), ('171', 'CD', 'O'), ('pardons', 'NNS', 'O'), ('and', 'CC', 'O'), ('commuted', 'VBN', 'O'), ('eight', 'CD', 'O'), ('sentences', 'NNS', 'O'), ('while', 'IN', 'O'), ('U.S.', 'NNP', 'B-gpe'), ('president', 'NN', 'O'), ('.', '.', 'O')], [('Pardons', 'NNS', 'O'), ('are', 'VBP', 'O'), ('one', 'CD', 'O'), ('of', 'IN', 'O'), ('the', 'DT', 'O'), ('president', 'NN', 'O'), (\"'s\", 'POS', 'O'), ('absolute', 'JJ', 'O'), ('powers', 'NNS', 'O'), (',', ',', 'O'), ('and', 'CC', 'O'), ('in', 'IN', 'O'), ('recent', 'JJ', 'O'), ('years', 'NNS', 'O'), ('it', 'PRP', 'O'), ('has', 'VBZ', 'O'), ('become', 'VBN', 'O'), ('typical', 'JJ', 'O'), ('for', 'IN', 'O'), ('the', 'DT', 'O'), ('president', 'NN', 'O'), ('to', 'TO', 'O'), ('issue', 'VB', 'O'), ('pardons', 'NNS', 'O'), ('as', 'IN', 'O'), ('he', 'PRP', 'O'), ('prepares', 'VBZ', 'O'), ('to', 'TO', 'O'), ('leave', 'VB', 'O'), ('office', 'NN', 'O'), ('.', '.', 'O')], [('White', 'NNP', 'B-org'), ('House', 'NNP', 'I-org'), ('officials', 'NNS', 'O'), ('say', 'VBP', 'O'), ('he', 'PRP', 'O'), ('made', 'VBD', 'O'), ('the', 'DT', 'O'), ('pardon', 'NN', 'O'), ('decisions', 'NNS', 'O'), ('on', 'IN', 'O'), ('a', 'DT', 'O'), ('case-by-case', 'JJ', 'O'), ('basis', 'NN', 'O'), (',', ',', 'O'), ('and', 'CC', 'O'), ('will', 'MD', 'O'), ('continue', 'VB', 'O'), ('to', 'TO', 'O'), ('review', 'VB', 'O'), ('clemency', 'NN', 'O'), ('requests', 'NNS', 'O'), ('.', '.', 'O')], [('Uganda', 'NNP', 'B-gpe'), (\"'s\", 'POS', 'O'), ('government', 'NN', 'O'), ('and', 'CC', 'O'), ('rebels', 'NNS', 'O'), ('of', 'IN', 'O'), ('the', 'DT', 'O'), ('Lord', 'NNP', 'B-org'), (\"'s\", 'POS', 'I-org'), ('Resistance', 'NN', 'I-org'), ('Army', 'NNP', 'I-org'), ('are', 'VBP', 'O'), ('nearing', 'VBG', 'O'), ('a', 'DT', 'O'), ('peace', 'NN', 'O'), ('deal', 'NN', 'O'), ('to', 'TO', 'O'), ('end', 'VB', 'O'), ('more', 'JJR', 'O'), ('than', 'IN', 'O'), ('20', 'CD', 'O'), ('years', 'NNS', 'O'), ('of', 'IN', 'O'), ('conflict', 'NN', 'O'), ('.', '.', 'O')], [('Officials', 'NNS', 'O'), ('close', 'RB', 'O'), ('to', 'TO', 'O'), ('the', 'DT', 'O'), ('negotiations', 'NNS', 'O'), ('say', 'VBP', 'O'), ('an', 'DT', 'O'), ('accord', 'NN', 'O'), ('signed', 'VBN', 'O'), ('Friday', 'NNP', 'B-tim'), ('provides', 'VBZ', 'O'), ('for', 'IN', 'O'), ('the', 'DT', 'O'), ('disarmament', 'NN', 'O'), ('and', 'CC', 'O'), ('demobilization', 'NN', 'O'), ('of', 'IN', 'O'), ('the', 'DT', 'O'), ('LRA', 'NNP', 'B-org'), ('.', '.', 'O')], [('The', 'DT', 'O'), ('two', 'CD', 'O'), ('sides', 'NNS', 'O'), ('signed', 'VBD', 'O'), ('a', 'DT', 'O'), ('permanent', 'JJ', 'O'), ('cease-fire', 'NN', 'O'), ('agreement', 'NN', 'O'), ('last', 'JJ', 'O'), ('Saturday', 'NNP', 'B-tim'), ('during', 'IN', 'O'), ('peace', 'NN', 'O'), ('talks', 'NNS', 'O'), ('in', 'IN', 'O'), ('Sudan', 'NNP', 'B-geo'), ('.', '.', 'O')], [('However', 'RB', 'O'), (',', ',', 'O'), ('there', 'EX', 'O'), ('is', 'VBZ', 'O'), ('still', 'RB', 'O'), ('uncertainty', 'NN', 'O'), ('the', 'DT', 'O'), ('rebels', 'NNS', 'O'), ('will', 'MD', 'O'), ('sign', 'VB', 'O'), ('the', 'DT', 'O'), ('final', 'JJ', 'O'), ('peace', 'NN', 'O'), ('deal', 'NN', 'O'), ('until', 'IN', 'O'), ('rebel', 'NN', 'O'), ('leader', 'NN', 'O'), ('Joseph', 'NNP', 'B-per'), ('Kony', 'NNP', 'I-per'), ('is', 'VBZ', 'O'), ('granted', 'VBN', 'O'), ('immunity', 'NN', 'O'), ('from', 'IN', 'O'), ('international', 'JJ', 'O'), ('prosecution', 'NN', 'O'), ('.', '.', 'O')], [('Kony', 'NNP', 'B-per'), ('is', 'VBZ', 'O'), ('one', 'CD', 'O'), ('of', 'IN', 'O'), ('five', 'CD', 'O'), ('LRA', 'NNP', 'B-org'), ('officials', 'NNS', 'O'), ('sought', 'VBN', 'O'), ('by', 'IN', 'O'), ('the', 'DT', 'O'), ('International', 'NNP', 'B-org'), ('Criminal', 'NNP', 'I-org'), ('Court', 'NNP', 'I-org'), ('for', 'IN', 'O'), ('alleged', 'JJ', 'O'), ('war', 'NN', 'O'), ('crimes', 'NNS', 'O'), ('.', '.', 'O')], [('LRA', 'NNP', 'B-org'), ('fighters', 'NNS', 'O'), ('are', 'VBP', 'O'), ('accused', 'VBN', 'O'), ('of', 'IN', 'O'), ('murdering', 'VBG', 'O'), ('thousands', 'NNS', 'O'), ('of', 'IN', 'O'), ('civilians', 'NNS', 'O'), ('and', 'CC', 'O'), ('raping', 'VBG', 'O'), ('and', 'CC', 'O'), ('mutilating', 'VBG', 'O'), ('others', 'NNS', 'O'), ('during', 'IN', 'O'), ('the', 'DT', 'O'), ('long', 'JJ', 'O'), ('insurgency', 'NN', 'O'), ('in', 'IN', 'O'), ('northern', 'JJ', 'O'), ('Uganda', 'NNP', 'B-geo'), ('.', '.', 'O')], [('World', 'NN', 'O'), ('number', 'NN', 'O'), ('one', 'CD', 'O'), ('men', 'NNS', 'O'), (\"'s\", 'POS', 'O'), ('tennis', 'NN', 'O'), ('player', 'NN', 'O'), ('Roger', 'NNP', 'B-per'), ('Federer', 'NNP', 'I-per'), ('has', 'VBZ', 'O'), ('been', 'VBN', 'O'), ('nearly', 'RB', 'O'), ('unbeatable', 'JJ', 'O'), ('in', 'IN', 'O'), ('the', 'DT', 'O'), ('past', 'JJ', 'O'), ('year', 'NN', 'O'), ('.', '.', 'O')], [('But', 'CC', 'O'), ('his', 'PRP$', 'O'), ('warmup', 'NN', 'O'), ('for', 'IN', 'O'), ('the', 'DT', 'O'), ('Australian', 'NNP', 'B-eve'), ('Open', 'NNP', 'I-eve'), ('has', 'VBZ', 'O'), ('abruptly', 'RB', 'O'), ('ended', 'VBN', 'O'), ('with', 'IN', 'O'), ('a', 'DT', 'O'), ('rare', 'JJ', 'O'), ('loss', 'NN', 'O'), ('.', '.', 'O')], [('The', 'DT', 'O'), ('Swiss', 'JJ', 'B-gpe'), ('star', 'NN', 'O'), ('was', 'VBD', 'O'), ('upset', 'VBN', 'O'), ('Wednesday', 'NNP', 'B-tim'), ('by', 'IN', 'O'), ('German', 'JJ', 'B-gpe'), ('Tommy', 'NNP', 'B-per'), ('Haas', 'NNP', 'I-per'), ('in', 'IN', 'O'), ('the', 'DT', 'O'), ('opening', 'NN', 'O'), ('match', 'NN', 'O'), ('of', 'IN', 'O'), ('the', 'DT', 'O'), ('Kooyong', 'NNP', 'B-eve'), ('Classic', 'NNP', 'I-eve'), ('in', 'IN', 'O'), ('Melbourne', 'NNP', 'B-geo'), ('.', '.', 'O')], [('Because', 'IN', 'O'), ('he', 'PRP', 'O'), ('was', 'VBD', 'O'), ('playing', 'VBG', 'O'), ('in', 'IN', 'O'), ('exhibition', 'NN', 'O'), ('tournament', 'NN', 'O'), (',', ',', 'O'), ('the', 'DT', 'O'), ('loss', 'NN', 'O'), ('will', 'MD', 'O'), ('not', 'RB', 'O'), ('count', 'VB', 'O'), ('on', 'IN', 'O'), ('his', 'PRP$', 'O'), ('Association', 'NN', 'B-art'), ('of', 'IN', 'I-art'), ('Tennis', 'NNP', 'I-art'), ('Professionals', 'NNPS', 'I-art'), ('Tour', 'NNP', 'I-art'), ('record', 'NN', 'O'), ('.', '.', 'O')], [('The', 'DT', 'O'), ('41st', 'CD', 'O'), ('ranked', 'VBN', 'O'), ('Haas', 'NNP', 'B-per'), ('fended', 'VBD', 'O'), ('off', 'RP', 'O'), ('three', 'CD', 'O'), ('break', 'NN', 'O'), ('points', 'NNS', 'O'), ('while', 'IN', 'O'), ('serving', 'VBG', 'O'), ('for', 'IN', 'O'), ('the', 'DT', 'O'), ('match', 'NN', 'O'), ('and', 'CC', 'O'), ('closed', 'VBD', 'O'), ('a', 'DT', 'O'), ('03-Jun', 'CD', 'O'), (',', ',', 'O'), ('06-Apr', 'CD', 'O'), (',', ',', 'O'), ('06-Apr', 'CD', 'O'), ('win', 'NN', 'O'), ('with', 'IN', 'O'), ('an', 'DT', 'O'), ('ace', 'NN', 'O'), ('.', '.', 'O')], [('Federer', 'NNP', 'B-per'), ('said', 'VBD', 'O'), ('he', 'PRP', 'O'), ('is', 'VBZ', 'O'), ('completely', 'RB', 'O'), ('healthy', 'JJ', 'O'), ('and', 'CC', 'O'), ('has', 'VBZ', 'O'), ('no', 'DT', 'O'), ('concerns', 'NNS', 'O'), ('that', 'IN', 'O'), ('the', 'DT', 'O'), ('ankle', 'NN', 'O'), ('problem', 'NN', 'O'), ('that', 'WDT', 'O'), ('curtailed', 'VBD', 'O'), ('his', 'PRP$', 'O'), ('last', 'JJ', 'O'), ('season', 'NN', 'O'), ('would', 'MD', 'O'), ('flare', 'VB', 'O'), ('up', 'RP', 'O'), ('before', 'IN', 'O'), ('the', 'DT', 'O'), ('Australian', 'NNP', 'B-eve'), ('Open', 'NNP', 'I-eve'), (',', ',', 'O'), ('which', 'WDT', 'O'), ('starts', 'VBZ', 'O'), ('Monday', 'NNP', 'B-tim'), ('.', '.', 'O')], [('The', 'DT', 'O'), ('European', 'NNP', 'B-org'), ('Space', 'NNP', 'I-org'), ('Agency', 'NNP', 'I-org'), ('says', 'VBZ', 'O'), ('it', 'PRP', 'O'), ('has', 'VBZ', 'O'), ('received', 'VBN', 'O'), ('the', 'DT', 'O'), ('first', 'JJ', 'O'), ('images', 'NNS', 'O'), ('and', 'CC', 'O'), ('scientific', 'JJ', 'O'), ('readings', 'NNS', 'O'), ('from', 'IN', 'O'), ('the', 'DT', 'O'), ('surface', 'NN', 'O'), ('of', 'IN', 'O'), ('Saturn', 'NNP', 'B-geo'), (\"'s\", 'POS', 'O'), ('moon', 'NN', 'O'), ('Titan', 'NNP', 'B-geo'), ('.', '.', 'O')], [('Officials', 'NNS', 'O'), ('at', 'IN', 'O'), ('agency', 'NN', 'O'), ('headquarters', 'NN', 'O'), ('in', 'IN', 'O'), ('Germany', 'NNP', 'B-geo'), ('Friday', 'NNP', 'B-tim'), ('say', 'VBP', 'O'), ('information', 'NN', 'O'), ('taken', 'VBN', 'O'), ('from', 'IN', 'O'), ('the', 'DT', 'O'), ('Huygens', 'NNP', 'B-art'), ('space', 'NN', 'O'), ('probe', 'NN', 'O'), ('show', 'VBP', 'O'), ('what', 'WP', 'O'), ('looks', 'VBZ', 'O'), ('like', 'IN', 'O'), ('drainage', 'NN', 'O'), ('channels', 'NNS', 'O'), ('on', 'IN', 'O'), ('the', 'DT', 'O'), ('moon', 'NN', 'O'), ('.', '.', 'O')], [('They', 'PRP', 'O'), ('say', 'VBP', 'O'), ('the', 'DT', 'O'), ('surface', 'NN', 'O'), ('has', 'VBZ', 'O'), ('canyons', 'NNS', 'O'), ('that', 'WDT', 'O'), ('were', 'VBD', 'O'), ('most', 'RBS', 'O'), ('likely', 'JJ', 'O'), ('caused', 'VBN', 'O'), ('by', 'IN', 'O'), ('some', 'DT', 'O'), ('type', 'NN', 'O'), ('of', 'IN', 'O'), ('liquid', 'NN', 'O'), ('.', '.', 'O')], [('The', 'DT', 'O'), ('space', 'NN', 'O'), ('probe', 'NN', 'O'), ('began', 'VBD', 'O'), ('transmitting', 'VBG', 'O'), ('data', 'NNS', 'O'), ('to', 'TO', 'O'), ('the', 'DT', 'O'), ('Cassini', 'NNP', 'B-art'), ('spacecraft', 'NN', 'O'), ('while', 'IN', 'O'), ('landing', 'VBG', 'O'), ('on', 'IN', 'O'), ('Saturn', 'NNP', 'B-geo'), (\"'s\", 'POS', 'O'), ('largest', 'JJS', 'O'), ('moon', 'NN', 'O'), ('earlier', 'RB', 'O'), ('Friday', 'NNP', 'B-tim'), ('.', '.', 'O')], [('Scientists', 'NNS', 'O'), ('say', 'VBP', 'O'), ('the', 'DT', 'O'), ('information', 'NN', 'O'), ('from', 'IN', 'O'), ('Huygens', 'NNP', 'B-art'), ('-', ':', 'O'), ('operated', 'VBN', 'O'), ('jointly', 'RB', 'O'), ('by', 'IN', 'O'), ('the', 'DT', 'O'), ('American', 'JJ', 'B-gpe'), (',', ',', 'O'), ('European', 'JJ', 'B-geo'), ('and', 'CC', 'O'), ('Italian', 'JJ', 'B-gpe'), ('space', 'NN', 'O'), ('agencies', 'NNS', 'O'), ('-', ':', 'O'), ('may', 'MD', 'O'), ('provide', 'VB', 'O'), ('clues', 'NNS', 'O'), ('about', 'IN', 'O'), ('how', 'WRB', 'O'), ('primitive', 'JJ', 'O'), ('Earth', 'NNP', 'B-geo'), ('evolved', 'VBD', 'O'), ('into', 'IN', 'O'), ('a', 'DT', 'O'), ('life-bearing', 'JJ', 'O'), ('planet', 'NN', 'O'), ('.', '.', 'O')], [('Ugandan', 'JJ', 'B-gpe'), ('opposition', 'NN', 'O'), ('leader', 'NN', 'O'), ('Kizza', 'NNP', 'B-per'), ('Besigye', 'NNP', 'I-per'), ('has', 'VBZ', 'O'), ('been', 'VBN', 'O'), ('released', 'VBN', 'O'), ('on', 'IN', 'O'), ('bail', 'NN', 'O'), (',', ',', 'O'), ('after', 'IN', 'O'), ('a', 'DT', 'O'), ('judge', 'NN', 'O'), ('ruled', 'VBD', 'O'), ('his', 'PRP$', 'O'), ('detention', 'NN', 'O'), ('by', 'IN', 'O'), ('the', 'DT', 'O'), ('military', 'NN', 'O'), ('was', 'VBD', 'O'), ('illegal', 'JJ', 'O'), ('.', '.', 'O')], [('Police', 'NNS', 'O'), ('fired', 'VBD', 'O'), ('tear', 'JJ', 'O'), ('gas', 'NN', 'O'), ('to', 'TO', 'O'), ('disperse', 'VB', 'O'), ('hundreds', 'NNS', 'O'), ('of', 'IN', 'O'), ('Dr.', 'NNP', 'B-per'), ('Besigye', 'NNP', 'I-per'), (\"'s\", 'POS', 'O'), ('supporters', 'NNS', 'O'), ('who', 'WP', 'O'), ('took', 'VBD', 'O'), ('to', 'TO', 'O'), ('the', 'DT', 'O'), ('streets', 'NNS', 'O'), ('in', 'IN', 'O'), ('Kampala', 'NNP', 'B-geo'), ('after', 'IN', 'O'), ('his', 'PRP$', 'O'), ('release', 'NN', 'O'), ('Monday', 'NNP', 'B-tim'), ('.', '.', 'O')], [('Uganda', 'NNP', 'B-gpe'), (\"'s\", 'POS', 'O'), ('military', 'NN', 'O'), ('had', 'VBD', 'O'), ('detained', 'VBN', 'O'), ('Dr.', 'NNP', 'B-per'), ('Besigye', 'NNP', 'I-per'), ('since', 'IN', 'O'), ('November', 'NNP', 'B-tim'), (',', ',', 'O'), ('when', 'WRB', 'O'), ('he', 'PRP', 'O'), ('returned', 'VBD', 'O'), ('from', 'IN', 'O'), ('self-imposed', 'JJ', 'O'), ('exile', 'NN', 'O'), ('to', 'TO', 'O'), ('run', 'VB', 'O'), ('against', 'IN', 'O'), ('President', 'NNP', 'B-per'), ('Yoweri', 'NNP', 'I-per'), ('Museveni', 'NNP', 'I-per'), ('in', 'IN', 'O'), ('next', 'JJ', 'O'), ('month', 'NN', 'O'), (\"'s\", 'POS', 'O'), ('presidential', 'JJ', 'O'), ('election', 'NN', 'O'), ('.', '.', 'O')], [('A', 'DT', 'O'), ('military', 'JJ', 'O'), ('tribunal', 'NN', 'O'), ('has', 'VBZ', 'O'), ('charged', 'VBN', 'O'), ('Dr.', 'NNP', 'B-per'), ('Besigye', 'NNP', 'I-per'), ('with', 'IN', 'O'), ('terrorism', 'NN', 'O'), ('and', 'CC', 'O'), ('possessing', 'VBG', 'O'), ('illegal', 'JJ', 'O'), ('weapons', 'NNS', 'O'), ('.', '.', 'O')], [('But', 'CC', 'O'), ('a', 'DT', 'O'), ('Ugandan', 'JJ', 'B-gpe'), ('High', 'NNP', 'B-org'), ('Court', 'NNP', 'I-org'), ('Judge', 'NN', 'O'), (',', ',', 'O'), ('John', 'NNP', 'B-per'), ('Bosco', 'NNP', 'I-per'), ('Katutsi', 'NNP', 'I-per'), (',', ',', 'O'), ('said', 'VBD', 'O'), ('his', 'PRP$', 'O'), ('detention', 'NN', 'O'), ('was', 'VBD', 'O'), ('illegal', 'JJ', 'O'), ('because', 'IN', 'O'), ('the', 'DT', 'O'), ('High', 'NNP', 'B-org'), ('Court', 'NNP', 'I-org'), ('had', 'VBD', 'O'), ('suspended', 'VBN', 'O'), ('the', 'DT', 'O'), ('military', 'JJ', 'O'), ('trial', 'NN', 'O'), ('.', '.', 'O')], [('Dr.', 'NNP', 'B-per'), ('Besigye', 'NNP', 'I-per'), ('still', 'RB', 'O'), ('faces', 'VBZ', 'O'), ('rape', 'NN', 'O'), ('charges', 'NNS', 'O'), (',', ',', 'O'), ('for', 'IN', 'O'), ('which', 'WDT', 'O'), ('a', 'DT', 'O'), ('civilian', 'JJ', 'O'), ('trial', 'NN', 'O'), ('began', 'VBD', 'O'), ('Monday', 'NNP', 'B-tim'), ('.', '.', 'O')], [('He', 'PRP', 'O'), ('has', 'VBZ', 'O'), ('denied', 'VBN', 'O'), ('all', 'PDT', 'O'), ('the', 'DT', 'O'), ('charges', 'NNS', 'O'), (',', ',', 'O'), ('which', 'WDT', 'O'), ('supporters', 'NNS', 'O'), ('say', 'VBP', 'O'), ('were', 'VBD', 'O'), ('trumped', 'VBN', 'O'), ('up', 'RP', 'O'), ('to', 'TO', 'O'), ('keep', 'VB', 'O'), ('him', 'PRP', 'O'), ('from', 'IN', 'O'), ('running', 'VBG', 'O'), ('for', 'IN', 'O'), ('president', 'NN', 'O'), ('.', '.', 'O')], [('U.S.', 'NNP', 'B-gpe'), ('President', 'NNP', 'B-per'), ('Barack', 'NNP', 'I-per'), ('Obama', 'NNP', 'I-per'), ('says', 'VBZ', 'O'), ('improvements', 'NNS', 'O'), ('in', 'IN', 'O'), ('the', 'DT', 'O'), ('American', 'JJ', 'B-gpe'), ('health', 'NN', 'O'), ('care', 'NN', 'O'), ('system', 'NN', 'O'), ('are', 'VBP', 'O'), ('inevitable', 'JJ', 'O'), ('.', '.', 'O')], [('Mr.', 'NNP', 'B-per'), ('Obama', 'NNP', 'I-per'), ('made', 'VBD', 'O'), ('his', 'PRP$', 'O'), ('comments', 'NNS', 'O'), ('in', 'IN', 'O'), ('the', 'DT', 'O'), ('White', 'NNP', 'B-art'), ('House', 'NNP', 'I-art'), ('Rose', 'NNP', 'I-art'), ('Garden', 'NNP', 'I-art'), ('Monday', 'NNP', 'B-tim'), ('as', 'IN', 'O'), ('he', 'PRP', 'O'), ('nominated', 'VBD', 'O'), ('an', 'DT', 'O'), ('African-American', 'JJ', 'B-gpe'), ('woman', 'NN', 'O'), (',', ',', 'O'), ('Regina', 'NNP', 'B-per'), ('Benjamin', 'NNP', 'I-per'), (',', ',', 'O'), ('to', 'TO', 'O'), ('become', 'VB', 'O'), ('the', 'DT', 'O'), ('U.S.', 'NNP', 'B-gpe'), ('Surgeon', 'NNP', 'B-per'), ('General', 'NNP', 'I-per'), ('.', '.', 'O')], [('The', 'DT', 'O'), ('president', 'NN', 'O'), ('said', 'VBD', 'O'), ('\"', '``', 'O'), ('naysayers', 'NNS', 'O'), ('and', 'CC', 'O'), ('cynics', 'NNS', 'O'), ('\"', '``', 'O'), ('should', 'MD', 'O'), ('not', 'RB', 'O'), ('bet', 'VB', 'O'), ('against', 'IN', 'O'), ('the', 'DT', 'O'), ('passage', 'NN', 'O'), ('of', 'IN', 'O'), ('health', 'NN', 'O'), ('insurance', 'NN', 'O'), ('legislation', 'NN', 'O'), ('.', '.', 'O')], [('He', 'PRP', 'O'), ('also', 'RB', 'O'), ('said', 'VBD', 'O'), ('inaction', 'NN', 'O'), ('on', 'IN', 'O'), ('the', 'DT', 'O'), ('issue', 'NN', 'O'), ('is', 'VBZ', 'O'), ('not', 'RB', 'O'), ('an', 'DT', 'O'), ('option', 'NN', 'O'), ('.', '.', 'O')], [('Mr.', 'NNP', 'B-per'), ('Obama', 'NNP', 'I-per'), ('has', 'VBZ', 'O'), ('vowed', 'VBN', 'O'), ('to', 'TO', 'O'), ('sign', 'VB', 'O'), ('a', 'DT', 'O'), ('health', 'NN', 'O'), ('care', 'NN', 'O'), ('bill', 'NN', 'O'), ('into', 'IN', 'O'), ('law', 'NN', 'O'), ('this', 'DT', 'O'), ('year', 'NN', 'O'), ('.', '.', 'O')], [('Democrats', 'NNS', 'B-org'), ('in', 'IN', 'O'), ('the', 'DT', 'O'), ('House', 'NNP', 'B-org'), ('of', 'IN', 'I-org'), ('Representatives', 'NNPS', 'I-org'), ('say', 'VBP', 'O'), ('they', 'PRP', 'O'), ('are', 'VBP', 'O'), ('nearly', 'RB', 'O'), ('ready', 'JJ', 'O'), ('to', 'TO', 'O'), ('unveil', 'VB', 'O'), ('their', 'PRP$', 'O'), ('health', 'NN', 'O'), ('care', 'NN', 'O'), ('reform', 'NN', 'O'), ('plan', 'NN', 'O'), ('.', '.', 'O')], [('Controversy', 'NN', 'O'), ('over', 'IN', 'O'), ('extending', 'VBG', 'O'), ('health', 'NN', 'O'), ('coverage', 'NN', 'O'), ('to', 'TO', 'O'), ('uninsured', 'JJ', 'O'), ('Americans', 'NNS', 'B-gpe'), ('centers', 'VBZ', 'O'), ('on', 'IN', 'O'), ('how', 'WRB', 'O'), ('to', 'TO', 'O'), ('pay', 'VB', 'O'), ('for', 'IN', 'O'), ('it', 'PRP', 'O'), ('.', '.', 'O')], [('It', 'PRP', 'O'), ('is', 'VBZ', 'O'), ('expected', 'VBN', 'O'), ('to', 'TO', 'O'), ('cost', 'VB', 'O'), ('$', '$', 'O'), ('1', 'CD', 'O'), ('trillion', 'CD', 'O'), ('over', 'IN', 'O'), ('10', 'CD', 'O'), ('years', 'NNS', 'O'), ('.', '.', 'O')], [('World', 'NNP', 'B-org'), ('Bank', 'NNP', 'I-org'), ('member', 'NN', 'O'), ('nations', 'NNS', 'O'), ('meeting', 'VBG', 'O'), ('in', 'IN', 'O'), ('Washington', 'NNP', 'B-geo'), ('have', 'VBP', 'O'), ('approved', 'VBN', 'O'), ('a', 'DT', 'O'), ('debt', 'NN', 'O'), ('relief', 'NN', 'O'), ('plan', 'NN', 'O'), ('for', 'IN', 'O'), ('17', 'CD', 'O'), ('African', 'JJ', 'B-gpe'), ('and', 'CC', 'O'), ('Latin', 'JJ', 'B-gpe'), ('American', 'JJ', 'I-gpe'), ('countries', 'NNS', 'O'), ('that', 'WDT', 'O'), ('could', 'MD', 'O'), ('total', 'VB', 'O'), ('$', '$', 'O'), ('37', 'CD', 'O'), ('billion', 'CD', 'O'), ('over', 'IN', 'O'), ('40', 'CD', 'O'), ('years', 'NNS', 'O'), ('.', '.', 'O')], [('World', 'NNP', 'B-org'), ('Bank', 'NNP', 'I-org'), ('President', 'NNP', 'B-per'), ('Paul', 'NNP', 'I-per'), ('Wolfowitz', 'NNP', 'I-per'), ('said', 'VBD', 'O'), ('two-thirds', 'NNS', 'O'), ('of', 'IN', 'O'), ('the', 'DT', 'O'), ('bank', 'NN', 'O'), ('members', 'NNS', 'O'), ('have', 'VBP', 'O'), ('now', 'RB', 'O'), ('approved', 'VBN', 'O'), ('the', 'DT', 'O'), ('plan', 'NN', 'O'), (',', ',', 'O'), ('meaning', 'VBG', 'O'), ('the', 'DT', 'O'), ('bank', 'NN', 'O'), ('could', 'MD', 'O'), ('start', 'VB', 'O'), ('forgiving', 'VBG', 'O'), ('debts', 'NNS', 'O'), ('in', 'IN', 'O'), ('July', 'NNP', 'B-tim'), ('.', '.', 'O')], [('The', 'DT', 'O'), ('move', 'NN', 'O'), ('follows', 'VBZ', 'O'), ('July', 'NNP', 'B-tim'), (\"'s\", 'POS', 'O'), ('pledge', 'NN', 'O'), ('from', 'IN', 'O'), ('the', 'DT', 'O'), ('wealthy', 'JJ', 'O'), ('G-8', 'NNP', 'B-org'), ('countries', 'NNS', 'O'), ('to', 'TO', 'O'), ('cancel', 'VB', 'O'), ('the', 'DT', 'O'), ('debt', 'NN', 'O'), ('of', 'IN', 'O'), ('the', 'DT', 'O'), ('world', 'NN', 'O'), (\"'s\", 'POS', 'O'), ('poorest', 'JJS', 'O'), ('countries', 'NNS', 'O'), (',', ',', 'O'), ('many', 'NN', 'O'), ('of', 'IN', 'O'), ('which', 'WDT', 'O'), ('are', 'VBP', 'O'), ('located', 'VBN', 'O'), ('in', 'IN', 'O'), ('Africa', 'NNP', 'B-geo'), ('.', '.', 'O')], [('The', 'DT', 'O'), ('17', 'CD', 'O'), ('countries', 'NNS', 'O'), ('now', 'RB', 'O'), ('eligible', 'JJ', 'O'), ('for', 'IN', 'O'), ('World', 'NNP', 'B-org'), ('Bank', 'NNP', 'I-org'), ('debt', 'NN', 'O'), ('relief', 'NN', 'O'), ('are', 'VBP', 'O'), ('Benin', 'NNP', 'B-gpe'), (',', ',', 'O'), ('Bolivia', 'NNP', 'B-gpe'), (',', ',', 'O'), ('Burkina', 'NNP', 'B-gpe'), ('Faso', 'NNP', 'I-gpe'), (',', ',', 'O'), ('Ethiopia', 'NNP', 'B-gpe'), (',', ',', 'O'), ('Ghana', 'NNP', 'B-gpe'), (',', ',', 'O'), ('Guyana', 'NNP', 'B-gpe'), (',', ',', 'O'), ('Honduras', 'NNP', 'B-gpe'), (',', ',', 'O'), ('Madagascar', 'NNP', 'B-gpe'), (',', ',', 'O'), ('Mali', 'NNP', 'B-gpe'), (',', ',', 'O'), ('Mozambique', 'NNP', 'B-gpe'), (',', ',', 'O'), ('Nicaragua', 'NNP', 'B-gpe'), (',', ',', 'O'), ('Niger', 'NNP', 'B-gpe'), (',', ',', 'O'), ('Rwanda', 'NNP', 'B-gpe'), (',', ',', 'O'), ('Senegal', 'NNP', 'B-gpe'), (',', ',', 'O'), ('Tanzania', 'NNP', 'B-gpe'), (',', ',', 'O'), ('Uganda', 'NNP', 'B-gpe'), ('and', 'CC', 'O'), ('Zambia', 'NNP', 'B-gpe'), ('.', '.', 'O')], [('Iran', 'NNP', 'B-gpe'), ('has', 'VBZ', 'O'), ('closed', 'VBN', 'O'), ('government', 'NN', 'O'), ('offices', 'NNS', 'O'), ('and', 'CC', 'O'), ('schools', 'NNS', 'O'), ('in', 'IN', 'O'), ('Tehran', 'NNP', 'B-geo'), ('for', 'IN', 'O'), ('two', 'CD', 'O'), ('days', 'NNS', 'O'), ('because', 'IN', 'O'), ('of', 'IN', 'O'), ('wind-blown', 'JJ', 'O'), ('dust', 'NN', 'O'), ('that', 'WDT', 'O'), ('has', 'VBZ', 'O'), ('polluted', 'VBN', 'O'), ('the', 'DT', 'O'), ('capital', 'NN', 'O'), ('.', '.', 'O')], [('Government', 'NN', 'O'), ('authorities', 'NNS', 'O'), ('have', 'VBP', 'O'), ('declared', 'VBN', 'O'), ('Tuesday', 'NNP', 'B-tim'), ('and', 'CC', 'O'), ('Wednesday', 'NNP', 'B-tim'), ('a', 'DT', 'O'), ('public', 'JJ', 'O'), ('holiday', 'NN', 'O'), (',', ',', 'O'), ('and', 'CC', 'O'), ('Iranian', 'JJ', 'B-gpe'), ('media', 'NNS', 'O'), ('say', 'VBP', 'O'), ('many', 'JJ', 'O'), ('domestic', 'JJ', 'O'), ('airline', 'NN', 'O'), ('flights', 'NNS', 'O'), ('have', 'VBP', 'O'), ('been', 'VBN', 'O'), ('canceled', 'VBN', 'O'), ('.', '.', 'O')], [('Medical', 'JJ', 'O'), ('authorities', 'NNS', 'O'), ('are', 'VBP', 'O'), ('advising', 'VBG', 'O'), ('people', 'NNS', 'O'), ('with', 'IN', 'O'), ('heart', 'NN', 'O'), ('and', 'CC', 'O'), ('respiratory', 'JJ', 'O'), ('problems', 'NNS', 'O'), ('to', 'TO', 'O'), ('stay', 'VB', 'O'), ('inside', 'RB', 'O'), ('.', '.', 'O')], [('Iran', 'NNP', 'B-gpe'), (\"'s\", 'POS', 'O'), ('Press', 'NNP', 'B-org'), ('TV', 'NNP', 'I-org'), ('says', 'VBZ', 'O'), ('Tehran', 'NNP', 'B-geo'), (\"'s\", 'POS', 'O'), ('Air', 'NNP', 'B-org'), ('Quality', 'NNP', 'I-org'), ('Control', 'NNP', 'I-org'), ('Company', 'NNP', 'I-org'), ('has', 'VBZ', 'O'), ('found', 'VBN', 'O'), ('the', 'DT', 'O'), ('amount', 'NN', 'O'), ('of', 'IN', 'O'), ('potentially', 'RB', 'O'), ('harmful', 'JJ', 'O'), ('particulate', 'NN', 'O'), ('in', 'IN', 'O'), ('the', 'DT', 'O'), ('air', 'NN', 'O'), ('has', 'VBZ', 'O'), ('reached', 'VBN', 'O'), ('dangerous', 'JJ', 'O'), ('levels', 'NNS', 'O'), ('.', '.', 'O')], [('The', 'DT', 'O'), ('dust', 'NN', 'O'), ('has', 'VBZ', 'O'), ('blown', 'VBN', 'O'), ('in', 'IN', 'O'), ('from', 'IN', 'O'), ('Saudi', 'NNP', 'B-geo'), ('Arabia', 'NNP', 'I-geo'), ('and', 'CC', 'O'), ('neighboring', 'JJ', 'O'), ('Iraq', 'NNP', 'B-geo'), (',', ',', 'O'), ('where', 'WRB', 'O'), ('a', 'DT', 'O'), ('severe', 'JJ', 'O'), ('sandstorm', 'NN', 'O'), ('recently', 'RB', 'O'), ('blanketed', 'VBD', 'O'), ('the', 'DT', 'O'), ('capital', 'NN', 'O'), (',', ',', 'O'), ('Baghdad', 'NNP', 'B-geo'), ('.', '.', 'O')], [('Sandstorms', 'NNS', 'O'), ('can', 'MD', 'O'), ('be', 'VB', 'O'), ('caused', 'VBN', 'O'), ('by', 'IN', 'O'), ('heavy', 'JJ', 'O'), ('winds', 'NNS', 'O'), ('blowing', 'VBG', 'O'), ('across', 'IN', 'O'), ('deserts', 'NNS', 'O'), (',', ',', 'O'), ('or', 'CC', 'O'), ('across', 'IN', 'O'), ('land', 'NN', 'O'), ('that', 'WDT', 'O'), ('has', 'VBZ', 'O'), ('lost', 'VBN', 'O'), ('its', 'PRP$', 'O'), ('fertile', 'JJ', 'O'), ('top', 'JJ', 'O'), ('soil', 'NN', 'O'), ('and', 'CC', 'O'), ('greenery', 'NN', 'O'), ('.', '.', 'O')], [('Shortly', 'RB', 'O'), ('before', 'IN', 'O'), ('midnight', 'NN', 'B-tim'), ('a', 'DT', 'O'), ('suicide', 'NN', 'O'), ('bomber', 'NN', 'O'), ('blew', 'VBD', 'O'), ('himself', 'PRP', 'O'), ('up', 'RP', 'O'), ('in', 'IN', 'O'), ('a', 'DT', 'O'), ('crowd', 'NN', 'O'), ('of', 'IN', 'O'), ('young', 'JJ', 'O'), ('Israelis', 'NNS', 'B-gpe'), ('waiting', 'VBG', 'O'), ('to', 'TO', 'O'), ('get', 'VB', 'O'), ('into', 'IN', 'O'), ('a', 'DT', 'O'), ('beachfront', 'NN', 'O'), ('nightclub', 'NN', 'O'), ('in', 'IN', 'O'), ('Tel', 'NNP', 'B-geo'), ('Aviv', 'NNP', 'I-geo'), ('.', '.', 'O')], [('Israeli', 'JJ', 'B-gpe'), ('police', 'NNS', 'O'), ('say', 'VBP', 'O'), ('the', 'DT', 'O'), ('bomber', 'NN', 'O'), ('was', 'VBD', 'O'), ('spotted', 'VBN', 'O'), ('and', 'CC', 'O'), ('prevented', 'VBN', 'O'), ('from', 'IN', 'O'), ('entering', 'VBG', 'O'), ('the', 'DT', 'O'), ('club', 'NN', 'O'), ('.', '.', 'O')], [('They', 'PRP', 'O'), ('say', 'VBP', 'O'), ('if', 'IN', 'O'), ('he', 'PRP', 'O'), ('had', 'VBD', 'O'), ('gotten', 'VBN', 'O'), ('inside', 'IN', 'O'), ('the', 'DT', 'O'), ('carnage', 'NN', 'O'), ('would', 'MD', 'O'), ('have', 'VB', 'O'), ('been', 'VBN', 'O'), ('even', 'RB', 'O'), ('worse', 'RBR', 'O'), ('.', '.', 'O')], [('It', 'PRP', 'O'), ('is', 'VBZ', 'O'), ('unclear', 'JJ', 'O'), ('who', 'WP', 'O'), ('was', 'VBD', 'O'), ('behind', 'IN', 'O'), ('the', 'DT', 'O'), ('attack', 'NN', 'O'), ('with', 'IN', 'O'), ('major', 'JJ', 'O'), ('Palestinian', 'JJ', 'B-gpe'), ('militant', 'NN', 'O'), ('groups', 'NNS', 'O'), ('saying', 'VBG', 'O'), ('they', 'PRP', 'O'), ('had', 'VBD', 'O'), ('nothing', 'DT', 'O'), ('to', 'TO', 'O'), ('do', 'VB', 'O'), ('with', 'IN', 'O'), ('it', 'PRP', 'O'), ('.', '.', 'O')], [('A', 'DT', 'O'), ('statement', 'NN', 'O'), ('released', 'VBN', 'O'), ('by', 'IN', 'O'), ('Palestinian', 'JJ', 'B-gpe'), ('President', 'NNP', 'B-per'), ('Mahmoud', 'NNP', 'I-per'), ('Abbas', 'NNP', 'I-per'), ('in', 'IN', 'O'), ('Ramallah', 'NNP', 'B-geo'), ('vowed', 'VBD', 'O'), ('to', 'TO', 'O'), ('track', 'VB', 'O'), ('down', 'RB', 'O'), ('and', 'CC', 'O'), ('punish', 'VB', 'O'), ('those', 'DT', 'O'), ('responsible', 'JJ', 'O'), (',', ',', 'O'), ('saying', 'VBG', 'O'), ('this', 'DT', 'O'), ('was', 'VBD', 'O'), ('an', 'DT', 'O'), ('attempt', 'NN', 'O'), ('to', 'TO', 'O'), ('sabotage', 'VB', 'O'), ('the', 'DT', 'O'), ('peace', 'NN', 'O'), ('process', 'NN', 'O'), ('.', '.', 'O')], [('The', 'DT', 'O'), ('bombing', 'NN', 'O'), ('shatters', 'VBZ', 'O'), ('weeks', 'NNS', 'O'), ('of', 'IN', 'O'), ('calm', 'NN', 'O'), ('after', 'IN', 'O'), ('Mr.', 'NNP', 'B-per'), ('Abbas', 'NNP', 'I-per'), ('declared', 'VBD', 'O'), ('a', 'DT', 'O'), ('truce', 'NN', 'O'), ('during', 'IN', 'O'), ('a', 'DT', 'O'), ('summit', 'NN', 'O'), ('with', 'IN', 'O'), ('Israeli', 'JJ', 'B-gpe'), ('Prime', 'NNP', 'B-per'), ('Minister', 'NNP', 'I-per'), ('Ariel', 'NNP', 'I-per'), ('Sharon', 'NNP', 'I-per'), ('in', 'IN', 'O'), ('Egypt', 'NNP', 'B-geo'), ('earlier', 'RBR', 'O'), ('this', 'DT', 'O'), ('month', 'NN', 'O'), ('.', '.', 'O')], [('Indonesian', 'JJ', 'B-gpe'), ('officials', 'NNS', 'O'), ('say', 'VBP', 'O'), ('they', 'PRP', 'O'), ('have', 'VBP', 'O'), ('signed', 'VBN', 'O'), ('an', 'DT', 'O'), ('initial', 'JJ', 'O'), ('agreement', 'NN', 'O'), ('with', 'IN', 'O'), ('Russia', 'NNP', 'B-gpe'), ('to', 'TO', 'O'), ('build', 'VB', 'O'), ('a', 'DT', 'O'), ('space', 'NN', 'O'), ('launch', 'NN', 'O'), ('center', 'NN', 'O'), ('on', 'IN', 'O'), ('the', 'DT', 'O'), ('remote', 'JJ', 'O'), ('island', 'NN', 'O'), ('of', 'IN', 'O'), ('Biak', 'NNP', 'B-geo'), ('off', 'IN', 'O'), ('the', 'DT', 'O'), ('coast', 'NN', 'O'), ('of', 'IN', 'O'), ('Papua', 'NNP', 'B-geo'), ('New', 'NNP', 'I-geo'), ('Guinea', 'NNP', 'I-geo'), ('.', '.', 'O')], [('An', 'DT', 'O'), ('Indonesian', 'JJ', 'B-gpe'), ('foreign', 'JJ', 'O'), ('ministry', 'NN', 'O'), ('spokesman', 'NN', 'O'), ('says', 'VBZ', 'O'), ('senior', 'JJ', 'O'), ('officials', 'NNS', 'O'), ('from', 'IN', 'O'), ('both', 'DT', 'O'), ('countries', 'NNS', 'O'), ('reached', 'VBD', 'O'), ('the', 'DT', 'O'), ('preliminary', 'JJ', 'O'), ('agreement', 'NN', 'O'), ('last', 'JJ', 'O'), ('week', 'NN', 'O'), ('.', '.', 'O')], [('They', 'PRP', 'O'), ('say', 'VBP', 'O'), ('the', 'DT', 'O'), ('island', 'NN', 'O'), ('is', 'VBZ', 'O'), ('well-suited', 'JJ', 'O'), ('for', 'IN', 'O'), ('the', 'DT', 'O'), ('project', 'NN', 'O'), ('because', 'IN', 'O'), ('of', 'IN', 'O'), ('its', 'PRP$', 'O'), ('proximity', 'NN', 'O'), ('to', 'TO', 'O'), ('the', 'DT', 'O'), ('equator', 'NN', 'O'), (',', ',', 'O'), ('which', 'WDT', 'O'), ('makes', 'VBZ', 'O'), ('it', 'PRP', 'O'), ('easier', 'JJR', 'O'), ('to', 'TO', 'O'), ('launch', 'VB', 'O'), ('satellites', 'NNS', 'O'), ('into', 'IN', 'O'), ('some', 'DT', 'O'), ('Earth', 'NNP', 'B-geo'), ('orbits', 'NNS', 'O'), ('.', '.', 'O')], [('The', 'DT', 'O'), ('spokesman', 'NN', 'O'), ('says', 'VBZ', 'O'), ('a', 'DT', 'O'), ('formal', 'JJ', 'O'), ('agreement', 'NN', 'O'), ('on', 'IN', 'O'), ('the', 'DT', 'O'), ('project', 'NN', 'O'), ('will', 'MD', 'O'), ('be', 'VB', 'O'), ('signed', 'VBN', 'O'), ('in', 'IN', 'O'), ('June', 'NNP', 'B-tim'), ('when', 'WRB', 'O'), ('Indonesian', 'JJ', 'B-gpe'), ('President', 'NNP', 'B-per'), ('Susilo', 'NNP', 'I-per'), ('Bambang', 'NNP', 'I-per'), ('Yudhoyono', 'NNP', 'I-per'), ('is', 'VBZ', 'O'), ('scheduled', 'VBN', 'O'), ('to', 'TO', 'O'), ('visit', 'VB', 'O'), ('Moscow', 'NNP', 'B-geo'), ('.', '.', 'O')], [('An', 'DT', 'O'), ('Algerian', 'JJ', 'B-gpe'), ('man', 'NN', 'O'), ('goes', 'VBZ', 'O'), ('on', 'IN', 'O'), ('trial', 'NN', 'O'), ('Monday', 'NNP', 'B-tim'), ('in', 'IN', 'O'), ('France', 'NNP', 'B-geo'), ('for', 'IN', 'O'), ('terrorist', 'NN', 'O'), ('attacks', 'NNS', 'O'), ('on', 'IN', 'O'), ('the', 'DT', 'O'), ('Paris', 'NNP', 'B-geo'), ('subway', 'NN', 'O'), ('in', 'IN', 'O'), ('1995', 'CD', 'B-tim'), ('.', '.', 'O')], [('Prosecutors', 'NNS', 'O'), ('say', 'VBP', 'O'), ('Rachid', 'NNP', 'B-per'), ('Ramda', 'NNP', 'I-per'), ('helped', 'VBD', 'O'), ('fund', 'VB', 'O'), ('at', 'IN', 'O'), ('least', 'JJS', 'O'), ('three', 'CD', 'O'), ('bombings', 'NNS', 'O'), ('on', 'IN', 'O'), ('the', 'DT', 'O'), ('Paris', 'NNP', 'B-geo'), ('metro', 'NN', 'O'), ('.', '.', 'O')], [('If', 'IN', 'O'), ('he', 'PRP', 'O'), ('is', 'VBZ', 'O'), ('convicted', 'VBN', 'O'), (',', ',', 'O'), ('Ramda', 'NNP', 'B-per'), ('could', 'MD', 'O'), ('get', 'VB', 'O'), ('life', 'NN', 'O'), ('in', 'IN', 'O'), ('prison', 'NN', 'O'), ('.', '.', 'O')], [('The', 'DT', 'O'), ('38-year-old', 'JJ', 'O'), ('is', 'VBZ', 'O'), ('already', 'RB', 'O'), ('serving', 'VBG', 'O'), ('a', 'DT', 'O'), ('10-year', 'JJ', 'O'), ('sentence', 'NN', 'O'), ('in', 'IN', 'O'), ('France', 'NNP', 'B-geo'), ('after', 'IN', 'O'), ('he', 'PRP', 'O'), ('was', 'VBD', 'O'), ('convicted', 'VBN', 'O'), ('last', 'JJ', 'O'), ('year', 'NN', 'O'), ('on', 'IN', 'O'), ('terrorism', 'NN', 'O'), ('charges', 'NNS', 'O'), ('.', '.', 'O')], [('Police', 'NNS', 'O'), ('say', 'VBP', 'O'), ('Ramda', 'NNP', 'B-per'), ('operated', 'VBD', 'O'), ('from', 'IN', 'O'), ('London', 'NNP', 'B-geo'), ('where', 'WRB', 'O'), ('investigators', 'NNS', 'O'), ('say', 'VBP', 'O'), ('they', 'PRP', 'O'), ('found', 'VBD', 'O'), ('evidence', 'NN', 'O'), ('that', 'IN', 'O'), ('he', 'PRP', 'O'), ('sent', 'VBD', 'O'), ('money', 'NN', 'O'), ('to', 'TO', 'O'), ('terrorists', 'NNS', 'O'), ('.', '.', 'O')], [('He', 'PRP', 'O'), ('is', 'VBZ', 'O'), ('accused', 'VBN', 'O'), ('of', 'IN', 'O'), ('helping', 'VBG', 'O'), ('fund', 'NN', 'O'), ('attacks', 'NNS', 'O'), ('carried', 'VBD', 'O'), ('out', 'RP', 'O'), ('by', 'IN', 'O'), ('an', 'DT', 'O'), ('Algerian', 'JJ', 'B-gpe'), ('militant', 'JJ', 'O'), ('organization', 'NN', 'O'), ('the', 'DT', 'O'), ('Armed', 'NNP', 'B-org'), ('Islamic', 'NNP', 'I-org'), ('Group', 'NNP', 'I-org'), ('.', '.', 'O')], [('British', 'JJ', 'B-gpe'), ('police', 'NN', 'O'), ('arrested', 'VBN', 'O'), ('Ramda', 'NNP', 'B-per'), ('in', 'IN', 'O'), ('1995', 'CD', 'B-tim'), ('.', '.', 'O')], [('He', 'PRP', 'O'), ('fought', 'VBD', 'O'), ('extradition', 'NN', 'O'), ('to', 'TO', 'O'), ('France', 'NNP', 'B-geo'), ('for', 'IN', 'O'), ('10', 'CD', 'O'), ('years', 'NNS', 'O'), ('.', '.', 'O')], [('In', 'IN', 'O'), ('Monday', 'NNP', 'B-tim'), (\"'s\", 'POS', 'O'), ('trial', 'NN', 'O'), (',', ',', 'O'), ('Ramda', 'NNP', 'B-per'), ('is', 'VBZ', 'O'), ('facing', 'VBG', 'O'), ('charges', 'NNS', 'O'), ('of', 'IN', 'O'), ('being', 'VBG', 'O'), ('an', 'DT', 'O'), ('accomplice', 'NN', 'O'), ('to', 'TO', 'O'), ('at', 'IN', 'O'), ('least', 'JJS', 'O'), ('three', 'CD', 'O'), ('bombings', 'NNS', 'O'), ('on', 'IN', 'O'), ('the', 'DT', 'O'), ('Paris', 'NNP', 'B-geo'), ('subway', 'NN', 'O'), (',', ',', 'O'), ('including', 'VBG', 'O'), ('the', 'DT', 'O'), ('July', 'NNP', 'B-tim'), ('25', 'CD', 'I-tim'), (',', ',', 'I-tim'), ('1995', 'CD', 'I-tim'), ('attack', 'NN', 'O'), ('that', 'WDT', 'O'), ('killed', 'VBD', 'O'), ('eight', 'CD', 'O'), ('people', 'NNS', 'O'), ('and', 'CC', 'O'), ('injured', 'VBD', 'O'), ('more', 'JJR', 'O'), ('than', 'IN', 'O'), ('150', 'CD', 'O'), ('.', '.', 'O')], [('The', 'DT', 'O'), ('United', 'NNP', 'B-org'), ('Nations', 'NNP', 'I-org'), ('says', 'VBZ', 'O'), ('Sudanese', 'JJ', 'B-gpe'), ('refugees', 'NNS', 'O'), ('have', 'VBP', 'O'), ('begun', 'VBN', 'O'), ('returning', 'VBG', 'O'), ('from', 'IN', 'O'), ('the', 'DT', 'O'), ('Central', 'NNP', 'B-gpe'), ('African', 'NNP', 'I-gpe'), ('Republic', 'NNP', 'I-gpe'), ('under', 'IN', 'O'), ('a', 'DT', 'O'), ('new', 'JJ', 'O'), ('deal', 'NN', 'O'), ('between', 'IN', 'O'), ('the', 'DT', 'O'), ('countries', 'NNS', 'O'), ('and', 'CC', 'O'), ('the', 'DT', 'O'), ('U.N.', 'NNP', 'B-org'), ('refugee', 'NN', 'O'), ('agency', 'NN', 'O'), ('.', '.', 'O')], [('The', 'DT', 'O'), ('U.N.', 'NNP', 'B-org'), ('says', 'VBZ', 'O'), ('the', 'DT', 'O'), ('deal', 'NN', 'O'), (',', ',', 'O'), ('which', 'WDT', 'O'), ('was', 'VBD', 'O'), ('signed', 'VBN', 'O'), ('Wednesday', 'NNP', 'B-tim'), (',', ',', 'O'), ('will', 'MD', 'O'), ('allow', 'VB', 'O'), ('some', 'DT', 'O'), ('16,000', 'CD', 'O'), ('Sudanese', 'JJ', 'B-gpe'), ('refugees', 'NNS', 'O'), ('living', 'VBG', 'O'), ('in', 'IN', 'O'), ('the', 'DT', 'O'), ('CAR', 'NNP', 'B-gpe'), ('to', 'TO', 'O'), ('voluntarily', 'RB', 'O'), ('return', 'VB', 'O'), ('home', 'NN', 'O'), ('.', '.', 'O')], [('It', 'PRP', 'O'), ('says', 'VBZ', 'O'), ('the', 'DT', 'O'), ('first', 'JJ', 'O'), ('group', 'NN', 'O'), ('of', 'IN', 'O'), ('refugees', 'NNS', 'O'), ('was', 'VBD', 'O'), ('scheduled', 'VBN', 'O'), ('to', 'TO', 'O'), ('fly', 'VB', 'O'), ('home', 'NN', 'O'), ('Thursday', 'NNP', 'B-tim'), ('.', '.', 'O')], [('Five', 'CD', 'O'), ('thousand', 'CD', 'O'), ('refugees', 'NNS', 'O'), ('are', 'VBP', 'O'), ('expected', 'VBN', 'O'), ('to', 'TO', 'O'), ('return', 'VB', 'O'), ('to', 'TO', 'O'), ('Sudan', 'NNP', 'B-gpe'), ('by', 'IN', 'O'), ('April', 'NNP', 'B-tim'), ('.', '.', 'O')], [('The', 'DT', 'O'), ('rest', 'NN', 'O'), ('will', 'MD', 'O'), ('go', 'VB', 'O'), ('home', 'NN', 'O'), ('by', 'IN', 'O'), ('the', 'DT', 'O'), ('end', 'NN', 'O'), ('of', 'IN', 'O'), ('the', 'DT', 'O'), ('year', 'NN', 'O'), ('.', '.', 'O')], [('The', 'DT', 'O'), ('deal', 'NN', 'O'), ('is', 'VBZ', 'O'), ('one', 'CD', 'O'), ('of', 'IN', 'O'), ('several', 'JJ', 'O'), ('involving', 'VBG', 'O'), ('Sudan', 'NNP', 'B-gpe'), ('reached', 'VBD', 'O'), ('this', 'DT', 'O'), ('week', 'NN', 'O'), ('by', 'IN', 'O'), ('the', 'DT', 'O'), ('refugee', 'NN', 'O'), ('agency', 'NN', 'O'), ('and', 'CC', 'O'), ('Sudan', 'NNP', 'B-gpe'), (\"'s\", 'POS', 'O'), ('neighbors', 'NNS', 'O'), ('.', '.', 'O')], [('The', 'DT', 'O'), ('U.N.', 'NNP', 'B-org'), ('says', 'VBZ', 'O'), ('the', 'DT', 'O'), ('other', 'JJ', 'O'), ('agreements', 'NNS', 'O'), ('will', 'MD', 'O'), ('allow', 'VB', 'O'), ('for', 'IN', 'O'), ('the', 'DT', 'O'), ('return', 'NN', 'O'), ('of', 'IN', 'O'), ('13,000', 'CD', 'O'), ('Sudanese', 'JJ', 'B-gpe'), ('refugees', 'NNS', 'O'), ('living', 'VBG', 'O'), ('in', 'IN', 'O'), ('the', 'DT', 'O'), ('Democratic', 'NNP', 'B-gpe'), ('Republic', 'NNP', 'I-gpe'), ('of', 'IN', 'I-gpe'), ('Congo', 'NNP', 'I-gpe'), (',', ',', 'O'), ('and', 'CC', 'O'), ('for', 'IN', 'O'), ('the', 'DT', 'O'), ('return', 'NN', 'O'), ('of', 'IN', 'O'), ('nearly', 'RB', 'O'), ('7,000', 'CD', 'O'), ('Congolese', 'JJ', 'B-gpe'), ('refugees', 'NNS', 'O'), ('currently', 'RB', 'O'), ('in', 'IN', 'O'), ('Sudan', 'NNP', 'B-gpe'), ('.', '.', 'O')], [('Police', 'NNS', 'O'), ('in', 'IN', 'O'), ('Japan', 'NNP', 'B-geo'), ('say', 'VBP', 'O'), ('a', 'DT', 'O'), ('teacher', 'NN', 'O'), ('stabbed', 'VBN', 'O'), ('to', 'TO', 'O'), ('death', 'NN', 'O'), ('a', 'DT', 'O'), ('12-year-old', 'JJ', 'O'), ('girl', 'NN', 'O'), ('Saturday', 'NNP', 'B-tim'), ('in', 'IN', 'O'), ('the', 'DT', 'O'), ('country', 'NN', 'O'), (\"'s\", 'POS', 'O'), ('third', 'JJ', 'O'), ('killing', 'NN', 'O'), ('of', 'IN', 'O'), ('a', 'DT', 'O'), ('school', 'NN', 'O'), ('girl', 'NN', 'O'), ('in', 'IN', 'O'), ('less', 'JJR', 'O'), ('than', 'IN', 'O'), ('three', 'CD', 'O'), ('weeks', 'NNS', 'O'), ('.', '.', 'O')], [('Yu', 'NNP', 'B-per'), ('Hagino', 'NNP', 'I-per'), (',', ',', 'O'), ('23', 'CD', 'O'), (',', ',', 'O'), ('was', 'VBD', 'O'), ('arrested', 'VBN', 'O'), ('at', 'IN', 'O'), ('the', 'DT', 'O'), ('murder', 'NN', 'O'), ('scene', 'NN', 'O'), (',', ',', 'O'), ('a', 'DT', 'O'), ('school', 'NN', 'O'), ('in', 'IN', 'O'), ('the', 'DT', 'O'), ('western', 'JJ', 'O'), ('city', 'NN', 'O'), ('of', 'IN', 'O'), ('Uji', 'NNP', 'B-geo'), ('.', '.', 'O')], [('Police', 'NNS', 'O'), ('say', 'VBP', 'O'), ('the', 'DT', 'O'), ('suspect', 'NN', 'O'), ('confessed', 'VBD', 'O'), ('to', 'TO', 'O'), ('stabbing', 'VBG', 'O'), ('the', 'DT', 'O'), ('girl', 'NN', 'O'), ('with', 'IN', 'O'), ('a', 'DT', 'O'), ('knife', 'NN', 'O'), ('after', 'IN', 'O'), ('arguing', 'VBG', 'O'), ('with', 'IN', 'O'), ('her', 'PRP', 'O'), ('.', '.', 'O')], [('The', 'DT', 'O'), ('killing', 'NN', 'O'), ('follows', 'VBZ', 'O'), ('the', 'DT', 'O'), ('recent', 'JJ', 'O'), ('murders', 'NNS', 'O'), ('of', 'IN', 'O'), ('two', 'CD', 'O'), ('school', 'NN', 'O'), ('girls', 'NNS', 'O'), ('in', 'IN', 'O'), ('the', 'DT', 'O'), ('space', 'NN', 'O'), ('of', 'IN', 'O'), ('just', 'RB', 'O'), ('over', 'IN', 'O'), ('a', 'DT', 'O'), ('week', 'NN', 'O'), ('.', '.', 'O')], [('The', 'DT', 'O'), ('two', 'CD', 'O'), ('were', 'VBD', 'O'), ('killed', 'VBN', 'O'), ('in', 'IN', 'O'), ('separate', 'JJ', 'O'), ('incidents', 'NNS', 'O'), ('as', 'IN', 'O'), ('they', 'PRP', 'O'), ('walked', 'VBD', 'O'), ('home', 'NN', 'O'), ('alone', 'RB', 'O'), ('from', 'IN', 'O'), ('elementary', 'JJ', 'O'), ('school', 'NN', 'O'), ('along', 'IN', 'O'), ('deserted', 'JJ', 'O'), ('roads', 'NNS', 'O'), ('.', '.', 'O')], [('Radical', 'JJ', 'O'), ('Islamic', 'JJ', 'O'), ('cleric', 'NN', 'O'), ('Omar', 'NNP', 'B-per'), ('Bakri', 'NNP', 'I-per'), ('Mohammed', 'NNP', 'I-per'), ('has', 'VBZ', 'O'), ('called', 'VBN', 'O'), ('on', 'IN', 'O'), ('all', 'DT', 'O'), ('Muslims', 'NNS', 'O'), ('to', 'TO', 'O'), ('leave', 'VB', 'O'), ('Europe', 'NNP', 'B-geo'), ('.', '.', 'O')], [('In', 'IN', 'O'), ('an', 'DT', 'O'), ('interview', 'NN', 'O'), ('with', 'IN', 'O'), ('French', 'JJ', 'B-gpe'), ('television', 'NN', 'O'), ('to', 'TO', 'O'), ('be', 'VB', 'O'), ('broadcast', 'VBN', 'O'), ('Monday', 'NNP', 'B-tim'), (',', ',', 'O'), ('Mr.', 'NNP', 'B-per'), ('Bakri', 'NNP', 'I-per'), ('says', 'VBZ', 'O'), ('Muslims', 'NNPS', 'B-org'), ('will', 'MD', 'O'), ('one', 'CD', 'O'), ('day', 'NN', 'O'), ('return', 'VB', 'O'), ('to', 'TO', 'O'), ('Europe', 'NNP', 'B-geo'), (',', ',', 'O'), ('and', 'CC', 'O'), ('the', 'DT', 'O'), ('Islamic', 'JJ', 'O'), ('flag', 'NN', 'O'), ('will', 'MD', 'O'), ('fly', 'VB', 'O'), ('over', 'IN', 'O'), ('Downing', 'NNP', 'B-art'), ('Street', 'NNP', 'I-art'), (',', ',', 'O'), ('the', 'DT', 'O'), ('home', 'NN', 'O'), ('of', 'IN', 'O'), ('Britain', 'NNP', 'B-gpe'), (\"'s\", 'POS', 'O'), ('prime', 'JJ', 'O'), ('minister', 'NN', 'O'), ('.', '.', 'O')], [('The', 'DT', 'O'), ('interview', 'NN', 'O'), ('took', 'VBD', 'O'), ('place', 'NN', 'O'), ('in', 'IN', 'O'), ('Beirut', 'NNP', 'B-geo'), ('where', 'WRB', 'O'), ('Mr.', 'NNP', 'B-per'), ('Bakri', 'NNP', 'I-per'), ('lives', 'VBZ', 'O'), ('after', 'IN', 'O'), ('the', 'DT', 'O'), ('British', 'JJ', 'B-gpe'), ('government', 'NN', 'O'), ('stripped', 'VBD', 'O'), ('him', 'PRP', 'O'), ('of', 'IN', 'O'), ('his', 'PRP$', 'O'), ('residency', 'NN', 'O'), ('in', 'IN', 'O'), ('its', 'PRP$', 'O'), ('campaign', 'NN', 'O'), ('to', 'TO', 'O'), ('rein', 'VB', 'O'), ('in', 'IN', 'O'), ('radical', 'JJ', 'O'), ('Islamic', 'JJ', 'O'), ('leaders', 'NNS', 'O'), ('.', '.', 'O')], [('Mr.', 'NNP', 'B-per'), ('Bakri', 'NNP', 'I-per'), ('triggered', 'VBD', 'O'), ('British', 'JJ', 'B-gpe'), ('outrage', 'NN', 'O'), ('after', 'IN', 'O'), ('the', 'DT', 'O'), ('July', 'NNP', 'B-tim'), ('7', 'CD', 'I-tim'), ('bombings', 'NNS', 'O'), ('in', 'IN', 'O'), ('London', 'NNP', 'B-geo'), ('when', 'WRB', 'O'), ('he', 'PRP', 'O'), ('said', 'VBD', 'O'), ('he', 'PRP', 'O'), ('would', 'MD', 'O'), ('never', 'RB', 'O'), ('tip', 'VB', 'O'), ('off', 'IN', 'O'), ('police', 'NN', 'O'), ('if', 'IN', 'O'), ('he', 'PRP', 'O'), ('knew', 'VBD', 'O'), ('a', 'DT', 'O'), ('Muslim', 'NN', 'B-org'), ('was', 'VBD', 'O'), ('about', 'IN', 'O'), ('to', 'TO', 'O'), ('carry', 'VB', 'O'), ('out', 'RP', 'O'), ('an', 'DT', 'O'), ('attack', 'NN', 'O'), ('.', '.', 'O')], [('In', 'IN', 'O'), ('the', 'DT', 'O'), ('France', 'NNP', 'B-art'), ('3', 'CD', 'I-art'), ('interview', 'NN', 'O'), (',', ',', 'O'), ('Mr.', 'NNP', 'B-per'), ('Bakri', 'NNP', 'I-per'), ('says', 'VBZ', 'O'), ('the', 'DT', 'O'), ('backgrounds', 'NNS', 'O'), ('of', 'IN', 'O'), ('the', 'DT', 'O'), ('four', 'CD', 'O'), ('suicide', 'NN', 'O'), ('bombers', 'NNS', 'O'), ('in', 'IN', 'O'), ('the', 'DT', 'O'), ('London', 'NNP', 'B-geo'), ('attacks', 'NNS', 'O'), ('prove', 'VBP', 'O'), ('the', 'DT', 'O'), ('message', 'NN', 'O'), ('of', 'IN', 'O'), ('al-Qaida', 'NNP', 'B-org'), ('chief', 'NN', 'O'), ('Osama', 'NNP', 'B-per'), ('bin', 'NNP', 'I-per'), ('Laden', 'NNP', 'I-per'), ('has', 'VBZ', 'O'), ('reached', 'VBN', 'O'), ('moderate', 'JJ', 'O'), ('communities', 'NNS', 'O'), ('.', '.', 'O')], [('Iran', 'NNP', 'B-gpe'), (\"'s\", 'POS', 'O'), ('defense', 'NN', 'O'), ('minister', 'NN', 'O'), ('has', 'VBZ', 'O'), ('denounced', 'VBN', 'O'), ('remarks', 'NNS', 'O'), ('by', 'IN', 'O'), ('the', 'DT', 'O'), ('top', 'JJ', 'O'), ('U.S.', 'NNP', 'B-gpe'), ('military', 'JJ', 'O'), ('commander', 'NN', 'O'), (',', ',', 'O'), ('who', 'WP', 'O'), ('said', 'VBD', 'O'), ('Washington', 'NNP', 'B-gpe'), ('has', 'VBZ', 'O'), ('not', 'RB', 'O'), ('ruled', 'VBN', 'O'), ('out', 'IN', 'O'), ('the', 'DT', 'O'), ('use', 'NN', 'O'), ('of', 'IN', 'O'), ('force', 'NN', 'O'), ('against', 'IN', 'O'), ('Iran', 'NNP', 'B-gpe'), ('to', 'TO', 'O'), ('prevent', 'VB', 'O'), ('it', 'PRP', 'O'), ('from', 'IN', 'O'), ('making', 'VBG', 'O'), ('nuclear', 'JJ', 'O'), ('weapons', 'NNS', 'O'), ('.', '.', 'O')], [('Joint', 'NNP', 'B-org'), ('Chiefs', 'NNP', 'I-org'), ('of', 'IN', 'I-org'), ('Staff', 'NNP', 'I-org'), ('Chairman', 'NN', 'O'), ('Mike', 'NNP', 'B-per'), ('Mullen', 'NNP', 'I-per'), ('said', 'VBD', 'O'), ('Sunday', 'NNP', 'B-tim'), ('that', 'IN', 'O'), ('the', 'DT', 'O'), ('U.S.', 'NNP', 'B-gpe'), ('has', 'VBZ', 'O'), ('a', 'DT', 'O'), ('plan', 'NN', 'O'), ('to', 'TO', 'O'), ('strike', 'VB', 'O'), ('Iran', 'NNP', 'B-gpe'), ('.', '.', 'O')], [('But', 'CC', 'O'), ('Admiral', 'NNP', 'B-per'), ('Mullen', 'NNP', 'I-per'), ('said', 'VBD', 'O'), ('he', 'PRP', 'O'), ('hopes', 'VBZ', 'O'), ('the', 'DT', 'O'), ('military', 'JJ', 'O'), ('option', 'NN', 'O'), ('is', 'VBZ', 'O'), ('not', 'RB', 'O'), ('needed', 'VBN', 'O'), ('.', '.', 'O')], [('Iran', 'NNP', 'B-gpe'), (\"'s\", 'POS', 'O'), ('defense', 'NN', 'O'), ('minister', 'NN', 'O'), (',', ',', 'O'), ('Brigadier', 'NNP', 'B-per'), ('General', 'NNP', 'I-per'), ('Ahmad', 'NNP', 'I-per'), ('Vahidi', 'NNP', 'I-per'), (',', ',', 'O'), ('said', 'VBD', 'O'), ('Tuesday', 'NNP', 'B-tim'), ('that', 'IN', 'O'), ('U.S.', 'NNP', 'B-gpe'), ('threats', 'NNS', 'O'), ('to', 'TO', 'O'), ('attack', 'VB', 'O'), ('his', 'PRP$', 'O'), ('country', 'NN', 'O'), ('violate', 'VBP', 'O'), ('the', 'DT', 'O'), ('United', 'NNP', 'B-org'), ('Nations', 'NNP', 'I-org'), ('charter', 'NN', 'O'), ('.', '.', 'O')], [('He', 'PRP', 'O'), ('warned', 'VBD', 'O'), ('that', 'IN', 'O'), ('Tehran', 'NNP', 'B-gpe'), ('has', 'VBZ', 'O'), ('drawn', 'VBN', 'O'), ('up', 'RP', 'O'), ('defensive', 'JJ', 'O'), ('plans', 'NNS', 'O'), ('that', 'WDT', 'O'), ('would', 'MD', 'O'), ('make', 'VB', 'O'), ('its', 'PRP$', 'O'), ('enemies', 'NNS', 'O'), ('regret', 'VBP', 'O'), ('any', 'DT', 'O'), ('attack', 'NN', 'O'), ('.', '.', 'O')], [('The', 'DT', 'O'), ('United', 'NNP', 'B-gpe'), ('States', 'NNPS', 'I-gpe'), ('and', 'CC', 'O'), ('other', 'JJ', 'O'), ('Western', 'JJ', 'O'), ('countries', 'NNS', 'O'), ('accuse', 'VBP', 'O'), ('Iran', 'NNP', 'B-gpe'), ('of', 'IN', 'O'), ('secretly', 'RB', 'O'), ('developing', 'VBG', 'O'), ('nuclear', 'JJ', 'O'), ('weapons', 'NNS', 'O'), ('under', 'IN', 'O'), ('cover', 'NN', 'O'), ('of', 'IN', 'O'), ('a', 'DT', 'O'), ('civilian', 'JJ', 'O'), ('energy', 'NN', 'O'), ('program', 'NN', 'O'), ('-', 'IN', 'O'), ('a', 'DT', 'O'), ('charge', 'NN', 'O'), ('Iran', 'NNP', 'B-gpe'), ('denies', 'VBZ', 'O'), ('.', '.', 'O')], [('Admiral', 'NNP', 'B-per'), ('Mullen', 'NNP', 'I-per'), ('said', 'VBD', 'O'), ('he', 'PRP', 'O'), ('hopes', 'VBZ', 'O'), ('the', 'DT', 'O'), ('combination', 'NN', 'O'), ('of', 'IN', 'O'), ('sanctions', 'NNS', 'O'), ('and', 'CC', 'O'), ('diplomatic', 'JJ', 'O'), ('efforts', 'NNS', 'O'), ('will', 'MD', 'O'), ('resolve', 'VB', 'O'), ('the', 'DT', 'O'), ('dispute', 'NN', 'O'), ('.', '.', 'O')], [('Georgia', 'NNP', 'B-gpe'), (\"'s\", 'POS', 'O'), ('president', 'NN', 'O'), ('has', 'VBZ', 'O'), ('announced', 'VBN', 'O'), ('plans', 'NNS', 'O'), ('for', 'IN', 'O'), ('his', 'PRP$', 'O'), ('country', 'NN', 'O'), ('to', 'TO', 'O'), ('get', 'VB', 'O'), ('emergency', 'NN', 'O'), ('natural', 'JJ', 'O'), ('gas', 'NN', 'O'), ('supplies', 'NNS', 'O'), ('from', 'IN', 'O'), ('Iran', 'NNP', 'B-geo'), ('to', 'TO', 'O'), ('help', 'VB', 'O'), ('end', 'VB', 'O'), ('the', 'DT', 'O'), ('country', 'NN', 'O'), (\"'s\", 'POS', 'O'), ('shortage', 'NN', 'O'), ('of', 'IN', 'O'), ('both', 'DT', 'O'), ('gas', 'NN', 'O'), ('and', 'CC', 'O'), ('electricity', 'NN', 'O'), ('.', '.', 'O')], [('President', 'NNP', 'B-per'), ('Mikhail', 'NNP', 'I-per'), ('Saakashvili', 'NNP', 'I-per'), ('told', 'VBD', 'O'), ('cabinet', 'NN', 'O'), ('members', 'NNS', 'O'), ('Friday', 'NNP', 'B-tim'), ('that', 'IN', 'O'), ('gas', 'NN', 'O'), ('from', 'IN', 'O'), ('Iran', 'NNP', 'B-geo'), ('is', 'VBZ', 'O'), ('expected', 'VBN', 'O'), ('to', 'TO', 'O'), ('begin', 'VB', 'O'), ('flowing', 'VBG', 'O'), ('into', 'IN', 'O'), ('Georgia', 'NNP', 'B-geo'), ('beginning', 'VBG', 'O'), ('Sunday', 'NNP', 'B-tim'), ('or', 'CC', 'O'), (',', ',', 'O'), ('at', 'IN', 'O'), ('the', 'DT', 'O'), ('latest', 'JJS', 'O'), (',', ',', 'O'), ('Monday', 'NNP', 'B-tim'), ('.', '.', 'O')], [('Residents', 'NNS', 'O'), ('in', 'IN', 'O'), ('the', 'DT', 'O'), ('former', 'JJ', 'O'), ('Soviet', 'JJ', 'O'), ('republic', 'NN', 'O'), ('have', 'VBP', 'O'), ('been', 'VBN', 'O'), ('enduring', 'VBG', 'O'), ('freezing', 'JJ', 'O'), ('weather', 'NN', 'O'), ('with', 'IN', 'O'), ('limited', 'JJ', 'O'), ('supplies', 'NNS', 'O'), ('after', 'IN', 'O'), ('explosions', 'NNS', 'O'), ('on', 'IN', 'O'), ('pipelines', 'NNS', 'O'), ('delivering', 'VBG', 'O'), ('Russian', 'JJ', 'B-gpe'), ('natural', 'JJ', 'O'), ('gas', 'NN', 'O'), ('.', '.', 'O')], [('Russian', 'JJ', 'B-gpe'), ('authorities', 'NNS', 'O'), ('deny', 'VBP', 'O'), ('Georgian', 'JJ', 'B-gpe'), ('charges', 'NNS', 'O'), ('that', 'IN', 'O'), ('they', 'PRP', 'O'), ('deliberately', 'RB', 'O'), ('cut', 'VBD', 'O'), ('supplies', 'NNS', 'O'), (',', ',', 'O'), ('and', 'CC', 'O'), ('insist', 'VBP', 'O'), ('the', 'DT', 'O'), ('pipelines', 'NNS', 'O'), ('were', 'VBD', 'O'), ('sabotaged', 'VBN', 'O'), ('.', '.', 'O')], [('Repairs', 'NNS', 'O'), ('are', 'VBP', 'O'), ('due', 'JJ', 'O'), ('to', 'TO', 'O'), ('be', 'VB', 'O'), ('completed', 'VBN', 'O'), ('by', 'IN', 'O'), ('Sunday', 'NNP', 'B-tim'), ('.', '.', 'O')], [('Georgia', 'NNP', 'B-gpe'), ('is', 'VBZ', 'O'), ('heavily', 'RB', 'O'), ('dependent', 'JJ', 'O'), ('on', 'IN', 'O'), ('Russian', 'JJ', 'B-gpe'), ('natural', 'JJ', 'O'), ('gas', 'NN', 'O'), ('.', '.', 'O')], [('President', 'NNP', 'B-per'), ('Saakashvili', 'NNP', 'I-per'), ('says', 'VBZ', 'O'), ('the', 'DT', 'O'), ('agreement', 'NN', 'O'), ('with', 'IN', 'O'), ('Iran', 'NNP', 'B-geo'), ('shows', 'VBZ', 'O'), ('his', 'PRP$', 'O'), ('country', 'NN', 'O'), ('has', 'VBZ', 'O'), ('alternative', 'JJ', 'O'), ('sources', 'NNS', 'O'), ('.', '.', 'O')], [('Millions', 'NNS', 'O'), ('of', 'IN', 'O'), ('Georgians', 'NNS', 'B-gpe'), ('have', 'VBP', 'O'), ('also', 'RB', 'O'), ('been', 'VBN', 'O'), ('without', 'IN', 'O'), ('electricity', 'NN', 'O'), ('because', 'IN', 'O'), ('of', 'IN', 'O'), ('a', 'DT', 'O'), ('breakdown', 'NN', 'O'), ('of', 'IN', 'O'), ('a', 'DT', 'O'), ('unit', 'NN', 'O'), ('at', 'IN', 'O'), ('a', 'DT', 'O'), ('power', 'NN', 'O'), ('station', 'NN', 'O'), (',', ',', 'O'), ('as', 'RB', 'O'), ('well', 'RB', 'O'), ('as', 'IN', 'O'), ('downed', 'JJ', 'O'), ('power', 'NN', 'O'), ('lines', 'NNS', 'O'), ('.', '.', 'O')], [('Peru', 'NNP', 'B-gpe'), (\"'s\", 'POS', 'O'), ('former', 'JJ', 'O'), ('President', 'NN', 'O'), (',', ',', 'O'), ('Alberto', 'NNP', 'B-per'), ('Fujimori', 'NNP', 'I-per'), (',', ',', 'O'), ('has', 'VBZ', 'O'), ('told', 'VBN', 'O'), ('authorities', 'NNS', 'O'), ('he', 'PRP', 'O'), ('is', 'VBZ', 'O'), ('trying', 'VBG', 'O'), ('to', 'TO', 'O'), ('form', 'VB', 'O'), ('a', 'DT', 'O'), ('political', 'JJ', 'O'), ('alliance', 'NN', 'O'), ('to', 'TO', 'O'), ('support', 'VB', 'O'), ('his', 'PRP$', 'O'), ('bid', 'NN', 'O'), ('to', 'TO', 'O'), ('run', 'VB', 'O'), ('in', 'IN', 'O'), ('next', 'JJ', 'O'), ('April', 'NNP', 'B-tim'), (\"'s\", 'POS', 'O'), ('presidential', 'JJ', 'O'), ('election', 'NN', 'O'), ('.', '.', 'O')], [('In', 'IN', 'O'), ('a', 'DT', 'O'), ('visit', 'NN', 'O'), ('to', 'TO', 'O'), ('the', 'DT', 'O'), ('Peruvian', 'JJ', 'B-gpe'), ('consulate', 'NN', 'O'), ('in', 'IN', 'O'), ('Tokyo', 'NNP', 'B-geo'), ('Wednesday', 'NNP', 'B-tim'), (',', ',', 'O'), ('Mr.', 'NNP', 'B-per'), ('Fujimori', 'NNP', 'I-per'), ('had', 'VBD', 'O'), ('his', 'PRP$', 'O'), ('signature', 'NN', 'O'), ('validated', 'VBD', 'O'), ('on', 'IN', 'O'), ('a', 'DT', 'O'), ('document', 'NN', 'O'), ('joining', 'VBG', 'O'), ('his', 'PRP$', 'O'), ('Si', 'NNP', 'B-org'), ('Cumple', 'NNP', 'I-org'), ('party', 'NN', 'O'), ('with', 'IN', 'O'), ('two', 'CD', 'O'), ('other', 'JJ', 'O'), ('political', 'JJ', 'O'), ('parties', 'NNS', 'O'), ('.', '.', 'O')], [('The', 'DT', 'O'), ('consulate', 'NN', 'O'), ('said', 'VBD', 'O'), ('it', 'PRP', 'O'), ('notarized', 'VBD', 'O'), ('his', 'PRP$', 'O'), ('signature', 'NN', 'O'), (',', ',', 'O'), ('but', 'CC', 'O'), ('not', 'RB', 'O'), ('the', 'DT', 'O'), ('contents', 'NNS', 'O'), ('of', 'IN', 'O'), ('the', 'DT', 'O'), ('document', 'NN', 'O'), ('.', '.', 'O')], [('The', 'DT', 'O'), ('disgraced', 'JJ', 'O'), ('ex-president', 'NN', 'O'), ('and', 'CC', 'O'), ('son', 'NN', 'O'), ('of', 'IN', 'O'), ('Japanese', 'JJ', 'B-gpe'), ('parents', 'NNS', 'O'), ('fled', 'VBD', 'O'), ('to', 'TO', 'O'), ('Japan', 'NNP', 'B-geo'), ('in', 'IN', 'O'), ('2000', 'CD', 'B-tim'), (',', ',', 'O'), ('where', 'WRB', 'O'), ('he', 'PRP', 'O'), ('was', 'VBD', 'O'), ('granted', 'VBN', 'O'), ('citizenship', 'NN', 'O'), ('.', '.', 'O')], [('The', 'DT', 'O'), ('exiled', 'VBN', 'O'), ('president', 'NN', 'O'), ('is', 'VBZ', 'O'), ('wanted', 'VBN', 'O'), ('in', 'IN', 'O'), ('Peru', 'NNP', 'B-geo'), ('to', 'TO', 'O'), ('face', 'VB', 'O'), ('charges', 'NNS', 'O'), ('of', 'IN', 'O'), ('corruption', 'NN', 'O'), ('and', 'CC', 'O'), ('human', 'JJ', 'O'), ('rights', 'NNS', 'O'), ('abuses', 'NNS', 'O'), ('related', 'VBN', 'O'), ('to', 'IN', 'O'), ('the', 'DT', 'O'), ('death', 'NN', 'O'), ('squad', 'NN', 'O'), ('murders', 'NNS', 'O'), ('of', 'IN', 'O'), ('25', 'CD', 'O'), ('people', 'NNS', 'O'), ('.', '.', 'O')], [('Mr.', 'NNP', 'B-per'), ('Fujimori', 'NNP', 'I-per'), (',', ',', 'O'), ('Peru', 'NNP', 'B-geo'), (\"'s\", 'POS', 'O'), ('hard-line', 'JJ', 'O'), ('ruler', 'NN', 'O'), ('from', 'IN', 'O'), ('1990', 'CD', 'B-tim'), ('to', 'IN', 'O'), ('2000', 'CD', 'B-tim'), (',', ',', 'O'), ('has', 'VBZ', 'O'), ('denied', 'VBN', 'O'), ('the', 'DT', 'O'), ('charges', 'NNS', 'O'), (',', ',', 'O'), ('calling', 'VBG', 'O'), ('them', 'PRP', 'O'), ('politically', 'RB', 'O'), ('motivated', 'JJ', 'O'), ('.', '.', 'O')], [('Tokyo', 'NNP', 'B-gpe'), ('has', 'VBZ', 'O'), ('refused', 'VBN', 'O'), ('requests', 'NNS', 'O'), ('from', 'IN', 'O'), ('Lima', 'NNP', 'B-gpe'), ('for', 'IN', 'O'), ('his', 'PRP$', 'O'), ('extradition', 'NN', 'O'), ('.', '.', 'O')], [('The', 'DT', 'O'), ('British', 'JJ', 'B-gpe'), ('Embassy', 'NN', 'O'), ('in', 'IN', 'O'), ('Sudan', 'NNP', 'B-geo'), (\"'s\", 'POS', 'O'), ('capital', 'NN', 'O'), ('has', 'VBZ', 'O'), ('re-opened', 'VBN', 'O'), ('to', 'TO', 'O'), ('the', 'DT', 'O'), ('public', 'NN', 'O'), (',', ',', 'O'), ('four', 'CD', 'O'), ('days', 'NNS', 'O'), ('after', 'IN', 'O'), ('it', 'PRP', 'O'), ('was', 'VBD', 'O'), ('closed', 'VBN', 'O'), ('because', 'IN', 'O'), ('of', 'IN', 'O'), ('a', 'DT', 'O'), ('possible', 'JJ', 'O'), ('terrorist', 'JJ', 'O'), ('threat', 'NN', 'O'), ('.', '.', 'O')], [('The', 'DT', 'O'), ('embassy', 'NN', 'O'), ('said', 'VBD', 'O'), ('in', 'IN', 'O'), ('a', 'DT', 'O'), ('statement', 'NN', 'O'), ('Thursday', 'NNP', 'B-tim'), ('that', 'IN', 'O'), ('\"', '``', 'O'), ('additional', 'JJ', 'O'), ('security', 'NN', 'O'), ('\"', '``', 'O'), ('has', 'VBZ', 'O'), ('allowed', 'VBN', 'O'), ('it', 'PRP', 'O'), ('to', 'TO', 'O'), ('resume', 'VB', 'O'), ('normal', 'JJ', 'O'), ('consular', 'NN', 'O'), ('and', 'CC', 'O'), ('visa', 'NN', 'O'), ('services', 'NNS', 'O'), ('.', '.', 'O')], [('The', 'DT', 'O'), ('statement', 'NN', 'O'), ('also', 'RB', 'O'), ('thanked', 'VBD', 'O'), ('the', 'DT', 'O'), ('Sudanese', 'JJ', 'B-gpe'), ('government', 'NN', 'O'), ('for', 'IN', 'O'), ('its', 'PRP$', 'O'), ('cooperation', 'NN', 'O'), ('.', '.', 'O')], [('Earlier', 'RBR', 'O'), ('this', 'DT', 'O'), ('week', 'NN', 'O'), (',', ',', 'O'), ('the', 'DT', 'O'), ('government', 'NN', 'O'), ('said', 'VBD', 'O'), ('it', 'PRP', 'O'), ('had', 'VBD', 'O'), ('broken', 'VBN', 'O'), ('up', 'RP', 'O'), ('a', 'DT', 'O'), ('plot', 'NN', 'O'), ('to', 'TO', 'O'), ('attack', 'VB', 'O'), ('several', 'JJ', 'O'), ('Western', 'JJ', 'O'), ('diplomatic', 'JJ', 'O'), ('missions', 'NNS', 'O'), ('in', 'IN', 'O'), ('the', 'DT', 'O'), ('capital', 'NN', 'O'), (',', ',', 'O'), ('Khartoum', 'NNP', 'B-geo'), ('.', '.', 'O')], [('The', 'DT', 'O'), ('state', 'NN', 'O'), ('news', 'NN', 'O'), ('agency', 'NN', 'O'), ('reported', 'VBD', 'O'), ('that', 'IN', 'O'), ('police', 'NNS', 'O'), ('had', 'VBD', 'O'), ('arrested', 'VBN', 'O'), ('eight', 'CD', 'O'), ('Sudanese', 'JJ', 'B-gpe'), ('men', 'NNS', 'O'), ('and', 'CC', 'O'), ('confiscated', 'VBN', 'O'), ('arms', 'NNS', 'O'), ('and', 'CC', 'O'), ('explosives', 'NNS', 'O'), ('.', '.', 'O')], [('The', 'DT', 'O'), ('British', 'JJ', 'B-gpe'), ('Embassy', 'NN', 'O'), ('has', 'VBZ', 'O'), ('advised', 'VBN', 'O'), ('British', 'JJ', 'B-gpe'), ('citizens', 'NNS', 'O'), ('to', 'TO', 'O'), ('avoid', 'VB', 'O'), ('travel', 'NN', 'O'), ('to', 'IN', 'O'), ('Khartoum', 'NNP', 'B-geo'), ('.', '.', 'O')], [('Kenyan', 'JJ', 'B-gpe'), ('police', 'NNS', 'O'), ('have', 'VBP', 'O'), ('opened', 'VBN', 'O'), ('fire', 'NN', 'O'), ('at', 'IN', 'O'), ('hundreds', 'NNS', 'O'), ('of', 'IN', 'O'), ('people', 'NNS', 'O'), ('demonstrating', 'VBG', 'O'), ('against', 'IN', 'O'), ('cartoons', 'NNS', 'O'), ('depicting', 'VBG', 'O'), ('the', 'DT', 'O'), ('Prophet', 'NNP', 'B-per'), ('Muhammad', 'NNP', 'I-per'), (',', ',', 'O'), ('as', 'IN', 'O'), ('protests', 'NNS', 'O'), ('across', 'IN', 'O'), ('the', 'DT', 'O'), ('Muslim', 'NNP', 'B-org'), ('world', 'NN', 'O'), ('showed', 'VBD', 'O'), ('no', 'DT', 'O'), ('signs', 'NNS', 'O'), ('of', 'IN', 'O'), ('abating', 'VBG', 'O'), ('.', '.', 'O')], [('At', 'IN', 'O'), ('least', 'JJS', 'O'), ('one', 'CD', 'O'), ('Kenyan', 'NN', 'B-gpe'), ('was', 'VBD', 'O'), ('wounded', 'VBN', 'O'), ('Friday', 'NNP', 'B-tim'), ('when', 'WRB', 'O'), ('protesters', 'NNS', 'O'), ('tried', 'VBD', 'O'), ('to', 'TO', 'O'), ('march', 'VB', 'O'), ('on', 'IN', 'O'), ('the', 'DT', 'O'), ('Danish', 'JJ', 'B-gpe'), ('embassy', 'NN', 'O'), ('in', 'IN', 'O'), ('Nairobi', 'NNP', 'B-geo'), (',', ',', 'O'), ('shouting', 'VBG', 'O'), ('anti-Denmark', 'JJ', 'O'), ('slogans', 'NNS', 'O'), ('and', 'CC', 'O'), ('burning', 'VBG', 'O'), ('Danish', 'JJ', 'B-gpe'), ('flags', 'NNS', 'O'), ('.', '.', 'O')], [('Muslims', 'NNS', 'O'), ('also', 'RB', 'O'), ('demonstrated', 'VBD', 'O'), ('Friday', 'NNP', 'B-tim'), ('in', 'IN', 'O'), ('cities', 'NNS', 'O'), ('across', 'IN', 'O'), ('the', 'DT', 'O'), ('Middle', 'NNP', 'B-geo'), ('East', 'NNP', 'I-geo'), ('as', 'RB', 'O'), ('well', 'RB', 'O'), ('as', 'IN', 'O'), ('in', 'IN', 'O'), ('India', 'NNP', 'B-geo'), (',', ',', 'O'), ('Pakistan', 'NNP', 'B-geo'), (',', ',', 'O'), ('Afghanistan', 'NNP', 'B-geo'), (',', ',', 'O'), ('Bangladesh', 'NNP', 'B-geo'), (',', ',', 'O'), ('Malaysia', 'NNP', 'B-geo'), (',', ',', 'O'), ('and', 'CC', 'O'), ('Venezuela', 'NNP', 'B-geo'), ('.', '.', 'O')], [('In', 'IN', 'O'), ('France', 'NNP', 'B-geo'), (',', ',', 'O'), ('a', 'DT', 'O'), ('Muslim', 'NNP', 'B-org'), ('organization', 'NN', 'O'), ('-', 'IN', 'O'), ('the', 'DT', 'O'), ('French', 'JJ', 'B-gpe'), ('Council', 'NN', 'B-org'), ('of', 'IN', 'O'), ('the', 'DT', 'O'), ('Muslim', 'NNP', 'B-org'), ('Faith', 'NNP', 'I-org'), ('-', ':', 'O'), ('said', 'VBD', 'O'), ('it', 'PRP', 'O'), ('was', 'VBD', 'O'), ('launching', 'VBG', 'O'), ('legal', 'JJ', 'O'), ('action', 'NN', 'O'), ('against', 'IN', 'O'), ('French', 'JJ', 'B-gpe'), ('newspapers', 'NNS', 'O'), ('that', 'WDT', 'O'), ('published', 'VBD', 'O'), ('the', 'DT', 'O'), ('cartoons', 'NNS', 'O'), (',', ',', 'O'), ('one', 'CD', 'O'), ('of', 'IN', 'O'), ('which', 'WDT', 'O'), ('depicts', 'VBZ', 'O'), ('the', 'DT', 'O'), ('Prophet', 'NNP', 'B-per'), ('Muhammad', 'NNP', 'I-per'), ('wearing', 'VBG', 'O'), ('a', 'DT', 'O'), ('turban', 'NN', 'O'), ('shaped', 'VBN', 'O'), ('like', 'IN', 'O'), ('a', 'DT', 'O'), ('bomb', 'NN', 'O'), ('.', '.', 'O')], [('Malaysian', 'JJ', 'B-gpe'), ('Prime', 'NNP', 'B-per'), ('Minister', 'NNP', 'I-per'), ('Abdullah', 'NNP', 'I-per'), ('Ahmad', 'NNP', 'I-per'), ('Badawi', 'NNP', 'I-per'), ('told', 'VBD', 'O'), ('an', 'DT', 'O'), ('international', 'JJ', 'O'), ('conference', 'NN', 'O'), ('Friday', 'NNP', 'B-tim'), ('the', 'DT', 'O'), ('Muslim', 'NNP', 'B-org'), ('world', 'NN', 'O'), ('and', 'CC', 'O'), ('the', 'DT', 'O'), ('West', 'NNP', 'B-geo'), ('must', 'MD', 'O'), ('stop', 'VB', 'O'), ('demonizing', 'VBG', 'O'), ('each', 'DT', 'O'), ('other', 'NN', 'O'), ('and', 'CC', 'O'), ('\"', '``', 'O'), ('accept', 'VB', 'O'), ('one', 'CD', 'O'), ('another', 'DT', 'O'), ('as', 'IN', 'O'), ('equals', 'NNS', 'O'), ('.', '.', 'O'), ('\"', '``', 'O')], [('The', 'DT', 'O'), ('death', 'NN', 'O'), ('toll', 'NN', 'O'), ('from', 'IN', 'O'), ('a', 'DT', 'O'), ('coal', 'NN', 'O'), ('mining', 'NN', 'O'), ('accident', 'NN', 'O'), ('in', 'IN', 'O'), ('northwestern', 'JJ', 'O'), ('China', 'NNP', 'B-geo'), ('rose', 'VBD', 'O'), ('to', 'TO', 'O'), ('32', 'CD', 'O'), ('Wednesday', 'NNP', 'B-tim'), ('after', 'IN', 'O'), ('searchers', 'NNS', 'O'), ('recovered', 'VBD', 'O'), ('the', 'DT', 'O'), ('body', 'NN', 'O'), ('of', 'IN', 'O'), ('the', 'DT', 'O'), ('last', 'JJ', 'O'), ('missing', 'JJ', 'O'), ('miner', 'NN', 'O'), ('.', '.', 'O')], [('China', 'NNP', 'B-geo'), (\"'s\", 'POS', 'O'), ('state-run', 'JJ', 'O'), ('media', 'NNS', 'O'), ('say', 'VBP', 'O'), ('39', 'CD', 'O'), ('people', 'NNS', 'O'), ('were', 'VBD', 'O'), ('working', 'VBG', 'O'), ('at', 'IN', 'O'), ('the', 'DT', 'O'), ('privately-owned', 'JJ', 'O'), ('coal', 'NN', 'O'), ('mine', 'NN', 'O'), ('in', 'IN', 'O'), ('Shaanxi', 'NNP', 'B-geo'), ('province', 'NN', 'O'), ('on', 'IN', 'O'), ('Saturday', 'NNP', 'B-tim'), ('when', 'WRB', 'O'), ('a', 'DT', 'O'), ('gas', 'NN', 'O'), ('explosion', 'NN', 'O'), ('occurred', 'VBD', 'O'), ('.', '.', 'O')], [('Seven', 'CD', 'O'), ('miners', 'NNS', 'O'), ('managed', 'VBD', 'O'), ('to', 'TO', 'O'), ('reach', 'VB', 'O'), ('the', 'DT', 'O'), ('surface', 'NN', 'O'), (',', ',', 'O'), ('but', 'CC', 'O'), ('the', 'DT', 'O'), ('others', 'NNS', 'O'), ('were', 'VBD', 'O'), ('trapped', 'VBN', 'O'), ('.', '.', 'O')], [('The', 'DT', 'O'), ('Xinhua', 'NNP', 'B-org'), ('news', 'NN', 'O'), ('agency', 'NN', 'O'), ('says', 'VBZ', 'O'), ('police', 'NNS', 'O'), ('have', 'VBP', 'O'), ('detained', 'VBN', 'O'), ('the', 'DT', 'O'), ('owner', 'NN', 'O'), ('and', 'CC', 'O'), ('managers', 'NNS', 'O'), ('of', 'IN', 'O'), ('the', 'DT', 'O'), ('mine', 'NN', 'O'), (',', ',', 'O'), ('but', 'CC', 'O'), ('provided', 'VBD', 'O'), ('no', 'DT', 'O'), ('other', 'JJ', 'O'), ('details', 'NNS', 'O'), ('.', '.', 'O')], [('Chinese', 'JJ', 'B-gpe'), ('mines', 'NNS', 'O'), ('are', 'VBP', 'O'), ('among', 'IN', 'O'), ('the', 'DT', 'O'), ('most', 'RBS', 'O'), ('dangerous', 'JJ', 'O'), ('in', 'IN', 'O'), ('the', 'DT', 'O'), ('world', 'NN', 'O'), ('.', '.', 'O')], [('Thousands', 'NNS', 'O'), ('of', 'IN', 'O'), ('people', 'NNS', 'O'), ('are', 'VBP', 'O'), ('killed', 'VBN', 'O'), ('every', 'DT', 'O'), ('year', 'NN', 'O'), ('in', 'IN', 'O'), ('explosions', 'NNS', 'O'), (',', ',', 'O'), ('cave-ins', 'NNS', 'O'), ('and', 'CC', 'O'), ('floods', 'NNS', 'O'), (',', ',', 'O'), ('despite', 'IN', 'O'), ('government', 'NN', 'O'), ('crackdowns', 'NNS', 'O'), ('on', 'IN', 'O'), ('safety', 'NN', 'O'), ('violations', 'NNS', 'O'), ('.', '.', 'O')], [('India', 'NNP', 'B-org'), ('and', 'CC', 'I-org'), ('Pakistan', 'NNP', 'I-org'), ('plan', 'VBP', 'O'), ('to', 'TO', 'O'), ('hold', 'VB', 'O'), ('a', 'DT', 'O'), ('third', 'JJ', 'O'), ('round', 'NN', 'O'), ('of', 'IN', 'O'), ('peace', 'NN', 'O'), ('talks', 'NNS', 'O'), ('in', 'IN', 'O'), ('January', 'NNP', 'B-tim'), ('with', 'IN', 'O'), ('a', 'DT', 'O'), ('focus', 'NN', 'O'), ('on', 'IN', 'O'), ('security', 'NN', 'O'), (',', ',', 'O'), ('the', 'DT', 'O'), ('Kashmir', 'NNP', 'B-geo'), ('issue', 'NN', 'O'), ('and', 'CC', 'O'), ('confidence-building', 'JJ', 'O'), ('measures', 'NNS', 'O'), ('between', 'IN', 'O'), ('the', 'DT', 'O'), ('nuclear', 'JJ', 'O'), ('rivals', 'NNS', 'O'), ('.', '.', 'O')], [('The', 'DT', 'O'), ('two-day', 'JJ', 'O'), ('talks', 'NNS', 'O'), ('will', 'MD', 'O'), ('begin', 'VB', 'O'), ('on', 'IN', 'O'), ('January', 'NNP', 'B-tim'), ('17', 'CD', 'I-tim'), ('and', 'CC', 'O'), ('they', 'PRP', 'O'), ('will', 'MD', 'O'), ('be', 'VB', 'O'), ('led', 'VBN', 'O'), ('by', 'IN', 'O'), ('the', 'DT', 'O'), ('countries', 'NNS', 'O'), (\"'\", 'POS', 'O'), ('foreign', 'JJ', 'O'), ('secretaries', 'NNS', 'O'), ('.', '.', 'O')], [('They', 'PRP', 'O'), ('will', 'MD', 'O'), ('review', 'VB', 'O'), ('progress', 'NN', 'O'), ('made', 'VBN', 'O'), ('so', 'RB', 'O'), ('far', 'RB', 'O'), ('and', 'CC', 'O'), ('also', 'RB', 'O'), ('chart', 'VB', 'O'), ('a', 'DT', 'O'), ('course', 'NN', 'O'), ('for', 'IN', 'O'), ('future', 'JJ', 'O'), ('negotiations', 'NNS', 'O'), ('.', '.', 'O')], [('The', 'DT', 'O'), ('talks', 'NNS', 'O'), ('will', 'MD', 'O'), ('be', 'VB', 'O'), ('under', 'IN', 'O'), ('a', 'DT', 'O'), ('peace', 'NN', 'O'), ('process', 'NN', 'O'), ('that', 'IN', 'O'), ('the', 'DT', 'O'), ('two', 'CD', 'O'), ('sides', 'NNS', 'O'), ('began', 'VBD', 'O'), ('in', 'IN', 'O'), ('January', 'NNP', 'B-tim'), ('2004', 'CD', 'I-tim'), ('.', '.', 'O')], [('A', 'DT', 'O'), ('foreign', 'JJ', 'O'), ('office', 'NN', 'O'), ('spokeswoman', 'NN', 'O'), ('in', 'IN', 'O'), ('Islamabad', 'NNP', 'B-geo'), ('also', 'RB', 'O'), ('said', 'VBD', 'O'), ('that', 'IN', 'O'), ('the', 'DT', 'O'), ('two', 'CD', 'O'), ('sides', 'NNS', 'O'), ('have', 'VBP', 'O'), ('been', 'VBN', 'O'), ('holding', 'VBG', 'O'), ('secret', 'JJ', 'O'), ('talks', 'NNS', 'O'), ('on', 'IN', 'O'), ('possible', 'JJ', 'O'), ('reduction', 'NN', 'O'), ('of', 'IN', 'O'), ('forces', 'NNS', 'O'), ('in', 'IN', 'O'), ('Kashmir', 'NNP', 'B-geo'), ('and', 'CC', 'O'), ('a', 'DT', 'O'), ('Pakistani', 'JJ', 'B-gpe'), ('proposal', 'NN', 'O'), ('of', 'IN', 'O'), ('self-rule', 'JJ', 'O'), ('in', 'IN', 'O'), ('Kashmir', 'NNP', 'B-geo'), ('.', '.', 'O')], [('She', 'PRP', 'O'), ('did', 'VBD', 'O'), ('not', 'RB', 'O'), ('give', 'VB', 'O'), ('any', 'DT', 'O'), ('more', 'JJR', 'O'), ('details', 'NNS', 'O'), ('and', 'CC', 'O'), ('also', 'RB', 'O'), ('declined', 'VBD', 'O'), ('to', 'TO', 'O'), ('reveal', 'VB', 'O'), ('at', 'IN', 'O'), ('what', 'WDT', 'O'), ('level', 'NN', 'O'), ('the', 'DT', 'O'), ('talks', 'NNS', 'O'), ('are', 'VBP', 'O'), ('being', 'VBG', 'O'), ('held', 'VBN', 'O'), ('.', '.', 'O')], [('India', 'NNP', 'B-org'), ('has', 'VBZ', 'O'), ('not', 'RB', 'O'), ('made', 'VBN', 'O'), ('any', 'DT', 'O'), ('comment', 'NN', 'O'), ('about', 'IN', 'O'), ('the', 'DT', 'O'), ('talks', 'NNS', 'O'), ('.', '.', 'O')], [('Iraqi', 'JJ', 'B-gpe'), ('officials', 'NNS', 'O'), ('say', 'VBP', 'O'), ('at', 'IN', 'O'), ('least', 'JJS', 'O'), ('two', 'CD', 'O'), ('people', 'NNS', 'O'), ('were', 'VBD', 'O'), ('killed', 'VBN', 'O'), ('and', 'CC', 'O'), ('several', 'JJ', 'O'), ('others', 'NNS', 'O'), ('wounded', 'VBD', 'O'), ('in', 'IN', 'O'), ('a', 'DT', 'O'), ('car', 'NN', 'O'), ('bomb', 'NN', 'O'), ('blast', 'NN', 'O'), ('in', 'IN', 'O'), ('central', 'JJ', 'O'), ('Baghdad', 'NNP', 'B-geo'), ('Tuesday', 'NNP', 'B-tim'), ('.', '.', 'O')], [('Earlier', 'RBR', 'O'), ('reports', 'NNS', 'O'), ('said', 'VBD', 'O'), ('the', 'DT', 'O'), ('attack', 'NN', 'O'), ('was', 'VBD', 'O'), ('carried', 'VBN', 'O'), ('out', 'RP', 'O'), ('by', 'IN', 'O'), ('a', 'DT', 'O'), ('suicide', 'NN', 'O'), ('bomber', 'NN', 'O'), ('.', '.', 'O')], [('It', 'PRP', 'O'), ('came', 'VBD', 'O'), ('as', 'IN', 'O'), ('the', 'DT', 'O'), ('U.S.', 'NNP', 'B-gpe'), ('military', 'NN', 'O'), ('announced', 'VBD', 'O'), ('it', 'PRP', 'O'), ('had', 'VBD', 'O'), ('rounded', 'VBN', 'O'), ('up', 'RP', 'O'), ('428', 'CD', 'O'), ('suspects', 'NNS', 'O'), ('over', 'IN', 'O'), ('the', 'DT', 'O'), ('past', 'JJ', 'O'), ('30', 'CD', 'O'), ('hours', 'NNS', 'O'), ('in', 'IN', 'O'), ('a', 'DT', 'O'), ('major', 'JJ', 'O'), ('operation', 'NN', 'O'), ('against', 'IN', 'O'), ('insurgents', 'NNS', 'O'), ('in', 'IN', 'O'), ('a', 'DT', 'O'), ('western', 'JJ', 'O'), ('suburb', 'NN', 'O'), ('of', 'IN', 'O'), ('the', 'DT', 'O'), ('capital', 'NN', 'O'), ('.', '.', 'O')], [('On', 'IN', 'O'), ('Monday', 'NNP', 'B-tim'), (',', ',', 'O'), ('dozens', 'NNS', 'O'), ('of', 'IN', 'O'), ('people', 'NNS', 'O'), ('were', 'VBD', 'O'), ('killed', 'VBN', 'O'), ('and', 'CC', 'O'), ('scores', 'NNS', 'O'), ('were', 'VBD', 'O'), ('hurt', 'VBN', 'O'), ('in', 'IN', 'O'), ('a', 'DT', 'O'), ('series', 'NN', 'O'), ('of', 'IN', 'O'), ('car', 'NN', 'O'), ('bombings', 'NNS', 'O'), ('and', 'CC', 'O'), ('other', 'JJ', 'O'), ('attacks', 'NNS', 'O'), ('in', 'IN', 'O'), ('cities', 'NNS', 'O'), ('and', 'CC', 'O'), ('towns', 'NNS', 'O'), ('across', 'IN', 'O'), ('Iraq', 'NNP', 'B-geo'), ('.', '.', 'O')], [('Also', 'RB', 'O'), ('Monday', 'NNP', 'B-tim'), (',', ',', 'O'), ('an', 'DT', 'O'), ('al-Qaida-linked', 'JJ', 'O'), ('group', 'NN', 'O'), ('claimed', 'VBD', 'O'), ('responsibility', 'NN', 'O'), ('for', 'IN', 'O'), ('gunning', 'VBG', 'O'), ('down', 'RP', 'O'), ('a', 'DT', 'O'), ('top', 'JJ', 'O'), ('Iraqi', 'JJ', 'B-gpe'), ('security', 'NN', 'O'), ('official', 'NN', 'O'), ('(', 'LRB', 'O'), ('Wael', 'NNP', 'B-per'), ('al-Rubaei', 'NNP', 'I-per'), (')', 'RRB', 'O'), ('and', 'CC', 'O'), ('his', 'PRP$', 'O'), ('driver', 'NN', 'O'), ('in', 'IN', 'O'), ('Baghdad', 'NNP', 'B-geo'), ('.', '.', 'O')], [('Iran', 'NNP', 'B-geo'), (\"'s\", 'POS', 'O'), ('hard-line', 'JJ', 'O'), ('Guardian', 'NNP', 'B-org'), ('Council', 'NNP', 'I-org'), ('has', 'VBZ', 'O'), ('approved', 'VBN', 'O'), ('a', 'DT', 'O'), ('bill', 'NN', 'O'), ('that', 'WDT', 'O'), ('would', 'MD', 'O'), ('block', 'VB', 'O'), ('United', 'NNP', 'B-org'), ('Nations', 'NNP', 'I-org'), ('inspections', 'NNS', 'O'), ('of', 'IN', 'O'), ('its', 'PRP$', 'O'), ('nuclear', 'JJ', 'O'), ('facilities', 'NNS', 'O'), ('and', 'CC', 'O'), ('allow', 'VB', 'O'), ('it', 'PRP', 'O'), ('to', 'TO', 'O'), ('resume', 'VB', 'O'), ('uranium', 'NN', 'O'), ('enrichment', 'NN', 'O'), ('if', 'IN', 'O'), ('it', 'PRP', 'O'), ('is', 'VBZ', 'O'), ('referred', 'VBN', 'O'), ('to', 'TO', 'O'), ('the', 'DT', 'O'), ('U.N.', 'NNP', 'B-org'), ('Security', 'NNP', 'I-org'), ('Council', 'NNP', 'I-org'), ('.', '.', 'O')], [('State', 'NN', 'O'), ('media', 'NNS', 'O'), ('report', 'VBP', 'O'), ('Saturday', 'NNP', 'B-tim'), ('that', 'IN', 'O'), ('the', 'DT', 'O'), ('12-member', 'JJ', 'O'), ('council', 'NN', 'O'), ('approved', 'VBD', 'O'), ('the', 'DT', 'O'), ('measure', 'NN', 'O'), ('after', 'IN', 'O'), ('deciding', 'VBG', 'O'), ('it', 'PRP', 'O'), ('does', 'VBZ', 'O'), ('not', 'RB', 'O'), ('contradict', 'VB', 'O'), ('the', 'DT', 'O'), ('constitution', 'NN', 'O'), ('or', 'CC', 'O'), ('Islamic', 'JJ', 'O'), ('law', 'NN', 'O'), ('.', '.', 'O')], [('The', 'DT', 'O'), ('parliament', 'NN', 'O'), ('already', 'RB', 'O'), ('approved', 'VBD', 'O'), ('the', 'DT', 'O'), ('bill', 'NN', 'O'), ('last', 'JJ', 'O'), ('month', 'NN', 'O'), ('.', '.', 'O')], [('The', 'DT', 'O'), ('final', 'JJ', 'O'), ('step', 'NN', 'O'), ('will', 'MD', 'O'), ('be', 'VB', 'O'), ('President', 'NNP', 'B-per'), ('Mahmoud', 'NNP', 'I-per'), ('Ahmadinejad', 'NNP', 'I-per'), (\"'s\", 'POS', 'O'), ('signature', 'NN', 'O'), ('.', '.', 'O')], [('The', 'DT', 'O'), ('move', 'NN', 'O'), ('could', 'MD', 'O'), ('jeopardize', 'VB', 'O'), ('nuclear', 'JJ', 'O'), ('talks', 'NNS', 'O'), ('with', 'IN', 'O'), ('Europe', 'NNP', 'B-gpe'), ('that', 'IN', 'O'), ('Iran', 'NNP', 'B-gpe'), ('said', 'VBD', 'O'), ('it', 'PRP', 'O'), ('expects', 'VBZ', 'O'), ('will', 'MD', 'O'), ('resume', 'VB', 'O'), ('within', 'IN', 'O'), ('weeks', 'NNS', 'O'), ('.', '.', 'O')], [('Those', 'DT', 'O'), ('talks', 'NNS', 'O'), ('collapsed', 'VBD', 'O'), ('in', 'IN', 'O'), ('August', 'NNP', 'B-tim'), (',', ',', 'O'), ('when', 'WRB', 'O'), ('Tehran', 'NNP', 'B-gpe'), ('restarted', 'VBD', 'O'), ('converting', 'VBG', 'O'), ('uranium', 'NN', 'O'), ('-', 'IN', 'O'), ('the', 'DT', 'O'), ('precursor', 'NN', 'O'), ('of', 'IN', 'O'), ('enrichment', 'NN', 'O'), ('.', '.', 'O')], [('Last', 'JJ', 'O'), ('year', 'NN', 'O'), (',', ',', 'O'), ('Tehran', 'NNP', 'B-gpe'), ('suspended', 'VBD', 'O'), ('enrichment', 'NN', 'O'), ('as', 'IN', 'O'), ('a', 'DT', 'O'), ('good', 'JJ', 'O'), ('faith', 'NN', 'O'), ('measure', 'NN', 'O'), ('to', 'TO', 'O'), ('allay', 'VB', 'O'), ('international', 'JJ', 'O'), ('concerns', 'NNS', 'O'), ('it', 'PRP', 'O'), ('is', 'VBZ', 'O'), ('secretly', 'RB', 'O'), ('pursuing', 'VBG', 'O'), ('nuclear', 'JJ', 'O'), ('weapons', 'NNS', 'O'), (',', ',', 'O'), ('a', 'DT', 'O'), ('charge', 'NN', 'O'), ('its', 'PRP$', 'O'), ('government', 'NN', 'O'), ('denies', 'VBZ', 'O'), ('.', '.', 'O')], [('Zambian', 'JJ', 'B-gpe'), ('officials', 'NNS', 'O'), ('say', 'VBP', 'O'), ('reports', 'NNS', 'O'), ('that', 'IN', 'O'), ('President', 'NNP', 'B-per'), ('Levy', 'NNP', 'I-per'), ('Mwanawasa', 'NNP', 'I-per'), ('has', 'VBZ', 'O'), ('died', 'VBN', 'O'), ('are', 'VBP', 'O'), ('FALSE', 'JJ', 'O'), ('.', '.', 'O')], [('Information', 'NNP', 'B-per'), ('Minister', 'NNP', 'I-per'), ('Mike', 'NNP', 'I-per'), ('Mulongoti', 'NNP', 'I-per'), ('made', 'VBD', 'O'), ('a', 'DT', 'O'), ('televised', 'JJ', 'O'), ('address', 'NN', 'O'), ('Thursday', 'NNP', 'B-tim'), ('to', 'TO', 'O'), ('say', 'VB', 'O'), ('the', 'DT', 'O'), ('foreign', 'JJ', 'O'), ('media', 'NNS', 'O'), ('reports', 'NNS', 'O'), ('are', 'VBP', 'O'), ('not', 'RB', 'O'), ('TRUE', 'JJ', 'O'), ('.', '.', 'O')], [('He', 'PRP', 'O'), ('said', 'VBD', 'O'), ('President', 'NNP', 'B-per'), ('Mwanawasa', 'NNP', 'I-per'), ('remains', 'VBZ', 'O'), ('in', 'IN', 'O'), ('stable', 'JJ', 'O'), ('condition', 'NN', 'O'), ('in', 'IN', 'O'), ('a', 'DT', 'O'), ('Paris', 'NNP', 'B-geo'), ('hospital', 'NN', 'O'), (',', ',', 'O'), ('and', 'CC', 'O'), ('is', 'VBZ', 'O'), ('being', 'VBG', 'O'), ('treated', 'VBN', 'O'), ('for', 'IN', 'O'), ('hypertension', 'NN', 'O'), ('.', '.', 'O')], [('Mr.', 'NNP', 'B-per'), ('Mwanawasa', 'NNP', 'I-per'), ('was', 'VBD', 'O'), ('flown', 'VBN', 'O'), ('to', 'IN', 'O'), ('France', 'NNP', 'B-geo'), ('Tuesday', 'NNP', 'B-tim'), ('after', 'IN', 'O'), ('suffering', 'VBG', 'O'), ('a', 'DT', 'O'), ('stroke', 'NN', 'O'), ('Sunday', 'NNP', 'B-tim'), ('while', 'IN', 'O'), ('in', 'IN', 'O'), ('Egypt', 'NNP', 'B-geo'), ('for', 'IN', 'O'), ('an', 'DT', 'O'), ('African', 'NNP', 'B-org'), ('Union', 'NNP', 'I-org'), ('summit', 'NN', 'O'), ('.', '.', 'O')], [('The', 'DT', 'O'), ('summit', 'NN', 'O'), ('was', 'VBD', 'O'), ('dominated', 'VBN', 'O'), ('by', 'IN', 'O'), ('the', 'DT', 'O'), ('political', 'JJ', 'O'), ('crisis', 'NN', 'O'), ('in', 'IN', 'O'), ('Zimbabwe', 'NNP', 'B-geo'), (',', ',', 'O'), ('and', 'CC', 'O'), ('the', 'DT', 'O'), ('absence', 'NN', 'O'), ('of', 'IN', 'O'), ('Mr.', 'NNP', 'B-per'), ('Mwanawasa', 'NNP', 'I-per'), (',', ',', 'O'), ('a', 'DT', 'O'), ('critic', 'NN', 'O'), ('of', 'IN', 'O'), ('Zimbabwean', 'JJ', 'B-gpe'), ('President', 'NNP', 'B-per'), ('Robert', 'NNP', 'I-per'), ('Mugabe', 'NNP', 'I-per'), (',', ',', 'O'), ('was', 'VBD', 'O'), ('said', 'VBN', 'O'), ('to', 'TO', 'O'), ('hurt', 'VB', 'O'), ('attempts', 'NNS', 'O'), ('to', 'TO', 'O'), ('put', 'VB', 'O'), ('more', 'JJR', 'O'), ('pressure', 'NN', 'O'), ('on', 'IN', 'O'), ('Harare', 'NNP', 'B-gpe'), ('.', '.', 'O')], [('Mr.', 'NNP', 'B-per'), ('Mwanawasa', 'NNP', 'I-per'), ('is', 'VBZ', 'O'), ('59', 'CD', 'O'), ('years', 'NNS', 'O'), ('old', 'JJ', 'O'), ('and', 'CC', 'O'), ('has', 'VBZ', 'O'), ('served', 'VBN', 'O'), ('as', 'IN', 'O'), ('Zambia', 'NNP', 'B-gpe'), (\"'s\", 'POS', 'O'), ('president', 'NN', 'O'), ('since', 'IN', 'O'), ('2002', 'CD', 'B-tim'), ('.', '.', 'O')], [('He', 'PRP', 'O'), ('is', 'VBZ', 'O'), ('also', 'RB', 'O'), ('the', 'DT', 'O'), ('current', 'JJ', 'O'), ('leader', 'NN', 'O'), ('of', 'IN', 'O'), ('the', 'DT', 'O'), ('Southern', 'NNP', 'B-org'), ('African', 'NNP', 'I-org'), ('Development', 'NNP', 'I-org'), ('Community', 'NNP', 'I-org'), ('.', '.', 'O')], [('He', 'PRP', 'O'), ('suffered', 'VBD', 'O'), ('a', 'DT', 'O'), ('mild', 'JJ', 'O'), ('stroke', 'NN', 'O'), ('two', 'CD', 'O'), ('years', 'NNS', 'O'), ('ago', 'RB', 'O'), ('.', '.', 'O')], [('U.S.', 'NNP', 'B-gpe'), ('President', 'NNP', 'B-per'), ('Barack', 'NNP', 'I-per'), ('Obama', 'NNP', 'I-per'), ('has', 'VBZ', 'O'), ('named', 'VBN', 'O'), ('Gene', 'NNP', 'B-per'), ('Sperling', 'NNP', 'I-per'), ('as', 'IN', 'O'), ('the', 'DT', 'O'), ('new', 'JJ', 'O'), ('head', 'NN', 'O'), ('of', 'IN', 'O'), ('the', 'DT', 'O'), ('National', 'NNP', 'B-org'), ('Economic', 'NNP', 'I-org'), ('Council', 'NNP', 'I-org'), (',', ',', 'O'), ('which', 'WDT', 'O'), ('oversees', 'VBZ', 'O'), ('the', 'DT', 'O'), ('administration', 'NN', 'O'), (\"'s\", 'POS', 'O'), ('economic', 'JJ', 'O'), ('policies', 'NNS', 'O'), ('.', '.', 'O')], [('Sperling', 'NNP', 'B-per'), ('had', 'VBD', 'O'), ('the', 'DT', 'O'), ('same', 'JJ', 'O'), ('job', 'NN', 'O'), ('in', 'IN', 'O'), ('President', 'NNP', 'B-per'), ('Bill', 'NNP', 'I-per'), ('Clinton', 'NNP', 'I-per'), (\"'s\", 'POS', 'O'), ('administration', 'NN', 'O'), ('.', '.', 'O')], [('He', 'PRP', 'O'), ('succeeds', 'VBZ', 'O'), ('Lawrence', 'NNP', 'B-per'), ('Summers', 'NNPS', 'I-per'), (',', ',', 'O'), ('another', 'DT', 'O'), ('top', 'JJ', 'O'), ('economic', 'JJ', 'O'), ('official', 'NN', 'O'), ('from', 'IN', 'O'), ('the', 'DT', 'O'), ('Clinton-era', 'NN', 'O'), ('.', '.', 'O')], [('Sperling', 'NNP', 'B-per'), ('has', 'VBZ', 'O'), ('spent', 'VBN', 'O'), ('the', 'DT', 'O'), ('first', 'JJ', 'O'), ('two', 'CD', 'O'), ('years', 'NNS', 'O'), ('of', 'IN', 'O'), ('the', 'DT', 'O'), ('Obama', 'NNP', 'B-per'), ('administration', 'NN', 'O'), ('as', 'IN', 'O'), ('a', 'DT', 'O'), ('counselor', 'NN', 'O'), ('to', 'TO', 'O'), ('Treasury', 'NNP', 'B-per'), ('Secretary', 'NNP', 'I-per'), ('Timothy', 'NNP', 'I-per'), ('Geithner', 'NNP', 'I-per'), ('.', '.', 'O')], [('Mr.', 'NNP', 'B-per'), ('Obama', 'NNP', 'I-per'), ('made', 'VBD', 'O'), ('the', 'DT', 'O'), ('announcement', 'NN', 'O'), ('Friday', 'NNP', 'B-tim'), ('during', 'IN', 'O'), ('a', 'DT', 'O'), ('visit', 'NN', 'O'), ('to', 'TO', 'O'), ('a', 'DT', 'O'), ('window', 'NN', 'O'), ('manufacturer', 'NN', 'O'), ('located', 'VBN', 'O'), ('outside', 'IN', 'O'), ('of', 'IN', 'O'), ('Washington', 'NNP', 'B-geo'), (',', ',', 'O'), ('D.C.', 'NNP', 'B-geo')], [('Sperling', 'NNP', 'B-per'), (\"'s\", 'POS', 'O'), ('appointment', 'NN', 'O'), ('is', 'VBZ', 'O'), ('the', 'DT', 'O'), ('latest', 'JJS', 'O'), ('major', 'JJ', 'O'), ('staff', 'NN', 'O'), ('change', 'NN', 'O'), ('for', 'IN', 'O'), ('the', 'DT', 'O'), ('Obama', 'NNP', 'B-per'), ('administration', 'NN', 'O'), ('as', 'IN', 'O'), ('it', 'PRP', 'O'), ('begins', 'VBZ', 'O'), ('dealing', 'VBG', 'O'), ('with', 'IN', 'O'), ('a', 'DT', 'O'), ('new', 'JJ', 'O'), ('Republican', 'JJ', 'O'), ('majority', 'NN', 'O'), ('in', 'IN', 'O'), ('the', 'DT', 'O'), ('House', 'NNP', 'B-org'), ('of', 'IN', 'I-org'), ('Representatives', 'NNPS', 'I-org'), (',', ',', 'O'), ('and', 'CC', 'O'), ('planning', 'VBG', 'O'), ('for', 'IN', 'O'), ('the', 'DT', 'O'), ('president', 'NN', 'O'), (\"'s\", 'POS', 'O'), ('likely', 'JJ', 'O'), ('re-election', 'NN', 'O'), ('campaign', 'NN', 'O'), ('in', 'IN', 'O'), ('2012', 'CD', 'B-tim'), ('.', '.', 'O')], [('On', 'IN', 'O'), ('Thursday', 'NNP', 'B-tim'), (',', ',', 'O'), ('Mr.', 'NNP', 'B-per'), ('Obama', 'NNP', 'I-per'), ('named', 'VBD', 'O'), ('another', 'DT', 'O'), ('ex-Clinton', 'JJ', 'O'), ('official', 'NN', 'O'), (',', ',', 'O'), ('William', 'NNP', 'B-per'), ('Daley', 'NNP', 'I-per'), (',', ',', 'O'), ('as', 'IN', 'O'), ('his', 'PRP$', 'O'), ('new', 'JJ', 'O'), ('chief', 'NN', 'O'), ('of', 'IN', 'O'), ('staff', 'NN', 'O'), (',', ',', 'O'), ('replacing', 'VBG', 'O'), ('Rahm', 'NNP', 'B-per'), ('Emmanuel', 'NNP', 'I-per'), ('.', '.', 'O')], [('Authorities', 'NNS', 'O'), ('in', 'IN', 'O'), ('Bosnia-Herzegovina', 'NNP', 'B-gpe'), ('say', 'VBP', 'O'), ('they', 'PRP', 'O'), ('have', 'VBP', 'O'), ('arrested', 'VBN', 'O'), ('a', 'DT', 'O'), ('former', 'JJ', 'O'), ('Bosnian', 'JJ', 'B-gpe'), ('Serb', 'JJ', 'I-gpe'), ('police', 'NN', 'O'), ('officer', 'NN', 'O'), ('for', 'IN', 'O'), ('his', 'PRP$', 'O'), ('suspected', 'JJ', 'O'), ('role', 'NN', 'O'), ('in', 'IN', 'O'), ('the', 'DT', 'O'), ('1995', 'CD', 'B-tim'), ('massacre', 'NN', 'O'), ('of', 'IN', 'O'), ('Muslims', 'NNS', 'O'), ('near', 'IN', 'O'), ('the', 'DT', 'O'), ('eastern', 'JJ', 'O'), ('Bosnian', 'JJ', 'B-gpe'), ('town', 'NN', 'O'), ('of', 'IN', 'O'), ('Srebrenica', 'NNP', 'B-geo'), ('.', '.', 'O')], [('The', 'DT', 'O'), ('state', 'NN', 'O'), ('prosecutor', 'NN', 'O'), (\"'s\", 'POS', 'O'), ('office', 'NN', 'O'), ('says', 'VBZ', 'O'), ('37-year-old', 'JJ', 'O'), ('Dragan', 'NNP', 'B-per'), ('Neskovic', 'NNP', 'I-per'), ('was', 'VBD', 'O'), ('arrested', 'VBN', 'O'), ('Wednesday', 'NNP', 'B-tim'), ('in', 'IN', 'O'), ('the', 'DT', 'O'), ('northeastern', 'JJ', 'O'), ('town', 'NN', 'O'), ('of', 'IN', 'O'), ('Bijeljina', 'NNP', 'B-geo'), ('on', 'IN', 'O'), ('suspicion', 'NN', 'O'), ('of', 'IN', 'O'), ('genocide', 'NN', 'O'), ('.', '.', 'O')], [('No', 'DT', 'O'), ('further', 'JJ', 'O'), ('details', 'NNS', 'O'), ('were', 'VBD', 'O'), ('released', 'VBN', 'O'), ('.', '.', 'O')], [('More', 'JJR', 'O'), ('than', 'IN', 'O'), ('8,000', 'CD', 'O'), ('Muslim', 'NNP', 'O'), ('men', 'NNS', 'O'), ('and', 'CC', 'O'), ('boys', 'NNS', 'O'), ('were', 'VBD', 'O'), ('killed', 'VBN', 'O'), ('by', 'IN', 'O'), ('Serb', 'JJ', 'B-gpe'), ('forces', 'NNS', 'O'), ('in', 'IN', 'O'), ('July', 'NNP', 'B-tim'), ('1995', 'CD', 'I-tim'), ('in', 'IN', 'O'), ('what', 'WP', 'O'), ('was', 'VBD', 'O'), ('supposed', 'VBN', 'O'), ('to', 'TO', 'O'), ('have', 'VB', 'O'), ('been', 'VBN', 'O'), ('a', 'DT', 'O'), ('United', 'NNP', 'B-org'), ('Nations', 'NNP', 'I-org'), ('safe', 'JJ', 'O'), ('haven', 'NN', 'O'), ('.', '.', 'O')], [('The', 'DT', 'O'), ('Srebrenica', 'NNP', 'B-geo'), ('killings', 'NNS', 'O'), ('are', 'VBP', 'O'), ('considered', 'VBN', 'O'), ('the', 'DT', 'O'), ('worst', 'JJS', 'O'), ('European', 'JJ', 'O'), ('massacre', 'NN', 'O'), ('since', 'IN', 'O'), ('World', 'NNP', 'B-eve'), ('War', 'NNP', 'I-eve'), ('II', 'NNP', 'I-eve'), ('.', '.', 'O')], [('The', 'DT', 'O'), ('U.N.', 'NNP', 'B-org'), ('war', 'NN', 'O'), ('crimes', 'NNS', 'O'), ('tribunal', 'NN', 'O'), ('in', 'IN', 'O'), ('The', 'DT', 'O')]]\n"
          ]
        }
      ],
      "source": [
        "# Prepara los datos\n",
        "data = preprocess_data(df)\n",
        "\n",
        "print(data)"
      ]
    },
    {
      "cell_type": "markdown",
      "metadata": {
        "id": "ph4NZ2Nqkynm"
      },
      "source": [
        "### División de Datos para Validación Cruzada\n",
        "\n",
        "En este fragmento de código, utilizamos la función `KFold` de scikit-learn para realizar la validación cruzada.\n",
        "\n",
        "- **K-Folds**: Dividimos el conjunto de datos en 10 particiones (folds), especificado por el parámetro `n_splits=10`.\n",
        "- **Propósito**: Esta técnica nos permite evaluar el rendimiento del modelo de manera más robusta, ya que entrena y evalúa el modelo múltiples veces en diferentes subconjuntos de los datos. Esto ayuda a asegurar que el modelo generaliza bien y no está sobreajustado a un solo conjunto de datos de entrenamiento.\n",
        "\n",
        "La validación cruzada es esencial para obtener estimaciones precisas del rendimiento del modelo."
      ]
    },
    {
      "cell_type": "code",
      "execution_count": 8,
      "metadata": {
        "id": "Dzy0C37VQzEH"
      },
      "outputs": [],
      "source": [
        "# Divide los datos en folds\n",
        "kf = KFold(n_splits=10)"
      ]
    },
    {
      "cell_type": "markdown",
      "metadata": {
        "id": "tW815GfCk3ox"
      },
      "source": [
        "### Preparación de Datos para SpaCy y Verificación de Alineación\n",
        "\n",
        "Este fragmento de código define la función `prepare_spacy_data`, que convierte las oraciones preprocesadas en un formato que SpaCy puede utilizar para el entrenamiento del modelo NER.\n",
        "\n",
        "- **Transformación de Datos**: La función toma una lista de oraciones (`data`) y un objeto SpaCy (`nlp`). Para cada oración, construye una cadena de texto unida por espacios y una lista de entidades con sus posiciones inicial y final en el texto.\n",
        "- **Alineación de Entidades**: Usa `offsets_to_biluo_tags` para verificar que las entidades estén correctamente alineadas con el texto. Si hay entidades desalineadas, imprime una advertencia.\n",
        "- **Resultado**: Devuelve una lista de tuplas, donde cada tupla contiene un texto y un diccionario con las entidades alineadas. Este formato es necesario para entrenar el modelo NER de SpaCy.\n",
        "\n",
        "Este preprocesamiento asegura que los datos estén en el formato correcto y que las entidades estén alineadas correctamente antes del entrenamiento del modelo."
      ]
    },
    {
      "cell_type": "code",
      "execution_count": 9,
      "metadata": {
        "id": "WtsSm2qQQ2FG"
      },
      "outputs": [],
      "source": [
        "# Función para preparar datos para SpaCy y verificar alineación\n",
        "def prepare_spacy_data(data, nlp):\n",
        "    spacy_data = []\n",
        "    for sent in data:\n",
        "        words = [word for word, _, _ in sent if isinstance(word, str)]\n",
        "        text = \" \".join(words)\n",
        "        entities = []\n",
        "        start = 0\n",
        "        for word, _, label in sent:\n",
        "            if isinstance(word, str):\n",
        "                start = text.find(word, start)\n",
        "                end = start + len(word)\n",
        "                entities.append((start, end, label))\n",
        "                start = end\n",
        "\n",
        "        # Verifica la alineación de las entidades\n",
        "        doc = nlp.make_doc(text)\n",
        "        biluo_tags = offsets_to_biluo_tags(doc, entities)\n",
        "        if '-' in biluo_tags:\n",
        "            print(f\"Warning: Misaligned entities in text '{text}'\")\n",
        "\n",
        "        spacy_data.append((text, {\"entities\": entities}))\n",
        "    return spacy_data"
      ]
    },
    {
      "cell_type": "markdown",
      "metadata": {
        "id": "VkyOONhtk-zv"
      },
      "source": [
        "### Entrenamiento y Evaluación del Modelo\n",
        "\n",
        "En este fragmento de código, definimos dos funciones clave: `train_spacy_model` y `evaluate_model`.\n",
        "\n",
        "- **Entrenamiento del Modelo**:\n",
        "  - La función `train_spacy_model` crea un modelo NER en blanco con SpaCy y añade etiquetas para las entidades reconocidas.\n",
        "  - Utiliza un optimizador para entrenar el modelo durante 10 iteraciones, actualizando el modelo con los ejemplos de entrenamiento y minimizando las pérdidas en cada iteración.\n",
        "  - Devuelve el modelo entrenado.\n",
        "\n",
        "- **Evaluación del Modelo**:\n",
        "  - La función `evaluate_model` evalúa el rendimiento del modelo entrenado en un conjunto de datos de prueba.\n",
        "  - Compara las etiquetas verdaderas con las etiquetas predichas y calcula las métricas de evaluación (precisión, recall y puntuación F1) usando `classification_report` de scikit-learn.\n",
        "  - Asegura que las listas de etiquetas verdaderas y predichas tengan la misma longitud antes de calcular las métricas.\n",
        "  - Devuelve un informe detallado con las métricas de evaluación para el modelo.\n",
        "\n",
        "Estas funciones son esenciales para entrenar el modelo NER y evaluar su rendimiento de manera sistemática."
      ]
    },
    {
      "cell_type": "code",
      "execution_count": 10,
      "metadata": {
        "id": "agycV5pTRacC"
      },
      "outputs": [],
      "source": [
        "# Función para entrenar el modelo\n",
        "def train_spacy_model(train_data):\n",
        "    nlp = spacy.blank(\"en\")  # Crea un modelo en blanco de SpaCy\n",
        "    ner = nlp.add_pipe(\"ner\")\n",
        "\n",
        "    for _, annotations in train_data:\n",
        "        for ent in annotations[\"entities\"]:\n",
        "            ner.add_label(ent[2])\n",
        "\n",
        "    optimizer = nlp.begin_training()\n",
        "\n",
        "    for itn in range(10):\n",
        "        losses = {}\n",
        "        for text, annotations in train_data:\n",
        "            doc = nlp.make_doc(text)\n",
        "            example = Example.from_dict(doc, annotations)\n",
        "            nlp.update([example], sgd=optimizer, drop=0.35, losses=losses)\n",
        "        print(f\"Iteration {itn}, Losses: {losses}\")\n",
        "\n",
        "    return nlp\n",
        "\n",
        "# Función para evaluar el modelo\n",
        "def evaluate_model(nlp, data):\n",
        "    true_labels = []\n",
        "    pred_labels = []\n",
        "    for text, annotations in data:\n",
        "        doc = nlp(text)\n",
        "        true_labels.extend([ent[2] for ent in annotations['entities']])\n",
        "        pred_labels.extend([ent.label_ for ent in doc.ents])\n",
        "\n",
        "    # Asegúrate de que las listas sean de la misma longitud\n",
        "    min_length = min(len(true_labels), len(pred_labels))\n",
        "    true_labels = true_labels[:min_length]\n",
        "    pred_labels = pred_labels[:min_length]\n",
        "\n",
        "    report = classification_report(true_labels, pred_labels, output_dict=True, zero_division=0)\n",
        "    return report"
      ]
    },
    {
      "cell_type": "code",
      "execution_count": 11,
      "metadata": {
        "id": "9NGj-MpWQ3HH",
        "colab": {
          "base_uri": "https://localhost:8080/"
        },
        "outputId": "ebc5c6ba-68ed-449a-bc20-1f952668a9c6"
      },
      "outputs": [
        {
          "output_type": "stream",
          "name": "stderr",
          "text": [
            "/usr/local/lib/python3.10/dist-packages/spacy/util.py:1740: UserWarning: [W111] Jupyter notebook detected: if using `prefer_gpu()` or `require_gpu()`, include it in the same cell right before `spacy.load()` to ensure that the model is loaded on the correct device. More information: http://spacy.io/usage/v3#jupyter-notebook-gpu\n",
            "  warnings.warn(Warnings.W111)\n"
          ]
        }
      ],
      "source": [
        "# Prepara los datos de entrenamiento y prueba\n",
        "nlp = spacy.blank(\"en\")  # Crea un modelo en blanco de SpaCy"
      ]
    },
    {
      "cell_type": "markdown",
      "metadata": {
        "id": "mO8hF9I0lJ79"
      },
      "source": [
        "### Aplicación de Validación Cruzada\n",
        "\n",
        "En esta sección, aplicamos la validación cruzada utilizando K-Folds para evaluar el rendimiento del modelo NER en diferentes particiones del conjunto de datos.\n",
        "\n",
        "- **División de Datos**: Dividimos los datos en índices de entrenamiento y prueba para cada fold.\n",
        "- **Preparación de Datos**: Convertimos los conjuntos de entrenamiento y prueba en el formato adecuado para SpaCy utilizando la función `prepare_spacy_data`.\n",
        "- **Entrenamiento y Evaluación**: Entrenamos el modelo NER en los datos de entrenamiento y evaluamos su rendimiento en los datos de prueba para cada fold.\n",
        "- **Registro del Rendimiento**: Guardamos las métricas de rendimiento (precisión, recall, puntuación F1) para cada fold en la lista `fold_performance`.\n",
        "\n",
        "Finalmente, imprimimos la precisión de cada fold para analizar cómo se desempeña el modelo en cada partición del conjunto de datos. Esto nos ayuda a obtener una estimación más robusta del rendimiento general del modelo."
      ]
    },
    {
      "cell_type": "code",
      "execution_count": 12,
      "metadata": {
        "colab": {
          "base_uri": "https://localhost:8080/"
        },
        "id": "eEFChqVnRekb",
        "outputId": "3398e56c-6eea-4607-9211-a7ee7fbc7582"
      },
      "outputs": [
        {
          "output_type": "stream",
          "name": "stderr",
          "text": [
            "/usr/local/lib/python3.10/dist-packages/spacy/training/iob_utils.py:149: UserWarning: [W030] Some entities could not be aligned in the text \"\" And I think they 'll want a one-stop shop in ter...\" with entities \"[(0, 1, 'O'), (2, 5, 'O'), (6, 7, 'O'), (8, 13, 'O...\". Use `spacy.training.offsets_to_biluo_tags(nlp.make_doc(text), entities)` to check the alignment. Misaligned entities ('-') will be ignored during training.\n",
            "  warnings.warn(\n"
          ]
        },
        {
          "output_type": "stream",
          "name": "stdout",
          "text": [
            "Warning: Misaligned entities in text '\" And I think they 'll want a one-stop shop in terms of combining security , immigration , customs , and quarantine together  just to make sure it 's more streamlined and provides more certainty . \"'\n",
            "Iteration 0, Losses: {'ner': 1990.8732577056362}\n",
            "Iteration 1, Losses: {'ner': 1185.416065991799}\n",
            "Iteration 2, Losses: {'ner': 908.8777427242054}\n",
            "Iteration 3, Losses: {'ner': 797.5332857512328}\n",
            "Iteration 4, Losses: {'ner': 638.2111109411561}\n",
            "Iteration 5, Losses: {'ner': 544.1354359073581}\n",
            "Iteration 6, Losses: {'ner': 511.91545898284784}\n",
            "Iteration 7, Losses: {'ner': 470.64827029022695}\n",
            "Iteration 8, Losses: {'ner': 398.9129934580913}\n",
            "Iteration 9, Losses: {'ner': 408.2096552940119}\n"
          ]
        },
        {
          "output_type": "stream",
          "name": "stderr",
          "text": [
            "/usr/local/lib/python3.10/dist-packages/spacy/training/iob_utils.py:149: UserWarning: [W030] Some entities could not be aligned in the text \"\" And I think they 'll want a one-stop shop in ter...\" with entities \"[(0, 1, 'O'), (2, 5, 'O'), (6, 7, 'O'), (8, 13, 'O...\". Use `spacy.training.offsets_to_biluo_tags(nlp.make_doc(text), entities)` to check the alignment. Misaligned entities ('-') will be ignored during training.\n",
            "  warnings.warn(\n"
          ]
        },
        {
          "output_type": "stream",
          "name": "stdout",
          "text": [
            "Warning: Misaligned entities in text '\" And I think they 'll want a one-stop shop in terms of combining security , immigration , customs , and quarantine together  just to make sure it 's more streamlined and provides more certainty . \"'\n",
            "Iteration 0, Losses: {'ner': 2031.0089775146425}\n",
            "Iteration 1, Losses: {'ner': 1206.7028578488175}\n",
            "Iteration 2, Losses: {'ner': 935.6716821155856}\n",
            "Iteration 3, Losses: {'ner': 738.4412362739804}\n",
            "Iteration 4, Losses: {'ner': 704.5008130282296}\n",
            "Iteration 5, Losses: {'ner': 609.135280219787}\n",
            "Iteration 6, Losses: {'ner': 535.2197643603921}\n",
            "Iteration 7, Losses: {'ner': 442.635429481121}\n",
            "Iteration 8, Losses: {'ner': 414.4429259757349}\n",
            "Iteration 9, Losses: {'ner': 377.77705897847363}\n"
          ]
        },
        {
          "output_type": "stream",
          "name": "stderr",
          "text": [
            "/usr/local/lib/python3.10/dist-packages/spacy/training/iob_utils.py:149: UserWarning: [W030] Some entities could not be aligned in the text \"\" And I think they 'll want a one-stop shop in ter...\" with entities \"[(0, 1, 'O'), (2, 5, 'O'), (6, 7, 'O'), (8, 13, 'O...\". Use `spacy.training.offsets_to_biluo_tags(nlp.make_doc(text), entities)` to check the alignment. Misaligned entities ('-') will be ignored during training.\n",
            "  warnings.warn(\n"
          ]
        },
        {
          "output_type": "stream",
          "name": "stdout",
          "text": [
            "Warning: Misaligned entities in text '\" And I think they 'll want a one-stop shop in terms of combining security , immigration , customs , and quarantine together  just to make sure it 's more streamlined and provides more certainty . \"'\n",
            "Iteration 0, Losses: {'ner': 1994.286338940837}\n",
            "Iteration 1, Losses: {'ner': 1214.9186969009927}\n",
            "Iteration 2, Losses: {'ner': 964.1676814773715}\n",
            "Iteration 3, Losses: {'ner': 776.8867767179937}\n",
            "Iteration 4, Losses: {'ner': 636.702698140312}\n",
            "Iteration 5, Losses: {'ner': 578.6013306679637}\n",
            "Iteration 6, Losses: {'ner': 523.8768922360223}\n",
            "Iteration 7, Losses: {'ner': 429.25605871486607}\n",
            "Iteration 8, Losses: {'ner': 390.92844643805495}\n",
            "Iteration 9, Losses: {'ner': 361.44415650146874}\n"
          ]
        },
        {
          "output_type": "stream",
          "name": "stderr",
          "text": [
            "/usr/local/lib/python3.10/dist-packages/spacy/training/iob_utils.py:149: UserWarning: [W030] Some entities could not be aligned in the text \"\" And I think they 'll want a one-stop shop in ter...\" with entities \"[(0, 1, 'O'), (2, 5, 'O'), (6, 7, 'O'), (8, 13, 'O...\". Use `spacy.training.offsets_to_biluo_tags(nlp.make_doc(text), entities)` to check the alignment. Misaligned entities ('-') will be ignored during training.\n",
            "  warnings.warn(\n"
          ]
        },
        {
          "output_type": "stream",
          "name": "stdout",
          "text": [
            "Warning: Misaligned entities in text '\" And I think they 'll want a one-stop shop in terms of combining security , immigration , customs , and quarantine together  just to make sure it 's more streamlined and provides more certainty . \"'\n",
            "Iteration 0, Losses: {'ner': 2004.0214886575973}\n",
            "Iteration 1, Losses: {'ner': 1096.6943111755186}\n",
            "Iteration 2, Losses: {'ner': 842.1400304660531}\n",
            "Iteration 3, Losses: {'ner': 756.4832439795096}\n",
            "Iteration 4, Losses: {'ner': 634.2922030214833}\n",
            "Iteration 5, Losses: {'ner': 523.5780095066558}\n",
            "Iteration 6, Losses: {'ner': 525.4144882391842}\n",
            "Iteration 7, Losses: {'ner': 403.6740162449237}\n",
            "Iteration 8, Losses: {'ner': 371.0237500650126}\n",
            "Iteration 9, Losses: {'ner': 392.16723723421444}\n",
            "Warning: Misaligned entities in text '\" And I think they 'll want a one-stop shop in terms of combining security , immigration , customs , and quarantine together  just to make sure it 's more streamlined and provides more certainty . \"'\n"
          ]
        },
        {
          "output_type": "stream",
          "name": "stderr",
          "text": [
            "/usr/local/lib/python3.10/dist-packages/spacy/training/iob_utils.py:149: UserWarning: [W030] Some entities could not be aligned in the text \"\" And I think they 'll want a one-stop shop in ter...\" with entities \"[(0, 1, 'O'), (2, 5, 'O'), (6, 7, 'O'), (8, 13, 'O...\". Use `spacy.training.offsets_to_biluo_tags(nlp.make_doc(text), entities)` to check the alignment. Misaligned entities ('-') will be ignored during training.\n",
            "  warnings.warn(\n"
          ]
        },
        {
          "output_type": "stream",
          "name": "stdout",
          "text": [
            "Iteration 0, Losses: {'ner': 2024.6466291655065}\n",
            "Iteration 1, Losses: {'ner': 1185.3605503858798}\n",
            "Iteration 2, Losses: {'ner': 992.8197373602155}\n",
            "Iteration 3, Losses: {'ner': 791.7915657801526}\n",
            "Iteration 4, Losses: {'ner': 632.9715604250154}\n",
            "Iteration 5, Losses: {'ner': 587.5855941668318}\n",
            "Iteration 6, Losses: {'ner': 468.5229450079039}\n",
            "Iteration 7, Losses: {'ner': 467.22412370024966}\n",
            "Iteration 8, Losses: {'ner': 402.44379172758397}\n",
            "Iteration 9, Losses: {'ner': 377.6546064700617}\n"
          ]
        },
        {
          "output_type": "stream",
          "name": "stderr",
          "text": [
            "/usr/local/lib/python3.10/dist-packages/spacy/training/iob_utils.py:149: UserWarning: [W030] Some entities could not be aligned in the text \"\" And I think they 'll want a one-stop shop in ter...\" with entities \"[(0, 1, 'O'), (2, 5, 'O'), (6, 7, 'O'), (8, 13, 'O...\". Use `spacy.training.offsets_to_biluo_tags(nlp.make_doc(text), entities)` to check the alignment. Misaligned entities ('-') will be ignored during training.\n",
            "  warnings.warn(\n"
          ]
        },
        {
          "output_type": "stream",
          "name": "stdout",
          "text": [
            "Warning: Misaligned entities in text '\" And I think they 'll want a one-stop shop in terms of combining security , immigration , customs , and quarantine together  just to make sure it 's more streamlined and provides more certainty . \"'\n",
            "Iteration 0, Losses: {'ner': 2003.313334391608}\n",
            "Iteration 1, Losses: {'ner': 1178.128295444304}\n",
            "Iteration 2, Losses: {'ner': 917.9941635540607}\n",
            "Iteration 3, Losses: {'ner': 752.140831663025}\n",
            "Iteration 4, Losses: {'ner': 582.1763134174092}\n",
            "Iteration 5, Losses: {'ner': 490.67573392212864}\n",
            "Iteration 6, Losses: {'ner': 446.23060525334256}\n",
            "Iteration 7, Losses: {'ner': 425.3958388109383}\n",
            "Iteration 8, Losses: {'ner': 349.3034817874773}\n",
            "Iteration 9, Losses: {'ner': 403.9915709948865}\n",
            "Warning: Misaligned entities in text '\" And I think they 'll want a one-stop shop in terms of combining security , immigration , customs , and quarantine together  just to make sure it 's more streamlined and provides more certainty . \"'\n"
          ]
        },
        {
          "output_type": "stream",
          "name": "stderr",
          "text": [
            "/usr/local/lib/python3.10/dist-packages/spacy/training/iob_utils.py:149: UserWarning: [W030] Some entities could not be aligned in the text \"\" And I think they 'll want a one-stop shop in ter...\" with entities \"[(0, 1, 'O'), (2, 5, 'O'), (6, 7, 'O'), (8, 13, 'O...\". Use `spacy.training.offsets_to_biluo_tags(nlp.make_doc(text), entities)` to check the alignment. Misaligned entities ('-') will be ignored during training.\n",
            "  warnings.warn(\n"
          ]
        },
        {
          "output_type": "stream",
          "name": "stdout",
          "text": [
            "Iteration 0, Losses: {'ner': 2024.516348950192}\n",
            "Iteration 1, Losses: {'ner': 1135.5889354607714}\n",
            "Iteration 2, Losses: {'ner': 906.7753355548974}\n",
            "Iteration 3, Losses: {'ner': 713.7676931802615}\n",
            "Iteration 4, Losses: {'ner': 645.8991859688073}\n",
            "Iteration 5, Losses: {'ner': 526.6982369283473}\n",
            "Iteration 6, Losses: {'ner': 439.4155194777241}\n",
            "Iteration 7, Losses: {'ner': 415.8683000001338}\n",
            "Iteration 8, Losses: {'ner': 401.882097288598}\n",
            "Iteration 9, Losses: {'ner': 359.16372514770575}\n"
          ]
        },
        {
          "output_type": "stream",
          "name": "stderr",
          "text": [
            "/usr/local/lib/python3.10/dist-packages/spacy/training/iob_utils.py:149: UserWarning: [W030] Some entities could not be aligned in the text \"\" And I think they 'll want a one-stop shop in ter...\" with entities \"[(0, 1, 'O'), (2, 5, 'O'), (6, 7, 'O'), (8, 13, 'O...\". Use `spacy.training.offsets_to_biluo_tags(nlp.make_doc(text), entities)` to check the alignment. Misaligned entities ('-') will be ignored during training.\n",
            "  warnings.warn(\n"
          ]
        },
        {
          "output_type": "stream",
          "name": "stdout",
          "text": [
            "Warning: Misaligned entities in text '\" And I think they 'll want a one-stop shop in terms of combining security , immigration , customs , and quarantine together  just to make sure it 's more streamlined and provides more certainty . \"'\n",
            "Iteration 0, Losses: {'ner': 2050.011265004608}\n",
            "Iteration 1, Losses: {'ner': 1146.8047025154513}\n",
            "Iteration 2, Losses: {'ner': 898.2224362344906}\n",
            "Iteration 3, Losses: {'ner': 780.111964728091}\n",
            "Iteration 4, Losses: {'ner': 631.1701087437336}\n",
            "Iteration 5, Losses: {'ner': 540.3440257023063}\n",
            "Iteration 6, Losses: {'ner': 467.10812183501076}\n",
            "Iteration 7, Losses: {'ner': 397.4140647835095}\n",
            "Iteration 8, Losses: {'ner': 381.709173339635}\n",
            "Iteration 9, Losses: {'ner': 384.20015029080184}\n"
          ]
        },
        {
          "output_type": "stream",
          "name": "stderr",
          "text": [
            "/usr/local/lib/python3.10/dist-packages/spacy/training/iob_utils.py:149: UserWarning: [W030] Some entities could not be aligned in the text \"\" And I think they 'll want a one-stop shop in ter...\" with entities \"[(0, 1, 'O'), (2, 5, 'O'), (6, 7, 'O'), (8, 13, 'O...\". Use `spacy.training.offsets_to_biluo_tags(nlp.make_doc(text), entities)` to check the alignment. Misaligned entities ('-') will be ignored during training.\n",
            "  warnings.warn(\n"
          ]
        },
        {
          "output_type": "stream",
          "name": "stdout",
          "text": [
            "Warning: Misaligned entities in text '\" And I think they 'll want a one-stop shop in terms of combining security , immigration , customs , and quarantine together  just to make sure it 's more streamlined and provides more certainty . \"'\n",
            "Iteration 0, Losses: {'ner': 2017.6204093671142}\n",
            "Iteration 1, Losses: {'ner': 1172.6176295137739}\n",
            "Iteration 2, Losses: {'ner': 923.1312547281769}\n",
            "Iteration 3, Losses: {'ner': 741.7498001284825}\n",
            "Iteration 4, Losses: {'ner': 630.7139279987106}\n",
            "Iteration 5, Losses: {'ner': 512.1827026177996}\n",
            "Iteration 6, Losses: {'ner': 471.6173578448454}\n",
            "Iteration 7, Losses: {'ner': 419.9269333564279}\n",
            "Iteration 8, Losses: {'ner': 430.05453151698106}\n",
            "Iteration 9, Losses: {'ner': 407.64102635798105}\n",
            "Warning: Misaligned entities in text '\" And I think they 'll want a one-stop shop in terms of combining security , immigration , customs , and quarantine together  just to make sure it 's more streamlined and provides more certainty . \"'\n"
          ]
        },
        {
          "output_type": "stream",
          "name": "stderr",
          "text": [
            "/usr/local/lib/python3.10/dist-packages/spacy/training/iob_utils.py:149: UserWarning: [W030] Some entities could not be aligned in the text \"\" And I think they 'll want a one-stop shop in ter...\" with entities \"[(0, 1, 'O'), (2, 5, 'O'), (6, 7, 'O'), (8, 13, 'O...\". Use `spacy.training.offsets_to_biluo_tags(nlp.make_doc(text), entities)` to check the alignment. Misaligned entities ('-') will be ignored during training.\n",
            "  warnings.warn(\n"
          ]
        },
        {
          "output_type": "stream",
          "name": "stdout",
          "text": [
            "Iteration 0, Losses: {'ner': 2008.8323092994162}\n",
            "Iteration 1, Losses: {'ner': 1223.8160065989482}\n",
            "Iteration 2, Losses: {'ner': 964.5556120566176}\n",
            "Iteration 3, Losses: {'ner': 759.3570116528155}\n",
            "Iteration 4, Losses: {'ner': 649.2341501810085}\n",
            "Iteration 5, Losses: {'ner': 591.8582972179909}\n",
            "Iteration 6, Losses: {'ner': 484.09169774344724}\n",
            "Iteration 7, Losses: {'ner': 481.15984586388333}\n",
            "Iteration 8, Losses: {'ner': 371.78757831739387}\n",
            "Iteration 9, Losses: {'ner': 411.20484168450173}\n",
            "Fold 1:\n",
            "Precisión: 0.8401826484018264\n",
            "\n",
            "Fold 2:\n",
            "Precisión: 0.8664047151277013\n",
            "\n",
            "Fold 3:\n",
            "Precisión: 0.9515463917525773\n",
            "\n",
            "Fold 4:\n",
            "Precisión: 0.7329842931937173\n",
            "\n",
            "Fold 5:\n",
            "Precisión: 0.7616777883698761\n",
            "\n",
            "Fold 6:\n",
            "Precisión: 0.9182389937106918\n",
            "\n",
            "Fold 7:\n",
            "Precisión: 0.7410358565737052\n",
            "\n",
            "Fold 8:\n",
            "Precisión: 0.930379746835443\n",
            "\n",
            "Fold 9:\n",
            "Precisión: 0.8168083097261567\n",
            "\n",
            "Fold 10:\n",
            "Precisión: 0.7652270210409745\n",
            "\n"
          ]
        }
      ],
      "source": [
        "# Aplica validación cruzada\n",
        "fold_performance = []\n",
        "for train_index, test_index in kf.split(data):\n",
        "    train_data = [data[i] for i in train_index]\n",
        "    test_data = [data[i] for i in test_index]\n",
        "\n",
        "    # Prepara datos para SpaCy\n",
        "    train_spacy_data = prepare_spacy_data(train_data, nlp)\n",
        "    test_spacy_data = prepare_spacy_data(test_data, nlp)\n",
        "\n",
        "    model = train_spacy_model(train_spacy_data)\n",
        "    performance = evaluate_model(model, test_spacy_data)\n",
        "    fold_performance.append(performance)\n",
        "\n",
        "# Imprime la evaluación de cada fold\n",
        "for i, performance in enumerate(fold_performance):\n",
        "    print(f\"Fold {i+1}:\")\n",
        "    print(f\"Precisión: {performance['accuracy']}\")\n",
        "    print()"
      ]
    },
    {
      "cell_type": "code",
      "execution_count": 13,
      "metadata": {
        "colab": {
          "base_uri": "https://localhost:8080/"
        },
        "id": "UKb2aGjPRhls",
        "outputId": "53fe5ebe-2067-4efc-bfc6-6be2983a36cb"
      },
      "outputs": [
        {
          "output_type": "stream",
          "name": "stdout",
          "text": [
            "Warning: Misaligned entities in text '\" And I think they 'll want a one-stop shop in terms of combining security , immigration , customs , and quarantine together  just to make sure it 's more streamlined and provides more certainty . \"'\n"
          ]
        },
        {
          "output_type": "stream",
          "name": "stderr",
          "text": [
            "/usr/local/lib/python3.10/dist-packages/spacy/training/iob_utils.py:149: UserWarning: [W030] Some entities could not be aligned in the text \"\" And I think they 'll want a one-stop shop in ter...\" with entities \"[(0, 1, 'O'), (2, 5, 'O'), (6, 7, 'O'), (8, 13, 'O...\". Use `spacy.training.offsets_to_biluo_tags(nlp.make_doc(text), entities)` to check the alignment. Misaligned entities ('-') will be ignored during training.\n",
            "  warnings.warn(\n",
            "/usr/local/lib/python3.10/dist-packages/spacy/util.py:1740: UserWarning: [W111] Jupyter notebook detected: if using `prefer_gpu()` or `require_gpu()`, include it in the same cell right before `spacy.load()` to ensure that the model is loaded on the correct device. More information: http://spacy.io/usage/v3#jupyter-notebook-gpu\n",
            "  warnings.warn(Warnings.W111)\n"
          ]
        },
        {
          "output_type": "stream",
          "name": "stdout",
          "text": [
            "Iteration 0, Losses: {'ner': 2129.7097525005934}\n",
            "Iteration 1, Losses: {'ner': 1258.6114568308067}\n",
            "Iteration 2, Losses: {'ner': 1031.2050333519446}\n",
            "Iteration 3, Losses: {'ner': 799.0127316864808}\n",
            "Iteration 4, Losses: {'ner': 725.7327249090637}\n",
            "Iteration 5, Losses: {'ner': 582.2183289566585}\n",
            "Iteration 6, Losses: {'ner': 563.2266189193723}\n",
            "Iteration 7, Losses: {'ner': 551.5062868491196}\n",
            "Iteration 8, Losses: {'ner': 448.7544714499602}\n",
            "Iteration 9, Losses: {'ner': 386.7480786450469}\n"
          ]
        }
      ],
      "source": [
        "# Reentrena el modelo final utilizando todos los datos\n",
        "final_spacy_data = prepare_spacy_data(data, nlp)\n",
        "final_model = train_spacy_model(final_spacy_data)"
      ]
    },
    {
      "cell_type": "markdown",
      "metadata": {
        "id": "l9hZUPRTlSmm"
      },
      "source": [
        "### Demostración del Uso del Modelo Final\n",
        "\n",
        "En este fragmento de código, mostramos cómo utilizar el modelo final entrenado para hacer predicciones sobre un nuevo texto.\n"
      ]
    },
    {
      "cell_type": "code",
      "execution_count": 14,
      "metadata": {
        "colab": {
          "base_uri": "https://localhost:8080/"
        },
        "id": "jAooOxG3QnWQ",
        "outputId": "6ddc811c-d560-48d6-c685-600003945e78"
      },
      "outputs": [
        {
          "output_type": "stream",
          "name": "stdout",
          "text": [
            "Entidad: Albert, Etiqueta: I-per\n",
            "Entidad: Einstein, Etiqueta: I-per\n",
            "Entidad: visited, Etiqueta: O\n",
            "Entidad: the, Etiqueta: O\n",
            "Entidad: Smithsonian, Etiqueta: B-gpe\n",
            "Entidad: Institution, Etiqueta: I-org\n",
            "Entidad: in, Etiqueta: O\n",
            "Entidad: Washington, Etiqueta: B-geo\n",
            "Entidad: D.C., Etiqueta: I-geo\n",
            "Entidad: in, Etiqueta: O\n",
            "Entidad: 1935, Etiqueta: B-tim\n",
            "Entidad: to, Etiqueta: O\n",
            "Entidad: view, Etiqueta: O\n",
            "Entidad: the, Etiqueta: O\n",
            "Entidad: Apollo, Etiqueta: B-per\n",
            "Entidad: Lunar, Etiqueta: I-per\n",
            "Entidad: Module, Etiqueta: I-per\n",
            "Entidad: ., Etiqueta: O\n",
            "Entidad: The, Etiqueta: O\n",
            "Entidad: United, Etiqueta: B-org\n",
            "Entidad: Nations, Etiqueta: I-org\n",
            "Entidad: held, Etiqueta: O\n",
            "Entidad: a, Etiqueta: O\n",
            "Entidad: conference, Etiqueta: O\n",
            "Entidad: in, Etiqueta: O\n",
            "Entidad: New, Etiqueta: B-geo\n",
            "Entidad: York, Etiqueta: I-geo\n",
            "Entidad: City, Etiqueta: I-geo\n",
            "Entidad: to, Etiqueta: O\n",
            "Entidad: discuss, Etiqueta: O\n",
            "Entidad: climate, Etiqueta: O\n",
            "Entidad: change, Etiqueta: O\n",
            "Entidad: on, Etiqueta: O\n",
            "Entidad: Earth, Etiqueta: B-geo\n",
            "Entidad: Day, Etiqueta: I-geo\n",
            "Entidad: ., Etiqueta: O\n",
            "Entidad: The, Etiqueta: O\n",
            "Entidad: Great, Etiqueta: B-org\n",
            "Entidad: Barrier, Etiqueta: I-per\n",
            "Entidad: Reef, Etiqueta: I-per\n",
            "Entidad: ,, Etiqueta: O\n",
            "Entidad: one, Etiqueta: O\n",
            "Entidad: of, Etiqueta: O\n",
            "Entidad: the, Etiqueta: O\n",
            "Entidad: seven, Etiqueta: O\n",
            "Entidad: natural, Etiqueta: O\n",
            "Entidad: wonders, Etiqueta: O\n",
            "Entidad: ,, Etiqueta: O\n",
            "Entidad: is, Etiqueta: O\n",
            "Entidad: located, Etiqueta: O\n",
            "Entidad: off, Etiqueta: O\n",
            "Entidad: the, Etiqueta: O\n",
            "Entidad: coast, Etiqueta: O\n",
            "Entidad: of, Etiqueta: O\n",
            "Entidad: Queensland, Etiqueta: B-gpe\n",
            "Entidad: ,, Etiqueta: O\n",
            "Entidad: Australia, Etiqueta: B-geo\n",
            "Entidad: ., Etiqueta: O\n",
            "Entidad: In, Etiqueta: O\n",
            "Entidad: 2019, Etiqueta: B-tim\n",
            "Entidad: ,, Etiqueta: O\n",
            "Entidad: the, Etiqueta: O\n",
            "Entidad: Louvre, Etiqueta: B-per\n",
            "Entidad: Museum, Etiqueta: I-per\n",
            "Entidad: in, Etiqueta: O\n",
            "Entidad: Paris, Etiqueta: B-geo\n",
            "Entidad: exhibited, Etiqueta: O\n",
            "Entidad: the, Etiqueta: O\n",
            "Entidad: Mona, Etiqueta: B-per\n",
            "Entidad: Lisa, Etiqueta: I-per\n",
            "Entidad: ,, Etiqueta: O\n",
            "Entidad: an, Etiqueta: O\n",
            "Entidad: artifact, Etiqueta: O\n",
            "Entidad: of, Etiqueta: O\n",
            "Entidad: immense, Etiqueta: O\n",
            "Entidad: historical, Etiqueta: O\n",
            "Entidad: value, Etiqueta: O\n",
            "Entidad: ., Etiqueta: O\n",
            "Entidad: During, Etiqueta: O\n",
            "Entidad: the, Etiqueta: O\n",
            "Entidad: Super, Etiqueta: B-org\n",
            "Entidad: Bowl, Etiqueta: I-per\n",
            "Entidad: in, Etiqueta: O\n",
            "Entidad: Miami, Etiqueta: B-geo\n",
            "Entidad: ,, Etiqueta: O\n",
            "Entidad: fans, Etiqueta: O\n",
            "Entidad: witnessed, Etiqueta: O\n",
            "Entidad: one, Etiqueta: O\n",
            "Entidad: of, Etiqueta: O\n",
            "Entidad: the, Etiqueta: O\n",
            "Entidad: most, Etiqueta: O\n",
            "Entidad: thrilling, Etiqueta: O\n",
            "Entidad: sports, Etiqueta: O\n",
            "Entidad: events, Etiqueta: O\n",
            "Entidad: ever, Etiqueta: O\n",
            "Entidad: ., Etiqueta: O\n",
            "Entidad: The, Etiqueta: O\n",
            "Entidad: World, Etiqueta: B-org\n",
            "Entidad: Health, Etiqueta: I-org\n",
            "Entidad: Organization, Etiqueta: I-org\n",
            "Entidad: announced, Etiqueta: O\n",
            "Entidad: new, Etiqueta: O\n",
            "Entidad: health, Etiqueta: O\n",
            "Entidad: guidelines, Etiqueta: O\n",
            "Entidad: last, Etiqueta: O\n",
            "Entidad: month, Etiqueta: O\n",
            "Entidad: to, Etiqueta: O\n",
            "Entidad: combat, Etiqueta: O\n",
            "Entidad: the, Etiqueta: O\n",
            "Entidad: spread, Etiqueta: O\n",
            "Entidad: of, Etiqueta: O\n",
            "Entidad: diseases, Etiqueta: O\n",
            "Entidad: ., Etiqueta: O\n",
            "Entidad: Mount, Etiqueta: I-per\n",
            "Entidad: Everest, Etiqueta: I-per\n",
            "Entidad: ,, Etiqueta: O\n",
            "Entidad: the, Etiqueta: O\n",
            "Entidad: highest, Etiqueta: O\n",
            "Entidad: peak, Etiqueta: O\n",
            "Entidad: in, Etiqueta: O\n",
            "Entidad: the, Etiqueta: O\n",
            "Entidad: world, Etiqueta: O\n",
            "Entidad: ,, Etiqueta: O\n",
            "Entidad: continues, Etiqueta: O\n",
            "Entidad: to, Etiqueta: O\n",
            "Entidad: attract, Etiqueta: O\n",
            "Entidad: climbers, Etiqueta: O\n",
            "Entidad: from, Etiqueta: O\n",
            "Entidad: all, Etiqueta: O\n",
            "Entidad: over, Etiqueta: O\n",
            "Entidad: the, Etiqueta: O\n",
            "Entidad: globe, Etiqueta: O\n",
            "Entidad: ., Etiqueta: O\n"
          ]
        }
      ],
      "source": [
        "# Demostración del uso del modelo final\n",
        "def demonstrate_model(nlp, text):\n",
        "    doc = nlp(text)\n",
        "    for ent in doc.ents:\n",
        "        print(f\"Entidad: {ent.text}, Etiqueta: {ent.label_}\")\n",
        "\n",
        "# Texto de prueba para demostración\n",
        "# Test text for demonstration\n",
        "test_text = \"\"\"\n",
        "Albert Einstein visited the Smithsonian Institution in Washington D.C. in 1935 to view the Apollo Lunar Module.\n",
        "The United Nations held a conference in New York City to discuss climate change on Earth Day.\n",
        "The Great Barrier Reef, one of the seven natural wonders, is located off the coast of Queensland, Australia.\n",
        "In 2019, the Louvre Museum in Paris exhibited the Mona Lisa, an artifact of immense historical value.\n",
        "During the Super Bowl in Miami, fans witnessed one of the most thrilling sports events ever.\n",
        "The World Health Organization announced new health guidelines last month to combat the spread of diseases.\n",
        "Mount Everest, the highest peak in the world, continues to attract climbers from all over the globe.\n",
        "\"\"\"\n",
        "demonstrate_model(final_model, test_text)"
      ]
    },
    {
      "cell_type": "markdown",
      "metadata": {
        "id": "FFG-EFMNoVEZ"
      },
      "source": [
        "Para concluir la primera parte del taller cabe resaltar que el modelo es bastante mejorable. En previas iteraciones se utilizaron más datos para el entrenamiento pero esto no mejoró el modelo, únicamente hizo el proceso de entrenamiento más tardado. Para futuras iteraciones se podría considerar lo siguiente:\n",
        "\n",
        "1. **Ajuste de Hiperparámetros**: Experimenta con diferentes hiperparámetros como la tasa de aprendizaje, el número de iteraciones, y el factor de abandono (dropout) para mejorar el rendimiento del modelo.\n",
        "\n",
        "2. **Embeddings Preentrenados**: Utiliza embeddings preentrenados como word2vec, GloVe o BERT que pueden proporcionar representaciones de palabras más ricas y precisas.\n",
        "\n",
        "3. **Balance de Clases**: Asegúrate de que las clases estén equilibradas para evitar sesgos en el modelo. Puedes hacerlo mediante sobremuestreo de clases minoritarias o submuestreo de clases mayoritarias.\n",
        "\n",
        "4. **Limpieza de Datos**: Revisa y limpia tu conjunto de datos para eliminar ruido y correcciones erróneas. Datos más limpios pueden llevar a un modelo más preciso.\n",
        "\n",
        "5. **Ensamblado de Modelos**: Combina múltiples modelos para formar un modelo ensemble que puede mejorar la precisión al aprovechar las fortalezas de diferentes modelos individuales.\n",
        "\n",
        "6. **Entrenamiento Incremental**: Realiza un entrenamiento incremental donde el modelo se entrena en lotes pequeños y sucesivos de datos, permitiendo ajustes finos y mejoras continuas."
      ]
    },
    {
      "cell_type": "markdown",
      "metadata": {
        "id": "UIWdPatzGEju"
      },
      "source": [
        "#2. Construir varios modelos de análisis de sentimientos. Se deberán utilizar diferentes representaciones de los documentos y diferentes modelos de aprendizaje maquinal.\n",
        "Usar el dataset para análisis de sentimientos de Kaggle, que busca identificar contenido odioso en tweets."
      ]
    },
    {
      "cell_type": "code",
      "execution_count": 15,
      "metadata": {
        "id": "F6U5Q3azDn0e",
        "colab": {
          "base_uri": "https://localhost:8080/"
        },
        "outputId": "e7b92940-1e39-4847-f11a-9490e1fda7a7"
      },
      "outputs": [
        {
          "output_type": "stream",
          "name": "stdout",
          "text": [
            "Downloading from https://www.kaggle.com/api/v1/datasets/download/philipsanm/sentiment-analysis-in-spanish-tweets?dataset_version_number=1...\n"
          ]
        },
        {
          "output_type": "stream",
          "name": "stderr",
          "text": [
            "100%|██████████| 181k/181k [00:00<00:00, 384kB/s]"
          ]
        },
        {
          "output_type": "stream",
          "name": "stdout",
          "text": [
            "Extracting files...\n"
          ]
        },
        {
          "output_type": "stream",
          "name": "stderr",
          "text": [
            "\n"
          ]
        }
      ],
      "source": [
        "# Descarga de la base de datos\n",
        "path = kagglehub.dataset_download(\"philipsanm/sentiment-analysis-in-spanish-tweets\") + \"/sentiment_analysis_dataset.csv\"\n",
        "\n",
        "df = pd.read_csv(path)"
      ]
    },
    {
      "cell_type": "code",
      "execution_count": 16,
      "metadata": {
        "colab": {
          "base_uri": "https://localhost:8080/"
        },
        "id": "o0JslD82qpbI",
        "outputId": "b783bb7b-232a-4a35-8af4-c5e1515e7487"
      },
      "outputs": [
        {
          "output_type": "stream",
          "name": "stderr",
          "text": [
            "[nltk_data] Downloading package stopwords to /root/nltk_data...\n"
          ]
        },
        {
          "output_type": "stream",
          "name": "stdout",
          "text": [
            "0                       termine bien abrumado después hoy\n",
            "1                                         siento abrumado\n",
            "2       siento abrumado cantidad cosas quiero dibujar ...\n",
            "3       salvador única persona abrumado versiones nadi...\n",
            "4                         denme helado ando full abrumado\n",
            "                              ...                        \n",
            "2585    podemos vivir miedo manejen borrachos dejen us...\n",
            "2586                           vida constante miedo éxito\n",
            "2587    esquizofrenia mente dividida miedo realidades ...\n",
            "2588       miedo da ver cómo desapareces mundo temo mundo\n",
            "2589       saltando apoco ala pile agua xd miedo relajado\n",
            "Name: text, Length: 2590, dtype: object\n"
          ]
        },
        {
          "output_type": "stream",
          "name": "stderr",
          "text": [
            "[nltk_data]   Unzipping corpora/stopwords.zip.\n"
          ]
        }
      ],
      "source": [
        "# Preprocesamiento del texto: limpieza, tokenización, etc.\n",
        "nltk.download('stopwords')\n",
        "stop_words = set(stopwords.words('spanish'))\n",
        "\n",
        "def preprocess_text(text):\n",
        "    text = re.sub(r'\\W', ' ', str(text))\n",
        "    text = re.sub(r'\\s+[a-zA-Z]\\s+', ' ', text)\n",
        "    text = re.sub(r'\\^[a-zA-Z]\\s+', ' ', text)\n",
        "    text = re.sub(r'\\s+', ' ', text, flags=re.I)\n",
        "    text = re.sub(r'^b\\s+', '', text)\n",
        "    text = text.lower()\n",
        "    text = text.split()\n",
        "    text = [word for word in text if word not in stop_words]\n",
        "    text = ' '.join(text)\n",
        "    return text\n",
        "\n",
        "df['text'] = df['text'].apply(preprocess_text)\n",
        "print(df['text'])"
      ]
    },
    {
      "cell_type": "code",
      "execution_count": 17,
      "metadata": {
        "colab": {
          "base_uri": "https://localhost:8080/"
        },
        "id": "Kse8MZmrrB1M",
        "outputId": "42a437b3-c383-4279-cbcd-8e4ad5f404ff"
      },
      "outputs": [
        {
          "output_type": "stream",
          "name": "stdout",
          "text": [
            "[[0. 0. 0. ... 0. 0. 0.]\n",
            " [0. 0. 0. ... 0. 0. 0.]\n",
            " [0. 0. 0. ... 0. 0. 0.]\n",
            " ...\n",
            " [0. 0. 0. ... 0. 0. 0.]\n",
            " [0. 0. 0. ... 0. 0. 0.]\n",
            " [0. 0. 0. ... 0. 0. 0.]]\n",
            "0       scared\n",
            "1       scared\n",
            "2       scared\n",
            "3       scared\n",
            "4       scared\n",
            "         ...  \n",
            "2585    joyful\n",
            "2586    joyful\n",
            "2587    joyful\n",
            "2588    joyful\n",
            "2589    joyful\n",
            "Name: sentiment, Length: 2590, dtype: object\n"
          ]
        }
      ],
      "source": [
        "# Representación de los documentos usando TF-IDF\n",
        "tfidf_vect = TfidfVectorizer(max_features=5000)\n",
        "X = tfidf_vect.fit_transform(df['text']).toarray()\n",
        "y = df['sentiment']  # O df['emotion']\n",
        "print(X)\n",
        "print(y)"
      ]
    },
    {
      "cell_type": "markdown",
      "metadata": {
        "id": "d5lIcP6ewgyS"
      },
      "source": [
        "### Modelo Naive Bayes\n",
        "\n",
        "Naive Bayes es un algoritmo de clasificación basado en el teorema de Bayes. Se llama \"naive\" (ingenuo) porque asume que las características de entrada son independientes entre sí, lo que rara vez es el caso en la práctica. Sin embargo, esta simplificación permite que el modelo sea muy eficiente y rápido.\n",
        "\n",
        "#### Ventajas:\n",
        "1. **Simplicidad y Rapidez**: Es fácil de implementar y puede entrenarse rápidamente incluso con grandes conjuntos de datos.\n",
        "2. **Poca Memoria**: Requiere menos memoria para almacenar el modelo en comparación con otros algoritmos.\n",
        "3. **Rendimiento Decente**: A pesar de sus suposiciones ingenuas, a menudo proporciona un rendimiento competitivo en problemas de clasificación, especialmente en textos.\n",
        "4. **Probabilístico**: Genera probabilidades de pertenencia a clase, lo que puede ser útil para tareas donde es importante conocer la confianza del modelo.\n",
        "\n",
        "Este modelo es ideal para tareas de clasificación de texto, como el análisis de sentimientos, donde la relación entre las palabras (características) y las etiquetas de clase puede modelarse efectivamente con esta técnica probabilística."
      ]
    },
    {
      "cell_type": "code",
      "execution_count": 18,
      "metadata": {
        "colab": {
          "base_uri": "https://localhost:8080/"
        },
        "id": "Vs7wMhTprLCD",
        "outputId": "caceb209-3d61-4430-871f-28450f9b2a87"
      },
      "outputs": [
        {
          "output_type": "stream",
          "name": "stdout",
          "text": [
            "              precision    recall  f1-score   support\n",
            "\n",
            "      joyful       0.69      0.18      0.29        61\n",
            "         mad       0.64      0.72      0.68       106\n",
            "    peaceful       0.43      0.87      0.57       135\n",
            "    powerful       0.68      0.39      0.50        92\n",
            "         sad       0.74      0.43      0.54        68\n",
            "      scared       0.67      0.21      0.32        56\n",
            "\n",
            "    accuracy                           0.54       518\n",
            "   macro avg       0.64      0.47      0.48       518\n",
            "weighted avg       0.61      0.54      0.52       518\n",
            "\n"
          ]
        }
      ],
      "source": [
        "# Modelo Naive Bayes\n",
        "X_train, X_test, y_train, y_test = train_test_split(X, y, test_size=0.2, random_state=42)\n",
        "\n",
        "nb_model = MultinomialNB()\n",
        "nb_model.fit(X_train, y_train)\n",
        "\n",
        "y_pred = nb_model.predict(X_test)\n",
        "print(classification_report(y_test, y_pred))"
      ]
    },
    {
      "cell_type": "markdown",
      "metadata": {
        "id": "ycqsr34lwkWi"
      },
      "source": [
        "### Modelo SVM (Support Vector Machine)\n",
        "\n",
        "El modelo SVM, o Máquinas de Vectores de Soporte, es un poderoso algoritmo de clasificación que busca encontrar un hiperplano en un espacio de múltiples dimensiones que separa las clases de la mejor manera posible. Este modelo es conocido por su capacidad para manejar tanto problemas lineales como no lineales mediante el uso de kernels.\n",
        "\n",
        "#### Ventajas:\n",
        "1. **Eficiencia en Espacios de Alta Dimensión**: SVM es eficaz en espacios de alta dimensión y cuando el número de dimensiones es mayor que el número de muestras.\n",
        "2. **Manejo de Casos Lineales y No Lineales**: Puede ser usado tanto para clasificación lineal como para clasificación no lineal mediante el uso de la función kernel adecuada.\n",
        "3. **Robustez Frente a Overfitting**: Especialmente útil en casos donde hay una clara separación de clases y ayuda a minimizar el overfitting en altas dimensiones.\n",
        "4. **Flexibilidad de Kernels**: Permite el uso de múltiples kernels (lineal, polinómico, radial, etc.) que pueden adaptarse a diferentes tipos de problemas.\n",
        "\n",
        "Las SVM son ampliamente utilizadas en aplicaciones de reconocimiento de patrones y clasificación de texto, donde su capacidad para encontrar la separación óptima entre clases puede llevar a modelos de gran precisión y robustez.\n"
      ]
    },
    {
      "cell_type": "code",
      "execution_count": 19,
      "metadata": {
        "colab": {
          "base_uri": "https://localhost:8080/"
        },
        "id": "77RG7etFrb74",
        "outputId": "8d8f569a-a90f-4b72-e8ae-c1c9a51306b9"
      },
      "outputs": [
        {
          "output_type": "stream",
          "name": "stdout",
          "text": [
            "              precision    recall  f1-score   support\n",
            "\n",
            "      joyful       0.72      0.56      0.63        61\n",
            "         mad       0.82      0.76      0.79       106\n",
            "    peaceful       0.65      0.82      0.73       135\n",
            "    powerful       0.69      0.72      0.71        92\n",
            "         sad       0.77      0.69      0.73        68\n",
            "      scared       0.83      0.68      0.75        56\n",
            "\n",
            "    accuracy                           0.73       518\n",
            "   macro avg       0.75      0.71      0.72       518\n",
            "weighted avg       0.74      0.73      0.73       518\n",
            "\n"
          ]
        }
      ],
      "source": [
        "# Modelo SVM\n",
        "svm_model = SVC(kernel='linear')\n",
        "svm_model.fit(X_train, y_train)\n",
        "\n",
        "y_pred_svm = svm_model.predict(X_test)\n",
        "print(classification_report(y_test, y_pred_svm))"
      ]
    },
    {
      "cell_type": "markdown",
      "metadata": {
        "id": "XME6LH_Dwqdc"
      },
      "source": [
        "### Modelo Random Forest\n",
        "\n",
        "Random Forest es un algoritmo de ensamble que crea un \"bosque\" de árboles de decisión independientes, y su decisión final se basa en la combinación de las predicciones de estos múltiples árboles. Cada árbol en el bosque se entrena con una muestra diferente del conjunto de datos y el algoritmo promedio de las predicciones de todos los árboles para tomar la decisión final.\n",
        "\n",
        "#### Ventajas:\n",
        "1. **Reducción del Overfitting**: Al promediar las predicciones de múltiples árboles, Random Forest reduce el riesgo de sobreajuste que puede ocurrir con un solo árbol de decisión.\n",
        "2. **Robustez y Estabilidad**: Es menos sensible a los valores atípicos y a las variaciones en el conjunto de datos, lo que lo hace un modelo muy robusto.\n",
        "3. **Manejo de Datos No Lineales**: Puede capturar relaciones complejas y no lineales entre las características y las etiquetas de clase.\n",
        "4. **Flexibilidad**: Puede ser utilizado tanto para problemas de clasificación como de regresión.\n",
        "5. **Importancia de las Variables**: Proporciona una medida de la importancia de cada característica en la predicción, lo cual es útil para entender el modelo.\n",
        "\n",
        "Random Forest es una excelente opción para tareas de clasificación como el análisis de sentimientos debido a su capacidad para manejar conjuntos de datos complejos y su alto rendimiento de predicción."
      ]
    },
    {
      "cell_type": "code",
      "execution_count": 20,
      "metadata": {
        "colab": {
          "base_uri": "https://localhost:8080/"
        },
        "id": "vXYd30VwrssS",
        "outputId": "34a237fa-1ec5-47e8-a886-5fc39119bc86"
      },
      "outputs": [
        {
          "output_type": "stream",
          "name": "stdout",
          "text": [
            "              precision    recall  f1-score   support\n",
            "\n",
            "      joyful       0.80      0.70      0.75        61\n",
            "         mad       0.91      0.75      0.82       106\n",
            "    peaceful       0.74      0.90      0.81       135\n",
            "    powerful       0.84      0.76      0.80        92\n",
            "         sad       0.77      0.79      0.78        68\n",
            "      scared       0.86      0.91      0.89        56\n",
            "\n",
            "    accuracy                           0.81       518\n",
            "   macro avg       0.82      0.80      0.81       518\n",
            "weighted avg       0.82      0.81      0.81       518\n",
            "\n"
          ]
        }
      ],
      "source": [
        "# Modelo Random Forest\n",
        "rf_model = RandomForestClassifier(n_estimators=100, random_state=42)\n",
        "rf_model.fit(X_train, y_train)\n",
        "\n",
        "y_pred_rf = rf_model.predict(X_test)\n",
        "print(classification_report(y_test, y_pred_rf))"
      ]
    },
    {
      "cell_type": "markdown",
      "metadata": {
        "id": "KFmkCxK5wvoM"
      },
      "source": [
        "### Modelo Logistic Regression\n",
        "\n",
        "La regresión logística es un modelo estadístico utilizado para la clasificación binaria que predice la probabilidad de pertenencia de una instancia a una de dos clases posibles. Aunque su nombre sugiere que se trata de un modelo de regresión, en realidad se utiliza principalmente para tareas de clasificación.\n",
        "\n",
        "#### Ventajas:\n",
        "1. **Interpretabilidad**: Los coeficientes del modelo proporcionan una intuición clara sobre la relación entre las características y la probabilidad de la clase objetivo.\n",
        "2. **Simplicidad**: Es sencillo de implementar y rápido de entrenar, especialmente en conjuntos de datos grandes.\n",
        "3. **Eficacia en Espacios Lineales**: Funciona muy bien cuando las clases son linealmente separables.\n",
        "4. **Robustez a la Multicolinealidad**: Aunque la multicolinealidad puede ser un problema, la regresión logística es relativamente robusta y puede manejar colinealidades moderadas entre las características.\n",
        "5. **Extensibilidad**: Puede extenderse fácilmente para problemas multiclase utilizando técnicas como One-vs-Rest (OvR) o Softmax Regression.\n",
        "\n",
        "La regresión logística es una herramienta poderosa y ampliamente utilizada en problemas de clasificación como el análisis de sentimientos, donde su capacidad para predecir probabilidades de clase puede proporcionar insights adicionales sobre la confianza de las predicciones del modelo.\n"
      ]
    },
    {
      "cell_type": "code",
      "execution_count": 21,
      "metadata": {
        "colab": {
          "base_uri": "https://localhost:8080/"
        },
        "id": "uaLnJHmFrz4E",
        "outputId": "97075507-3f60-406b-fd0b-822dd612f4ac"
      },
      "outputs": [
        {
          "output_type": "stream",
          "name": "stdout",
          "text": [
            "              precision    recall  f1-score   support\n",
            "\n",
            "      joyful       0.70      0.38      0.49        61\n",
            "         mad       0.76      0.70      0.73       106\n",
            "    peaceful       0.51      0.84      0.64       135\n",
            "    powerful       0.72      0.61      0.66        92\n",
            "         sad       0.71      0.59      0.65        68\n",
            "      scared       0.77      0.41      0.53        56\n",
            "\n",
            "    accuracy                           0.64       518\n",
            "   macro avg       0.69      0.59      0.62       518\n",
            "weighted avg       0.67      0.64      0.63       518\n",
            "\n"
          ]
        }
      ],
      "source": [
        "# Modelo Logistic Regression\n",
        "logreg_model = LogisticRegression(max_iter=1000, random_state=42)\n",
        "logreg_model.fit(X_train, y_train)\n",
        "\n",
        "y_pred_logreg = logreg_model.predict(X_test)\n",
        "print(classification_report(y_test, y_pred_logreg))"
      ]
    },
    {
      "cell_type": "markdown",
      "metadata": {
        "id": "yLWbB6FNw0Ve"
      },
      "source": [
        "### Modelo Gradient Boosting\n",
        "\n",
        "Gradient Boosting es un algoritmo de ensamble que construye un modelo fuerte a partir de múltiples modelos débiles, típicamente árboles de decisión. Funciona de manera iterativa, ajustando los errores residuales de los modelos anteriores en cada nueva iteración para mejorar la precisión general del modelo.\n",
        "\n",
        "#### Ventajas:\n",
        "1. **Precisión Elevada**: Gradient Boosting es conocido por su alta precisión y capacidad para manejar datos complejos y no lineales.\n",
        "2. **Flexibilidad**: Puede usarse tanto para problemas de clasificación como de regresión, y permite ajustar una amplia gama de hiperparámetros para optimizar el modelo.\n",
        "3. **Manejo de Sesgo y Varianza**: Reduce tanto el sesgo como la varianza del modelo al enfocarse en los errores residuales de iteraciones anteriores, mejorando gradualmente el rendimiento del modelo.\n",
        "4. **Robustez a Overfitting**: Mediante técnicas como el subsampling y la regularización, Gradient Boosting puede prevenir el sobreajuste, especialmente en conjuntos de datos con mucho ruido.\n",
        "\n",
        "Gradient Boosting es una opción poderosa y versátil para el análisis de sentimientos, ofreciendo un equilibrio excelente entre precisión, robustez y flexibilidad en el ajuste del modelo. Esto lo convierte en una herramienta muy valiosa para capturar patrones complejos y mejorar continuamente las predicciones."
      ]
    },
    {
      "cell_type": "code",
      "execution_count": 22,
      "metadata": {
        "colab": {
          "base_uri": "https://localhost:8080/"
        },
        "id": "e8PfW-8JsI4h",
        "outputId": "ec1114bf-9001-495f-9958-bc8cf6b7959f"
      },
      "outputs": [
        {
          "output_type": "stream",
          "name": "stdout",
          "text": [
            "              precision    recall  f1-score   support\n",
            "\n",
            "      joyful       0.89      0.69      0.78        61\n",
            "         mad       0.94      0.76      0.84       106\n",
            "    peaceful       0.70      0.92      0.79       135\n",
            "    powerful       0.85      0.72      0.78        92\n",
            "         sad       0.82      0.79      0.81        68\n",
            "      scared       0.86      0.96      0.91        56\n",
            "\n",
            "    accuracy                           0.81       518\n",
            "   macro avg       0.84      0.81      0.82       518\n",
            "weighted avg       0.83      0.81      0.81       518\n",
            "\n"
          ]
        }
      ],
      "source": [
        "# Modelo Gradient Boosting\n",
        "gb_model = GradientBoostingClassifier(n_estimators=100, random_state=42)\n",
        "gb_model.fit(X_train, y_train)\n",
        "\n",
        "y_pred_gb = gb_model.predict(X_test)\n",
        "print(classification_report(y_test, y_pred_gb))"
      ]
    },
    {
      "cell_type": "markdown",
      "metadata": {
        "id": "i5JNhVeA0BGo"
      },
      "source": [
        "### Modelo LSTM (Long Short-Term Memory)\n",
        "\n",
        "Las LSTM, o Memorias de Corto y Largo Plazo, son una variante de las redes neuronales recurrentes (RNN) diseñadas específicamente para capturar dependencias a largo plazo en secuencias de datos. Son especialmente útiles en tareas de procesamiento de lenguaje natural (NLP) donde el contexto a largo plazo puede ser crucial para hacer predicciones precisas.\n",
        "\n",
        "#### Ventajas:\n",
        "1. **Captura de Dependencias a Largo Plazo**: Las LSTM pueden recordar información durante largos periodos de tiempo, lo que las hace ideales para secuencias de texto donde el contexto distante es importante.\n",
        "2. **Manejo de Desvanecimiento del Gradiente**: A diferencia de las RNN tradicionales, las LSTM están diseñadas para mitigar el problema del desvanecimiento del gradiente, permitiendo que aprendan mejor en secuencias largas.\n",
        "3. **Flexibilidad y Adaptabilidad**: Pueden ajustarse y adaptarse bien a diferentes tipos de datos secuenciales, no solo texto, sino también series temporales y otros datos secuenciales.\n",
        "4. **Robustez a Datos Ruido**: Gracias a sus celdas de memoria y puertas de control, las LSTM pueden filtrar información irrelevante y centrarse en los datos importantes.\n",
        "\n",
        "Las LSTM son particularmente eficaces en tareas de análisis de sentimientos debido a su capacidad para capturar el contexto a largo plazo y entender la relación entre palabras y frases en una secuencia de texto. Esto las convierte en una herramienta poderosa para mejorar la precisión de las predicciones en problemas de clasificación de textos."
      ]
    },
    {
      "cell_type": "code",
      "execution_count": 23,
      "metadata": {
        "colab": {
          "base_uri": "https://localhost:8080/"
        },
        "id": "E_4RD8masjWu",
        "outputId": "d97afe06-653d-4a51-89c6-e0c3bcd6a034"
      },
      "outputs": [
        {
          "output_type": "stream",
          "name": "stdout",
          "text": [
            "Epoch 1/5\n",
            "\u001b[1m26/26\u001b[0m \u001b[32m━━━━━━━━━━━━━━━━━━━━\u001b[0m\u001b[37m\u001b[0m \u001b[1m18s\u001b[0m 340ms/step - accuracy: 0.2174 - loss: 1.7710 - val_accuracy: 0.2072 - val_loss: 1.7525\n",
            "Epoch 2/5\n",
            "\u001b[1m26/26\u001b[0m \u001b[32m━━━━━━━━━━━━━━━━━━━━\u001b[0m\u001b[37m\u001b[0m \u001b[1m12s\u001b[0m 239ms/step - accuracy: 0.2633 - loss: 1.7205 - val_accuracy: 0.3398 - val_loss: 1.7079\n",
            "Epoch 3/5\n",
            "\u001b[1m26/26\u001b[0m \u001b[32m━━━━━━━━━━━━━━━━━━━━\u001b[0m\u001b[37m\u001b[0m \u001b[1m8s\u001b[0m 162ms/step - accuracy: 0.4294 - loss: 1.5828 - val_accuracy: 0.4072 - val_loss: 1.5201\n",
            "Epoch 4/5\n",
            "\u001b[1m26/26\u001b[0m \u001b[32m━━━━━━━━━━━━━━━━━━━━\u001b[0m\u001b[37m\u001b[0m \u001b[1m7s\u001b[0m 241ms/step - accuracy: 0.7214 - loss: 1.1017 - val_accuracy: 0.5518 - val_loss: 1.3126\n",
            "Epoch 5/5\n",
            "\u001b[1m26/26\u001b[0m \u001b[32m━━━━━━━━━━━━━━━━━━━━\u001b[0m\u001b[37m\u001b[0m \u001b[1m9s\u001b[0m 180ms/step - accuracy: 0.8778 - loss: 0.5712 - val_accuracy: 0.5735 - val_loss: 1.2443\n",
            "\u001b[1m17/17\u001b[0m \u001b[32m━━━━━━━━━━━━━━━━━━━━\u001b[0m\u001b[37m\u001b[0m \u001b[1m2s\u001b[0m 83ms/step\n",
            "              precision    recall  f1-score   support\n",
            "\n",
            "           0       0.53      0.33      0.40        61\n",
            "           1       0.53      0.75      0.62       106\n",
            "           2       0.64      0.71      0.67       135\n",
            "           3       0.54      0.52      0.53        92\n",
            "           4       0.54      0.43      0.48        68\n",
            "           5       0.79      0.54      0.64        56\n",
            "\n",
            "    accuracy                           0.58       518\n",
            "   macro avg       0.59      0.54      0.56       518\n",
            "weighted avg       0.59      0.58      0.58       518\n",
            "\n"
          ]
        }
      ],
      "source": [
        "# Tokenización y preparación de secuencias\n",
        "tokenizer = Tokenizer(num_words=5000)\n",
        "tokenizer.fit_on_texts(df['text'])\n",
        "X = tokenizer.texts_to_sequences(df['text'])\n",
        "X = pad_sequences(X, maxlen=100)\n",
        "y = pd.get_dummies(df['sentiment']).values  # O df['emotion']\n",
        "\n",
        "X_train, X_test, y_train, y_test = train_test_split(X, y, test_size=0.2, random_state=42)\n",
        "\n",
        "# Modelo LSTM\n",
        "lstm_model = Sequential()\n",
        "lstm_model.add(Embedding(input_dim=5000, output_dim=128))\n",
        "lstm_model.add(LSTM(units=128, dropout=0.2, recurrent_dropout=0.2))\n",
        "lstm_model.add(Dense(units=y.shape[1], activation='softmax'))\n",
        "\n",
        "lstm_model.compile(optimizer='adam', loss='categorical_crossentropy', metrics=['accuracy'])\n",
        "lstm_model.fit(X_train, y_train, epochs=5, batch_size=64, validation_split=0.2)\n",
        "\n",
        "y_pred_lstm = lstm_model.predict(X_test)\n",
        "y_pred_lstm_labels = np.argmax(y_pred_lstm, axis=1)\n",
        "y_test_labels = np.argmax(y_test, axis=1)\n",
        "\n",
        "print(classification_report(y_test_labels, y_pred_lstm_labels))"
      ]
    },
    {
      "cell_type": "markdown",
      "metadata": {
        "id": "8AeaZG595xRT"
      },
      "source": [
        "De los resultados anteriores, el mejor de los modelos fue el modelo de Gradiente Boosting así que vamos a realizar el etiquetado de un texto nuevo para comprobar su rendimiento."
      ]
    },
    {
      "cell_type": "code",
      "source": [
        "df = pd.read_csv(path)\n",
        "df['text'] = df['text'].apply(preprocess_text)\n",
        "tfidf_vect = TfidfVectorizer(max_features=5000)\n",
        "X = tfidf_vect.fit_transform(df['text']).toarray()\n",
        "y = df['sentiment']  # O df['emotion']"
      ],
      "metadata": {
        "id": "C8T_vPzDI5XX"
      },
      "execution_count": 24,
      "outputs": []
    },
    {
      "cell_type": "code",
      "execution_count": 25,
      "metadata": {
        "colab": {
          "base_uri": "https://localhost:8080/"
        },
        "id": "6uhaBMmf3ow5",
        "outputId": "2cf3796a-54f8-4512-93eb-edb4392d0501"
      },
      "outputs": [
        {
          "output_type": "stream",
          "name": "stdout",
          "text": [
            "Texto del tweet: ¡Qué hermoso día! Estoy muy feliz de poder disfrutar del sol y la naturaleza. 🌞🌳 #Feliz #Contento\n",
            "Predicción de sentimiento: peaceful\n"
          ]
        }
      ],
      "source": [
        "# Codificar las etiquetas de sentimiento\n",
        "label_encoder = LabelEncoder()\n",
        "y = label_encoder.fit_transform(y)\n",
        "\n",
        "# Dividir los datos\n",
        "X_train, X_test, y_train, y_test = train_test_split(X, y, test_size=0.2, random_state=42)\n",
        "\n",
        "# Entrenar el modelo Gradient Boosting\n",
        "gb_model = GradientBoostingClassifier(n_estimators=100, random_state=42)\n",
        "gb_model.fit(X_train, y_train)\n",
        "\n",
        "# Ejemplo de texto de Twitter\n",
        "tweet_text = \"¡Qué hermoso día! Estoy muy feliz de poder disfrutar del sol y la naturaleza. 🌞🌳 #Feliz #Contento\"\n",
        "\n",
        "# Preprocesar el texto del tweet\n",
        "tweet_text_processed = preprocess_text(tweet_text)\n",
        "\n",
        "# Transformar el texto del tweet usando TF-IDF\n",
        "tweet_tfidf = tfidf_vect.transform([tweet_text_processed])\n",
        "\n",
        "# Predecir el sentimiento usando el modelo de Gradient Boosting\n",
        "sentiment_prediction = gb_model.predict(tweet_tfidf)\n",
        "\n",
        "# Interpretar la predicción asegurando consistencia con las etiquetas originales\n",
        "sentiment_label = label_encoder.inverse_transform([sentiment_prediction[0]])[0]\n",
        "\n",
        "print(f\"Texto del tweet: {tweet_text}\")\n",
        "print(f\"Predicción de sentimiento: {sentiment_label}\")"
      ]
    },
    {
      "cell_type": "markdown",
      "metadata": {
        "id": "ep3H68USFbpI"
      },
      "source": [
        "# 3. Cargar el conjunto de datos 20 news group. Realizar un modelo de clasificación de documentos. Usar 10% del conjunto para testing. El 90% usarlo para generar y validar el modelo. Usar validación cruzada de folding=10"
      ]
    },
    {
      "cell_type": "code",
      "execution_count": 26,
      "metadata": {
        "id": "kOL59fRO8vmx"
      },
      "outputs": [],
      "source": [
        "# Cargar el conjunto de datos con metadata removido\n",
        "newsgroups = fetch_20newsgroups(subset='all', shuffle=True, random_state=42,\n",
        "                                remove=('headers', 'footers', 'quotes'))"
      ]
    },
    {
      "cell_type": "markdown",
      "source": [
        "**Definir los Datos y las Etiquetas:**\n",
        "- `X, y = newsgroups.data, newsgroups.target`\n",
        "  - Este fragmento de código asigna las noticias (`data`) y sus categorías (`target`) del conjunto de datos 20 Newsgroups a las variables `X` (textos de las noticias) y `y` (etiquetas de las noticias), respectivamente.\n",
        "\n",
        "**Dividir los Datos en Conjuntos de Prueba y Entrenamiento/Validación:**\n",
        "- `X_train_valid, X_test, y_train_valid, y_test = train_test_split(X, y, test_size=0.1, random_state=42, stratify=y)`\n",
        "  - Aquí, los datos se dividen en dos conjuntos: el 90% se usa para entrenamiento y validación (`X_train_valid` y `y_train_valid`), y el 10% restante se utiliza para prueba (`X_test` y `y_test`). La división es estratificada (`stratify=y`) para asegurar que cada conjunto mantenga la misma proporción de clases, y se utiliza una semilla aleatoria fija (`random_state=42`) para reproducibilidad."
      ],
      "metadata": {
        "id": "OGVIvGvUODGv"
      }
    },
    {
      "cell_type": "code",
      "source": [
        "# Definir los datos y las etiquetas\n",
        "X, y = newsgroups.data, newsgroups.target\n",
        "\n",
        "# Dividir los datos en conjunto de prueba (10%) y conjunto de entrenamiento/validación (90%)\n",
        "X_train_valid, X_test, y_train_valid, y_test = train_test_split(X, y, test_size=0.1, random_state=42, stratify=y)"
      ],
      "metadata": {
        "id": "72scHL7-K4Q4"
      },
      "execution_count": 27,
      "outputs": []
    },
    {
      "cell_type": "markdown",
      "source": [
        "**Representación de los Documentos Usando TF-IDF:**\n",
        "- `tfidf_vect = TfidfVectorizer(max_features=5000)`\n",
        "  - Esta línea de código inicializa el vectorizador TF-IDF (Term Frequency-Inverse Document Frequency) con un límite máximo de 5000 características (palabras más importantes).\n",
        "  \n",
        "- `X_train_valid_tfidf = tfidf_vect.fit_transform(X_train_valid)`\n",
        "  - Aquí, el vectorizador se ajusta a los datos de entrenamiento/validación (`X_train_valid`) y transforma esos textos en representaciones numéricas TF-IDF, almacenándolos en `X_train_valid_tfidf`.\n",
        "\n",
        "- `X_test_tfidf = tfidf_vect.transform(X_test)`\n",
        "  - Finalmente, el mismo vectorizador se utiliza para transformar el conjunto de prueba (`X_test`) en representaciones numéricas TF-IDF, asegurando que se utilice la misma configuración de características que se ajustó en el conjunto de entrenamiento/validación."
      ],
      "metadata": {
        "id": "-f_HYVZfOFmW"
      }
    },
    {
      "cell_type": "code",
      "source": [
        "# Representación de los documentos usando TF-IDF\n",
        "tfidf_vect = TfidfVectorizer(max_features=5000)\n",
        "X_train_valid_tfidf = tfidf_vect.fit_transform(X_train_valid)\n",
        "X_test_tfidf = tfidf_vect.transform(X_test)"
      ],
      "metadata": {
        "id": "-HAS_Z20K6Mq"
      },
      "execution_count": 28,
      "outputs": []
    },
    {
      "cell_type": "markdown",
      "source": [
        "**Validación Cruzada con K-Folding (k=10):**\n",
        "- `kfold = StratifiedKFold(n_splits=10, shuffle=True, random_state=42)`\n",
        "  - Esta línea de código crea un objeto `StratifiedKFold` para realizar validación cruzada estratificada con 10 folds. Estratificación significa que cada fold mantendrá la proporción de clases, asegurando una mejor representación de los datos. `shuffle=True` asegura que los datos se mezclen aleatoriamente antes de la división, y `random_state=42` se utiliza para garantizar la reproducibilidad de los resultados.\n",
        "\n",
        "**Definición del Modelo:**\n",
        "- `model = MultinomialNB()`\n",
        "  - Aquí, se define el modelo de Naive Bayes Multinomial, una variante del algoritmo Naive Bayes que es especialmente adecuado para datos de conteo, como texto representado mediante TF-IDF o frecuencias de palabras. Este modelo será entrenado y evaluado utilizando la validación cruzada."
      ],
      "metadata": {
        "id": "XSWFrCUNOHZe"
      }
    },
    {
      "cell_type": "code",
      "source": [
        "# Validación cruzada con k-folding (k=10)\n",
        "kfold = StratifiedKFold(n_splits=10, shuffle=True, random_state=42)\n",
        "model = MultinomialNB()"
      ],
      "metadata": {
        "id": "5eZ-mSx9MvwS"
      },
      "execution_count": 29,
      "outputs": []
    },
    {
      "cell_type": "markdown",
      "source": [
        "**Entrenar y Validar el Modelo:**\n",
        "- `cross_val_scores = cross_val_score(model, X_train_valid_tfidf, y_train_valid, cv=kfold, scoring='accuracy')`\n",
        "  - Esta línea realiza la validación cruzada utilizando `cross_val_score`, aplicando el modelo de Naive Bayes Multinomial (`model`) a los datos de entrenamiento/validación transformados por TF-IDF (`X_train_valid_tfidf`). Se emplea el método de k-folding (con `cv=kfold`), con 10 folds, para evaluar el modelo. La métrica de evaluación utilizada es la precisión (`scoring='accuracy'`).\n",
        "\n",
        "- `print(f\"Validación cruzada (10 folds): {np.mean(cross_val_scores):.4f} ± {np.std(cross_val_scores):.4f}\")`\n",
        "  - Aquí, se imprime la media y la desviación estándar de las puntuaciones de precisión obtenidas a partir de la validación cruzada con 10 folds. Esto proporciona una idea del rendimiento promedio del modelo y su variabilidad.\n",
        "\n",
        "**Entrenar el Modelo Final en el Conjunto de Entrenamiento/Validación Completo:**\n",
        "- `model.fit(X_train_valid_tfidf, y_train_valid)`\n",
        "  - Finalmente, el modelo de Naive Bayes Multinomial se entrena utilizando el conjunto completo de entrenamiento/validación transformado por TF-IDF (`X_train_valid_tfidf`) y sus etiquetas (`y_train_valid`). Esto permite que el modelo se ajuste a todos los datos disponibles, maximizando su capacidad de generalización antes de evaluar su rendimiento en el conjunto de prueba."
      ],
      "metadata": {
        "id": "U5duVCmqOVH8"
      }
    },
    {
      "cell_type": "code",
      "source": [
        "# Entrenar y validar el modelo\n",
        "cross_val_scores = cross_val_score(model, X_train_valid_tfidf, y_train_valid, cv=kfold, scoring='accuracy')\n",
        "print(f\"Validación cruzada (10 folds): {np.mean(cross_val_scores):.4f} ± {np.std(cross_val_scores):.4f}\")\n",
        "\n",
        "# Entrenar el modelo final en el conjunto de entrenamiento/validación completo\n",
        "model.fit(X_train_valid_tfidf, y_train_valid)"
      ],
      "metadata": {
        "colab": {
          "base_uri": "https://localhost:8080/",
          "height": 98
        },
        "id": "NGFvH6cSK8xi",
        "outputId": "fbc15bf5-1545-4824-9dbf-c3a56390a6ab"
      },
      "execution_count": 30,
      "outputs": [
        {
          "output_type": "stream",
          "name": "stdout",
          "text": [
            "Validación cruzada (10 folds): 0.6799 ± 0.0101\n"
          ]
        },
        {
          "output_type": "execute_result",
          "data": {
            "text/plain": [
              "MultinomialNB()"
            ],
            "text/html": [
              "<style>#sk-container-id-1 {\n",
              "  /* Definition of color scheme common for light and dark mode */\n",
              "  --sklearn-color-text: #000;\n",
              "  --sklearn-color-text-muted: #666;\n",
              "  --sklearn-color-line: gray;\n",
              "  /* Definition of color scheme for unfitted estimators */\n",
              "  --sklearn-color-unfitted-level-0: #fff5e6;\n",
              "  --sklearn-color-unfitted-level-1: #f6e4d2;\n",
              "  --sklearn-color-unfitted-level-2: #ffe0b3;\n",
              "  --sklearn-color-unfitted-level-3: chocolate;\n",
              "  /* Definition of color scheme for fitted estimators */\n",
              "  --sklearn-color-fitted-level-0: #f0f8ff;\n",
              "  --sklearn-color-fitted-level-1: #d4ebff;\n",
              "  --sklearn-color-fitted-level-2: #b3dbfd;\n",
              "  --sklearn-color-fitted-level-3: cornflowerblue;\n",
              "\n",
              "  /* Specific color for light theme */\n",
              "  --sklearn-color-text-on-default-background: var(--sg-text-color, var(--theme-code-foreground, var(--jp-content-font-color1, black)));\n",
              "  --sklearn-color-background: var(--sg-background-color, var(--theme-background, var(--jp-layout-color0, white)));\n",
              "  --sklearn-color-border-box: var(--sg-text-color, var(--theme-code-foreground, var(--jp-content-font-color1, black)));\n",
              "  --sklearn-color-icon: #696969;\n",
              "\n",
              "  @media (prefers-color-scheme: dark) {\n",
              "    /* Redefinition of color scheme for dark theme */\n",
              "    --sklearn-color-text-on-default-background: var(--sg-text-color, var(--theme-code-foreground, var(--jp-content-font-color1, white)));\n",
              "    --sklearn-color-background: var(--sg-background-color, var(--theme-background, var(--jp-layout-color0, #111)));\n",
              "    --sklearn-color-border-box: var(--sg-text-color, var(--theme-code-foreground, var(--jp-content-font-color1, white)));\n",
              "    --sklearn-color-icon: #878787;\n",
              "  }\n",
              "}\n",
              "\n",
              "#sk-container-id-1 {\n",
              "  color: var(--sklearn-color-text);\n",
              "}\n",
              "\n",
              "#sk-container-id-1 pre {\n",
              "  padding: 0;\n",
              "}\n",
              "\n",
              "#sk-container-id-1 input.sk-hidden--visually {\n",
              "  border: 0;\n",
              "  clip: rect(1px 1px 1px 1px);\n",
              "  clip: rect(1px, 1px, 1px, 1px);\n",
              "  height: 1px;\n",
              "  margin: -1px;\n",
              "  overflow: hidden;\n",
              "  padding: 0;\n",
              "  position: absolute;\n",
              "  width: 1px;\n",
              "}\n",
              "\n",
              "#sk-container-id-1 div.sk-dashed-wrapped {\n",
              "  border: 1px dashed var(--sklearn-color-line);\n",
              "  margin: 0 0.4em 0.5em 0.4em;\n",
              "  box-sizing: border-box;\n",
              "  padding-bottom: 0.4em;\n",
              "  background-color: var(--sklearn-color-background);\n",
              "}\n",
              "\n",
              "#sk-container-id-1 div.sk-container {\n",
              "  /* jupyter's `normalize.less` sets `[hidden] { display: none; }`\n",
              "     but bootstrap.min.css set `[hidden] { display: none !important; }`\n",
              "     so we also need the `!important` here to be able to override the\n",
              "     default hidden behavior on the sphinx rendered scikit-learn.org.\n",
              "     See: https://github.com/scikit-learn/scikit-learn/issues/21755 */\n",
              "  display: inline-block !important;\n",
              "  position: relative;\n",
              "}\n",
              "\n",
              "#sk-container-id-1 div.sk-text-repr-fallback {\n",
              "  display: none;\n",
              "}\n",
              "\n",
              "div.sk-parallel-item,\n",
              "div.sk-serial,\n",
              "div.sk-item {\n",
              "  /* draw centered vertical line to link estimators */\n",
              "  background-image: linear-gradient(var(--sklearn-color-text-on-default-background), var(--sklearn-color-text-on-default-background));\n",
              "  background-size: 2px 100%;\n",
              "  background-repeat: no-repeat;\n",
              "  background-position: center center;\n",
              "}\n",
              "\n",
              "/* Parallel-specific style estimator block */\n",
              "\n",
              "#sk-container-id-1 div.sk-parallel-item::after {\n",
              "  content: \"\";\n",
              "  width: 100%;\n",
              "  border-bottom: 2px solid var(--sklearn-color-text-on-default-background);\n",
              "  flex-grow: 1;\n",
              "}\n",
              "\n",
              "#sk-container-id-1 div.sk-parallel {\n",
              "  display: flex;\n",
              "  align-items: stretch;\n",
              "  justify-content: center;\n",
              "  background-color: var(--sklearn-color-background);\n",
              "  position: relative;\n",
              "}\n",
              "\n",
              "#sk-container-id-1 div.sk-parallel-item {\n",
              "  display: flex;\n",
              "  flex-direction: column;\n",
              "}\n",
              "\n",
              "#sk-container-id-1 div.sk-parallel-item:first-child::after {\n",
              "  align-self: flex-end;\n",
              "  width: 50%;\n",
              "}\n",
              "\n",
              "#sk-container-id-1 div.sk-parallel-item:last-child::after {\n",
              "  align-self: flex-start;\n",
              "  width: 50%;\n",
              "}\n",
              "\n",
              "#sk-container-id-1 div.sk-parallel-item:only-child::after {\n",
              "  width: 0;\n",
              "}\n",
              "\n",
              "/* Serial-specific style estimator block */\n",
              "\n",
              "#sk-container-id-1 div.sk-serial {\n",
              "  display: flex;\n",
              "  flex-direction: column;\n",
              "  align-items: center;\n",
              "  background-color: var(--sklearn-color-background);\n",
              "  padding-right: 1em;\n",
              "  padding-left: 1em;\n",
              "}\n",
              "\n",
              "\n",
              "/* Toggleable style: style used for estimator/Pipeline/ColumnTransformer box that is\n",
              "clickable and can be expanded/collapsed.\n",
              "- Pipeline and ColumnTransformer use this feature and define the default style\n",
              "- Estimators will overwrite some part of the style using the `sk-estimator` class\n",
              "*/\n",
              "\n",
              "/* Pipeline and ColumnTransformer style (default) */\n",
              "\n",
              "#sk-container-id-1 div.sk-toggleable {\n",
              "  /* Default theme specific background. It is overwritten whether we have a\n",
              "  specific estimator or a Pipeline/ColumnTransformer */\n",
              "  background-color: var(--sklearn-color-background);\n",
              "}\n",
              "\n",
              "/* Toggleable label */\n",
              "#sk-container-id-1 label.sk-toggleable__label {\n",
              "  cursor: pointer;\n",
              "  display: flex;\n",
              "  width: 100%;\n",
              "  margin-bottom: 0;\n",
              "  padding: 0.5em;\n",
              "  box-sizing: border-box;\n",
              "  text-align: center;\n",
              "  align-items: start;\n",
              "  justify-content: space-between;\n",
              "  gap: 0.5em;\n",
              "}\n",
              "\n",
              "#sk-container-id-1 label.sk-toggleable__label .caption {\n",
              "  font-size: 0.6rem;\n",
              "  font-weight: lighter;\n",
              "  color: var(--sklearn-color-text-muted);\n",
              "}\n",
              "\n",
              "#sk-container-id-1 label.sk-toggleable__label-arrow:before {\n",
              "  /* Arrow on the left of the label */\n",
              "  content: \"▸\";\n",
              "  float: left;\n",
              "  margin-right: 0.25em;\n",
              "  color: var(--sklearn-color-icon);\n",
              "}\n",
              "\n",
              "#sk-container-id-1 label.sk-toggleable__label-arrow:hover:before {\n",
              "  color: var(--sklearn-color-text);\n",
              "}\n",
              "\n",
              "/* Toggleable content - dropdown */\n",
              "\n",
              "#sk-container-id-1 div.sk-toggleable__content {\n",
              "  max-height: 0;\n",
              "  max-width: 0;\n",
              "  overflow: hidden;\n",
              "  text-align: left;\n",
              "  /* unfitted */\n",
              "  background-color: var(--sklearn-color-unfitted-level-0);\n",
              "}\n",
              "\n",
              "#sk-container-id-1 div.sk-toggleable__content.fitted {\n",
              "  /* fitted */\n",
              "  background-color: var(--sklearn-color-fitted-level-0);\n",
              "}\n",
              "\n",
              "#sk-container-id-1 div.sk-toggleable__content pre {\n",
              "  margin: 0.2em;\n",
              "  border-radius: 0.25em;\n",
              "  color: var(--sklearn-color-text);\n",
              "  /* unfitted */\n",
              "  background-color: var(--sklearn-color-unfitted-level-0);\n",
              "}\n",
              "\n",
              "#sk-container-id-1 div.sk-toggleable__content.fitted pre {\n",
              "  /* unfitted */\n",
              "  background-color: var(--sklearn-color-fitted-level-0);\n",
              "}\n",
              "\n",
              "#sk-container-id-1 input.sk-toggleable__control:checked~div.sk-toggleable__content {\n",
              "  /* Expand drop-down */\n",
              "  max-height: 200px;\n",
              "  max-width: 100%;\n",
              "  overflow: auto;\n",
              "}\n",
              "\n",
              "#sk-container-id-1 input.sk-toggleable__control:checked~label.sk-toggleable__label-arrow:before {\n",
              "  content: \"▾\";\n",
              "}\n",
              "\n",
              "/* Pipeline/ColumnTransformer-specific style */\n",
              "\n",
              "#sk-container-id-1 div.sk-label input.sk-toggleable__control:checked~label.sk-toggleable__label {\n",
              "  color: var(--sklearn-color-text);\n",
              "  background-color: var(--sklearn-color-unfitted-level-2);\n",
              "}\n",
              "\n",
              "#sk-container-id-1 div.sk-label.fitted input.sk-toggleable__control:checked~label.sk-toggleable__label {\n",
              "  background-color: var(--sklearn-color-fitted-level-2);\n",
              "}\n",
              "\n",
              "/* Estimator-specific style */\n",
              "\n",
              "/* Colorize estimator box */\n",
              "#sk-container-id-1 div.sk-estimator input.sk-toggleable__control:checked~label.sk-toggleable__label {\n",
              "  /* unfitted */\n",
              "  background-color: var(--sklearn-color-unfitted-level-2);\n",
              "}\n",
              "\n",
              "#sk-container-id-1 div.sk-estimator.fitted input.sk-toggleable__control:checked~label.sk-toggleable__label {\n",
              "  /* fitted */\n",
              "  background-color: var(--sklearn-color-fitted-level-2);\n",
              "}\n",
              "\n",
              "#sk-container-id-1 div.sk-label label.sk-toggleable__label,\n",
              "#sk-container-id-1 div.sk-label label {\n",
              "  /* The background is the default theme color */\n",
              "  color: var(--sklearn-color-text-on-default-background);\n",
              "}\n",
              "\n",
              "/* On hover, darken the color of the background */\n",
              "#sk-container-id-1 div.sk-label:hover label.sk-toggleable__label {\n",
              "  color: var(--sklearn-color-text);\n",
              "  background-color: var(--sklearn-color-unfitted-level-2);\n",
              "}\n",
              "\n",
              "/* Label box, darken color on hover, fitted */\n",
              "#sk-container-id-1 div.sk-label.fitted:hover label.sk-toggleable__label.fitted {\n",
              "  color: var(--sklearn-color-text);\n",
              "  background-color: var(--sklearn-color-fitted-level-2);\n",
              "}\n",
              "\n",
              "/* Estimator label */\n",
              "\n",
              "#sk-container-id-1 div.sk-label label {\n",
              "  font-family: monospace;\n",
              "  font-weight: bold;\n",
              "  display: inline-block;\n",
              "  line-height: 1.2em;\n",
              "}\n",
              "\n",
              "#sk-container-id-1 div.sk-label-container {\n",
              "  text-align: center;\n",
              "}\n",
              "\n",
              "/* Estimator-specific */\n",
              "#sk-container-id-1 div.sk-estimator {\n",
              "  font-family: monospace;\n",
              "  border: 1px dotted var(--sklearn-color-border-box);\n",
              "  border-radius: 0.25em;\n",
              "  box-sizing: border-box;\n",
              "  margin-bottom: 0.5em;\n",
              "  /* unfitted */\n",
              "  background-color: var(--sklearn-color-unfitted-level-0);\n",
              "}\n",
              "\n",
              "#sk-container-id-1 div.sk-estimator.fitted {\n",
              "  /* fitted */\n",
              "  background-color: var(--sklearn-color-fitted-level-0);\n",
              "}\n",
              "\n",
              "/* on hover */\n",
              "#sk-container-id-1 div.sk-estimator:hover {\n",
              "  /* unfitted */\n",
              "  background-color: var(--sklearn-color-unfitted-level-2);\n",
              "}\n",
              "\n",
              "#sk-container-id-1 div.sk-estimator.fitted:hover {\n",
              "  /* fitted */\n",
              "  background-color: var(--sklearn-color-fitted-level-2);\n",
              "}\n",
              "\n",
              "/* Specification for estimator info (e.g. \"i\" and \"?\") */\n",
              "\n",
              "/* Common style for \"i\" and \"?\" */\n",
              "\n",
              ".sk-estimator-doc-link,\n",
              "a:link.sk-estimator-doc-link,\n",
              "a:visited.sk-estimator-doc-link {\n",
              "  float: right;\n",
              "  font-size: smaller;\n",
              "  line-height: 1em;\n",
              "  font-family: monospace;\n",
              "  background-color: var(--sklearn-color-background);\n",
              "  border-radius: 1em;\n",
              "  height: 1em;\n",
              "  width: 1em;\n",
              "  text-decoration: none !important;\n",
              "  margin-left: 0.5em;\n",
              "  text-align: center;\n",
              "  /* unfitted */\n",
              "  border: var(--sklearn-color-unfitted-level-1) 1pt solid;\n",
              "  color: var(--sklearn-color-unfitted-level-1);\n",
              "}\n",
              "\n",
              ".sk-estimator-doc-link.fitted,\n",
              "a:link.sk-estimator-doc-link.fitted,\n",
              "a:visited.sk-estimator-doc-link.fitted {\n",
              "  /* fitted */\n",
              "  border: var(--sklearn-color-fitted-level-1) 1pt solid;\n",
              "  color: var(--sklearn-color-fitted-level-1);\n",
              "}\n",
              "\n",
              "/* On hover */\n",
              "div.sk-estimator:hover .sk-estimator-doc-link:hover,\n",
              ".sk-estimator-doc-link:hover,\n",
              "div.sk-label-container:hover .sk-estimator-doc-link:hover,\n",
              ".sk-estimator-doc-link:hover {\n",
              "  /* unfitted */\n",
              "  background-color: var(--sklearn-color-unfitted-level-3);\n",
              "  color: var(--sklearn-color-background);\n",
              "  text-decoration: none;\n",
              "}\n",
              "\n",
              "div.sk-estimator.fitted:hover .sk-estimator-doc-link.fitted:hover,\n",
              ".sk-estimator-doc-link.fitted:hover,\n",
              "div.sk-label-container:hover .sk-estimator-doc-link.fitted:hover,\n",
              ".sk-estimator-doc-link.fitted:hover {\n",
              "  /* fitted */\n",
              "  background-color: var(--sklearn-color-fitted-level-3);\n",
              "  color: var(--sklearn-color-background);\n",
              "  text-decoration: none;\n",
              "}\n",
              "\n",
              "/* Span, style for the box shown on hovering the info icon */\n",
              ".sk-estimator-doc-link span {\n",
              "  display: none;\n",
              "  z-index: 9999;\n",
              "  position: relative;\n",
              "  font-weight: normal;\n",
              "  right: .2ex;\n",
              "  padding: .5ex;\n",
              "  margin: .5ex;\n",
              "  width: min-content;\n",
              "  min-width: 20ex;\n",
              "  max-width: 50ex;\n",
              "  color: var(--sklearn-color-text);\n",
              "  box-shadow: 2pt 2pt 4pt #999;\n",
              "  /* unfitted */\n",
              "  background: var(--sklearn-color-unfitted-level-0);\n",
              "  border: .5pt solid var(--sklearn-color-unfitted-level-3);\n",
              "}\n",
              "\n",
              ".sk-estimator-doc-link.fitted span {\n",
              "  /* fitted */\n",
              "  background: var(--sklearn-color-fitted-level-0);\n",
              "  border: var(--sklearn-color-fitted-level-3);\n",
              "}\n",
              "\n",
              ".sk-estimator-doc-link:hover span {\n",
              "  display: block;\n",
              "}\n",
              "\n",
              "/* \"?\"-specific style due to the `<a>` HTML tag */\n",
              "\n",
              "#sk-container-id-1 a.estimator_doc_link {\n",
              "  float: right;\n",
              "  font-size: 1rem;\n",
              "  line-height: 1em;\n",
              "  font-family: monospace;\n",
              "  background-color: var(--sklearn-color-background);\n",
              "  border-radius: 1rem;\n",
              "  height: 1rem;\n",
              "  width: 1rem;\n",
              "  text-decoration: none;\n",
              "  /* unfitted */\n",
              "  color: var(--sklearn-color-unfitted-level-1);\n",
              "  border: var(--sklearn-color-unfitted-level-1) 1pt solid;\n",
              "}\n",
              "\n",
              "#sk-container-id-1 a.estimator_doc_link.fitted {\n",
              "  /* fitted */\n",
              "  border: var(--sklearn-color-fitted-level-1) 1pt solid;\n",
              "  color: var(--sklearn-color-fitted-level-1);\n",
              "}\n",
              "\n",
              "/* On hover */\n",
              "#sk-container-id-1 a.estimator_doc_link:hover {\n",
              "  /* unfitted */\n",
              "  background-color: var(--sklearn-color-unfitted-level-3);\n",
              "  color: var(--sklearn-color-background);\n",
              "  text-decoration: none;\n",
              "}\n",
              "\n",
              "#sk-container-id-1 a.estimator_doc_link.fitted:hover {\n",
              "  /* fitted */\n",
              "  background-color: var(--sklearn-color-fitted-level-3);\n",
              "}\n",
              "</style><div id=\"sk-container-id-1\" class=\"sk-top-container\"><div class=\"sk-text-repr-fallback\"><pre>MultinomialNB()</pre><b>In a Jupyter environment, please rerun this cell to show the HTML representation or trust the notebook. <br />On GitHub, the HTML representation is unable to render, please try loading this page with nbviewer.org.</b></div><div class=\"sk-container\" hidden><div class=\"sk-item\"><div class=\"sk-estimator fitted sk-toggleable\"><input class=\"sk-toggleable__control sk-hidden--visually\" id=\"sk-estimator-id-1\" type=\"checkbox\" checked><label for=\"sk-estimator-id-1\" class=\"sk-toggleable__label fitted sk-toggleable__label-arrow\"><div><div>MultinomialNB</div></div><div><a class=\"sk-estimator-doc-link fitted\" rel=\"noreferrer\" target=\"_blank\" href=\"https://scikit-learn.org/1.6/modules/generated/sklearn.naive_bayes.MultinomialNB.html\">?<span>Documentation for MultinomialNB</span></a><span class=\"sk-estimator-doc-link fitted\">i<span>Fitted</span></span></div></label><div class=\"sk-toggleable__content fitted\"><pre>MultinomialNB()</pre></div> </div></div></div></div>"
            ]
          },
          "metadata": {},
          "execution_count": 30
        }
      ]
    },
    {
      "cell_type": "markdown",
      "source": [
        "**Evaluar el Modelo en el Conjunto de Prueba:**\n",
        "- `y_pred = model.predict(X_test_tfidf)`\n",
        "  - Esta línea de código utiliza el modelo entrenado para predecir las etiquetas de los documentos en el conjunto de prueba (`X_test_tfidf`). Las predicciones se almacenan en `y_pred`.\n",
        "\n",
        "- `print(\"Evaluación del modelo en el conjunto de prueba:\")`\n",
        "  - Aquí se imprime un mensaje indicando que comienza la evaluación del modelo en el conjunto de prueba.\n",
        "\n",
        "- `print(classification_report(y_test, y_pred, target_names=newsgroups.target_names))`\n",
        "  - Esta línea genera e imprime un informe de clasificación que muestra las métricas de rendimiento del modelo, como precisión, recall y F1-score, para cada una de las categorías del conjunto de datos 20 Newsgroups. El informe utiliza las etiquetas verdaderas (`y_test`) y las etiquetas predichas (`y_pred`), y se organiza con nombres de las categorías (`target_names`)."
      ],
      "metadata": {
        "id": "vE8G89HgOal_"
      }
    },
    {
      "cell_type": "code",
      "source": [
        "# Evaluar el modelo en el conjunto de prueba\n",
        "y_pred = model.predict(X_test_tfidf)\n",
        "print(\"Evaluación del modelo en el conjunto de prueba:\")\n",
        "print(classification_report(y_test, y_pred, target_names=newsgroups.target_names))"
      ],
      "metadata": {
        "colab": {
          "base_uri": "https://localhost:8080/"
        },
        "id": "pLIvk-EKK13Q",
        "outputId": "b1132187-3b7c-417b-f990-09b54aa5c958"
      },
      "execution_count": 31,
      "outputs": [
        {
          "output_type": "stream",
          "name": "stdout",
          "text": [
            "Evaluación del modelo en el conjunto de prueba:\n",
            "                          precision    recall  f1-score   support\n",
            "\n",
            "             alt.atheism       0.64      0.36      0.46        80\n",
            "           comp.graphics       0.69      0.70      0.70        97\n",
            " comp.os.ms-windows.misc       0.68      0.55      0.60        99\n",
            "comp.sys.ibm.pc.hardware       0.60      0.76      0.67        98\n",
            "   comp.sys.mac.hardware       0.75      0.66      0.70        96\n",
            "          comp.windows.x       0.78      0.82      0.80        99\n",
            "            misc.forsale       0.84      0.69      0.76        98\n",
            "               rec.autos       0.66      0.71      0.68        99\n",
            "         rec.motorcycles       0.80      0.59      0.68       100\n",
            "      rec.sport.baseball       0.83      0.79      0.81        99\n",
            "        rec.sport.hockey       0.55      0.87      0.67       100\n",
            "               sci.crypt       0.78      0.78      0.78        99\n",
            "         sci.electronics       0.72      0.68      0.70        98\n",
            "                 sci.med       0.76      0.79      0.78        99\n",
            "               sci.space       0.86      0.79      0.82        99\n",
            "  soc.religion.christian       0.44      0.87      0.58       100\n",
            "      talk.politics.guns       0.64      0.85      0.73        91\n",
            "   talk.politics.mideast       0.76      0.79      0.77        94\n",
            "      talk.politics.misc       0.76      0.32      0.45        77\n",
            "      talk.religion.misc       0.67      0.03      0.06        63\n",
            "\n",
            "                accuracy                           0.69      1885\n",
            "               macro avg       0.71      0.67      0.66      1885\n",
            "            weighted avg       0.71      0.69      0.68      1885\n",
            "\n"
          ]
        }
      ]
    },
    {
      "cell_type": "markdown",
      "source": [
        "Si bien el rendimiento del modelo no es excepcional, en otra versión del código se utilizó Gradient Boosting y por el volumen de los datos el entrenamiento fue muy lento. Este proceso es identico o muy similar a la hora de usar otros modelos como los usados en el punto anterior, así que con algo más de potencia computacional y tiempo se podría usar una arquitectura diferente para mejorar resultados."
      ],
      "metadata": {
        "id": "UnWxjC8zOeKq"
      }
    },
    {
      "cell_type": "markdown",
      "metadata": {
        "id": "jWcVFW0DHD5t"
      },
      "source": [
        "#4. Modelos geenrados con LSTM para generar texto (extensión del notebook visto en clase de LSTM)"
      ]
    },
    {
      "cell_type": "markdown",
      "source": [
        "**Cargar Texto ASCII y Convertir a Minúsculas:**\n",
        "\n",
        "- `filename = \"wonderland.txt\"`\n",
        "  - Esta línea de código define el nombre del archivo que contiene el texto ASCII. En este caso, el archivo es \"wonderland.txt\".\n",
        "\n",
        "- `raw_text = open(filename, 'r', encoding='utf-8').read()`\n",
        "  - Aquí, el archivo especificado se abre en modo de lectura (`'r'`) con codificación UTF-8. Luego, el contenido del archivo se lee completamente y se almacena en la variable `raw_text`.\n",
        "\n",
        "- `raw_text = raw_text.lower()`\n",
        "  - Finalmente, todo el texto almacenado en `raw_text` se convierte a minúsculas para asegurar uniformidad en el procesamiento posterior. Esto es útil para evitar diferencias entre mayúsculas y minúsculas durante el análisis y generación de texto."
      ],
      "metadata": {
        "id": "qzhtdxWRSQKT"
      }
    },
    {
      "cell_type": "code",
      "execution_count": 49,
      "metadata": {
        "id": "fsJx3J5FFSlj"
      },
      "outputs": [],
      "source": [
        "# load ascii text and covert to lowercase\n",
        "filename = \"wonderland.txt\"\n",
        "raw_text = open(filename, 'r', encoding='utf-8').read()\n",
        "raw_text = raw_text.lower()"
      ]
    },
    {
      "cell_type": "markdown",
      "source": [
        "**Crear Mapeo de Caracteres Únicos a Enteros:**\n",
        "\n",
        "- `chars = sorted(list(set(raw_text)))`\n",
        "  - Esta línea de código identifica todos los caracteres únicos en el texto `raw_text`. Primero, convierte el texto en un conjunto (`set`) para eliminar duplicados, luego convierte el conjunto a una lista (`list`) y la ordena alfabéticamente (`sorted`). El resultado es una lista de caracteres únicos ordenados que se almacena en la variable `chars`.\n",
        "\n",
        "- `char_to_int = dict((c, i) for i, c in enumerate(chars))`\n",
        "  - Aquí, se crea un diccionario `char_to_int` que mapea cada carácter único (`c`) a un entero (`i`). La función `enumerate(chars)` asigna un índice a cada carácter en la lista `chars`, y el diccionario se construye mediante una comprensión de diccionario, asignando cada carácter a su correspondiente índice. Este mapeo es útil para convertir caracteres en representaciones numéricas que pueden ser procesadas por el modelo LSTM.\n"
      ],
      "metadata": {
        "id": "HXWfZNncSUTX"
      }
    },
    {
      "cell_type": "code",
      "source": [
        "# create mapping of unique chars to integers\n",
        "chars = sorted(list(set(raw_text)))\n",
        "char_to_int = dict((c, i) for i, c in enumerate(chars))"
      ],
      "metadata": {
        "id": "KopnqFkyPk70"
      },
      "execution_count": 50,
      "outputs": []
    },
    {
      "cell_type": "markdown",
      "source": [
        "**Calcular el Número Total de Caracteres y el Tamaño del Vocabulario:**\n",
        "\n",
        "- `n_chars = len(raw_text)`\n",
        "  - Esta línea de código calcula el número total de caracteres en el texto `raw_text` y almacena ese valor en la variable `n_chars`.\n",
        "\n",
        "- `n_vocab = len(chars)`\n",
        "  - Aquí, se calcula el tamaño del vocabulario, es decir, el número de caracteres únicos en la lista `chars`, y se almacena en la variable `n_vocab`.\n",
        "\n",
        "- `print(\"Total Characters: \", n_chars)`\n",
        "  - Esta línea imprime el total de caracteres en el texto.\n",
        "\n",
        "- `print(\"Total Vocab: \", n_vocab)`\n",
        "  - Finalmente, esta línea imprime el tamaño del vocabulario, mostrando cuántos caracteres únicos hay en el texto.\n",
        "\n",
        "Este proceso ayuda a tener una visión general de la cantidad de datos y la diversidad de caracteres en el texto, lo cual es crucial para tareas de generación de texto."
      ],
      "metadata": {
        "id": "5pWQneD5SaOd"
      }
    },
    {
      "cell_type": "code",
      "source": [
        "n_chars = len(raw_text)\n",
        "n_vocab = len(chars)\n",
        "print(\"Total Characters: \", n_chars)\n",
        "print(\"Total Vocab: \", n_vocab)"
      ],
      "metadata": {
        "colab": {
          "base_uri": "https://localhost:8080/"
        },
        "id": "L_aG75pLPk9f",
        "outputId": "bf64b1b8-cd66-4ec7-876f-92d082782fd9"
      },
      "execution_count": 51,
      "outputs": [
        {
          "output_type": "stream",
          "name": "stdout",
          "text": [
            "Total Characters:  163919\n",
            "Total Vocab:  65\n"
          ]
        }
      ]
    },
    {
      "cell_type": "markdown",
      "source": [
        "**Preparar el Conjunto de Datos de Pares de Entrada y Salida Codificados como Enteros:**\n",
        "\n",
        "- `seq_length = 100`\n",
        "  - Define la longitud de las secuencias de entrada (`seq_length`) como 100 caracteres.\n",
        "\n",
        "- `dataX = []` y `dataY = []`\n",
        "  - Inicializa dos listas vacías, `dataX` y `dataY`, para almacenar las secuencias de entrada y sus correspondientes salidas, respectivamente.\n",
        "\n",
        "- Bucle `for`:\n",
        "  ```python\n",
        "  for i in range(0, n_chars - seq_length, 1):\n",
        "      seq_in = raw_text[i:i + seq_length]\n",
        "      seq_out = raw_text[i + seq_length]\n",
        "      dataX.append([char_to_int[char] for char in seq_in])\n",
        "      dataY.append(char_to_int[seq_out])\n",
        "  ```\n",
        "  - Este bucle recorre el texto `raw_text` desde el primer carácter hasta el final menos la longitud de la secuencia (`n_chars - seq_length`), con un paso de 1.\n",
        "  - `seq_in = raw_text[i:i + seq_length]` extrae una secuencia de `seq_length` caracteres del texto de entrada.\n",
        "  - `seq_out = raw_text[i + seq_length]` extrae el carácter que sigue inmediatamente a la secuencia de entrada.\n",
        "  - `dataX.append([char_to_int[char] for char in seq_in])` convierte cada carácter de la secuencia de entrada en su representación numérica y lo añade a la lista `dataX`.\n",
        "  - `dataY.append(char_to_int[seq_out])` convierte el carácter de salida en su representación numérica y lo añade a la lista `dataY`.\n",
        "\n",
        "- `n_patterns = len(dataX)`\n",
        "  - Calcula el número total de patrones (pares de entrada y salida) generados y lo almacena en `n_patterns`.\n",
        "\n",
        "- `print(\"Total Patterns: \", n_patterns)`\n",
        "  - Imprime el número total de patrones generados.\n",
        "\n",
        "Este código prepara el conjunto de datos para entrenamiento del modelo LSTM, donde cada secuencia de entrada de 100 caracteres está asociada con un carácter de salida, todos codificados como enteros."
      ],
      "metadata": {
        "id": "_l0jKXiPSgiP"
      }
    },
    {
      "cell_type": "code",
      "source": [
        "# prepare the dataset of input to output pairs encoded as integers\n",
        "seq_length = 100\n",
        "dataX = []\n",
        "dataY = []\n",
        "for i in range(0, n_chars - seq_length, 1):\n",
        "\tseq_in = raw_text[i:i + seq_length]\n",
        "\tseq_out = raw_text[i + seq_length]\n",
        "\tdataX.append([char_to_int[char] for char in seq_in])\n",
        "\tdataY.append(char_to_int[seq_out])\n",
        "n_patterns = len(dataX)\n",
        "print(\"Total Patterns: \", n_patterns)"
      ],
      "metadata": {
        "colab": {
          "base_uri": "https://localhost:8080/"
        },
        "id": "0RcPBS97PnhG",
        "outputId": "236960bf-1657-4fc5-d2b5-51783d67a51f"
      },
      "execution_count": 52,
      "outputs": [
        {
          "output_type": "stream",
          "name": "stdout",
          "text": [
            "Total Patterns:  163819\n"
          ]
        }
      ]
    },
    {
      "cell_type": "markdown",
      "source": [
        "**Reformatear `X` para que sea [samples, time steps, features]:**\n",
        "- `X = np.reshape(dataX, (n_patterns, seq_length, 1))`\n",
        "  - Esta línea de código convierte la lista `dataX` en un arreglo NumPy con las dimensiones adecuadas para entrenar el modelo LSTM. La forma del arreglo es `(n_patterns, seq_length, 1)`, donde `n_patterns` es el número de secuencias, `seq_length` es la longitud de cada secuencia, y `1` indica que cada característica es un valor escalar.\n",
        "\n",
        "**Normalizar `X`:**\n",
        "- `X = X / float(n_vocab)`\n",
        "  - Aquí, cada valor en `X` se divide por `n_vocab`, el tamaño del vocabulario, para normalizar los valores entre 0 y 1. Esta normalización ayuda a mejorar la convergencia del modelo durante el entrenamiento.\n",
        "\n",
        "**Codificar la Variable de Salida con One-Hot Encoding:**\n",
        "- `y = to_categorical(dataY)`\n",
        "  - Esta línea convierte la lista `dataY`, que contiene las etiquetas de salida como enteros, en una representación one-hot encoded usando la función `to_categorical`. Esto transforma `y` en una matriz binaria donde cada fila corresponde a una etiqueta de salida con un único `1` en la posición de la categoría correcta y `0` en todas las demás posiciones. Esta representación es necesaria para la salida `softmax` del modelo LSTM."
      ],
      "metadata": {
        "id": "kbnI7UjnSpYX"
      }
    },
    {
      "cell_type": "code",
      "source": [
        "# reshape X to be [samples, time steps, features]\n",
        "X = np.reshape(dataX, (n_patterns, seq_length, 1))\n",
        "# normalize\n",
        "X = X / float(n_vocab)\n",
        "# one hot encode the output variable\n",
        "y = to_categorical(dataY)"
      ],
      "metadata": {
        "id": "hXzn6QS3Prge"
      },
      "execution_count": 53,
      "outputs": []
    },
    {
      "cell_type": "markdown",
      "source": [
        "**Modelo LSTM Mejorado:**\n",
        "\n",
        "1. **Inicializar el Modelo:**\n",
        "   - Se crea un modelo secuencial de Keras.\n",
        "\n",
        "2. **Primera Capa LSTM:**\n",
        "   - Se añade una capa LSTM con 256 unidades que devuelve secuencias completas (`return_sequences=True`). La entrada tiene una forma específica (longitud de la secuencia y número de características).\n",
        "\n",
        "3. **Primera Capa de Dropout:**\n",
        "   - Añade una capa de Dropout con una tasa de 0.2 para prevenir el sobreajuste.\n",
        "\n",
        "4. **Segunda Capa LSTM:**\n",
        "   - Se añade otra capa LSTM con 256 unidades para captar patrones más complejos.\n",
        "\n",
        "5. **Segunda Capa de Dropout:**\n",
        "   - Añade otra capa de Dropout con una tasa de 0.2.\n",
        "\n",
        "6. **Capa de Salida Dense:**\n",
        "   - Se agrega una capa de salida con activación `softmax` para producir una distribución de probabilidad sobre las clases posibles.\n",
        "\n",
        "7. **Compilar el Modelo:**\n",
        "   - El modelo se compila usando `categorical_crossentropy` como función de pérdida y `adam` como optimizador.\n",
        "\n",
        "8. **Resumen del Modelo:**\n",
        "   - Se muestra un resumen de la arquitectura del modelo, incluyendo el número de parámetros y las formas de las capas.\n",
        "\n",
        "Este modelo debería ofrecer una capacidad mejorada para aprender y generalizar patrones en los datos de texto."
      ],
      "metadata": {
        "id": "W6VpKMBBdHd8"
      }
    },
    {
      "cell_type": "code",
      "source": [
        "# Modelo mejorado\n",
        "model = Sequential()\n",
        "model.add(LSTM(256, input_shape=(X.shape[1], X.shape[2]), return_sequences=True))\n",
        "model.add(Dropout(0.2))\n",
        "model.add(LSTM(256))\n",
        "model.add(Dropout(0.2))\n",
        "model.add(Dense(y.shape[1], activation='softmax'))\n",
        "model.compile(loss='categorical_crossentropy', optimizer='adam')\n",
        "\n",
        "print(model.summary())"
      ],
      "metadata": {
        "colab": {
          "base_uri": "https://localhost:8080/",
          "height": 323
        },
        "id": "EalSivSGPtRJ",
        "outputId": "e26728a6-a44e-4a9a-a1c4-d08c7cc350f7"
      },
      "execution_count": 54,
      "outputs": [
        {
          "output_type": "display_data",
          "data": {
            "text/plain": [
              "\u001b[1mModel: \"sequential_5\"\u001b[0m\n"
            ],
            "text/html": [
              "<pre style=\"white-space:pre;overflow-x:auto;line-height:normal;font-family:Menlo,'DejaVu Sans Mono',consolas,'Courier New',monospace\"><span style=\"font-weight: bold\">Model: \"sequential_5\"</span>\n",
              "</pre>\n"
            ]
          },
          "metadata": {}
        },
        {
          "output_type": "display_data",
          "data": {
            "text/plain": [
              "┏━━━━━━━━━━━━━━━━━━━━━━━━━━━━━━━━━━━━━━┳━━━━━━━━━━━━━━━━━━━━━━━━━━━━━┳━━━━━━━━━━━━━━━━━┓\n",
              "┃\u001b[1m \u001b[0m\u001b[1mLayer (type)                        \u001b[0m\u001b[1m \u001b[0m┃\u001b[1m \u001b[0m\u001b[1mOutput Shape               \u001b[0m\u001b[1m \u001b[0m┃\u001b[1m \u001b[0m\u001b[1m        Param #\u001b[0m\u001b[1m \u001b[0m┃\n",
              "┡━━━━━━━━━━━━━━━━━━━━━━━━━━━━━━━━━━━━━━╇━━━━━━━━━━━━━━━━━━━━━━━━━━━━━╇━━━━━━━━━━━━━━━━━┩\n",
              "│ lstm_7 (\u001b[38;5;33mLSTM\u001b[0m)                        │ (\u001b[38;5;45mNone\u001b[0m, \u001b[38;5;34m100\u001b[0m, \u001b[38;5;34m256\u001b[0m)            │         \u001b[38;5;34m264,192\u001b[0m │\n",
              "├──────────────────────────────────────┼─────────────────────────────┼─────────────────┤\n",
              "│ dropout_6 (\u001b[38;5;33mDropout\u001b[0m)                  │ (\u001b[38;5;45mNone\u001b[0m, \u001b[38;5;34m100\u001b[0m, \u001b[38;5;34m256\u001b[0m)            │               \u001b[38;5;34m0\u001b[0m │\n",
              "├──────────────────────────────────────┼─────────────────────────────┼─────────────────┤\n",
              "│ lstm_8 (\u001b[38;5;33mLSTM\u001b[0m)                        │ (\u001b[38;5;45mNone\u001b[0m, \u001b[38;5;34m256\u001b[0m)                 │         \u001b[38;5;34m525,312\u001b[0m │\n",
              "├──────────────────────────────────────┼─────────────────────────────┼─────────────────┤\n",
              "│ dropout_7 (\u001b[38;5;33mDropout\u001b[0m)                  │ (\u001b[38;5;45mNone\u001b[0m, \u001b[38;5;34m256\u001b[0m)                 │               \u001b[38;5;34m0\u001b[0m │\n",
              "├──────────────────────────────────────┼─────────────────────────────┼─────────────────┤\n",
              "│ dense_4 (\u001b[38;5;33mDense\u001b[0m)                      │ (\u001b[38;5;45mNone\u001b[0m, \u001b[38;5;34m64\u001b[0m)                  │          \u001b[38;5;34m16,448\u001b[0m │\n",
              "└──────────────────────────────────────┴─────────────────────────────┴─────────────────┘\n"
            ],
            "text/html": [
              "<pre style=\"white-space:pre;overflow-x:auto;line-height:normal;font-family:Menlo,'DejaVu Sans Mono',consolas,'Courier New',monospace\">┏━━━━━━━━━━━━━━━━━━━━━━━━━━━━━━━━━━━━━━┳━━━━━━━━━━━━━━━━━━━━━━━━━━━━━┳━━━━━━━━━━━━━━━━━┓\n",
              "┃<span style=\"font-weight: bold\"> Layer (type)                         </span>┃<span style=\"font-weight: bold\"> Output Shape                </span>┃<span style=\"font-weight: bold\">         Param # </span>┃\n",
              "┡━━━━━━━━━━━━━━━━━━━━━━━━━━━━━━━━━━━━━━╇━━━━━━━━━━━━━━━━━━━━━━━━━━━━━╇━━━━━━━━━━━━━━━━━┩\n",
              "│ lstm_7 (<span style=\"color: #0087ff; text-decoration-color: #0087ff\">LSTM</span>)                        │ (<span style=\"color: #00d7ff; text-decoration-color: #00d7ff\">None</span>, <span style=\"color: #00af00; text-decoration-color: #00af00\">100</span>, <span style=\"color: #00af00; text-decoration-color: #00af00\">256</span>)            │         <span style=\"color: #00af00; text-decoration-color: #00af00\">264,192</span> │\n",
              "├──────────────────────────────────────┼─────────────────────────────┼─────────────────┤\n",
              "│ dropout_6 (<span style=\"color: #0087ff; text-decoration-color: #0087ff\">Dropout</span>)                  │ (<span style=\"color: #00d7ff; text-decoration-color: #00d7ff\">None</span>, <span style=\"color: #00af00; text-decoration-color: #00af00\">100</span>, <span style=\"color: #00af00; text-decoration-color: #00af00\">256</span>)            │               <span style=\"color: #00af00; text-decoration-color: #00af00\">0</span> │\n",
              "├──────────────────────────────────────┼─────────────────────────────┼─────────────────┤\n",
              "│ lstm_8 (<span style=\"color: #0087ff; text-decoration-color: #0087ff\">LSTM</span>)                        │ (<span style=\"color: #00d7ff; text-decoration-color: #00d7ff\">None</span>, <span style=\"color: #00af00; text-decoration-color: #00af00\">256</span>)                 │         <span style=\"color: #00af00; text-decoration-color: #00af00\">525,312</span> │\n",
              "├──────────────────────────────────────┼─────────────────────────────┼─────────────────┤\n",
              "│ dropout_7 (<span style=\"color: #0087ff; text-decoration-color: #0087ff\">Dropout</span>)                  │ (<span style=\"color: #00d7ff; text-decoration-color: #00d7ff\">None</span>, <span style=\"color: #00af00; text-decoration-color: #00af00\">256</span>)                 │               <span style=\"color: #00af00; text-decoration-color: #00af00\">0</span> │\n",
              "├──────────────────────────────────────┼─────────────────────────────┼─────────────────┤\n",
              "│ dense_4 (<span style=\"color: #0087ff; text-decoration-color: #0087ff\">Dense</span>)                      │ (<span style=\"color: #00d7ff; text-decoration-color: #00d7ff\">None</span>, <span style=\"color: #00af00; text-decoration-color: #00af00\">64</span>)                  │          <span style=\"color: #00af00; text-decoration-color: #00af00\">16,448</span> │\n",
              "└──────────────────────────────────────┴─────────────────────────────┴─────────────────┘\n",
              "</pre>\n"
            ]
          },
          "metadata": {}
        },
        {
          "output_type": "display_data",
          "data": {
            "text/plain": [
              "\u001b[1m Total params: \u001b[0m\u001b[38;5;34m805,952\u001b[0m (3.07 MB)\n"
            ],
            "text/html": [
              "<pre style=\"white-space:pre;overflow-x:auto;line-height:normal;font-family:Menlo,'DejaVu Sans Mono',consolas,'Courier New',monospace\"><span style=\"font-weight: bold\"> Total params: </span><span style=\"color: #00af00; text-decoration-color: #00af00\">805,952</span> (3.07 MB)\n",
              "</pre>\n"
            ]
          },
          "metadata": {}
        },
        {
          "output_type": "display_data",
          "data": {
            "text/plain": [
              "\u001b[1m Trainable params: \u001b[0m\u001b[38;5;34m805,952\u001b[0m (3.07 MB)\n"
            ],
            "text/html": [
              "<pre style=\"white-space:pre;overflow-x:auto;line-height:normal;font-family:Menlo,'DejaVu Sans Mono',consolas,'Courier New',monospace\"><span style=\"font-weight: bold\"> Trainable params: </span><span style=\"color: #00af00; text-decoration-color: #00af00\">805,952</span> (3.07 MB)\n",
              "</pre>\n"
            ]
          },
          "metadata": {}
        },
        {
          "output_type": "display_data",
          "data": {
            "text/plain": [
              "\u001b[1m Non-trainable params: \u001b[0m\u001b[38;5;34m0\u001b[0m (0.00 B)\n"
            ],
            "text/html": [
              "<pre style=\"white-space:pre;overflow-x:auto;line-height:normal;font-family:Menlo,'DejaVu Sans Mono',consolas,'Courier New',monospace\"><span style=\"font-weight: bold\"> Non-trainable params: </span><span style=\"color: #00af00; text-decoration-color: #00af00\">0</span> (0.00 B)\n",
              "</pre>\n"
            ]
          },
          "metadata": {}
        },
        {
          "output_type": "stream",
          "name": "stdout",
          "text": [
            "None\n"
          ]
        }
      ]
    },
    {
      "cell_type": "markdown",
      "source": [
        "**Definir el Checkpoint:**\n",
        "\n",
        "- `filepath=\"weights-improvement-{epoch:02d}-{loss:.4f}.keras\"`\n",
        "  - Esta línea define el patrón de nombre para los archivos de checkpoint que se guardarán. El nombre del archivo incluirá el número de época (`epoch`) y la pérdida (`loss`) con cuatro decimales de precisión. Por ejemplo, un archivo podría llamarse \"weights-improvement-01-0.1234.keras\".\n",
        "\n",
        "- `checkpoint = ModelCheckpoint(filepath, monitor='loss', verbose=1, save_best_only=True, mode='min')`\n",
        "  - Aquí se crea un callback `ModelCheckpoint` que guardará el modelo en el archivo definido por `filepath`. Este callback monitorea la métrica de `loss` (pérdida), y guardará el modelo solo cuando se observe una mejora en la pérdida mínima (`mode='min'`). El parámetro `verbose=1` asegura que se imprima información sobre cada checkpoint guardado.\n",
        "\n",
        "- `callbacks_list = [checkpoint]`\n",
        "  - Finalmente, se crea una lista de callbacks que incluye el checkpoint definido. Esta lista puede ser pasada al método de entrenamiento del modelo (`model.fit`) para habilitar el guardado automático del modelo durante el entrenamiento.\n",
        "\n",
        "Este proceso permite guardar los pesos del modelo en cada época donde se observa una mejora en la pérdida, asegurando que siempre se conserve la mejor versión del modelo durante el entrenamiento."
      ],
      "metadata": {
        "id": "iwBDPgYgTens"
      }
    },
    {
      "cell_type": "code",
      "source": [
        "# define the checkpoint\n",
        "filepath=\"weights-improvement-{epoch:02d}-{loss:.4f}.keras\"\n",
        "checkpoint = ModelCheckpoint(filepath, monitor='loss', verbose=1, save_best_only=True, mode='min')\n",
        "callbacks_list = [checkpoint]"
      ],
      "metadata": {
        "id": "mOelevUiP2Gk"
      },
      "execution_count": 55,
      "outputs": []
    },
    {
      "cell_type": "markdown",
      "source": [
        "**Entrenar el Modelo LSTM:**\n",
        "\n",
        "- `model.fit(X, y, epochs=20, batch_size=128, callbacks=callbacks_list)`\n",
        "  - Esta línea de código entrena el modelo LSTM utilizando los datos de entrada `X` y las etiquetas `y`.\n",
        "  - `epochs=20` especifica que el modelo se entrenará durante 20 épocas.\n",
        "  - `batch_size=128` indica que el tamaño del lote para el entrenamiento será de 128 muestras.\n",
        "  - `callbacks=callbacks_list` incluye la lista de callbacks que hemos definido, en este caso, el checkpoint. Esto asegura que el modelo guarde los pesos que mejoran la pérdida durante el entrenamiento.\n",
        "\n",
        "Este proceso inicia el entrenamiento del modelo LSTM, ajustando sus pesos con los datos de entrenamiento a lo largo de las épocas especificadas y utilizando los callbacks para guardar el mejor modelo basado en la métrica de pérdida."
      ],
      "metadata": {
        "id": "5wHsaQZuTk_x"
      }
    },
    {
      "cell_type": "code",
      "source": [
        "model.fit(X, y, epochs=20, batch_size=128, callbacks=callbacks_list)"
      ],
      "metadata": {
        "colab": {
          "base_uri": "https://localhost:8080/"
        },
        "id": "nuXSaWyjP5VY",
        "outputId": "a27013d5-864d-49d5-f31a-ba7b35d02eab"
      },
      "execution_count": 56,
      "outputs": [
        {
          "output_type": "stream",
          "name": "stdout",
          "text": [
            "Epoch 1/20\n",
            "\u001b[1m1280/1280\u001b[0m \u001b[32m━━━━━━━━━━━━━━━━━━━━\u001b[0m\u001b[37m\u001b[0m \u001b[1m0s\u001b[0m 31ms/step - loss: 3.0820\n",
            "Epoch 1: loss improved from inf to 2.96101, saving model to weights-improvement-01-2.9610.keras\n",
            "\u001b[1m1280/1280\u001b[0m \u001b[32m━━━━━━━━━━━━━━━━━━━━\u001b[0m\u001b[37m\u001b[0m \u001b[1m41s\u001b[0m 31ms/step - loss: 3.0819\n",
            "Epoch 2/20\n",
            "\u001b[1m1280/1280\u001b[0m \u001b[32m━━━━━━━━━━━━━━━━━━━━\u001b[0m\u001b[37m\u001b[0m \u001b[1m0s\u001b[0m 31ms/step - loss: 2.7178\n",
            "Epoch 2: loss improved from 2.96101 to 2.67133, saving model to weights-improvement-02-2.6713.keras\n",
            "\u001b[1m1280/1280\u001b[0m \u001b[32m━━━━━━━━━━━━━━━━━━━━\u001b[0m\u001b[37m\u001b[0m \u001b[1m42s\u001b[0m 31ms/step - loss: 2.7177\n",
            "Epoch 3/20\n",
            "\u001b[1m1279/1280\u001b[0m \u001b[32m━━━━━━━━━━━━━━━━━━━\u001b[0m\u001b[37m━\u001b[0m \u001b[1m0s\u001b[0m 30ms/step - loss: 2.5424\n",
            "Epoch 3: loss improved from 2.67133 to 2.51534, saving model to weights-improvement-03-2.5153.keras\n",
            "\u001b[1m1280/1280\u001b[0m \u001b[32m━━━━━━━━━━━━━━━━━━━━\u001b[0m\u001b[37m\u001b[0m \u001b[1m39s\u001b[0m 30ms/step - loss: 2.5424\n",
            "Epoch 4/20\n",
            "\u001b[1m1279/1280\u001b[0m \u001b[32m━━━━━━━━━━━━━━━━━━━\u001b[0m\u001b[37m━\u001b[0m \u001b[1m0s\u001b[0m 30ms/step - loss: 2.4103\n",
            "Epoch 4: loss improved from 2.51534 to 2.38243, saving model to weights-improvement-04-2.3824.keras\n",
            "\u001b[1m1280/1280\u001b[0m \u001b[32m━━━━━━━━━━━━━━━━━━━━\u001b[0m\u001b[37m\u001b[0m \u001b[1m39s\u001b[0m 30ms/step - loss: 2.4102\n",
            "Epoch 5/20\n",
            "\u001b[1m1279/1280\u001b[0m \u001b[32m━━━━━━━━━━━━━━━━━━━\u001b[0m\u001b[37m━\u001b[0m \u001b[1m0s\u001b[0m 30ms/step - loss: 2.2917\n",
            "Epoch 5: loss improved from 2.38243 to 2.27198, saving model to weights-improvement-05-2.2720.keras\n",
            "\u001b[1m1280/1280\u001b[0m \u001b[32m━━━━━━━━━━━━━━━━━━━━\u001b[0m\u001b[37m\u001b[0m \u001b[1m41s\u001b[0m 30ms/step - loss: 2.2917\n",
            "Epoch 6/20\n",
            "\u001b[1m1279/1280\u001b[0m \u001b[32m━━━━━━━━━━━━━━━━━━━\u001b[0m\u001b[37m━\u001b[0m \u001b[1m0s\u001b[0m 30ms/step - loss: 2.1964\n",
            "Epoch 6: loss improved from 2.27198 to 2.18331, saving model to weights-improvement-06-2.1833.keras\n",
            "\u001b[1m1280/1280\u001b[0m \u001b[32m━━━━━━━━━━━━━━━━━━━━\u001b[0m\u001b[37m\u001b[0m \u001b[1m41s\u001b[0m 30ms/step - loss: 2.1964\n",
            "Epoch 7/20\n",
            "\u001b[1m1279/1280\u001b[0m \u001b[32m━━━━━━━━━━━━━━━━━━━\u001b[0m\u001b[37m━\u001b[0m \u001b[1m0s\u001b[0m 30ms/step - loss: 2.1170\n",
            "Epoch 7: loss improved from 2.18331 to 2.10529, saving model to weights-improvement-07-2.1053.keras\n",
            "\u001b[1m1280/1280\u001b[0m \u001b[32m━━━━━━━━━━━━━━━━━━━━\u001b[0m\u001b[37m\u001b[0m \u001b[1m41s\u001b[0m 30ms/step - loss: 2.1170\n",
            "Epoch 8/20\n",
            "\u001b[1m1279/1280\u001b[0m \u001b[32m━━━━━━━━━━━━━━━━━━━\u001b[0m\u001b[37m━\u001b[0m \u001b[1m0s\u001b[0m 30ms/step - loss: 2.0473\n",
            "Epoch 8: loss improved from 2.10529 to 2.04448, saving model to weights-improvement-08-2.0445.keras\n",
            "\u001b[1m1280/1280\u001b[0m \u001b[32m━━━━━━━━━━━━━━━━━━━━\u001b[0m\u001b[37m\u001b[0m \u001b[1m41s\u001b[0m 30ms/step - loss: 2.0473\n",
            "Epoch 9/20\n",
            "\u001b[1m1280/1280\u001b[0m \u001b[32m━━━━━━━━━━━━━━━━━━━━\u001b[0m\u001b[37m\u001b[0m \u001b[1m0s\u001b[0m 30ms/step - loss: 1.9973\n",
            "Epoch 9: loss improved from 2.04448 to 1.99267, saving model to weights-improvement-09-1.9927.keras\n",
            "\u001b[1m1280/1280\u001b[0m \u001b[32m━━━━━━━━━━━━━━━━━━━━\u001b[0m\u001b[37m\u001b[0m \u001b[1m41s\u001b[0m 30ms/step - loss: 1.9973\n",
            "Epoch 10/20\n",
            "\u001b[1m1280/1280\u001b[0m \u001b[32m━━━━━━━━━━━━━━━━━━━━\u001b[0m\u001b[37m\u001b[0m \u001b[1m0s\u001b[0m 30ms/step - loss: 1.9457\n",
            "Epoch 10: loss improved from 1.99267 to 1.94584, saving model to weights-improvement-10-1.9458.keras\n",
            "\u001b[1m1280/1280\u001b[0m \u001b[32m━━━━━━━━━━━━━━━━━━━━\u001b[0m\u001b[37m\u001b[0m \u001b[1m41s\u001b[0m 30ms/step - loss: 1.9457\n",
            "Epoch 11/20\n",
            "\u001b[1m1280/1280\u001b[0m \u001b[32m━━━━━━━━━━━━━━━━━━━━\u001b[0m\u001b[37m\u001b[0m \u001b[1m0s\u001b[0m 30ms/step - loss: 1.9027\n",
            "Epoch 11: loss improved from 1.94584 to 1.90233, saving model to weights-improvement-11-1.9023.keras\n",
            "\u001b[1m1280/1280\u001b[0m \u001b[32m━━━━━━━━━━━━━━━━━━━━\u001b[0m\u001b[37m\u001b[0m \u001b[1m41s\u001b[0m 30ms/step - loss: 1.9027\n",
            "Epoch 12/20\n",
            "\u001b[1m1279/1280\u001b[0m \u001b[32m━━━━━━━━━━━━━━━━━━━\u001b[0m\u001b[37m━\u001b[0m \u001b[1m0s\u001b[0m 30ms/step - loss: 1.8682\n",
            "Epoch 12: loss improved from 1.90233 to 1.87008, saving model to weights-improvement-12-1.8701.keras\n",
            "\u001b[1m1280/1280\u001b[0m \u001b[32m━━━━━━━━━━━━━━━━━━━━\u001b[0m\u001b[37m\u001b[0m \u001b[1m41s\u001b[0m 30ms/step - loss: 1.8682\n",
            "Epoch 13/20\n",
            "\u001b[1m1279/1280\u001b[0m \u001b[32m━━━━━━━━━━━━━━━━━━━\u001b[0m\u001b[37m━\u001b[0m \u001b[1m0s\u001b[0m 30ms/step - loss: 1.8307\n",
            "Epoch 13: loss improved from 1.87008 to 1.83359, saving model to weights-improvement-13-1.8336.keras\n",
            "\u001b[1m1280/1280\u001b[0m \u001b[32m━━━━━━━━━━━━━━━━━━━━\u001b[0m\u001b[37m\u001b[0m \u001b[1m41s\u001b[0m 30ms/step - loss: 1.8307\n",
            "Epoch 14/20\n",
            "\u001b[1m1279/1280\u001b[0m \u001b[32m━━━━━━━━━━━━━━━━━━━\u001b[0m\u001b[37m━\u001b[0m \u001b[1m0s\u001b[0m 30ms/step - loss: 1.7972\n",
            "Epoch 14: loss improved from 1.83359 to 1.80378, saving model to weights-improvement-14-1.8038.keras\n",
            "\u001b[1m1280/1280\u001b[0m \u001b[32m━━━━━━━━━━━━━━━━━━━━\u001b[0m\u001b[37m\u001b[0m \u001b[1m41s\u001b[0m 30ms/step - loss: 1.7972\n",
            "Epoch 15/20\n",
            "\u001b[1m1280/1280\u001b[0m \u001b[32m━━━━━━━━━━━━━━━━━━━━\u001b[0m\u001b[37m\u001b[0m \u001b[1m0s\u001b[0m 30ms/step - loss: 1.7673\n",
            "Epoch 15: loss improved from 1.80378 to 1.77394, saving model to weights-improvement-15-1.7739.keras\n",
            "\u001b[1m1280/1280\u001b[0m \u001b[32m━━━━━━━━━━━━━━━━━━━━\u001b[0m\u001b[37m\u001b[0m \u001b[1m41s\u001b[0m 30ms/step - loss: 1.7673\n",
            "Epoch 16/20\n",
            "\u001b[1m1280/1280\u001b[0m \u001b[32m━━━━━━━━━━━━━━━━━━━━\u001b[0m\u001b[37m\u001b[0m \u001b[1m0s\u001b[0m 30ms/step - loss: 1.7357\n",
            "Epoch 16: loss improved from 1.77394 to 1.74522, saving model to weights-improvement-16-1.7452.keras\n",
            "\u001b[1m1280/1280\u001b[0m \u001b[32m━━━━━━━━━━━━━━━━━━━━\u001b[0m\u001b[37m\u001b[0m \u001b[1m41s\u001b[0m 30ms/step - loss: 1.7357\n",
            "Epoch 17/20\n",
            "\u001b[1m1280/1280\u001b[0m \u001b[32m━━━━━━━━━━━━━━━━━━━━\u001b[0m\u001b[37m\u001b[0m \u001b[1m0s\u001b[0m 30ms/step - loss: 1.7140\n",
            "Epoch 17: loss improved from 1.74522 to 1.72120, saving model to weights-improvement-17-1.7212.keras\n",
            "\u001b[1m1280/1280\u001b[0m \u001b[32m━━━━━━━━━━━━━━━━━━━━\u001b[0m\u001b[37m\u001b[0m \u001b[1m41s\u001b[0m 30ms/step - loss: 1.7140\n",
            "Epoch 18/20\n",
            "\u001b[1m1280/1280\u001b[0m \u001b[32m━━━━━━━━━━━━━━━━━━━━\u001b[0m\u001b[37m\u001b[0m \u001b[1m0s\u001b[0m 30ms/step - loss: 1.6986\n",
            "Epoch 18: loss improved from 1.72120 to 1.70179, saving model to weights-improvement-18-1.7018.keras\n",
            "\u001b[1m1280/1280\u001b[0m \u001b[32m━━━━━━━━━━━━━━━━━━━━\u001b[0m\u001b[37m\u001b[0m \u001b[1m41s\u001b[0m 30ms/step - loss: 1.6986\n",
            "Epoch 19/20\n",
            "\u001b[1m1279/1280\u001b[0m \u001b[32m━━━━━━━━━━━━━━━━━━━\u001b[0m\u001b[37m━\u001b[0m \u001b[1m0s\u001b[0m 31ms/step - loss: 1.6741\n",
            "Epoch 19: loss improved from 1.70179 to 1.67865, saving model to weights-improvement-19-1.6786.keras\n",
            "\u001b[1m1280/1280\u001b[0m \u001b[32m━━━━━━━━━━━━━━━━━━━━\u001b[0m\u001b[37m\u001b[0m \u001b[1m42s\u001b[0m 31ms/step - loss: 1.6741\n",
            "Epoch 20/20\n",
            "\u001b[1m1280/1280\u001b[0m \u001b[32m━━━━━━━━━━━━━━━━━━━━\u001b[0m\u001b[37m\u001b[0m \u001b[1m0s\u001b[0m 31ms/step - loss: 1.6501\n",
            "Epoch 20: loss improved from 1.67865 to 1.65807, saving model to weights-improvement-20-1.6581.keras\n",
            "\u001b[1m1280/1280\u001b[0m \u001b[32m━━━━━━━━━━━━━━━━━━━━\u001b[0m\u001b[37m\u001b[0m \u001b[1m40s\u001b[0m 31ms/step - loss: 1.6501\n"
          ]
        },
        {
          "output_type": "execute_result",
          "data": {
            "text/plain": [
              "<keras.src.callbacks.history.History at 0x79939e5389a0>"
            ]
          },
          "metadata": {},
          "execution_count": 56
        }
      ]
    },
    {
      "cell_type": "markdown",
      "source": [
        "**Cargar los Pesos de la Red:**\n",
        "\n",
        "- `filename = \"weights-improvement-.keras\"`\n",
        "  - Define el nombre del archivo que contiene los pesos del modelo previamente guardados. En este caso, el archivo se llama \"weights-improvement-19-2.6125.keras\", lo que sugiere que corresponde a la época 19 con una pérdida de 2.6125.\n",
        "\n",
        "- `model.load_weights(filename)`\n",
        "  - Esta línea carga los pesos del modelo desde el archivo especificado por `filename`. Esto restablece el estado del modelo a los pesos que fueron guardados anteriormente.\n",
        "\n",
        "- `model.compile(loss='categorical_crossentropy', optimizer='adam')`\n",
        "  - Compila el modelo nuevamente después de cargar los pesos. Utiliza la función de pérdida `categorical_crossentropy` y el optimizador `adam`. Este paso asegura que el modelo esté listo para hacer predicciones o continuar con el entrenamiento, si es necesario.\n",
        "\n",
        "Este código restaura el modelo a un estado previamente guardado, permitiendo utilizar los pesos optimizados para hacer predicciones o seguir con el entrenamiento a partir de ese punto."
      ],
      "metadata": {
        "id": "hIeO5XzUTqk1"
      }
    },
    {
      "cell_type": "code",
      "source": [
        "# load the network weights\n",
        "filename = \"weights-improvement-20-1.6581.keras\"\n",
        "model.load_weights(filename)\n",
        "model.compile(loss='categorical_crossentropy', optimizer='adam')"
      ],
      "metadata": {
        "id": "UeO6TPC9P7hu"
      },
      "execution_count": 58,
      "outputs": []
    },
    {
      "cell_type": "markdown",
      "source": [
        "**Crear Mapeo de Enteros a Caracteres:**\n",
        "\n",
        "- `int_to_char = dict((i, c) for i, c in enumerate(chars))`\n",
        "  - Esta línea de código crea un diccionario `int_to_char` que mapea cada entero (`i`) a su correspondiente carácter (`c`). Utiliza la función `enumerate(chars)` para obtener pares de índice y carácter de la lista `chars`, y luego construye el diccionario mediante una comprensión de diccionario. Este mapeo es útil para convertir las predicciones numéricas del modelo de vuelta a caracteres legibles, facilitando la generación de texto."
      ],
      "metadata": {
        "id": "Lv8Dgoz3Tv-P"
      }
    },
    {
      "cell_type": "code",
      "source": [
        "int_to_char = dict((i, c) for i, c in enumerate(chars))"
      ],
      "metadata": {
        "id": "jg8w6pnYQATD"
      },
      "execution_count": 59,
      "outputs": []
    },
    {
      "cell_type": "markdown",
      "source": [
        "**Elegir una Semilla Aleatoria y Generar Caracteres:**\n",
        "\n",
        "- `start = np.random.randint(0, len(dataX)-1)`\n",
        "  - Selecciona un índice aleatorio `start` dentro del rango de índices válidos en `dataX`.\n",
        "\n",
        "- `pattern = dataX[start]`\n",
        "  - Utiliza el índice aleatorio `start` para seleccionar una secuencia de entrada (`pattern`) de `dataX`.\n",
        "\n",
        "- `print(\"Seed:\")`\n",
        "  - Imprime el mensaje \"Seed:\".\n",
        "\n",
        "- `print(\"\\\"\", ''.join([int_to_char[value] for value in pattern]), \"\\\"\")`\n",
        "  - Convierte la secuencia de enteros `pattern` en una cadena de caracteres legible utilizando el diccionario `int_to_char` y la imprime como la semilla inicial.\n",
        "\n",
        "**Generar Caracteres:**\n",
        "\n",
        "- Bucle `for i in range(1000)`:\n",
        "  - Inicia un bucle para generar 1000 caracteres adicionales.\n",
        "\n",
        "  - `x = np.reshape(pattern, (1, len(pattern), 1))`\n",
        "    - Reformatea `pattern` para que tenga las dimensiones adecuadas para el modelo: `[1, len(pattern), 1]`.\n",
        "\n",
        "  - `x = x / float(n_vocab)`\n",
        "    - Normaliza `x` dividiendo por el tamaño del vocabulario (`n_vocab`), escalando los valores entre 0 y 1.\n",
        "\n",
        "  - `prediction = model.predict(x, verbose=0)`\n",
        "    - Utiliza el modelo entrenado para predecir el siguiente carácter basado en la secuencia `x`. `verbose=0` suprime la salida detallada de la predicción.\n",
        "\n",
        "  - `index = np.argmax(prediction)`\n",
        "    - Encuentra el índice del valor más alto en la predicción, que corresponde al siguiente carácter predicho.\n",
        "\n",
        "  - `result = int_to_char[index]`\n",
        "    - Convierte el índice `index` en el carácter correspondiente utilizando el diccionario `int_to_char`.\n",
        "\n",
        "  - `seq_in = [int_to_char[value] for value in pattern]`\n",
        "    - Convierte la secuencia actual de enteros `pattern` en caracteres legibles.\n",
        "\n",
        "  - `print(result, end = \"\")`\n",
        "    - Imprime el carácter predicho sin salto de línea (`end = \"\"`), continuando la salida en la misma línea.\n",
        "\n",
        "  - `pattern.append(index)`\n",
        "    - Añade el índice predicho `index` al final de la secuencia `pattern`.\n",
        "\n",
        "  - `pattern = pattern[1:len(pattern)]`\n",
        "    - Ajusta `pattern` para eliminar el primer carácter y mantener la longitud de la secuencia.\n",
        "\n",
        "- `print(\"\\nDone.\")`\n",
        "  - Imprime \"Done.\" al final del proceso de generación de texto.\n",
        "\n",
        "Este código selecciona una semilla aleatoria de caracteres, luego utiliza el modelo LSTM para generar 1000 caracteres adicionales, continuando la secuencia basada en las predicciones del modelo."
      ],
      "metadata": {
        "id": "PscCpQTsT3-z"
      }
    },
    {
      "cell_type": "code",
      "source": [
        "# pick a random seed\n",
        "start = np.random.randint(0, len(dataX)-1)\n",
        "pattern = dataX[start]\n",
        "print(\"Seed:\")\n",
        "print(\"\\\"\", ''.join([int_to_char[value] for value in pattern]), \"\\\"\")\n",
        "# generate characters\n",
        "for i in range(1000):\n",
        "\tx = np.reshape(pattern, (1, len(pattern), 1))\n",
        "\tx = x / float(n_vocab)\n",
        "\tprediction = model.predict(x, verbose=0)\n",
        "\tindex = np.argmax(prediction)\n",
        "\tresult = int_to_char[index]\n",
        "\tseq_in = [int_to_char[value] for value in pattern]\n",
        "\tprint(result, end = \"\")\n",
        "\tpattern.append(index)\n",
        "\tpattern = pattern[1:len(pattern)]\n",
        "print(\"\\nDone.\")"
      ],
      "metadata": {
        "id": "BIR5hh3vQJ_3",
        "colab": {
          "base_uri": "https://localhost:8080/"
        },
        "outputId": "38017471-400e-46cc-80f0-fef7aed998e7"
      },
      "execution_count": 60,
      "outputs": [
        {
          "output_type": "stream",
          "name": "stdout",
          "text": [
            "Seed:\n",
            "\" by violently up and down, and the poor little thing howled so,\n",
            "that alice could hardly hear the word \"\n",
            "s her head of the goustent of the garter, and the mouse was a little goudot to the sabbit was the dourt, and then she was not all the mouse of the gale of the gound of the gouse, and then she was not all the mouse of the gale of the gound of the gouse, and then she was not all the mouse of the gale of the gound of the gouse, and then she was not all the mouse of the gale of the gound of the gouse, and then she was not all the mouse of the gale of the gound of the gouse, and then she was not all the mouse of the gale of the gound of the gouse, and then she was not all the mouse of the gale of the gound of the gouse, and then she was not all the mouse of the gale of the gound of the gouse, and then she was not all the mouse of the gale of the gound of the gouse, and then she was not all the mouse of the gale of the gound of the gouse, and then she was not all the mouse of the gale of the gound of the gouse, and then she was not all the mouse of the gale of the gound of the gouse, and the\n",
            "Done.\n"
          ]
        }
      ]
    }
  ],
  "metadata": {
    "accelerator": "GPU",
    "colab": {
      "collapsed_sections": [
        "6tk4GeIxFJXc"
      ],
      "gpuType": "T4",
      "provenance": []
    },
    "kernelspec": {
      "display_name": "Python 3",
      "name": "python3"
    },
    "language_info": {
      "name": "python"
    }
  },
  "nbformat": 4,
  "nbformat_minor": 0
}